{
 "cells": [
  {
   "cell_type": "markdown",
   "metadata": {},
   "source": [
    "<img style=\"float: left; width: 220px;\" src=\"images/shutterstock_318255209.jpg\">\n",
    "\n",
    "## <font color=\"grey\"> $\\quad$ Distinct proliferation rates - Methods </font>\n",
    "\n",
    "$\\newcommand{\\vct}[1]{\\mathbf{#1}}$\n",
    "$\\newcommand{\\mtx}[1]{\\mathbf{#1}}$\n",
    "$\\newcommand{\\e}{\\varepsilon}$\n",
    "$\\newcommand{\\norm}[1]{\\|#1\\|}$\n",
    "$\\newcommand{\\minimize}{\\mathrm{minimize}\\quad}$\n",
    "$\\newcommand{\\maximize}{\\mathrm{maximize}\\quad}$\n",
    "$\\newcommand{\\subjto}{\\quad\\text{subject to}\\quad}$\n",
    "$\\newcommand{\\R}{\\mathbb{R}}$\n",
    "$\\newcommand{\\trans}{T}$\n",
    "$\\newcommand{\\ip}[2]{\\langle {#1}, {#2} \\rangle}$\n",
    "$\\newcommand{\\zerovct}{\\vct{0}}$\n",
    "$\\newcommand{\\diff}[1]{\\mathrm{d}{#1}}$\n",
    "$\\newcommand{\\conv}{\\operatorname{conv}}$\n",
    "$\\newcommand{\\inter}{{\\operatorname{int}}}$"
   ]
  },
  {
   "cell_type": "markdown",
   "metadata": {},
   "source": [
    "This document contains all the data analysis and R code. In general, when analysing the relation of quantity A (exposure to a certain mutation signature, age, etc) to another quantity B, one can look at\n",
    "\n",
    "* (robust) linear regression: look for a relationship of the form $A=m \\cdot B + $ (terms accounting for other factors $ + c$);\n",
    "* (robust) linear regression across different subgroups of the data that seem sufficiently distinct;\n",
    "* (Spearman) correlation across subgroups: this is to determine if the relationship between two sets of data can be described by a monotone function (if one gets bigger, the other gets bigger/smaller);\n",
    "* the ratio $A/B$, and whether it changes significantly across different groups in the data;\n",
    "* some model, based on biological information, on the relationship between $A$ and $B$. This is probably the most speculative and problematic way of doing things, as there usually is too much noise in the data to identify a very specific relationship.\n",
    "\n",
    "Here we look at the following cases:\n",
    "* $A$ = Signature 1 or 7, $B$ = Age;\n",
    "* $A$ = Signature 1 or 7 divided by Age, $B$ = Age;\n",
    "* $A$ = Signature 1, $B$ = Signature 7."
   ]
  },
  {
   "cell_type": "markdown",
   "metadata": {},
   "source": [
    "### <font color=\"grey\">  Table of Contents</font>\n",
    "\n",
    "1. #### <a href='#chapter1'>Data preparation.</a>\n",
    "\n",
    "2. #### <a href='#chapter2'>The molecular subtypes of melanoma present distinct ratios of clock-like mutations per unit of time.</a>\n",
    "\n",
    "3. #### <a href='#chapter3'>Aging affects the intrinsic mutation rate of the molecular subtypes.</a>\n",
    "\n",
    "4. #### <a href='#chapter4'>Signature 1 and signature 7 mutations are tightly correlated and together contribute to melanoma across all molecular subtypes.</a>\n",
    "\n",
    "5. #### <a href='#chapter5'>The proportion and spectra of intrinsic and extrinsic mutations varies according to gender.</a>"
   ]
  },
  {
   "cell_type": "code",
   "execution_count": 2,
   "metadata": {},
   "outputs": [],
   "source": [
    "library(MASS)\n",
    "library(robustbase)\n",
    "library(robust)\n",
    "library(ggplot2)\n",
    "library(sfsmisc)\n",
    "library(repr)\n",
    "library(AER)\n",
    "library(vcd)\n",
    "library(zoo)\n",
    "options(repr.plot.width=8, repr.plot.height=3)\n",
    "library(gridExtra)\n",
    "library(nnls)\n",
    "library(stringr)\n",
    "library(boot)"
   ]
  },
  {
   "cell_type": "markdown",
   "metadata": {},
   "source": [
    "<a id='chapter1'></a>\n",
    "###  <a id='chapter1'> <font color=\"grey\">1. Data preparation </font></a>"
   ]
  },
  {
   "cell_type": "markdown",
   "metadata": {},
   "source": [
    "The primary data is based on whole-exome sequences derived from cancer cells of patient samples, taken from the [The Cancer Genome Atlas (TCGA) skin cutaneous melanoma (SKCM)](https://gdc-portal.nci.nih.gov/projects/TCGA-SKCM) database. For each sample and for each of $K=96$ types of single nucleotide substitutions (SNVs) in trinucleotide context, we count the number of times this substitution occurs relative to the abundance of the given context in the exome. \n",
    "\n",
    "<font color=\"red\">**TODO**</font> Explain how these were derived. In particular also, if there was any normalization in determining the counts.\n",
    "\n",
    "According to [Alexandrov et al](http://www.nature.com/nature/journal/v500/n7463/full/nature12477.html), the vector counting the number of times each substitution out of a predefined set appears in a sample can be expressed as a non-negative linear combination of **mutation signatures**. More precisely, the mutation alphabet $\\Theta$ we consider consists of single nucleotide substitutions in trinucleotide context. The subsitution considered are from Cytosine or Thymine to one of the three other bases, making 6 possible subsitutions in $4\\times 4=16$ contexts. The alphabet thus consists of $K=96$ elements. A **mutation catalog** $\\vct{m}\\in \\R^K$ consists of the number of times each of the substitutions occurs within a sample. A mutation catalog can be approximated as non-negative linear combination\n",
    "\n",
    "\\begin{equation*}\n",
    "  \\vct{m} \\approx \\sum_{i=1}^N e_i \\vct{p}_i,\n",
    "\\end{equation*}\n",
    "\n",
    "where the $\\vct{p}_i\\in \\R^K$ are probability distributions on the alphabet $\\Theta$, called mutation signatures. The coefficient $e_i$ is called the **exposure** of sample $i$ to signature $p_i$. "
   ]
  },
  {
   "cell_type": "markdown",
   "metadata": {},
   "source": [
    "We work with different mutation signatures.\n",
    "* The first catalog of mutation signatures that we use is from the [COSMIC Database](http://cancer.sanger.ac.uk/cosmic). Of biggest interest in Melanoma are signatures $1$ and $7$ from this database. Signature $7$ is known to be related to UV exposure.  Signature $1$ is dominated by C>T subsitutions in NpG dinucleotide context, which is believed to be related to the spontaneous deamination of 5-methylcytosine, and has been observed to accumulate at a constant rate over time in melanoma and some other cancers ([Alexandrov et al](http://www.nature.com/ng/journal/v47/n12/full/ng.3441.html)).\n",
    "* <font color=\"red\">**TODO**</font> Actually haven't done the below in the current analysis, as I'm using the mutation count provided by Simon's file. \n",
    "Besides using the COSMIC signatures, we also use a de novo extraction of mutation signatures using a [hierarchical dirichlet process (HDP)](https://en.wikipedia.org/wiki/Hierarchical_Dirichlet_process), with samples separated into groups according to whether the mutations occur in the BRAF, NRAS, NF1 genes, or none of these. This new extraction of signatures is based on [Nicola Robert's hdp package](https://github.com/nicolaroberts/hdp/blob/master/vignettes/mutation_signatures.Rmd)."
   ]
  },
  {
   "cell_type": "markdown",
   "metadata": {},
   "source": [
    "The following three graphs show the profile of COSMIC Signature 1."
   ]
  },
  {
   "cell_type": "code",
   "execution_count": 3,
   "metadata": {},
   "outputs": [
    {
     "data": {},
     "metadata": {},
     "output_type": "display_data"
    },
    {
     "data": {
      "image/png": "[encoded data removed]",
      "text/plain": [
       "plot without title"
      ]
     },
     "metadata": {},
     "output_type": "display_data"
    }
   ],
   "source": [
    "# Signature 1\n",
    "signatures <- read.csv('data/signatures_probabilities.txt', sep=\"\\t\")\n",
    "# Do some preformating for plot\n",
    "signatures$Context <- paste(substr(signatures$Trinucleotide, 1, 1), substr(signatures$Trinucleotide, 3, 3), sep='')\n",
    "ggplot(data=signatures, aes(x=Context, y=Signature.1)) +\n",
    "    geom_bar(stat=\"identity\", aes(fill=Substitution.Type), width=0.7) + facet_wrap(~ Substitution.Type, ncol=6) +\n",
    "    xlab(\"Substitution\") + ylab(\"Exposure\") +  guides(fill=FALSE) + ggtitle(\"Signature 1 (COSMIC)\") +\n",
    "    theme_minimal() + theme(axis.text.x=element_blank(), axis.ticks.x=element_blank()) + scale_y_continuous(expand = c(0,0))"
   ]
  },
  {
   "cell_type": "code",
   "execution_count": 4,
   "metadata": {},
   "outputs": [
    {
     "data": {},
     "metadata": {},
     "output_type": "display_data"
    },
    {
     "data": {
      "image/png": "[encoded data removed]",
      "text/plain": [
       "plot without title"
      ]
     },
     "metadata": {},
     "output_type": "display_data"
    }
   ],
   "source": [
    "# Signature 7\n",
    "ggplot(data=signatures, aes(x=Context, y=Signature.7)) +\n",
    "    geom_bar(stat=\"identity\", aes(fill=Substitution.Type), width=0.7) + facet_wrap(~ Substitution.Type, ncol=6) +\n",
    "    xlab(\"Substitution\") + ylab(\"Exposure\") +  guides(fill=FALSE) + ggtitle(\"Signature 7 (COSMIC)\") +\n",
    "    theme_minimal() + theme(axis.text.x=element_blank(), axis.ticks.x=element_blank()) + scale_y_continuous(expand = c(0,0)) "
   ]
  },
  {
   "cell_type": "markdown",
   "metadata": {},
   "source": [
    "For each sample we estimated the the exposure $e_1$ to mutation signature 1 using a the R package desconstructSigs. The extraction follows the following procedure:\n",
    "\n",
    "1. Select a biologically meaningful subset of $p$ mutation signatures (here, signatures 1, 5, 7, 11 and 17).\n",
    "2. Normalize each component $m_i$ (=number of mutations of type $i$) by multiplying it with the proportion of occurences of the corresponding trinucleotide in the exome or genome. For example, if we denote by $q_i$ the proportion of trinucleotide $i$ (for example, TCG) occurs in a reference exome or genome, then we replace each entry $m_i$ of the catalog with $q_i m_i$, obtaining a new mutation catalog. \n",
    "3. Normalize the resulting catalog by dividing with the total number $m=\\sum_{i=1}^K q_im_i$ of (normalized) mutations. This gives a new normalized mutation catalog $\\tilde{\\vct{m}}$ with the property that $\\sum_{i=1}^K \\tilde{m}_i = 1$. \n",
    "4. Solve a simplex-constrained least squares problem\n",
    "\n",
    "\\begin{equation*}\n",
    "  \\min_{\\vct{\\epsilon}\\in \\R^{p}} \\left\\|\\tilde{\\vct{m}}-\\sum_{i=1}^p \\epsilon_i \\vct{p}_i\\right\\|_2^2 \\text{ subject to } \\epsilon_i\\geq 0, 1\\leq i\\leq p, \\text{ and } \\sum_{i=1}^p \\epsilon_i = 1.\n",
    "\\end{equation*}\n",
    "\n",
    "The exposure to signature $j$ is then computed as $e_j = \\epsilon_j \\cdot \\left(\\sum_{i=1}^K q_i m_i\\right)$. \n",
    "\n",
    "<font color=\"red\">**TODO**</font> A few things need to be sorted out with respect to normalizations. I'm currently using the mutation counts provided with the data by Simon."
   ]
  },
  {
   "cell_type": "markdown",
   "metadata": {},
   "source": [
    "We added information on whether the sample had mutations in BRAF, NRAS, NF1 or none of these genes. \n",
    "\n",
    "<font color=\"red\">**TODO**</font> Discuss how we classified double cases. For a subset of samples, additional information on the MC1R phenotype (whether an individual has two, one or no 'R' alleles) was included. This information was taken from the supplementary material of [Robles-Espinoza et al](http://www.nature.com/articles/ncomms12064)."
   ]
  },
  {
   "cell_type": "markdown",
   "metadata": {},
   "source": [
    "<font color=\"red\">**TODO**</font> Adjust numbers here.\n",
    "The data was reduced by removing outliers. The idea here is that if a random variable $X$ is Poisson distributed with mean $\\lambda$, then $2\\sqrt{X}$ is approximately normally distributed with mean the median of $2\\sqrt{X}$. We can then reject entries as outliers if the are bigger than the median $+3$. While this is a good approximation for large $\\lambda$, it gives a conservative rule for rejecting outliers even for small $\\lambda$."
   ]
  },
  {
   "cell_type": "markdown",
   "metadata": {},
   "source": [
    "The prepared data is summarized in a file 'tcga_4class.Rdata'. In addition, we computed means, robust means (based on robGlm) and medians for each age, and for each age restricted to the BRAF and NRAS samples."
   ]
  },
  {
   "cell_type": "markdown",
   "metadata": {},
   "source": [
    "<font color=\"red\">**TODO**</font> Should we remove samples with 0 Sig1 or Sig7 mutations?"
   ]
  },
  {
   "cell_type": "code",
   "execution_count": 5,
   "metadata": {},
   "outputs": [
    {
     "name": "stdout",
     "output_type": "stream",
     "text": [
      "There are 396 data samples\n"
     ]
    }
   ],
   "source": [
    "load('data/tcga_4class_new.Rdata')\n",
    "data <- sigdata.tcga\n",
    "cat(\"There are\", dim(data)[1], \"data samples\\n\")\n",
    "load('data/tcga_4class.Rdata')"
   ]
  },
  {
   "cell_type": "markdown",
   "metadata": {},
   "source": [
    "#### Do a histogram of the frequency with which each total number of mutations occurs"
   ]
  },
  {
   "cell_type": "code",
   "execution_count": 6,
   "metadata": {},
   "outputs": [
    {
     "data": {},
     "metadata": {},
     "output_type": "display_data"
    },
    {
     "data": {
      "image/png": "[encoded data removed]",
      "text/plain": [
       "plot without title"
      ]
     },
     "metadata": {},
     "output_type": "display_data"
    }
   ],
   "source": [
    "# Look out for outliers\n",
    "ggplot(data=data, aes(data$TotalSNV)) + geom_histogram(binwidth=1000) +\n",
    "    xlab(\"Total number of mutations\") + ylab(\"Frequency\")"
   ]
  },
  {
   "cell_type": "markdown",
   "metadata": {},
   "source": [
    "In the above we see that a few samples exist with a massive amount of mutations. These will not bother us."
   ]
  },
  {
   "cell_type": "markdown",
   "metadata": {},
   "source": [
    "### <font color=\"grey\">  1.1 Data summary</font>\n",
    "\n",
    "#### We first summarize how many samples are in each category."
   ]
  },
  {
   "cell_type": "markdown",
   "metadata": {},
   "source": [
    "Explore the data and survey the different quantities (amount of samples with specific characteristics)"
   ]
  },
  {
   "cell_type": "code",
   "execution_count": 166,
   "metadata": {},
   "outputs": [
    {
     "name": "stdout",
     "output_type": "stream",
     "text": [
      "TCGA data: \n",
      "BRAF: 172 \n",
      "NRAS: 96 \n",
      "NF1: 44 \n",
      "Triple wild: 84 \n",
      "Male BRAF: 105 \n",
      "Male NRAS: 61 \n",
      "Male NF1: 29 \n",
      "Male Triple wild: 51 \n",
      "Female BRAF: 67 \n",
      "Female NRAS: 35 \n",
      "Female NF1: 15 \n",
      "Female Triple wild: 33 \n",
      "MC1R information available for 228 samples"
     ]
    }
   ],
   "source": [
    "cat(\"TCGA data: \\n\")\n",
    "cat(\"BRAF:\", nrow(subset(data, Cohort==\"BRAF\")), \"\\n\")\n",
    "cat(\"NRAS:\", nrow(subset(data, Cohort==\"NRAS\")), \"\\n\")\n",
    "cat(\"NF1:\", nrow(subset(data, Cohort==\"NF1\")), \"\\n\")\n",
    "cat(\"Triple wild:\", nrow(subset(data, Cohort==\"W3\")), \"\\n\")\n",
    "cat(\"Male BRAF:\", nrow(subset(data, Cohort==\"BRAF\" & Gender=='MALE')), \"\\n\")\n",
    "cat(\"Male NRAS:\", nrow(subset(data, Cohort==\"NRAS\" & Gender=='MALE')), \"\\n\")\n",
    "cat(\"Male NF1:\", nrow(subset(data, Cohort==\"NF1\" & Gender=='MALE')), \"\\n\")\n",
    "cat(\"Male Triple wild:\", nrow(subset(data, Cohort==\"W3\" & Gender=='MALE')), \"\\n\")\n",
    "cat(\"Female BRAF:\", nrow(subset(data, Cohort==\"BRAF\" & Gender=='FEMALE')), \"\\n\")\n",
    "cat(\"Female NRAS:\", nrow(subset(data, Cohort==\"NRAS\" & Gender=='FEMALE')), \"\\n\")\n",
    "cat(\"Female NF1:\", nrow(subset(data, Cohort==\"NF1\" & Gender=='FEMALE')), \"\\n\")\n",
    "cat(\"Female Triple wild:\", nrow(subset(data, Cohort==\"W3\" & Gender=='FEMALE')), \"\\n\")\n",
    "cat(\"MC1R information available for\", nrow(subset(data, !is.na(MC1R))), \"samples\")"
   ]
  },
  {
   "cell_type": "markdown",
   "metadata": {},
   "source": [
    "The **averages** datasets below contain mean and median information on the number of mutations by each age group. This is because sometimes we want to analyse the median mutation load for each age against age."
   ]
  },
  {
   "cell_type": "code",
   "execution_count": 8,
   "metadata": {},
   "outputs": [],
   "source": [
    "averages <- read.csv('data/averages_new.csv', header=TRUE)\n",
    "averages.brafnras <- read.csv('data/averages_brafnras_new.csv', header=TRUE)\n",
    "averages.braf <- read.csv('data/averages_braf_new.csv', header=TRUE)\n",
    "averages.nras <- read.csv('data/averages_nras_new.csv', header=TRUE)\n",
    "averages.nf1 <- read.csv('data/averages_nf1_new.csv', header=TRUE)\n",
    "averages.w3 <- read.csv('data/averages_w3_new.csv', header=TRUE)\n",
    "averages.all <- read.csv('data/averages_all_new.csv', header=TRUE)\n",
    "averages.male <- read.csv('data/averages_male_new.csv', header=TRUE)\n",
    "averages.female <- read.csv('data/averages_female_new.csv', header=TRUE)\n",
    "averages.gender <- read.csv('data/averages_gender_new.csv', header=TRUE)"
   ]
  },
  {
   "cell_type": "markdown",
   "metadata": {},
   "source": [
    "#### Some overall statistics of the data\n",
    "The conclusion from the below is that, on average, BRAF patients are younger than NRAS, which are much younger than NF1."
   ]
  },
  {
   "cell_type": "code",
   "execution_count": 9,
   "metadata": {},
   "outputs": [
    {
     "name": "stdout",
     "output_type": "stream",
     "text": [
      "Mean age for BRAF: 52.77326 \n",
      "Mean age for NRAS: 59.42708 \n",
      "Mean age for NF1: 70.13636 \n",
      "Mean age for W3: 62.90476 \n",
      "Mean age overall: 58.46465 \n"
     ]
    }
   ],
   "source": [
    "w3 <- subset(data, Cohort==\"W3\")$Age\n",
    "nras <- subset(data, Cohort==\"NRAS\")$Age\n",
    "braf <- subset(data, Cohort==\"BRAF\")$Age\n",
    "nf1 <- subset(data, Cohort==\"NF1\")$Age\n",
    "cat(\"Mean age for BRAF:\", mean(braf), \"\\n\")\n",
    "cat(\"Mean age for NRAS:\", mean(nras), \"\\n\")\n",
    "cat(\"Mean age for NF1:\", mean(nf1), \"\\n\")\n",
    "cat(\"Mean age for W3:\", mean(w3), \"\\n\")\n",
    "cat(\"Mean age overall:\", mean(data$Age), \"\\n\")"
   ]
  },
  {
   "cell_type": "markdown",
   "metadata": {},
   "source": [
    "Compute the average number of mutations (Signature 1 and total) for the whole dataset and for the subroups"
   ]
  },
  {
   "cell_type": "code",
   "execution_count": 10,
   "metadata": {},
   "outputs": [
    {
     "name": "stdout",
     "output_type": "stream",
     "text": [
      "Sig1 for BRAF: 32.63372 \n",
      "Sig1 for NRAS: 47.19792 \n",
      "Sig1 for NF1: 70.02273 \n",
      "Sig1 for W3: 32.30952 \n",
      "Sig1 overall: 40.25 \n",
      "Total for BRAF: 595.1744 \n",
      "Total for NRAS: 843.7083 \n",
      "Total for NF1: 1707.909 \n",
      "Total for W3: 585.631 \n",
      "Total overall: 777.0379 \n"
     ]
    }
   ],
   "source": [
    "w3 <- subset(data, Cohort==\"W3\")\n",
    "nras <- subset(data, Cohort==\"NRAS\")\n",
    "braf <- subset(data, Cohort==\"BRAF\")\n",
    "nf1 <- subset(data, Cohort==\"NF1\")\n",
    "cat(\"Sig1 for BRAF:\", mean(braf$Sig1Total), \"\\n\")\n",
    "cat(\"Sig1 for NRAS:\", mean(nras$Sig1Total), \"\\n\")\n",
    "cat(\"Sig1 for NF1:\", mean(nf1$Sig1Total), \"\\n\")\n",
    "cat(\"Sig1 for W3:\", mean(w3$Sig1Total), \"\\n\")\n",
    "cat(\"Sig1 overall:\", mean(data$Sig1Total), \"\\n\")\n",
    "cat(\"Total for BRAF:\", mean(braf$TotalSNV), \"\\n\")\n",
    "cat(\"Total for NRAS:\", mean(nras$TotalSNV), \"\\n\")\n",
    "cat(\"Total for NF1:\", mean(nf1$TotalSNV), \"\\n\")\n",
    "cat(\"Total for W3:\", mean(w3$TotalSNV), \"\\n\")\n",
    "cat(\"Total overall:\", mean(data$TotalSNV), \"\\n\")"
   ]
  },
  {
   "cell_type": "markdown",
   "metadata": {},
   "source": [
    "These are just some auxiliary data sets that are used (or not) later throughout the analysis"
   ]
  },
  {
   "cell_type": "code",
   "execution_count": 11,
   "metadata": {},
   "outputs": [],
   "source": [
    "# Auxiliary columns that might come handy\n",
    "data$Sig1Ratio <- data$Sig1Total/data$Age\n",
    "data$Sig1pSig7 <- data$Sig1Rel+data$Sig7Rel\n",
    "data$range <- cut(data$Age, c(0, 30, 40, 50, 60, 70, 80, 90), include.lowest=FALSE)\n",
    "data$two.range <- cut(data$Age, c(0, 55, 90), include.lowest=FALSE)\n",
    "data$four.range <- cut(data$Age, c(0, 30, 50, 70, 90), include.lowest=FALSE)\n",
    "averages.all$two.range <- cut(averages.all$Age, c(0, 55, 90), include.lowest=FALSE)\n",
    "mysig7range <- cut(data$Sig7Total, seq(0,4000,by=10), include.lowest=FALSE)\n",
    "a <- sapply(mysig7range, as.character)\n",
    "data$sig7range <- unname(sapply(gsub(\".*\\\\((.+)\\\\,.*\", \"\\\\1\", a), as.numeric))"
   ]
  },
  {
   "cell_type": "markdown",
   "metadata": {},
   "source": [
    "#### MC1R Information\n",
    "Introduce new data frame (name: **mydata**) for samples with MC1R information."
   ]
  },
  {
   "cell_type": "code",
   "execution_count": 12,
   "metadata": {},
   "outputs": [],
   "source": [
    "# Add additional columns to the data\n",
    "mydata <- subset(data, !is.na(MC1R))\n",
    "mydata$Rallele <- as.factor(str_count(mydata$MC1R, 'R')>0)\n",
    "levels(mydata$Rallele) <- c(\"0 R alleles\", \"1-2 R alleles\")"
   ]
  },
  {
   "cell_type": "code",
   "execution_count": 13,
   "metadata": {},
   "outputs": [
    {
     "name": "stdout",
     "output_type": "stream",
     "text": [
      "TCGA data (1-2 MC1R alleles): \n",
      "BRAF: 55 \n",
      "NRAS: 25 \n",
      "NF1: 16 \n",
      "Triple wild: 18 \n"
     ]
    }
   ],
   "source": [
    "cat(\"TCGA data (1-2 MC1R alleles): \\n\")\n",
    "cat(\"BRAF:\", nrow(subset(mydata, Cohort==\"BRAF\" & Rallele == \"1-2 R alleles\")), \"\\n\")\n",
    "cat(\"NRAS:\", nrow(subset(mydata, Cohort==\"NRAS\" & Rallele == \"1-2 R alleles\")), \"\\n\")\n",
    "cat(\"NF1:\", nrow(subset(mydata, Cohort==\"NF1\" & Rallele == \"1-2 R alleles\")), \"\\n\")\n",
    "cat(\"Triple wild:\", nrow(subset(mydata, Cohort==\"W3\" & Rallele == \"1-2 R alleles\")), \"\\n\")"
   ]
  },
  {
   "cell_type": "code",
   "execution_count": 14,
   "metadata": {},
   "outputs": [
    {
     "name": "stdout",
     "output_type": "stream",
     "text": [
      "TCGA data (0 MC1R alleles): \n",
      "BRAF: 41 \n",
      "NRAS: 35 \n",
      "NF1: 14 \n",
      "Triple wild: 24 \n"
     ]
    }
   ],
   "source": [
    "cat(\"TCGA data (0 MC1R alleles): \\n\")\n",
    "cat(\"BRAF:\", nrow(subset(mydata, Cohort==\"BRAF\" & Rallele == \"0 R alleles\")), \"\\n\")\n",
    "cat(\"NRAS:\", nrow(subset(mydata, Cohort==\"NRAS\" & Rallele == \"0 R alleles\")), \"\\n\")\n",
    "cat(\"NF1:\", nrow(subset(mydata, Cohort==\"NF1\" & Rallele == \"0 R alleles\")), \"\\n\")\n",
    "cat(\"Triple wild:\", nrow(subset(mydata, Cohort==\"W3\" & Rallele == \"0 R alleles\")), \"\\n\")"
   ]
  },
  {
   "cell_type": "code",
   "execution_count": 15,
   "metadata": {},
   "outputs": [],
   "source": [
    "# For later use\n",
    "sigs <- c(\"Sig1Med\", \"Sig7Med\")\n",
    "sigst <- c(\"Sig1Total\", \"Sig7Total\")\n",
    "cohorts <- c(\"BRAF\", \"NRAS\", \"NF1\", \"W3\")\n",
    "alleles <- c(\"0 R alleles\", \"1-2 R alleles\")\n",
    "genders <- c(\"MALE\", \"FEMALE\")\n",
    "avgsets <- list(averages.braf, averages.nras, averages.nf1, averages.w3)\n",
    "cohortsets <- list(subset(data, Cohort=='BRAF'),subset(data, Cohort=='NRAS'),subset(data, Cohort=='NF1'),subset(data, Cohort=='W3'))\n",
    "sig7ranges <- sort(unique(data$sig7range)[!is.na(unique(data$sig7range))])"
   ]
  },
  {
   "cell_type": "markdown",
   "metadata": {},
   "source": [
    "###  <a id='chapter2'><font color=\"grey\">  2. The molecular subtypes of melanoma present distinct ratios of clock-like mutations per unit of time</font></a>"
   ]
  },
  {
   "cell_type": "markdown",
   "metadata": {},
   "source": [
    "Robust linear regression of Signature 1 against age, and subdivided by cohorts."
   ]
  },
  {
   "cell_type": "code",
   "execution_count": 16,
   "metadata": {},
   "outputs": [
    {
     "data": {
      "image/png": "[encoded data removed]",
      "text/plain": [
       "plot without title"
      ]
     },
     "metadata": {},
     "output_type": "display_data"
    }
   ],
   "source": [
    "plot1 <- ggplot(averages, aes(Age, Sig1Med)) +  geom_smooth(method = \"rlm\", se=FALSE) + geom_point() +\n",
    "    xlab(\"Age\") + ylab(\"Signature 1\") + theme_minimal()# + theme(legend.position=\"none\")\n",
    "plot2 <- ggplot(subset(averages.all, Cohort=='BRAF' | Cohort=='NRAS'), aes(Age, Sig1Med, color=Cohort)) +  geom_smooth(method = \"rlm\", se=FALSE) + geom_point() +\n",
    "    xlab(\"Age\") + ylab(\"\") +#scale_y_continuous(limits = c(0,2000)) +\n",
    "    theme_minimal() + theme(legend.position=\"top\")\n",
    "grid.arrange(plot1, plot2, ncol=2)\n",
    "p <- arrangeGrob(plot1, plot2, ncol=2)"
   ]
  },
  {
   "cell_type": "code",
   "execution_count": 17,
   "metadata": {},
   "outputs": [],
   "source": [
    "ggsave(\"./figures/Figure1AB.pdf\", p, scale=1, width=8, height=3)"
   ]
  },
  {
   "cell_type": "markdown",
   "metadata": {},
   "source": [
    "#### Robust linear regression coefficients with P-value"
   ]
  },
  {
   "cell_type": "code",
   "execution_count": 18,
   "metadata": {},
   "outputs": [
    {
     "name": "stdout",
     "output_type": "stream",
     "text": [
      "(Signature 1)  Slope on robust regression: 0.291665 with P-value 0.0001962111 \n",
      "(Signature 1)  Intercept on robust regression: 15.19152 with P-value 0.0005750235 \n",
      "\n",
      "(Signature 1 BRAF )  Slope on robust regression: 0.008617164 with P-value 0.9415698 \n",
      "(Signature 1 BRAF )  Intercept on robust regression: 28.42844 with P-value 6.311321e-05 \n",
      "\n",
      "(Signature 1 NRAS )  Slope on robust regression: 0.6088802 with P-value 0.01281734 \n",
      "(Signature 1 NRAS )  Intercept on robust regression: 3.121746 with P-value 0.8280754 \n",
      "\n",
      "(Signature 1 NF1 )  Slope on robust regression: -0.3813987 with P-value 0.541845 \n",
      "(Signature 1 NF1 )  Intercept on robust regression: 88.86857 with P-value 0.04871418 \n",
      "\n",
      "(Signature 1 W3 )  Slope on robust regression: 0.3594969 with P-value 0.01420938 \n",
      "(Signature 1 W3 )  Intercept on robust regression: 0.4584079 with P-value 0.9585655 \n",
      "\n"
     ]
    }
   ],
   "source": [
    "res <- rlm(as.formula(\"Sig1Med ~ Age\"), data=averages)\n",
    "p.slope <- f.robftest(res, var = \"Age\")$p.value\n",
    "p.intercept <- f.robftest(res, var = \"(Intercept)\")$p.value\n",
    "cat(\"(Signature 1)\", \" Slope on robust regression:\", unname(coef(res)['Age']), \"with P-value\", p.slope, \"\\n\")\n",
    "cat(\"(Signature 1)\", \" Intercept on robust regression:\", unname(coef(res)['(Intercept)']), \"with P-value\", p.intercept, \"\\n\\n\")\n",
    "for (i in seq(1:4)) {\n",
    "    res <- rlm(as.formula(\"Sig1Med ~ Age\"), data=avgsets[[i]])\n",
    "    p.slope <- f.robftest(res, var = \"Age\")$p.value\n",
    "    p.intercept <- f.robftest(res, var = \"(Intercept)\")$p.value\n",
    "    cat(\"(Signature 1\", cohorts[i],\")\", \" Slope on robust regression:\", unname(coef(res)['Age']), \"with P-value\", p.slope, \"\\n\")\n",
    "    cat(\"(Signature 1\", cohorts[i],\")\", \" Intercept on robust regression:\", unname(coef(res)['(Intercept)']), \"with P-value\", p.intercept, \"\\n\\n\")\n",
    "}"
   ]
  },
  {
   "cell_type": "markdown",
   "metadata": {},
   "source": [
    "#### Spearman rho"
   ]
  },
  {
   "cell_type": "code",
   "execution_count": 19,
   "metadata": {},
   "outputs": [],
   "source": [
    "# Compute confidence intervals by bootstrapping\n",
    "spearman.rho.sig1med.age <- function(data, indices) {\n",
    "  d <- data[indices,] # allows boot to select sample \n",
    "  fit <- cor.test(d$Age, d$Sig1Med, method=\"spearman\", alternative=\"greater\", data=d, exact=FALSE)\n",
    "  return(fit$estimate)\n",
    "} "
   ]
  },
  {
   "cell_type": "code",
   "execution_count": 20,
   "metadata": {},
   "outputs": [
    {
     "name": "stdout",
     "output_type": "stream",
     "text": [
      "Spearman correlation with age on complete dataset: 0.4057697 with P-value 0.0002984914 \n",
      "\n",
      "Spearman rho correlation with age on BRAF dataset: 0.02965413 with P-value 0.4102645 \n",
      "Spearman rho correlation with age on NRAS dataset: 0.3504566 with P-value 0.009843771 \n",
      "Spearman rho correlation with age on NF1 dataset: -0.1034738 with P-value 0.7033811 \n",
      "Spearman rho correlation with age on W3 dataset: 0.3650716 with P-value 0.0080393 \n"
     ]
    }
   ],
   "source": [
    "correlation <- cor.test(averages$Age, averages$Sig1Med, method=\"spearman\", alternative=\"greater\", exact=FALSE)\n",
    "cat(\"Spearman correlation with age on complete dataset:\", correlation$estimate, \"with P-value\", correlation$p.value, \"\\n\\n\")\n",
    "for (i in seq(1:4)) {\n",
    "    correlation <- cor.test(avgsets[[i]]$Age, avgsets[[i]]$Sig1Med, method=\"spearman\", alternative=\"greater\", exact=FALSE)\n",
    "    cat(\"Spearman rho correlation with age on\", cohorts[i], \"dataset:\", correlation$estimate, \"with P-value\", correlation$p.value, \"\\n\")\n",
    "    }"
   ]
  },
  {
   "cell_type": "markdown",
   "metadata": {},
   "source": [
    "#### Median Signature 1/age by cohorts"
   ]
  },
  {
   "cell_type": "code",
   "execution_count": 21,
   "metadata": {},
   "outputs": [
    {
     "data": {
      "image/png": "[encoded data removed]",
      "text/plain": [
       "plot without title"
      ]
     },
     "metadata": {},
     "output_type": "display_data"
    }
   ],
   "source": [
    "plot1 <- ggplot(data, aes(Cohort, (Sig1Total)/Age, fill=Cohort)) +\n",
    "    geom_boxplot() + ylab(\"Signatures 1 / year\") + theme_minimal() + guides(fill=FALSE) + coord_cartesian(ylim = c(0,3))\n",
    "grid.arrange(plot1, ncol=1)\n",
    "p <- arrangeGrob(plot1, ncol=1)"
   ]
  },
  {
   "cell_type": "code",
   "execution_count": 22,
   "metadata": {},
   "outputs": [],
   "source": [
    "ggsave(\"./figures/Figure1C.pdf\", p, scale=1, width=8, height=4)"
   ]
  },
  {
   "cell_type": "code",
   "execution_count": 23,
   "metadata": {},
   "outputs": [],
   "source": [
    "md.sig1sig7 <- function(data, indices) {\n",
    "    mydata <- data[indices,]\n",
    "    return(median((mydata$Sig1Total)/mydata$Age))\n",
    "}"
   ]
  },
  {
   "cell_type": "code",
   "execution_count": 24,
   "metadata": {},
   "outputs": [
    {
     "name": "stdout",
     "output_type": "stream",
     "text": [
      "Median ratio for BRAF :  0.4827761 \n",
      "\n",
      "Median ratio for NRAS :  0.648099 \n",
      "\n",
      "Median ratio for NF1 :  0.9872416 \n",
      "\n",
      "Median ratio for W3 :  0.3566536 \n",
      "\n"
     ]
    }
   ],
   "source": [
    "for (i in seq(1:4)) {\n",
    "    res <- md.sig1sig7(subset(data, Cohort==cohorts[i]),)\n",
    "    cat(\"Median ratio for\", cohorts[i], \": \", res, \"\\n\\n\")\n",
    "}"
   ]
  },
  {
   "cell_type": "markdown",
   "metadata": {},
   "source": [
    "#### Mann-Whitney U test with Bonferroni correction\n",
    "Test whether the ratios Sig1/Age differ in median across the subtypes. Using Sig1+Sig7, otherwise not significant difference between BRAF and NRAS."
   ]
  },
  {
   "cell_type": "code",
   "execution_count": 25,
   "metadata": {},
   "outputs": [
    {
     "data": {
      "text/html": [
       "<table>\n",
       "<thead><tr><th></th><th scope=col>BRAF</th><th scope=col>NF1</th><th scope=col>NRAS</th></tr></thead>\n",
       "<tbody>\n",
       "\t<tr><th scope=row>NF1</th><td>0.008076785 </td><td>          NA</td><td>          NA</td></tr>\n",
       "\t<tr><th scope=row>NRAS</th><td>0.365750940 </td><td>2.081495e-01</td><td>          NA</td></tr>\n",
       "\t<tr><th scope=row>W3</th><td>0.024275375 </td><td>5.093829e-05</td><td>5.324416e-05</td></tr>\n",
       "</tbody>\n",
       "</table>\n"
      ],
      "text/latex": [
       "\\begin{tabular}{r|lll}\n",
       "  & BRAF & NF1 & NRAS\\\\\n",
       "\\hline\n",
       "\tNF1 & 0.008076785  &           NA &           NA\\\\\n",
       "\tNRAS & 0.365750940  & 2.081495e-01 &           NA\\\\\n",
       "\tW3 & 0.024275375  & 5.093829e-05 & 5.324416e-05\\\\\n",
       "\\end{tabular}\n"
      ],
      "text/markdown": [
       "\n",
       "| <!--/--> | BRAF | NF1 | NRAS | \n",
       "|---|---|---|\n",
       "| NF1 | 0.008076785  |           NA |           NA | \n",
       "| NRAS | 0.365750940  | 2.081495e-01 |           NA | \n",
       "| W3 | 0.024275375  | 5.093829e-05 | 5.324416e-05 | \n",
       "\n",
       "\n"
      ],
      "text/plain": [
       "     BRAF        NF1          NRAS        \n",
       "NF1  0.008076785           NA           NA\n",
       "NRAS 0.365750940 2.081495e-01           NA\n",
       "W3   0.024275375 5.093829e-05 5.324416e-05"
      ]
     },
     "metadata": {},
     "output_type": "display_data"
    }
   ],
   "source": [
    "# Do a two-sided Wilcoxon test\n",
    "newdata <- data\n",
    "pwres <- pairwise.wilcox.test((newdata$Sig1Total)/newdata$Age, newdata$Cohort, exact=FALSE, paired=FALSE, alternative=\"two.sided\", p.adj=\"bonferroni\")\n",
    "pwres$p.value"
   ]
  },
  {
   "cell_type": "code",
   "execution_count": 26,
   "metadata": {},
   "outputs": [],
   "source": [
    "# Only compare BRAF and NRAS\n",
    "md.sig1 <- function(data, indices) {\n",
    "    mydata <- data[indices,]\n",
    "    return(median(mydata$Sig1Total/mydata$Age))\n",
    "}"
   ]
  },
  {
   "cell_type": "code",
   "execution_count": 27,
   "metadata": {},
   "outputs": [
    {
     "name": "stdout",
     "output_type": "stream",
     "text": [
      "P-value for BRAF vs NRAS: 0.06095849 \n"
     ]
    }
   ],
   "source": [
    "newdata.braf <- subset(data, Cohort=='BRAF')\n",
    "newdata.nras <- subset(data, Cohort=='NRAS')\n",
    "pwres <- wilcox.test(newdata.braf$Sig1Total/newdata.braf$Age, newdata.nras$Sig1Total/newdata.nras$Age, alternative=\"two.sided\", exact=FALSE, pairwise=FALSE)\n",
    "cat(\"P-value for BRAF vs NRAS:\", pwres$p.value, '\\n')"
   ]
  },
  {
   "cell_type": "markdown",
   "metadata": {},
   "source": [
    "#### Test the difference in the presence of 0 or 1-2 MC1R R alleles"
   ]
  },
  {
   "cell_type": "code",
   "execution_count": 38,
   "metadata": {},
   "outputs": [
    {
     "data": {
      "image/png": "[encoded data removed]",
      "text/plain": [
       "plot without title"
      ]
     },
     "metadata": {},
     "output_type": "display_data"
    }
   ],
   "source": [
    "p <- ggplot(transform(mydata,\n",
    "      Cohort=factor(Cohort,levels=c(\"BRAF\",\"NRAS\",\"NF1\",\"W3\"))), aes(Rallele, Sig1Total/Age, fill=Rallele)) +\n",
    "    geom_boxplot() + ylab(\"Signatures 1/ Age\") + theme_minimal() + #coord_cartesian(ylim = c(0,55)) + \n",
    "    guides(fill=FALSE) + facet_wrap(~ Cohort, ncol=4) + xlab(\"MC1R\")\n",
    "grid.arrange(p, ncol=1)"
   ]
  },
  {
   "cell_type": "code",
   "execution_count": 39,
   "metadata": {},
   "outputs": [],
   "source": [
    "ggsave(\"./figures/SupFigure1.pdf\", p, scale=1, width=8, height=4)"
   ]
  },
  {
   "cell_type": "markdown",
   "metadata": {},
   "source": [
    "#### Wilcoxon rank-sum test to see whether the ratios Sig1/Age differ depending on MC1R status"
   ]
  },
  {
   "cell_type": "code",
   "execution_count": 30,
   "metadata": {},
   "outputs": [
    {
     "name": "stdout",
     "output_type": "stream",
     "text": [
      "Median ratio:  1.406727 \n",
      "\n",
      "P-value: 0.005012568 \n"
     ]
    }
   ],
   "source": [
    "newdataR <- subset(mydata, Rallele=='1-2 R alleles')\n",
    "newdata0 <- subset(mydata, Rallele=='0 R alleles')\n",
    "medR <- median(newdataR$Sig1Total/newdataR$Age)\n",
    "med0 <- median(newdata0$Sig1Total/newdata0$Age)\n",
    "cat(\"Median ratio: \", medR/med0, \"\\n\\n\")\n",
    "pwres <- wilcox.test(newdataR$Sig1Total/newdataR$Age, newdata0$Sig1Total/newdata0$Age, paired=FALSE, exact=FALSE)\n",
    "cat(\"P-value:\", pwres$p.value, '\\n')"
   ]
  },
  {
   "cell_type": "markdown",
   "metadata": {},
   "source": [
    "#### Confidence interval via bootstrapping"
   ]
  },
  {
   "cell_type": "code",
   "execution_count": 48,
   "metadata": {},
   "outputs": [
    {
     "name": "stderr",
     "output_type": "stream",
     "text": [
      "Warning message in boot.ci(bootmed.all):\n",
      "\"bootstrap variances needed for studentized intervals\""
     ]
    },
    {
     "data": {
      "text/plain": [
       "BOOTSTRAP CONFIDENCE INTERVAL CALCULATIONS\n",
       "Based on 10000 bootstrap replicates\n",
       "\n",
       "CALL : \n",
       "boot.ci(boot.out = bootmed.all)\n",
       "\n",
       "Intervals : \n",
       "Level      Normal              Basic         \n",
       "95%   ( 0.905,  1.818 )   ( 0.775,  1.818 )  \n",
       "\n",
       "Level     Percentile            BCa          \n",
       "95%   ( 0.996,  2.038 )   ( 0.925,  1.880 )  \n",
       "Calculations and Intervals on Original Scale"
      ]
     },
     "metadata": {},
     "output_type": "display_data"
    }
   ],
   "source": [
    "md <- function(data, indices) {\n",
    "    tempdata <- data[indices,]\n",
    "    return(median(subset(tempdata, Rallele=='1-2 R alleles')$Sig1Ratio/median(subset(tempdata, Rallele=='0 R alleles')$Sig1Ratio)))\n",
    "}\n",
    "bootmed.all <- boot(data=mydata, statistic=md, R=10000)\n",
    "boot.ci(bootmed.all)"
   ]
  },
  {
   "cell_type": "code",
   "execution_count": 49,
   "metadata": {},
   "outputs": [
    {
     "name": "stdout",
     "output_type": "stream",
     "text": [
      "Median ratio:  1.462795 \n",
      "P-value for BRAF : 0.02504957 \n",
      "Median ratio:  1.170213 \n",
      "P-value for NRAS : 0.4763152 \n",
      "Median ratio:  1.362108 \n",
      "P-value for NF1 : 0.1903744 \n",
      "Median ratio:  1.567422 \n",
      "P-value for W3 : 0.1121673 \n"
     ]
    }
   ],
   "source": [
    "for (i in seq(1:4)) {\n",
    "    newdataR <- subset(mydata, Cohort==cohorts[i] & Rallele=='1-2 R alleles')\n",
    "    newdata0 <- subset(mydata, Cohort==cohorts[i] & Rallele=='0 R alleles')\n",
    "    medR <- median(newdataR$Sig1Total/newdataR$Age)\n",
    "    med0 <- median(newdata0$Sig1Total/newdata0$Age)\n",
    "    cat(\"Median ratio: \", medR/med0, \"\\n\")\n",
    "    pwres <- wilcox.test(newdataR$Sig1Total/newdataR$Age, newdata0$Sig1Total/newdata0$Age, paired=FALSE, exact=FALSE)\n",
    "    cat(\"P-value for\", cohorts[i], \":\", pwres$p.value, '\\n')\n",
    "}"
   ]
  },
  {
   "cell_type": "markdown",
   "metadata": {},
   "source": [
    "###  <a id='chapter3'><font color=\"grey\">  3. Aging affects the intrinsic mutation rate of the molecular subtypes.</font></a>"
   ]
  },
  {
   "cell_type": "code",
   "execution_count": 50,
   "metadata": {},
   "outputs": [
    {
     "data": {
      "image/png": "[encoded data removed]",
      "text/plain": [
       "plot without title"
      ]
     },
     "metadata": {},
     "output_type": "display_data"
    }
   ],
   "source": [
    "plot1 <- ggplot(subset(data, range != \"(0,30]\" & range != \"(40,50]\" & range != \"(30,40]\"), aes(x=Sig1Total, fill=range)) +\n",
    "    geom_density(alpha=0.7) + theme_minimal() + xlab(\"Mutations\") + ylab(\"Frequency\")\n",
    "plot2 <- ggplot(averages, aes(Age, Sig1Med/Age)) +  geom_smooth(method = \"rlm\", se=FALSE) + geom_point() +\n",
    "    xlab(\"Age\") + ylab(\"Signature 1 / Age\") + theme_minimal() + theme(legend.position=\"none\") + coord_cartesian(ylim = c(0,3))\n",
    "grid.arrange(plot1, plot2, ncol=2)\n",
    "p <- arrangeGrob(plot1, plot2, ncol=2)"
   ]
  },
  {
   "cell_type": "code",
   "execution_count": 51,
   "metadata": {},
   "outputs": [],
   "source": [
    "ggsave(\"./figures/Figure2AB.pdf\", plot=p, scale=1, width=8, height=4)"
   ]
  },
  {
   "cell_type": "markdown",
   "metadata": {},
   "source": [
    "#### Spearman rho of Sig1/Age against age"
   ]
  },
  {
   "cell_type": "code",
   "execution_count": 52,
   "metadata": {},
   "outputs": [
    {
     "name": "stdout",
     "output_type": "stream",
     "text": [
      "Spearman correlation between Sig1/Age and Age: -0.3362822 with P-value 0.005050457 \n"
     ]
    }
   ],
   "source": [
    "sig1ageagecor <- cor.test(averages$Sig1Med/averages$Age, averages$Age, method=\"spearman\", alternative=\"two.sided\", exact=FALSE)\n",
    "cat(\"Spearman correlation between Sig1/Age and Age:\", sig1ageagecor$estimate, \"with P-value\", sig1ageagecor$p.value, \"\\n\")"
   ]
  },
  {
   "cell_type": "markdown",
   "metadata": {},
   "source": [
    "#### Test Spearman rho correlation across subtypes"
   ]
  },
  {
   "cell_type": "code",
   "execution_count": 53,
   "metadata": {},
   "outputs": [
    {
     "name": "stdout",
     "output_type": "stream",
     "text": [
      "Spearman correlation between Sig1/Age and Age for BRAF: -0.4376578 with P-value 0.0004199746 \n",
      "Spearman correlation between Sig1/Age and Age for NRAS: -0.08005638 with P-value 0.6054516 \n",
      "Spearman correlation between Sig1/Age and Age for NRAS: 0.0114769 with P-value 0.9417713 \n"
     ]
    }
   ],
   "source": [
    "sig1ageagecor.braf <- cor.test(averages.braf$Sig1Med/averages.braf$Age, averages.braf$Age, method=\"spearman\", alternative=\"two.sided\", exact=FALSE)\n",
    "cat(\"Spearman correlation between Sig1/Age and Age for BRAF:\", sig1ageagecor.braf$estimate, \"with P-value\", sig1ageagecor.braf$p.value, \"\\n\")\n",
    "sig1ageagecor.nras <- cor.test(averages.nras$Sig1Med/averages.nras$Age, averages.nras$Age, method=\"spearman\", alternative=\"two.sided\", exact=FALSE)\n",
    "cat(\"Spearman correlation between Sig1/Age and Age for NRAS:\", sig1ageagecor.nras$estimate, \"with P-value\", sig1ageagecor.nras$p.value, \"\\n\")\n",
    "sig1ageagecor.w3 <- cor.test(averages.w3$Sig1Med/averages.w3$Age, averages.w3$Age, method=\"spearman\", alternative=\"two.sided\", exact=FALSE)\n",
    "cat(\"Spearman correlation between Sig1/Age and Age for NRAS:\", sig1ageagecor.w3$estimate, \"with P-value\", sig1ageagecor.w3$p.value, \"\\n\")"
   ]
  },
  {
   "cell_type": "markdown",
   "metadata": {},
   "source": [
    "### <font color=\"grey\">  Intermezzo: the model.</font>"
   ]
  },
  {
   "cell_type": "markdown",
   "metadata": {},
   "source": [
    "In order to more accurately quantify the accumulation of mutations over time, we need to make some model assumptions. While these assumptions may represent oversimplifications, they lead to systematic biases that would hold across different cohorts, and still allow to compare properties of the different types of samples to each other.\n",
    "\n",
    "For the accumulation of mutations at time $t$, [Podolskiy et al](http://www.nature.com/articles/ncomms12157) postulate the following model, assumed to be valid for a certain age range. At each age $t$, the number of muations $N(t)$ is approximately distributed according to a Poisson distribution with rate $\\lambda(t)$,\n",
    "\n",
    "\\begin{equation*}\n",
    "  \\mtx{P}\\{N(t) = n\\} = \\frac{\\lambda(t)^n e^{-\\lambda(t)}}{n!}.\n",
    "\\end{equation*}\n",
    "\n",
    "While [Podolskiy et al](http://www.nature.com/articles/ncomms12157) consider the total number of mutations and argue statistically via the law of large numbers, it is reasonable to assume that the accumulation of units of signature 1 also follows a Poisson-like distribution, or a mixture of Poisson distributions with one dominant component. This component is assumed to describe the accumulation of mutations before clonal expansion, after which the dynamics change. \n",
    "\n",
    "**TODO** Estimate number of drivers by fitting a Poisson mixture model. May need more data / pan-cancer data for this and/or use a Bayesian approach. Topic for another paper.\n",
    "\n",
    "Suppose that at age $t$ we have $N_1(t),\\dots,N_s(t)$ samples. We estimate the parameter $\\lambda(t) = \\lambda(t,X_1,\\dots,X_p) = \\mtx{E}[N(t) \\ | \\ X_1,\\dots,X_p]$ using Poisson regression,\n",
    "\n",
    "\\begin{equation*}\n",
    "  \\log \\mtx{E}[N(t) \\ | \\ X_1,\\dots,X_p ] = \\beta_0 + \\sum_{i=1}^p \\beta_i X_i,\n",
    "\\end{equation*}\n",
    "\n",
    "where the $\\beta_i$ are allowed to depend on $t$. In [Podolskiy et al](http://www.nature.com/articles/ncomms12157), the authors look at small time intervals and determine the Poisson peaks for each of these intervals. \n",
    "The practical problem with the approach described above is that we do not have enough data for reliably estimating Poisson average at each time. We can still try to use, for eath $t$ in a suitable range and $\\Delta t$ (for example, 5 years), to use the interval $(t-\\Delta t, t+\\Delta t]$. A different approach would be to estimate the parameters for all times simultaneously.\n",
    "\n",
    "Under simplifying assumptions, we can just include age (time) $t$ among the dependent variables and solve a standard Poisson model,\n",
    "\n",
    "\\begin{equation*}\n",
    "  \\log \\mtx{E}[N \\ | \\ t, X_1,\\dots,X_p ] = \\beta_0 + \\alpha t + \\sum_{i=1}^p \\beta_i X_i,\n",
    "\\end{equation*}\n",
    "\n",
    "We first try to incorporate as many covariates as possible in the model."
   ]
  },
  {
   "cell_type": "code",
   "execution_count": 55,
   "metadata": {},
   "outputs": [
    {
     "data": {
      "image/png": "[encoded data removed]",
      "text/plain": [
       "plot without title"
      ]
     },
     "metadata": {},
     "output_type": "display_data"
    }
   ],
   "source": [
    "plot1 <- ggplot(averages, aes(Age, Sig1Mean)) +  geom_point() +\n",
    "    geom_smooth(method = \"glm\", aes(Age, as.integer(Sig1Mean)), formula = y ~ x, data=averages, se=FALSE, method.args = (family=\"poisson\")) +\n",
    "    xlab(\"Age\") + ylab(\"Signature 1\") + theme_minimal() + coord_cartesian(ylim = c(0,200))# + theme(legend.position=\"none\")\n",
    "plot2 <- ggplot(averages.all, aes(Age, Sig1Mean, color=Cohort)) +  \n",
    "    geom_smooth(method = \"glm\", aes(Age, as.integer(Sig1Mean)), formula = y ~ x, data=averages.all, se=FALSE, method.args = (family=\"poisson\")) + \n",
    "    geom_point() + xlab(\"Age\") + ylab(\"\") + theme_minimal() + theme(legend.position=\"top\") + coord_cartesian(ylim = c(0,200))\n",
    "p <- arrangeGrob(plot1, plot2, ncol=2)\n",
    "grid.arrange(plot1, plot2, ncol=2)"
   ]
  },
  {
   "cell_type": "code",
   "execution_count": 56,
   "metadata": {},
   "outputs": [],
   "source": [
    "ggsave(\"./figures/Figure2CD.pdf\", plot=p, scale=1, width=8, height=3)"
   ]
  },
  {
   "cell_type": "markdown",
   "metadata": {},
   "source": [
    "In the model above, we use the formula $N(t)=N_0e^{\\alpha t}$ to model the accumulation of Signature 1 mutations. We estimate the parameters $\\alpha$ and $N_0$ of this model using negative binomial regression. A standard algebraic computation shows that the we should expect a decrease in the ratio of mutations $N/t$ for ages $t<1/\\alpha$ and an increase for ages $t>1/\\alpha$. We compute the critical age threshold below."
   ]
  },
  {
   "cell_type": "code",
   "execution_count": 65,
   "metadata": {},
   "outputs": [
    {
     "name": "stdout",
     "output_type": "stream",
     "text": [
      "alpha:  0.01233727 Inverse of alpha:  81.05518 \n",
      "\n",
      "alpha for BRAF:  0.004725981 Inverse of alpha:  211.5963 \n",
      "alpha for NRAS:  0.01537201 Inverse of alpha:  65.05332 \n",
      "alpha for W3:  0.02344969 Inverse of alpha:  42.64449"
     ]
    }
   ],
   "source": [
    "res <- glm.nb(as.integer(Sig1Med) ~ Age, data=averages)\n",
    "alpha <- coef(res)[\"Age\"]\n",
    "cat(\"alpha: \", alpha, \"Inverse of alpha: \", 1/alpha, \"\\n\\n\")\n",
    "res.braf <- glm.nb(as.integer(Sig1Med) ~ Age, data=averages.braf)\n",
    "alpha.braf <- coef(res.braf)[\"Age\"]\n",
    "cat(\"alpha for BRAF: \", alpha.braf, \"Inverse of alpha: \", 1/alpha.braf, \"\\n\")\n",
    "res.nras <- glm.nb(as.integer(Sig1Med) ~ Age, data=averages.nras)\n",
    "alpha.nras <- coef(res.nras)[\"Age\"]\n",
    "cat(\"alpha for NRAS: \", alpha.nras, \"Inverse of alpha: \", 1/alpha.nras, \"\\n\")\n",
    "res.w3 <- glm.nb(as.integer(Sig1Med) ~ Age, data=averages.w3)\n",
    "alpha.w3 <- coef(res.w3)[\"Age\"]\n",
    "cat(\"alpha for W3: \", alpha.w3, \"Inverse of alpha: \", 1/alpha.w3)"
   ]
  },
  {
   "cell_type": "markdown",
   "metadata": {},
   "source": [
    "Get confidence intervals and P values"
   ]
  },
  {
   "cell_type": "code",
   "execution_count": 102,
   "metadata": {},
   "outputs": [
    {
     "data": {
      "text/plain": [
       "BOOTSTRAP CONFIDENCE INTERVAL CALCULATIONS\n",
       "Based on 1000 bootstrap replicates\n",
       "\n",
       "CALL : \n",
       "boot.ci(boot.out = results, type = \"basic\")\n",
       "\n",
       "Intervals : \n",
       "Level      Basic         \n",
       "95%   (25.02, 95.06 )  \n",
       "Calculations and Intervals on Original Scale"
      ]
     },
     "metadata": {},
     "output_type": "display_data"
    },
    {
     "data": {
      "text/plain": [
       "BOOTSTRAP CONFIDENCE INTERVAL CALCULATIONS\n",
       "Based on 1000 bootstrap replicates\n",
       "\n",
       "CALL : \n",
       "boot.ci(boot.out = results.braf, type = \"basic\")\n",
       "\n",
       "Intervals : \n",
       "Level      Basic         \n",
       "95%   (-2118.3,  2136.5 )  \n",
       "Calculations and Intervals on Original Scale"
      ]
     },
     "metadata": {},
     "output_type": "display_data"
    },
    {
     "data": {
      "text/plain": [
       "BOOTSTRAP CONFIDENCE INTERVAL CALCULATIONS\n",
       "Based on 1000 bootstrap replicates\n",
       "\n",
       "CALL : \n",
       "boot.ci(boot.out = results.nras, type = \"basic\")\n",
       "\n",
       "Intervals : \n",
       "Level      Basic         \n",
       "95%   (-99.89, 100.60 )  \n",
       "Calculations and Intervals on Original Scale"
      ]
     },
     "metadata": {},
     "output_type": "display_data"
    },
    {
     "data": {
      "text/plain": [
       "BOOTSTRAP CONFIDENCE INTERVAL CALCULATIONS\n",
       "Based on 1000 bootstrap replicates\n",
       "\n",
       "CALL : \n",
       "boot.ci(boot.out = results.w3, type = \"basic\")\n",
       "\n",
       "Intervals : \n",
       "Level      Basic         \n",
       "95%   (-13.71,  50.74 )  \n",
       "Calculations and Intervals on Original Scale"
      ]
     },
     "metadata": {},
     "output_type": "display_data"
    }
   ],
   "source": [
    "alpha <- function(data, indices) {\n",
    "  d <- data[indices,] # allows boot to select sample \n",
    "  res <- glm.nb(as.integer(d$Sig1Total) ~ d$Age, data = d)\n",
    "  return(1/unname(coef(res)[\"d$Age\"]))\n",
    "} \n",
    "results <- boot(data=data, statistic=alpha, R=1000)\n",
    "boot.ci(results, type=\"basic\")\n",
    "results.braf <- boot(data=subset(data, Cohort=='BRAF'), statistic=alpha, R=1000)\n",
    "boot.ci(results.braf, type=\"basic\")\n",
    "results.nras <- boot(data=subset(data, Cohort=='NRAS'), statistic=alpha, R=1000)\n",
    "boot.ci(results.nras, type=\"basic\")\n",
    "results.w3 <- boot(data=subset(data, Cohort=='W3'), statistic=alpha, R=1000)\n",
    "boot.ci(results.w3, type=\"basic\")"
   ]
  },
  {
   "cell_type": "markdown",
   "metadata": {},
   "source": [
    "We next fit the curves $N_0e^{\\alpha t}$ with the estimated parameters to the data."
   ]
  },
  {
   "cell_type": "code",
   "execution_count": 103,
   "metadata": {},
   "outputs": [],
   "source": [
    "expfun.braf <- function(x) {\n",
    "    return(unname(exp(coef(res.braf)[\"(Intercept)\"]))*exp(unname(coef(res.braf)[\"Age\"])*x)/x)\n",
    "    }\n",
    "expfun.nras <- function(x) {\n",
    "    return(exp(unname(coef(res.nras)[\"(Intercept)\"]))*exp(unname(coef(res.nras)[\"Age\"])*x)/x)\n",
    "    }\n",
    "expfun.w3 <- function(x) {\n",
    "    return(exp(unname(coef(res.w3)[\"(Intercept)\"]))*exp(unname(coef(res.w3)[\"Age\"])*x)/x)\n",
    "    }"
   ]
  },
  {
   "cell_type": "code",
   "execution_count": 104,
   "metadata": {},
   "outputs": [],
   "source": [
    "line.braf <- data.frame(x = seq(20,90, by=0.1), y=sapply(seq(20,90, by=0.1), expfun.braf))\n",
    "line.nras <- data.frame(x = seq(30,90, by=0.1), y=sapply(seq(30,90, by=0.1), expfun.nras))\n",
    "line.w3 <- data.frame(x = seq(30,90, by=0.1), y=sapply(seq(30,90, by=0.1), expfun.w3))"
   ]
  },
  {
   "cell_type": "code",
   "execution_count": 106,
   "metadata": {},
   "outputs": [
    {
     "data": {
      "image/png": "[encoded data removed]",
      "text/plain": [
       "plot without title"
      ]
     },
     "metadata": {},
     "output_type": "display_data"
    }
   ],
   "source": [
    "plot1 <- ggplot(averages.braf, aes(Age, Sig1Med/Age)) + geom_point() +\n",
    "    xlab(\"Age\") + ylab(\"Signature 1 / Age\") + theme_minimal() + theme(legend.position=\"none\") + ggtitle('BRAF') + coord_cartesian(ylim = c(0,3))+ geom_line(data=line.braf, aes(x, y), color=\"blue\", size=1)\n",
    "plot2 <- ggplot(averages.nras, aes(Age, Sig1Mean/Age)) + geom_point() +\n",
    "    xlab(\"Age\") + ylab(\"\") + theme_minimal() + theme(legend.position=\"none\") + ggtitle('NRAS') + coord_cartesian(ylim = c(0,3))+ geom_line(data=line.nras, aes(x, y), color=\"blue\", size=1)\n",
    "plot3 <- ggplot(averages.w3, aes(Age, Sig1Mean/Age)) + geom_point() +\n",
    "    xlab(\"Age\") + ylab(\"\") + theme_minimal() + theme(legend.position=\"none\") + ggtitle('W3') + coord_cartesian(ylim = c(0,3))+ geom_line(data=line.w3, aes(x, y), color=\"blue\", size=1)\n",
    "grid.arrange(plot1, plot2, plot3, ncol=3, nrow=1)\n",
    "p <- arrangeGrob(plot1, plot2, plot3, ncol=3, nrow=1)"
   ]
  },
  {
   "cell_type": "code",
   "execution_count": 107,
   "metadata": {},
   "outputs": [],
   "source": [
    "ggsave(\"./figures/Figure2E.pdf\", plot=p, scale=1, width=8, height=3)"
   ]
  },
  {
   "cell_type": "markdown",
   "metadata": {},
   "source": [
    "**Todo** P-values and confidence intervals"
   ]
  },
  {
   "cell_type": "markdown",
   "metadata": {},
   "source": [
    "###  <a id='chapter4'><font color=\"grey\">  4. Signature 1 and signature 7 mutations are tightly correlated and together contribute to melanoma across all molecular subtypes.  </font></a>"
   ]
  },
  {
   "cell_type": "code",
   "execution_count": 108,
   "metadata": {},
   "outputs": [],
   "source": [
    "# Compute averages of relative contribution of sig 1 and sig 7\n",
    "nosig.braf <- 1-mean(subset(data, Cohort=='BRAF')$Sig1pSig7)\n",
    "nosig.nras <- 1-mean(subset(data, Cohort=='NRAS')$Sig1pSig7)\n",
    "nosig.nf1 <- 1-mean(subset(data, Cohort=='NF1')$Sig1pSig7)\n",
    "nosig.w3 <- 1-mean(subset(data, Cohort=='W3')$Sig1pSig7)\n",
    "sig7.braf <- mean(subset(data, Cohort=='BRAF')$Sig7Rel)\n",
    "sig7.nras <- mean(subset(data, Cohort=='NRAS')$Sig7Rel)\n",
    "sig7.nf1 <- mean(subset(data, Cohort=='NF1')$Sig7Rel)\n",
    "sig7.w3 <- mean(subset(data, Cohort=='W3')$Sig7Rel)\n",
    "sig1.braf <- mean(subset(data, Cohort=='BRAF')$Sig1Rel)\n",
    "sig1.nras <- mean(subset(data, Cohort=='NRAS')$Sig1Rel)\n",
    "sig1.nf1 <- mean(subset(data, Cohort=='NF1')$Sig1Rel)\n",
    "sig1.w3 <- mean(subset(data, Cohort=='W3')$Sig1Rel) "
   ]
  },
  {
   "cell_type": "code",
   "execution_count": 115,
   "metadata": {},
   "outputs": [
    {
     "data": {
      "image/png": "[encoded data removed]",
      "text/plain": [
       "plot without title"
      ]
     },
     "metadata": {},
     "output_type": "display_data"
    }
   ],
   "source": [
    "proportions <- c(sig1.braf, sig1.nras, sig1.nf1, sig1.w3, \n",
    "                 sig7.braf, sig7.nras, sig7.nf1, sig7.w3, \n",
    "                 nosig.braf, nosig.nras, nosig.nf1, nosig.w3)\n",
    "labels <- c(rep(c('BRAF','NRAS','NF1','W3'),3))\n",
    "types <- c(rep(\"Sig1\",4), rep(\"Sig7\",4), rep(\"Nosig\",4))\n",
    "newdata <- data.frame(labels, proportions, types)\n",
    "p <- ggplot(data=newdata[order(newdata$types),], aes(labels, proportions, fill=types)) + geom_bar(stat = \"identity\") + \n",
    "    xlab(\"Subtypes\") + ylab(\"Mean proportion of Signatures\") + theme_minimal() + \n",
    "    scale_fill_discrete(name=\"Mutation signature\", breaks=c(\"Sig1\",\"Sig7\",'Rest'), labels=c(\"Signature 1\", \"Signature 7\", \"Rest\"))\n",
    "grid.arrange(p)"
   ]
  },
  {
   "cell_type": "code",
   "execution_count": 116,
   "metadata": {},
   "outputs": [],
   "source": [
    "ggsave(\"./figures/Figure3A.pdf\", plot=p, scale=1, width=8, height=3)"
   ]
  },
  {
   "cell_type": "markdown",
   "metadata": {},
   "source": [
    "Plot Signature 1 against Signature 7"
   ]
  },
  {
   "cell_type": "code",
   "execution_count": 111,
   "metadata": {},
   "outputs": [],
   "source": [
    "# Compute median sig1 for each sig7\n",
    "averages.sig7 <- data.frame(Sig7Total=sig7ranges)\n",
    "averages.sig7$Sig1Med <- NA\n",
    "for (s in sig7ranges) {\n",
    "  i <- match(s,averages.sig7$Sig7Total)\n",
    "  averages.sig7[i,c(\"Sig1Med\")] <- median(data[which(data$sig7range==s),\"Sig1Total\"])\n",
    "}\n",
    "# Compute median sig1 for each sig7 subdivided by cohorts\n",
    "averages.sig7.cohort <- data.frame(Sig7Total=integer(), Sig1Med=double(), Cohort=character())\n",
    "for (j in seq(4)) {\n",
    "    sig7 <- sort(unique(subset(data,Cohort==cohorts[j])$sig7range)[!is.na(unique(subset(data,Cohort==cohorts[j])$sig7range))])\n",
    "    averages.temp <- data.frame(Sig7Total=sig7, Sig1Med=as.double(NA))\n",
    "    for (s in sig7) {\n",
    "        i <- match(s,averages.temp$Sig7Total)\n",
    "        averages.temp[i,c(\"Sig1Med\")] <- median(data[which(data$sig7range==s & data$Cohort==cohorts[j]),\"Sig1Total\"])\n",
    "        }\n",
    "    averages.temp$Cohort <- cohorts[j]\n",
    "    averages.sig7.cohort <- rbind(averages.sig7.cohort, averages.temp)\n",
    "    }"
   ]
  },
  {
   "cell_type": "code",
   "execution_count": 123,
   "metadata": {},
   "outputs": [
    {
     "data": {
      "image/png": "[encoded data removed]",
      "text/plain": [
       "plot without title"
      ]
     },
     "metadata": {},
     "output_type": "display_data"
    }
   ],
   "source": [
    "plot1 <- ggplot(subset(averages.sig7, Sig7Total<2500), aes(Sig7Total, Sig1Med)) +  geom_smooth(method = \"rlm\", se=FALSE) + geom_point() +\n",
    "    xlab(\"Signature 7\") + ylab(\"Signature 1\") + theme_minimal()# + theme(legend.position=\"none\")\n",
    "plot2 <- ggplot(subset(averages.sig7.cohort, (Cohort=='BRAF' | Cohort=='NRAS') & Sig7Total<2500), aes(Sig7Total, Sig1Med, color=Cohort)) +  geom_smooth(method = \"rlm\", se=FALSE) + geom_point() +\n",
    "    xlab(\"Signature 7\") + ylab(\"\") +# scale_y_continuous(limits = c(0,2000)) +\n",
    "    theme_minimal() + theme(legend.position=\"top\")\n",
    "grid.arrange(plot1, plot2, ncol=2)\n",
    "p <- arrangeGrob(plot1, plot2, ncol=2)"
   ]
  },
  {
   "cell_type": "code",
   "execution_count": 124,
   "metadata": {},
   "outputs": [],
   "source": [
    "ggsave(\"./figures/Figure3BC.pdf\", plot=p, scale=1, width=8, height=4)"
   ]
  },
  {
   "cell_type": "markdown",
   "metadata": {},
   "source": [
    "#### Robust regression"
   ]
  },
  {
   "cell_type": "code",
   "execution_count": 125,
   "metadata": {},
   "outputs": [
    {
     "name": "stdout",
     "output_type": "stream",
     "text": [
      "(Total) Slope on robust regression: 0.03940908 with P-value 2.256961e-39 \n"
     ]
    }
   ],
   "source": [
    "res<-rlm(Sig1Med ~ Sig7Total, data=averages.sig7)\n",
    "slope.total <- unname(coef(res)['Sig7Total'])\n",
    "p1.total <- f.robftest(res, var = \"Sig7Total\")$p.value\n",
    "cat(\"(Total) Slope on robust regression:\", slope.total, \"with P-value\", p1.total, \"\\n\")"
   ]
  },
  {
   "cell_type": "markdown",
   "metadata": {},
   "source": [
    "#### Spearman rho correlation"
   ]
  },
  {
   "cell_type": "code",
   "execution_count": 126,
   "metadata": {},
   "outputs": [
    {
     "name": "stdout",
     "output_type": "stream",
     "text": [
      "Spearman correlation between Signature 1 and Signature 7: 0.8157706 with P-value 2.678654e-36 \n"
     ]
    }
   ],
   "source": [
    "sig1sig7cor <- cor.test(averages.sig7$Sig7Total, averages.sig7$Sig1Med, method=\"spearman\", alternative=\"two.sided\", exact=FALSE)\n",
    "cat(\"Spearman correlation between Signature 1 and Signature 7:\", sig1sig7cor$estimate, \"with P-value\", sig1sig7cor$p.value, \"\\n\")"
   ]
  },
  {
   "cell_type": "markdown",
   "metadata": {},
   "source": [
    "#### Spearman rho across subtypes"
   ]
  },
  {
   "cell_type": "code",
   "execution_count": 127,
   "metadata": {},
   "outputs": [
    {
     "name": "stdout",
     "output_type": "stream",
     "text": [
      "Spearman rho correlation between Signature 1 and Signature 7\n",
      "\n",
      "( BRAF ) Spearman correlation between Signature 1 and Signature 7: 0.7026673 with P-value 1.322763e-13 \n",
      "( NRAS ) Spearman correlation between Signature 1 and Signature 7: 0.719397 with P-value 1.577996e-12 \n",
      "( NF1 ) Spearman correlation between Signature 1 and Signature 7: 0.7970862 with P-value 1.004728e-08 \n",
      "( W3 ) Spearman correlation between Signature 1 and Signature 7: 0.642682 with P-value 3.37293e-06 \n"
     ]
    }
   ],
   "source": [
    "# Determine slope and intersept with corresponding P values for robust linear regression on all the data\n",
    "cat(\"Spearman rho correlation between Signature 1 and Signature 7\\n\\n\")\n",
    "for (i in seq(1:4)) {\n",
    "    sig1sig7cor <- cor.test(subset(averages.sig7.cohort, Cohort==cohorts[i])$Sig7Total, subset(averages.sig7.cohort, Cohort==cohorts[i])$Sig1Med, method=\"spearman\", alternative=\"two.sided\", exact=FALSE)\n",
    "    cat(\"(\", cohorts[i], \")\", \"Spearman correlation between Signature 1 and Signature 7:\", sig1sig7cor$estimate, \"with P-value\", sig1sig7cor$p.value, \"\\n\")\n",
    "}"
   ]
  },
  {
   "cell_type": "markdown",
   "metadata": {},
   "source": [
    "#### Mann-Whitney U test for ratio Sig1/Sig7 across subtypes"
   ]
  },
  {
   "cell_type": "code",
   "execution_count": 128,
   "metadata": {},
   "outputs": [
    {
     "data": {
      "text/html": [
       "<table>\n",
       "<thead><tr><th></th><th scope=col>BRAF</th><th scope=col>NF1</th><th scope=col>NRAS</th></tr></thead>\n",
       "<tbody>\n",
       "\t<tr><th scope=row>NF1</th><td>0.1102664 </td><td>        NA</td><td>      NA  </td></tr>\n",
       "\t<tr><th scope=row>NRAS</th><td>0.5293460 </td><td>0.68916816</td><td>      NA  </td></tr>\n",
       "\t<tr><th scope=row>W3</th><td>1.0000000 </td><td>0.08695743</td><td>0.502788  </td></tr>\n",
       "</tbody>\n",
       "</table>\n"
      ],
      "text/latex": [
       "\\begin{tabular}{r|lll}\n",
       "  & BRAF & NF1 & NRAS\\\\\n",
       "\\hline\n",
       "\tNF1 & 0.1102664  &         NA &       NA  \\\\\n",
       "\tNRAS & 0.5293460  & 0.68916816 &       NA  \\\\\n",
       "\tW3 & 1.0000000  & 0.08695743 & 0.502788  \\\\\n",
       "\\end{tabular}\n"
      ],
      "text/markdown": [
       "\n",
       "| <!--/--> | BRAF | NF1 | NRAS | \n",
       "|---|---|---|\n",
       "| NF1 | 0.1102664  |         NA |       NA   | \n",
       "| NRAS | 0.5293460  | 0.68916816 |       NA   | \n",
       "| W3 | 1.0000000  | 0.08695743 | 0.502788   | \n",
       "\n",
       "\n"
      ],
      "text/plain": [
       "     BRAF      NF1        NRAS    \n",
       "NF1  0.1102664         NA       NA\n",
       "NRAS 0.5293460 0.68916816       NA\n",
       "W3   1.0000000 0.08695743 0.502788"
      ]
     },
     "metadata": {},
     "output_type": "display_data"
    }
   ],
   "source": [
    "# Do a two-sided Wilcoxon test\n",
    "newdata <- subset(data, Sig7Total>0)\n",
    "pwres <- pairwise.wilcox.test(newdata$Sig1Total/newdata$Sig7Total, newdata$Cohort, exact=FALSE, p.adj=\"bonferroni\")\n",
    "pwres$p.value"
   ]
  },
  {
   "cell_type": "markdown",
   "metadata": {},
   "source": [
    "#### Wilcoxon rank-sum test for ratio Sig1/Sig7 for BRAF and NRAS"
   ]
  },
  {
   "cell_type": "code",
   "execution_count": 129,
   "metadata": {},
   "outputs": [
    {
     "name": "stdout",
     "output_type": "stream",
     "text": [
      "P-value for BRAF vs NRAS: 0.08822434 \n"
     ]
    }
   ],
   "source": [
    "# Only compare BRAF and NRAS\n",
    "newdata.braf <- subset(data, Cohort=='BRAF' & Sig7Total>0)\n",
    "newdata.nras <- subset(data, Cohort=='NRAS' & Sig7Total>0)\n",
    "pwres <- wilcox.test(newdata.braf$Sig1Total/newdata.braf$Sig7Total, newdata.nras$Sig1Total/newdata.nras$Sig7Total, exact=FALSE, pairwise=FALSE)\n",
    "cat(\"P-value for BRAF vs NRAS:\", pwres$p.value, '\\n')"
   ]
  },
  {
   "cell_type": "markdown",
   "metadata": {},
   "source": [
    "#### Effect of MC1R"
   ]
  },
  {
   "cell_type": "code",
   "execution_count": 130,
   "metadata": {},
   "outputs": [
    {
     "name": "stdout",
     "output_type": "stream",
     "text": [
      "Spearman rho correlation between Signature 1 and Signature 7\n",
      "\n",
      "( 0 R alleles ) Spearman correlation between Signature 1 and Signature 7: 0.7553396 with P-value 2.749074e-22 \n",
      "( 1-2 R alleles ) Spearman correlation between Signature 1 and Signature 7: 0.7429028 with P-value 3.013988e-21 \n"
     ]
    }
   ],
   "source": [
    "# Determine slope and intersept with corresponding P values for robust linear regression on all the data\n",
    "cat(\"Spearman rho correlation between Signature 1 and Signature 7\\n\\n\")\n",
    "for (i in seq(1:2)) {\n",
    "    sig1sig7cor <- cor.test(subset(mydata, Rallele==alleles[i])$Sig7Total, subset(mydata, Rallele==alleles[i])$Sig1Total, method=\"spearman\", alternative=\"two.sided\", exact=FALSE)\n",
    "    cat(\"(\", alleles[i], \")\", \"Spearman correlation between Signature 1 and Signature 7:\", sig1sig7cor$estimate, \"with P-value\", sig1sig7cor$p.value, \"\\n\")\n",
    "}"
   ]
  },
  {
   "cell_type": "markdown",
   "metadata": {},
   "source": [
    "#### Effect of Gender"
   ]
  },
  {
   "cell_type": "code",
   "execution_count": 131,
   "metadata": {},
   "outputs": [],
   "source": [
    "# Compute averages in separate data frame (MALE)\n",
    "sig7male <- sort(unique(subset(data,Gender==\"MALE\")$sig7range)[!is.na(unique(subset(data,Gender==\"MALE\")$sig7range))])\n",
    "averages.male.sig7 <- data.frame(Sig7Total=sig7male)\n",
    "averages.male.sig7$Sig1Med <- NA\n",
    "for (s in sig7male) {\n",
    "  i <- match(s,averages.male.sig7$Sig7Total)\n",
    "  averages.male.sig7[i,c(\"Sig1Med\")] <- median(data[which(data$sig7range==s & data$Gender==\"MALE\"),\"Sig1Total\"])\n",
    "}\n",
    "# Compute averages in separate data frame (FEMALE)\n",
    "sig7female <- sort(unique(subset(data,Gender==\"FEMALE\")$sig7range)[!is.na(unique(subset(data,Gender==\"FEMALE\")$sig7range))])\n",
    "averages.female.sig7 <- data.frame(Sig7Total=sig7female)\n",
    "averages.female.sig7$Sig1Med <- NA\n",
    "for (s in sig7female) {\n",
    "  i <- match(s,averages.female.sig7$Sig7Total)\n",
    "  averages.female.sig7[i,c(\"Sig1Med\")] <- median(data[which(data$sig7range==s & data$Gender==\"FEMALE\"),\"Sig1Total\"])\n",
    "}\n",
    "averages.male.sig7$Gender <- \"MALE\"\n",
    "averages.female.sig7$Gender <- \"FEMALE\"\n",
    "averages.gender.sig7 <- rbind(averages.male.sig7, averages.female.sig7)"
   ]
  },
  {
   "cell_type": "code",
   "execution_count": 133,
   "metadata": {},
   "outputs": [
    {
     "data": {
      "image/png": "[encoded data removed]",
      "text/plain": [
       "plot without title"
      ]
     },
     "metadata": {},
     "output_type": "display_data"
    }
   ],
   "source": [
    "plot1 <- ggplot(subset(averages.sig7, Sig7Total<2500), aes(Sig7Total, Sig1Med)) +  geom_smooth(method = \"rlm\", se=FALSE) + geom_point() +\n",
    "    xlab(\"Signature 7\") + ylab(\"Signature 1\") + theme_minimal()# + theme(legend.position=\"none\")\n",
    "plot2 <- ggplot(subset(averages.gender.sig7, Sig7Total<2500), aes(Sig7Total, Sig1Med, color=Gender)) +  geom_smooth(method = \"rlm\", se=FALSE) + geom_point() +\n",
    "    xlab(\"Signature 7\") + ylab(\"Signature 1\") +# scale_y_continuous(limits = c(0,2000)) +\n",
    "    theme_minimal() + theme(legend.position=\"top\")\n",
    "grid.arrange(plot1, plot2, ncol=2)\n",
    "p <- arrangeGrob(plot1, plot2, ncol=2)"
   ]
  },
  {
   "cell_type": "code",
   "execution_count": 136,
   "metadata": {},
   "outputs": [
    {
     "name": "stdout",
     "output_type": "stream",
     "text": [
      "Spearman rho correlation between Signature 1 and Signature 7\n",
      "\n",
      "( MALE ) Spearman correlation between Signature 1 and Signature 7: 0.7241306 with P-value 2.977074e-41 \n",
      "( FEMALE ) Spearman correlation between Signature 1 and Signature 7: 0.6778582 with P-value 1.617965e-21 \n"
     ]
    }
   ],
   "source": [
    "# Determine slope and intersept with corresponding P values for robust linear regression on all the data\n",
    "cat(\"Spearman rho correlation between Signature 1 and Signature 7\\n\\n\")\n",
    "for (i in seq(1:2)) {\n",
    "    sig1sig7cor <- cor.test(subset(data, Gender==genders[i])$Sig7Total, subset(data, Gender==genders[i])$Sig1Total, method=\"spearman\", alternative=\"two.sided\", exact=FALSE)\n",
    "    cat(\"(\", genders[i], \")\", \"Spearman correlation between Signature 1 and Signature 7:\", sig1sig7cor$estimate, \"with P-value\", sig1sig7cor$p.value, \"\\n\")\n",
    "}"
   ]
  },
  {
   "cell_type": "markdown",
   "metadata": {},
   "source": [
    "###  <a id='chapter5'><font color=\"grey\">  5. The proportion and spectra of intrinsic and extrinsic mutations varies according to gender.</font></a>"
   ]
  },
  {
   "cell_type": "markdown",
   "metadata": {},
   "source": [
    "There is not a significant difference between the ratio of Signature 1 mutations and gender overall, and it is hard to really detect any differences."
   ]
  },
  {
   "cell_type": "code",
   "execution_count": 137,
   "metadata": {},
   "outputs": [],
   "source": [
    "# Compute averages in separate data frame (MALE)\n",
    "agemale <- sort(unique(subset(data,Gender==\"MALE\")$Age)[!is.na(unique(subset(data,Gender==\"MALE\")$Age))])\n",
    "averages.male.age <- data.frame(Age=agemale)\n",
    "averages.male.age$Sig1Med <- NA\n",
    "for (s in agemale) {\n",
    "  i <- match(s,averages.male.age$Age)\n",
    "  averages.male.age[i,c(\"Sig1Med\")] <- median(data[which(data$agemale==s & data$Gender==\"MALE\"),\"Sig1Total\"])\n",
    "}\n",
    "# Compute averages in separate data frame (FEMALE)\n",
    "agefemale <- sort(unique(subset(data,Gender==\"FEMALE\")$Age)[!is.na(unique(subset(data,Gender==\"FEMALE\")$Age))])\n",
    "averages.female.age <- data.frame(Age=agefemale)\n",
    "averages.female.age$Sig1Med <- NA\n",
    "for (s in agefemale) {\n",
    "  i <- match(s,averages.female.age$Age)\n",
    "  averages.female.age[i,c(\"Sig1Med\")] <- median(data[which(data$agefemale==s & data$Gender==\"FEMALE\"),\"Sig1Total\"])\n",
    "}\n",
    "averages.male.age$Gender <- \"MALE\"\n",
    "averages.female.age$Gender <- \"FEMALE\"\n",
    "averages.gender.sig7 <- rbind(averages.male.sig7, averages.female.sig7)"
   ]
  },
  {
   "cell_type": "code",
   "execution_count": 138,
   "metadata": {},
   "outputs": [
    {
     "data": {
      "image/png": "[encoded data removed]",
      "text/plain": [
       "plot without title"
      ]
     },
     "metadata": {},
     "output_type": "display_data"
    }
   ],
   "source": [
    "plot1 <- ggplot(averages.gender, aes(Age, Sig1Med, color=Gender)) +  geom_smooth(method = \"rlm\", se=FALSE) + geom_point() +\n",
    "    xlab(\"Age\") + ylab(\"Signature 1\") +# scale_y_continuous(limits = c(0,2000)) +\n",
    "    theme_minimal() + theme(legend.position=\"top\")\n",
    "plot2 <- ggplot(data, aes(Gender, Sig1Total/Age, fill=Gender)) +\n",
    "    geom_boxplot() + ylab(\"Signatures 1/ Age\") + theme_minimal() + coord_cartesian(ylim = c(0,2.1)) + \n",
    "    guides(fill=FALSE) + xlab(\"Gender\")\n",
    "grid.arrange(plot1, plot2, ncol=2)\n",
    "p <- arrangeGrob(plot1, plot2, ncol=2)"
   ]
  },
  {
   "cell_type": "code",
   "execution_count": 139,
   "metadata": {},
   "outputs": [],
   "source": [
    "ggsave(\"./figures/Figure4AB.pdf\", plot=p, scale=1, width=8, height=4)"
   ]
  },
  {
   "cell_type": "markdown",
   "metadata": {},
   "source": [
    "#### Spearman rho correlation and ratio test"
   ]
  },
  {
   "cell_type": "code",
   "execution_count": 140,
   "metadata": {},
   "outputs": [
    {
     "name": "stdout",
     "output_type": "stream",
     "text": [
      "Spearman correlation with age on complete dataset: 0.4057697 with P-value 0.0002984914 \n",
      "\n",
      "Spearman rho correlation with age on MALE dataset: 0.5307039 with P-value 7.670654e-06 \n",
      "Spearman rho correlation with age on FEMALE dataset: 0.05816843 with P-value 0.6616681 \n"
     ]
    }
   ],
   "source": [
    "correlation <- cor.test(averages$Age, averages$Sig1Med, method=\"spearman\", alternative=\"greater\", exact=FALSE)\n",
    "cat(\"Spearman correlation with age on complete dataset:\", correlation$estimate, \"with P-value\", correlation$p.value, \"\\n\\n\")\n",
    "for (i in seq(1:2)) {\n",
    "    tempdata <- subset(averages.gender, Gender==genders[i])\n",
    "    correlation <- cor.test(tempdata$Age, tempdata$Sig1Med, method=\"spearman\", alternative=\"two.sided\", exact=FALSE)\n",
    "    cat(\"Spearman rho correlation with age on\", genders[i], \"dataset:\", correlation$estimate, \"with P-value\", correlation$p.value, \"\\n\")\n",
    "    }"
   ]
  },
  {
   "cell_type": "code",
   "execution_count": 145,
   "metadata": {},
   "outputs": [
    {
     "name": "stdout",
     "output_type": "stream",
     "text": [
      "1.294021 \n",
      "P-value for Male vs Female: 0.02434282 \n"
     ]
    }
   ],
   "source": [
    "# Wilcoxon rank sum test\n",
    "newdata.male <- subset(averages.gender, Gender=='MALE')\n",
    "newdata.female <- subset(averages.gender, Gender=='FEMALE')\n",
    "cat(median(newdata.male$Sig1Med/newdata.male$Age)/median(newdata.female$Sig1Med/newdata.female$Age),\"\\n\")\n",
    "pwres <- wilcox.test(newdata.male$Sig1Med/newdata.male$Age, newdata.female$Sig1Med/newdata.female$Age, exact=FALSE, pairwise=FALSE)\n",
    "cat(\"P-value for Male vs Female:\", pwres$p.value, '\\n')"
   ]
  },
  {
   "cell_type": "code",
   "execution_count": 165,
   "metadata": {},
   "outputs": [
    {
     "name": "stdout",
     "output_type": "stream",
     "text": [
      "P-value for Male vs Female in BRAF : 0.05444241 \n",
      "P-value for Male vs Female in NRAS : 0.6894203 \n",
      "P-value for Male vs Female in NF1 : 0.4427601 \n",
      "P-value for Male vs Female in W3 : 0.6144461 \n"
     ]
    }
   ],
   "source": [
    "# Wilcoxon rank sum test by cohorts\n",
    "for (i in seq(4)) {\n",
    "    newdata.male <- subset(data, Gender=='MALE' & Cohort==cohorts[i])\n",
    "    newdata.female <- subset(data, Gender=='FEMALE' & Cohort==cohorts[i])\n",
    "    pwres <- wilcox.test(newdata.male$Sig1Total/newdata.male$Age, newdata.female$Sig1Total/newdata.female$Age, exact=FALSE, pairwise=FALSE)\n",
    "    cat(\"P-value for Male vs Female in\", cohorts[i], \":\", pwres$p.value, \"\\n\")\n",
    "    }"
   ]
  },
  {
   "cell_type": "code",
   "execution_count": null,
   "metadata": {},
   "outputs": [],
   "source": [
    "d"
   ]
  },
  {
   "cell_type": "code",
   "execution_count": 142,
   "metadata": {},
   "outputs": [
    {
     "data": {
      "image/png": "[encoded data removed]",
      "text/plain": [
       "plot without title"
      ]
     },
     "metadata": {},
     "output_type": "display_data"
    }
   ],
   "source": [
    "plot1 <- ggplot(averages, aes(Age, Sig1Med)) +  geom_point() +\n",
    "    geom_smooth(method = \"glm\", aes(Age, as.integer(Sig1Med)), formula = y ~ x, data=averages, se=FALSE, method.args = (family=\"poisson\")) +\n",
    "    xlab(\"Age\") + ylab(\"Signature 1\") + theme_minimal() + coord_cartesian(ylim = c(0,200))# + theme(legend.position=\"none\")\n",
    "plot2 <- ggplot(averages.gender, aes(Age, Sig1Med, color=Gender)) +  \n",
    "    geom_smooth(method = \"glm\", aes(Age, as.integer(Sig1Med)), formula = y ~ x, data=averages.gender, se=FALSE, method.args = (family=\"poisson\")) + \n",
    "    geom_point() + xlab(\"Age\") + ylab(\"\") + theme_minimal() + theme(legend.position=\"top\") + coord_cartesian(ylim = c(0,200))\n",
    "p <- arrangeGrob(plot1, plot2, ncol=2)\n",
    "grid.arrange(plot1, plot2, ncol=2)"
   ]
  },
  {
   "cell_type": "code",
   "execution_count": 143,
   "metadata": {},
   "outputs": [],
   "source": [
    "ggsave(\"./figures/Figure4CD.pdf\", plot=p, scale=1, width=8, height=4)"
   ]
  },
  {
   "cell_type": "markdown",
   "metadata": {},
   "source": [
    "Estimate the $\\alpha$ parameter for male and female."
   ]
  },
  {
   "cell_type": "code",
   "execution_count": 156,
   "metadata": {},
   "outputs": [
    {
     "name": "stdout",
     "output_type": "stream",
     "text": [
      "0.01774896 56.34132 \n",
      "0.0005444855 1836.596 \n"
     ]
    }
   ],
   "source": [
    "res.male <- glm.nb(as.integer(Sig1Med) ~ Age, data=averages.male)\n",
    "alpha.male <- coef(res.male)[\"Age\"]\n",
    "cat(alpha.male, 1/alpha.male, \"\\n\")\n",
    "res.female <- glm.nb(as.integer(Sig1Med) ~ Age, data=averages.female)\n",
    "alpha.female <- coef(res.female)[\"Age\"]\n",
    "cat(alpha.female, 1/alpha.female, \"\\n\")"
   ]
  },
  {
   "cell_type": "code",
   "execution_count": 157,
   "metadata": {},
   "outputs": [],
   "source": [
    "expfun.male <- function(x) {\n",
    "    return(unname(exp(coef(res.male)[\"(Intercept)\"]))*exp(unname(coef(res.male)[\"Age\"])*x)/x)\n",
    "    }\n",
    "expfun.female <- function(x) {\n",
    "    return(exp(unname(coef(res.female)[\"(Intercept)\"]))*exp(unname(coef(res.female)[\"Age\"])*x)/x)\n",
    "    }"
   ]
  },
  {
   "cell_type": "code",
   "execution_count": 158,
   "metadata": {},
   "outputs": [],
   "source": [
    "line.male <- data.frame(x = seq(20,90, by=0.1), y=sapply(seq(20,90, by=0.1), expfun.male))\n",
    "line.female <- data.frame(x = seq(30,90, by=0.1), y=sapply(seq(30,90, by=0.1), expfun.female))"
   ]
  },
  {
   "cell_type": "code",
   "execution_count": 178,
   "metadata": {},
   "outputs": [
    {
     "data": {
      "image/png": "[encoded data removed]",
      "text/plain": [
       "plot without title"
      ]
     },
     "metadata": {},
     "output_type": "display_data"
    }
   ],
   "source": [
    "plot1 <- ggplot(averages.male, aes(Age, Sig1Med)) +  \n",
    "    geom_smooth(method = \"glm\", aes(Age, as.integer(Sig1Med)), formula = y ~ x, data=averages.male, se=FALSE, method.args = (family=\"poisson\")) + \n",
    "    geom_point() + xlab(\"Age\") + ylab(\"Signature 1\") + ggtitle('Male')+theme_minimal() + theme(legend.position=\"top\") + coord_cartesian(ylim = c(0,200))\n",
    "plot2 <- ggplot(averages.male, aes(Age, Sig1Mean/Age)) + geom_point() +\n",
    "    xlab(\"Age\") + ylab(\"\") + theme_minimal() + theme(legend.position=\"none\") + coord_cartesian(ylim = c(0,3))+ geom_line(data=line.male, aes(x, y), color=\"blue\", size=1)\n",
    "grid.arrange(plot1, plot2, ncol=2, nrow=1)\n",
    "p <- arrangeGrob(plot1, plot2, ncol=2, nrow=1)"
   ]
  },
  {
   "cell_type": "code",
   "execution_count": 179,
   "metadata": {},
   "outputs": [],
   "source": [
    "ggsave(\"./figures/Figure4CD.pdf\", plot=p, scale=1, width=8, height=4)"
   ]
  },
  {
   "cell_type": "markdown",
   "metadata": {},
   "source": [
    "#### Repeat the same thing in the presence of MC1R R alleles"
   ]
  },
  {
   "cell_type": "markdown",
   "metadata": {},
   "source": [
    "#### Incorporate covariates\n",
    "First, we use the model above with various covariates to determine which ones are significant. It turns out that all are."
   ]
  },
  {
   "cell_type": "code",
   "execution_count": 173,
   "metadata": {},
   "outputs": [
    {
     "data": {
      "text/plain": [
       "\n",
       "Call:\n",
       "glm.nb(formula = as.integer(Sig1Total) ~ Age + Cohort, data = subset(data, \n",
       "    Gender == \"MALE\"), init.theta = 1.59267649, link = log)\n",
       "\n",
       "Deviance Residuals: \n",
       "    Min       1Q   Median       3Q      Max  \n",
       "-2.5658  -0.8926  -0.3384   0.3044   3.2046  \n",
       "\n",
       "Coefficients:\n",
       "             Estimate Std. Error z value Pr(>|z|)    \n",
       "(Intercept)  2.665344   0.204125  13.057  < 2e-16 ***\n",
       "Age          0.017692   0.003584   4.936 7.99e-07 ***\n",
       "CohortNF1    0.430009   0.181425   2.370   0.0178 *  \n",
       "CohortNRAS   0.187957   0.132149   1.422   0.1549    \n",
       "CohortW3    -0.317865   0.143246  -2.219   0.0265 *  \n",
       "---\n",
       "Signif. codes:  0 '***' 0.001 '**' 0.01 '*' 0.05 '.' 0.1 ' ' 1\n",
       "\n",
       "(Dispersion parameter for Negative Binomial(1.5927) family taken to be 1)\n",
       "\n",
       "    Null deviance: 320.54  on 245  degrees of freedom\n",
       "Residual deviance: 268.41  on 241  degrees of freedom\n",
       "AIC: 2319.1\n",
       "\n",
       "Number of Fisher Scoring iterations: 1\n",
       "\n",
       "\n",
       "              Theta:  1.593 \n",
       "          Std. Err.:  0.140 \n",
       "\n",
       " 2 x log-likelihood:  -2307.077 "
      ]
     },
     "metadata": {},
     "output_type": "display_data"
    }
   ],
   "source": [
    "res.simple <- glm.nb(as.integer(Sig1Total) ~ Age + Cohort, data=subset(data, Gender=='MALE'))\n",
    "summary(res.simple)"
   ]
  },
  {
   "cell_type": "code",
   "execution_count": 162,
   "metadata": {},
   "outputs": [
    {
     "ename": "ERROR",
     "evalue": "Error in `contrasts<-`(`*tmp*`, value = contr.funs[1 + isOF[nn]]): contrasts can be applied only to factors with 2 or more levels\n",
     "output_type": "error",
     "traceback": [
      "Error in `contrasts<-`(`*tmp*`, value = contr.funs[1 + isOF[nn]]): contrasts can be applied only to factors with 2 or more levels\nTraceback:\n",
      "1. glm.nb(as.integer(Sig1Total) ~ Age + Cohort + Gender, data = subset(data, \n .     Gender == \"MALE\"))",
      "2. model.matrix(Terms, mf, contrasts)",
      "3. model.matrix.default(Terms, mf, contrasts)",
      "4. `contrasts<-`(`*tmp*`, value = contr.funs[1 + isOF[nn]])",
      "5. stop(\"contrasts can be applied only to factors with 2 or more levels\")"
     ]
    }
   ],
   "source": [
    "res.male <- glm.nb(as.integer(Sig1Total) ~ Age + Cohort + Gender, data=subset(data, Gender==\"MALE\"))\n",
    "res.female <- glm.nb(as.integer(Sig1Total) ~ Age + Cohort + Gender, data=subset(data, Gender==\"FEMALE\"))"
   ]
  },
  {
   "cell_type": "markdown",
   "metadata": {},
   "source": [
    "Study whether MC1R status is relevant. "
   ]
  },
  {
   "cell_type": "code",
   "execution_count": null,
   "metadata": {},
   "outputs": [],
   "source": [
    "res.simple <- glm(as.integer(Sig1Total) ~ Age + Gender + Cohort + Rallele, data=mydata, family=\"poisson\")\n",
    "factor.allele <- exp(coef(res.simple)[\"Rallele1-2 R alleles\"])\n",
    "cat(\"The precense of 1-2 MC1R alleles contributes to a multiplicative increase factor of\", factor.allele, \"across all subtypes.\")"
   ]
  },
  {
   "cell_type": "code",
   "execution_count": null,
   "metadata": {},
   "outputs": [],
   "source": [
    "res.simple <- glm(as.integer(Sig1Total) ~ Age + Gender + Cohort + Rallele + Sig7Total, data=mydata, family=\"poisson\")\n",
    "factor.allele <- exp(coef(res.simple)[\"Rallele1-2 MC1R alleles\"])\n",
    "cat(\"The precense of 1-2 MC1R alleles contributes to a multiplicative increase factor of\", factor.allele, \"across BRAF subtypes.\\n\")"
   ]
  },
  {
   "cell_type": "code",
   "execution_count": null,
   "metadata": {},
   "outputs": [],
   "source": [
    "res.exp.male <- glm(as.integer(Sig1Total) ~ Age + Sig7Total + Cohort + Site, data = subset(data, Gender==\"MALE\"), family=\"poisson\")\n",
    "res.exp.female <- glm(as.integer(Sig1Total) ~ Age + Sig7Total + Cohort + Site, data = subset(data, Gender==\"FEMALE\"), family=\"poisson\")\n",
    "N0.male <- exp(coef(res.exp.male)[\"(Intercept)\"])\n",
    "alpha.male <- coef(res.exp.male)[\"Age\"]\n",
    "N0.female <- exp(coef(res.exp.female)[\"(Intercept)\"])\n",
    "alpha.female <- coef(res.exp.female)[\"Age\"]\n",
    "Sig7.male <- coef(res.exp.male)[\"Sig7Total\"]\n",
    "Sig7.female <- coef(res.exp.female)[\"Sig7Total\"]\n",
    "cat(N0.male, \"\\n\")\n",
    "cat(alpha.male, \"\\n\")\n",
    "cat(N0.female, \"\\n\")\n",
    "cat(alpha.female, \"\\n\")\n",
    "cat(Sig7.male, \"\\n\")\n",
    "cat(Sig7.female, \"\\n\")"
   ]
  },
  {
   "cell_type": "code",
   "execution_count": null,
   "metadata": {},
   "outputs": [],
   "source": []
  }
 ],
 "metadata": {
  "anaconda-cloud": {},
  "kernelspec": {
   "display_name": "R",
   "language": "R",
   "name": "ir"
  },
  "language_info": {
   "codemirror_mode": "r",
   "file_extension": ".r",
   "mimetype": "text/x-r-source",
   "name": "R",
   "pygments_lexer": "r",
   "version": "3.5.1"
  }
 },
 "nbformat": 4,
 "nbformat_minor": 1
}
