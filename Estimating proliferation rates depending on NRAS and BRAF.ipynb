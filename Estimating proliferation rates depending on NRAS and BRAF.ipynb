{
 "cells": [
  {
   "cell_type": "markdown",
   "metadata": {},
   "source": [
    "<img style=\"float: left; width: 260px;\" src=\"images/shutterstock_318255209.jpg\">\n",
    "***\n",
    "## <font color=\"grey\"> $\\quad$ Inferring differences between NRAS and BRAF melanoma</font>\n",
    "***\n",
    "$\\newcommand{\\vct}[1]{\\mathbf{#1}}$\n",
    "$\\newcommand{\\mtx}[1]{\\mathbf{#1}}$\n",
    "$\\newcommand{\\e}{\\varepsilon}$\n",
    "$\\newcommand{\\norm}[1]{\\|#1\\|}$\n",
    "$\\newcommand{\\minimize}{\\mathrm{minimize}\\quad}$\n",
    "$\\newcommand{\\maximize}{\\mathrm{maximize}\\quad}$\n",
    "$\\newcommand{\\subjto}{\\quad\\text{subject to}\\quad}$\n",
    "$\\newcommand{\\R}{\\mathbb{R}}$\n",
    "$\\newcommand{\\trans}{T}$\n",
    "$\\newcommand{\\ip}[2]{\\langle {#1}, {#2} \\rangle}$\n",
    "$\\newcommand{\\zerovct}{\\vct{0}}$\n",
    "$\\newcommand{\\diff}[1]{\\mathrm{d}{#1}}$\n",
    "$\\newcommand{\\conv}{\\operatorname{conv}}$\n",
    "$\\newcommand{\\inter}{{\\operatorname{int}}}$"
   ]
  },
  {
   "cell_type": "markdown",
   "metadata": {},
   "source": [
    "---\n",
    "## <font color=\"grey\">  1. Summary</font>\n",
    "---"
   ]
  },
  {
   "cell_type": "markdown",
   "metadata": {},
   "source": [
    "In this first section I try to summarise the observations, the next section after that contains the code in more detail."
   ]
  },
  {
   "cell_type": "markdown",
   "metadata": {},
   "source": [
    "### <font color=\"grey\">  1.1. Data</font>"
   ]
  },
  {
   "cell_type": "markdown",
   "metadata": {},
   "source": [
    "We use data from the [The Cancer Genome Atlas (TCGA) skin cutaneous melanoma (SKCM)](https://gdc-portal.nci.nih.gov/projects/TCGA-SKCM) database. The prepared data is from the supplementary material to [Robles-Espinoza et al](http://www.nature.com/articles/ncomms12064), which includes, for each sample, additional information on the MC1R phenotype (whether an individual has two, one or no 'R' alleles). We enriched the data with the exposure (number of mutations attributed to) mutation signatures 1, 5, and 7. The mutational signatures are taken from the [COSMIC Database](http://cancer.sanger.ac.uk/cosmic). In addition, where possible, we added information on whether the sample had mutations in the BRAF or NRAS genes, which according to Amaya are mutually exclusive. Overall, the resulting dataset consists of $196$ samples."
   ]
  },
  {
   "cell_type": "markdown",
   "metadata": {},
   "source": [
    "### <font color=\"grey\">  1.2. Results</font>"
   ]
  },
  {
   "cell_type": "markdown",
   "metadata": {},
   "source": [
    "Based on the analysis of accummulation rates, we estimate the that cells with NRAS mutation divide at a rate of approximately between $1.2$ and $1.3$ faster than cells with BRAF mutations. This remains approximately true when restricting the data to samples to different MC1R status but not gender. Here, by *mutation* we mean one unit of Signature 1 and 5 exposure. Alternative we can also count subsitutions which are not TCC>TTC (which is the dominant form in Signature 7)."
   ]
  },
  {
   "cell_type": "markdown",
   "metadata": {},
   "source": [
    "Denote by $d_{\\mathrm{NRAS}}$ and $d_{\\mathrm{BRAF}}$ the expected number of cell divisions per year among the cells with NRAS and with BRAF mutations, respectively. While we can estimate the ratio of these from the data, in order to get estimates of each one we need an estimate of the mutation rate per cell division. This can be calculated by looking at the whole dataset and using the estimate of $2.48$ division per year reported by Tomasetti and Vogelstein. Model 1 is a simple Poisson model in which the intensity $\\lambda t$ changes linearly with time.\n",
    "\n",
    "**Model 1** (*All ages*)"
   ]
  },
  {
   "cell_type": "code",
   "execution_count": 148,
   "metadata": {
    "collapsed": false
   },
   "outputs": [
    {
     "data": {
      "text/html": [
       "<table>\n",
       "<thead><tr><th></th><th scope=col>Ratio</th><th scope=col>Mutation.rate</th><th scope=col>Division.rate.NRAS</th><th scope=col>Division.rate.BRAF</th></tr></thead>\n",
       "<tbody>\n",
       "\t<tr><th scope=row>All</th><td>1.22</td><td>0.60</td><td>2.77</td><td>2.27</td></tr>\n",
       "\t<tr><th scope=row>1-2 R</th><td>1.28</td><td>0.74</td><td>2.88</td><td>2.26</td></tr>\n",
       "\t<tr><th scope=row>0 R</th><td>1.32</td><td>0.48</td><td>2.84</td><td>2.16</td></tr>\n",
       "\t<tr><th scope=row>Male</th><td>1.32</td><td>0.67</td><td>2.88</td><td>2.19</td></tr>\n",
       "\t<tr><th scope=row>Female</th><td>1.04</td><td>0.50</td><td>2.53</td><td>2.44</td></tr>\n",
       "</tbody>\n",
       "</table>\n"
      ],
      "text/latex": [
       "\\begin{tabular}{r|llll}\n",
       "  & Ratio & Mutation.rate & Division.rate.NRAS & Division.rate.BRAF\\\\\n",
       "\\hline\n",
       "\tAll & 1.22 & 0.60 & 2.77 & 2.27\\\\\n",
       "\t1-2 R & 1.28 & 0.74 & 2.88 & 2.26\\\\\n",
       "\t0 R & 1.32 & 0.48 & 2.84 & 2.16\\\\\n",
       "\tMale & 1.32 & 0.67 & 2.88 & 2.19\\\\\n",
       "\tFemale & 1.04 & 0.50 & 2.53 & 2.44\\\\\n",
       "\\end{tabular}\n"
      ],
      "text/plain": [
       "       Ratio Mutation.rate Division.rate.NRAS Division.rate.BRAF\n",
       "All     1.22          0.60               2.77               2.27\n",
       "1-2 R   1.28          0.74               2.88               2.26\n",
       "0 R     1.32          0.48               2.84               2.16\n",
       "Male    1.32          0.67               2.88               2.19\n",
       "Female  1.04          0.50               2.53               2.44"
      ]
     },
     "metadata": {},
     "output_type": "display_data"
    }
   ],
   "source": [
    "alldata <- read.csv(\"divrates_all.csv\", header=TRUE, row.names=1)\n",
    "round(alldata, 2)"
   ]
  },
  {
   "cell_type": "markdown",
   "metadata": {},
   "source": [
    "**Model 1** (*ages 30-70*)"
   ]
  },
  {
   "cell_type": "code",
   "execution_count": 149,
   "metadata": {
    "collapsed": false
   },
   "outputs": [
    {
     "data": {
      "text/html": [
       "<table>\n",
       "<thead><tr><th></th><th scope=col>Ratio</th><th scope=col>Mutation.rate</th><th scope=col>Division.rate.NRAS</th><th scope=col>Division.rate.BRAF</th></tr></thead>\n",
       "<tbody>\n",
       "\t<tr><th scope=row>All</th><td>1.18</td><td>0.64</td><td>2.74</td><td>2.33</td></tr>\n",
       "\t<tr><th scope=row>1-2 R</th><td>1.23</td><td>0.81</td><td>2.84</td><td>2.30</td></tr>\n",
       "\t<tr><th scope=row>0 R</th><td>1.19</td><td>0.46</td><td>2.75</td><td>2.30</td></tr>\n",
       "\t<tr><th scope=row>Male</th><td>1.24</td><td>0.67</td><td>2.82</td><td>2.28</td></tr>\n",
       "\t<tr><th scope=row>Female</th><td>1.01</td><td>0.58</td><td>2.50</td><td>2.47</td></tr>\n",
       "</tbody>\n",
       "</table>\n"
      ],
      "text/latex": [
       "\\begin{tabular}{r|llll}\n",
       "  & Ratio & Mutation.rate & Division.rate.NRAS & Division.rate.BRAF\\\\\n",
       "\\hline\n",
       "\tAll & 1.18 & 0.64 & 2.74 & 2.33\\\\\n",
       "\t1-2 R & 1.23 & 0.81 & 2.84 & 2.30\\\\\n",
       "\t0 R & 1.19 & 0.46 & 2.75 & 2.30\\\\\n",
       "\tMale & 1.24 & 0.67 & 2.82 & 2.28\\\\\n",
       "\tFemale & 1.01 & 0.58 & 2.50 & 2.47\\\\\n",
       "\\end{tabular}\n"
      ],
      "text/plain": [
       "       Ratio Mutation.rate Division.rate.NRAS Division.rate.BRAF\n",
       "All     1.18          0.64               2.74               2.33\n",
       "1-2 R   1.23          0.81               2.84               2.30\n",
       "0 R     1.19          0.46               2.75               2.30\n",
       "Male    1.24          0.67               2.82               2.28\n",
       "Female  1.01          0.58               2.50               2.47"
      ]
     },
     "metadata": {},
     "output_type": "display_data"
    }
   ],
   "source": [
    "agedata <- read.csv(\"divrates_age.csv\", header=TRUE, row.names=1)\n",
    "round(agedata, 2)"
   ]
  },
  {
   "cell_type": "markdown",
   "metadata": {},
   "source": [
    "What we see from these tables is that:\n",
    "1. The mutation rate per cell division is significantly higher ($1.6$ overall, $1.85$ for the age range 30-70) for samples with one or two R MC1R alleles, which confirms what is already known;\n",
    "2. The estimated ratio between NRAS and BRAF profileration is about the same (around 1.3 for all ages and 1.2 when restricting the estimation to the range 30-70), except for women, where it is about the same.\n",
    "\n",
    "It should be stressed again that the sample size is rather small (for example, the age restricted female cohort consists of 44 samples), and that the estimates of mutation rate rely on the average stem cell division rate reported by Tomasetti and Vogelstein."
   ]
  },
  {
   "cell_type": "markdown",
   "metadata": {},
   "source": [
    "** Model 2** (*All ages*)"
   ]
  },
  {
   "cell_type": "markdown",
   "metadata": {
    "collapsed": true
   },
   "source": [
    "The second model assume, following [Podolskiy et al](http://www.nature.com/articles/ncomms12157), that within a middle age range, the mutatiotions at each age $t$ follow a Poisson distribution with peak $N_0e^{\\alpha t}$. As the estimated $\\alpha$ is very small and the model does not seem to give too much additional qualitative information, it is skipped here. We could revisit it with more data available, to look at small age intervals."
   ]
  },
  {
   "cell_type": "markdown",
   "metadata": {},
   "source": [
    "**Comparing the number of hits**"
   ]
  },
  {
   "cell_type": "markdown",
   "metadata": {},
   "source": [
    "It remains to look at the analysis of [Wu et al](http://www.nature.com/nature/journal/v529/n7584/full/nature16166.html). As I don't have any reasonable estimates about the proportion of total tissue susceptible to NRAS or BRAF mutations (is there experimental work on this?), I can't make any sensible calculations of theoretical lifetime intrinsic risk (tLIR), as done by Wu et al. One can, however, use their model to estimate how the number of required hits $k$ depends on the cell division rate. "
   ]
  },
  {
   "cell_type": "markdown",
   "metadata": {},
   "source": [
    "Assume that $k$ hits (driver mutations) are needed for the onset of cancer, and that each of these occurs with a probability of $p$ during cell division. The number of cell generations $X$ until we reach $k$ driver mutations follows a [negative binomial distrubtion](https://en.wikipedia.org/wiki/Negative_binomial_distribution),\n",
    "\n",
    "\\begin{equation*}\n",
    "  \\mathbf{P}\\{ X=n \\} = \\binom{n-1}{k-1}p^k(1-p)^{n-k},\n",
    "\\end{equation*}\n",
    "\n",
    "and the expected value of this distribution (= expected number of generations until $k$ hits) is known to be\n",
    "\n",
    "\\begin{equation*}\n",
    "  \\mathbf{E}[X] = \\frac{(1-p)k}{p^2}.\n",
    "\\end{equation*}\n",
    "\n",
    "The total number of cell division at age $t$ is $d\\cdot t$, where $d$ is the division rate per year.\n",
    "The average age of the NRAS samples is $58$, while that of the BRAF samples is $50$. We therefore get for the ratio of the expected number of hits:\n",
    "\n",
    "\\begin{equation*}\n",
    "  \\frac{k_{\\mathrm{NRAS}}}{k_{\\mathrm{BRAF}}} = \\frac{58 d_{\\mathrm{NRAS}}}{50 d_{\\mathrm{BRAF}}} =  1.41\n",
    "\\end{equation*}\n",
    "\n",
    "This confirms that NRAS requires more hits than BRAF (but note again that this is a ``back of the envelope'' computation that is based on simplifications)."
   ]
  },
  {
   "cell_type": "markdown",
   "metadata": {},
   "source": [
    "### <font color=\"grey\">  1.3. Non-results</font>"
   ]
  },
  {
   "cell_type": "markdown",
   "metadata": {},
   "source": [
    "The difference between the cell proliferation rates estimated does not appear to be enough to significantly change the position on the graph relating cumulative number of cell divisions to lifetime risk from [Tomasetti and Vogelstein](http://science.sciencemag.org/content/347/6217/78). It is unclear whether a more precise analysis will make a difference here, as the calculations by Tomasetti and Vogelstein are extremely unprecise and based on very rough estimates."
   ]
  },
  {
   "cell_type": "markdown",
   "metadata": {},
   "source": [
    "To be precise, Tomasetti and Vogelstein calculate the number of total stem cell divisions in the lifetime of a tissue (lscd) as\n",
    "\n",
    "\\begin{equation*}\n",
    "  \\mathrm{lscd} = s\\cdot (2+80d)-2,\n",
    "\\end{equation*}\n",
    "\n",
    "where $s$ is the total number of cells in the tissue and $d$ is the number of cell divisions per year (so that $80\\cdot d$ is the number of cell divisions in an $80$ year lifetime). The plot the lifetime risk of each cancer type $r$ agains its $\\mathrm{lscd}$. To determine which types have a significant intrinsic or extrinsic contribution, they compute the (adjusted) Extra Risk Score (aERS), as\n",
    "\n",
    "\\begin{equation*}\n",
    "  \\mathrm{aERS} = 18.49 + \\log_{10}(r) \\log_{10}(\\mathrm{lscd}) \\quad \\quad [1]\n",
    "\\end{equation*}\n",
    "\n",
    "In the case of melanoma, they get a value of $-1.62$, which relativises environmental contributions. Which parameters in [1] would have to change in which way in order to get a positive value? Assuming that 50% of melanomas have BRAF mutations and 20% NRAS, the corresponding lifetime risk would be $0.5r$ and $0.2r$, making the $\\log_{10}(r)$ term even smaller. In the other logarithm, replacing $d$ with the NRAS and BRAS specific values obtained above is not enough to compensate for this. However, what also changes with the cell division rate is the total number of cells $s$ of candidate cells for NRAS or BRAF. In order to make [1] positive, these would have to be rather extreme.\n",
    "\n",
    "The following plot shows what the proportion of the total melanocyte population attributed to candidate cells for BRAF mutations would have to be as a function of cell division rate in order to get an aERS of $0$. The area under the curve corresponds to the combinations of division rate and tissue size that, according to the Tomasetti-Vogelstein formula, would place that type of melanoma on the side of cancers with significant extrinsic contribution."
   ]
  },
  {
   "cell_type": "code",
   "execution_count": 150,
   "metadata": {
    "collapsed": false
   },
   "outputs": [
    {
     "data": {},
     "metadata": {},
     "output_type": "display_data"
    },
    {
     "data": {
      "image/png": "[encoded data removed]",
      "text/plain": [
       "plot without title"
      ]
     },
     "metadata": {},
     "output_type": "display_data"
    }
   ],
   "source": [
    "tissue.size <- function(x) {\n",
    "    return((10^(-18.49/log10(0.5*0.0203))/3.8e9)/(2+80*x))\n",
    "}\n",
    "ggplot(data.frame(x = c(0.01,3)), aes(x)) + stat_function(fun = tissue.size, geom = \"line\", color=\"blue\") + \n",
    "  xlab(\"Divisions per year\") + ylab(\"Proportion of tissue\")"
   ]
  },
  {
   "cell_type": "markdown",
   "metadata": {},
   "source": [
    "Example: $r_{\\mathrm{BRAF}} = 0.5 r$, $d_{\\mathrm{BRAF}} = 1$ (one cell division per year), $s_{\\mathrm{BRAF}} = 0.01s$ (only one in 100 melanocytes are susceptible to BRAF mutations). Then\n",
    "\n",
    "\\begin{equation*}\n",
    "  \\mathrm{aERS} = 18.49 + \\log_{10}(0.5 r) \\log_{10}(0.01s(82)-2) = -0.44,\n",
    "\\end{equation*}\n",
    "\n",
    "which would still place these on the \"back luck\" side of the classification. "
   ]
  },
  {
   "cell_type": "markdown",
   "metadata": {},
   "source": [
    "We can also figure out the potential position of BRAF and NRAS on the Tomasetti-Vogelstein graph as a function of total tissue size.\n",
    "\n",
    "![title](tv.png)"
   ]
  },
  {
   "cell_type": "markdown",
   "metadata": {},
   "source": [
    "The gree line give the range of positions for BRAF as the tissue size varies from $0.001s$ to $s$, where $s$ is the total tissue size of melanocytes estimated by Tomasetti and Vogelstein. The red line does the same with NRAS."
   ]
  },
  {
   "cell_type": "markdown",
   "metadata": {},
   "source": [
    "### <font color=\"grey\">  1.4. Methods</font>"
   ]
  },
  {
   "cell_type": "markdown",
   "metadata": {},
   "source": [
    "**Model 1**"
   ]
  },
  {
   "cell_type": "markdown",
   "metadata": {},
   "source": [
    "The analysis is based on two simplified models. For the first model we make the following assumptions:\n",
    "\n",
    "1. Cells divide at a fixed expected rate $r$ divisions per year;\n",
    "2. Mutations occur at a rate of $u$ mutations per gigabase pair per cell division.\n",
    "\n",
    "Let $N=N(t)$ be the total number of mutations accumulated at time $t$. This is what we are observing. Under the above assumptions, the *ratio* $N/t$ follows a Poisson distribution with fixed parameter $\\lambda$,\n",
    "\n",
    "\\begin{equation*}\n",
    "  \\mtx{P}\\{N/t = n\\} = \\frac{\\lambda^n e^{-\\lambda}}{n!}.\n",
    "\\end{equation*}\n",
    "\n",
    "The estimate of $\\lambda$ is gained from a Poisson regression. \n",
    "\n",
    "![title](poisson.png)\n",
    "\n",
    "The interpretation is that the expected number of mutations at time (age) $t$ is $\\lambda t$. The plot below shows the expected number of mutations at each age $t$, calculated from the data in the age range between $30$ and $70$. Note that this is **not** a linear regression, which would show a flat line for BRAF but would not be theoretically justified. \n",
    "\n",
    "![title](simple.png)"
   ]
  },
  {
   "cell_type": "markdown",
   "metadata": {
    "collapsed": true
   },
   "source": [
    "** Model 2**"
   ]
  },
  {
   "cell_type": "markdown",
   "metadata": {},
   "source": [
    "For the accumulation of mutations at time $t$, [Podolskiy et al](http://www.nature.com/articles/ncomms12157) postulate the following model, assumed to be valid for a certain age range (say, $[30,70]$). At each age $t$, the number of muations $N(t)$ is approximately distributed according to a Poisson distribution with rate $\\lambda(t)$,\n",
    "\n",
    "\\begin{equation*}\n",
    "  \\mtx{P}\\{N(t) = n\\} = \\frac{\\lambda(t)^n e^{-\\lambda(t)}}{n!},\n",
    "\\end{equation*}\n",
    "\n",
    "where the expected value $\\lambda(t)$ depends on age as\n",
    "\n",
    "\\begin{equation*}\n",
    "  \\lambda(t) = N_0 e^{\\alpha t}.\n",
    "\\end{equation*}\n",
    "\n",
    "The value of $N_0$ and of $\\alpha$ may depend on other factors, such as gender, the presence of BRAF or NRAS mutations or the presence of R alleles in the MC1R gene. The estimate of $N_0$ and $\\alpha$ follows from a Poisson regression with age as covariate. Alternatively, as in [Podolskiy et al](http://www.nature.com/articles/ncomms12157), one can subdivide the data into age intervals and estimate the parameter for each of these intervals. "
   ]
  },
  {
   "cell_type": "markdown",
   "metadata": {},
   "source": [
    "### <font color=\"grey\">  1.5. Issues</font>"
   ]
  },
  {
   "cell_type": "markdown",
   "metadata": {},
   "source": [
    "Some things to consider:\n",
    "1. The mutation load seems to vary with age. In particular, the increase is slightly exponential in mid-age, and slows down at higher ages. Is this due to changes in mutation frequency or in cell division rate?\n",
    "2. Certain mutations can increase the mutation frequency, while others may lead to an increase in proliferation. \n",
    "3. Perform goodness-of-fit tests, test for over- or under dispersion and use negative binomial models instead, etc. Include confidence intervals and P values in everything.\n",
    "4. Get larger datasets / datasets for validation.\n",
    "5. Get more precise information on some of the parameters involved.\n",
    "6. Include more parameters / covariates in the analysis."
   ]
  },
  {
   "cell_type": "markdown",
   "metadata": {},
   "source": [
    "These would require reading one or two piles of papers before proceeding.\n",
    "* Look at more refined models for the accumulation of mutations. Examples include [Bozic et al](http://journals.plos.org/ploscompbiol/article?id=10.1371/journal.pcbi.1004731), [Bozic et al](http://www.pnas.org/content/107/43/18545.abstract), [Keller and Antal](http://iopscience.iop.org/article/10.1088/1742-5468/2015/01/P01011/meta), [Paterson, Nowak and Waclaw](http://www.nature.com/articles/srep39511as), as well as related work from the group of [Martin Nowak](http://ped.fas.harvard.edu/).\n",
    "* Look at material on the proliferation of cells in order to deduce some conclusions from the estimated cell division rates. Possible sources to look at include in [Cichorek et al](https://www.ncbi.nlm.nih.gov/pmc/articles/PMC3834696/), [Whiteman et al](https://www.ncbi.nlm.nih.gov/pmc/articles/PMC3395885/), [Zabierowski et al](https://www.ncbi.nlm.nih.gov/pubmed/21410654), [Hoek and Goding](https://www.ncbi.nlm.nih.gov/pubmed/20726948), and [Schatton and Frank](https://www.ncbi.nlm.nih.gov/pmc/articles/PMC2885609/). \n",
    "* Double wild types"
   ]
  },
  {
   "cell_type": "markdown",
   "metadata": {},
   "source": [
    "---\n",
    "## <font color=\"grey\">  2. Details</font>\n",
    "---"
   ]
  },
  {
   "cell_type": "markdown",
   "metadata": {},
   "source": [
    "### <font color=\"grey\">  2.1. Data used </font>"
   ]
  },
  {
   "cell_type": "markdown",
   "metadata": {},
   "source": [
    "We use data from the [TCGA SKCM](https://gdc-portal.nci.nih.gov/projects/TCGA-SKCM) database. The specific prepared files are from the supplementary material to [Robles-Espinoza et al](http://www.nature.com/articles/ncomms12064) and from a file provided by Amaya and Simon. The data is loaded an prepared using an external script, which prepares a data frame including most of the information from the [Robles-Espinoza et al](http://www.nature.com/articles/ncomms12064), enhanced with the SNV calls and BRAF/NRAF classification provided by Amaya and Simon. Eventually one might want to try out more datasets."
   ]
  },
  {
   "cell_type": "markdown",
   "metadata": {},
   "source": [
    "The variables **age_at_diagnosis**, **breslow**, **sig1**, **sig5**, **sig7**, **totalNonUV**, **totalSNV** are quantitative, the variables **gender** (2), **clark_level** (5), **ulceration** (2), **tissue_source_site** (12), **body_area** (4), **rgeno** (6), **Cohort** (2) are categorial, and **V60L**, **D84E**, **V92M**, **R142H**, **R151C**, **I155T**, **R160W**, **R163Q**, **D294H**, **other.rscore** are ordinal with three levels (0,1,2)."
   ]
  },
  {
   "cell_type": "code",
   "execution_count": 152,
   "metadata": {
    "collapsed": false
   },
   "outputs": [
    {
     "data": {
      "text/html": [
       "<table>\n",
       "<thead><tr><th></th><th scope=col>age_at_diagnosis</th><th scope=col>breslow</th><th scope=col>gender</th><th scope=col>clark_level</th><th scope=col>ulceration</th><th scope=col>tissue_source_site</th><th scope=col>body_area</th><th scope=col>tissue_type</th><th scope=col>Cohort</th><th scope=col>V60L</th><th scope=col>⋯</th><th scope=col>R160W</th><th scope=col>R163Q</th><th scope=col>D294H</th><th scope=col>other.rscore</th><th scope=col>rgeno</th><th scope=col>sig1</th><th scope=col>sig5</th><th scope=col>sig7</th><th scope=col>totalNonUV</th><th scope=col>totalSNV</th></tr></thead>\n",
       "<tbody>\n",
       "\t<tr><th scope=row>1</th><td>74           </td><td>9            </td><td>FEMALE       </td><td>IV           </td><td>YES          </td><td>BF           </td><td>Trunk        </td><td>Primary Tumor</td><td>NRAS         </td><td>0            </td><td>⋯            </td><td>0            </td><td>2            </td><td>0            </td><td>0            </td><td>r,r          </td><td>18           </td><td>0            </td><td>322          </td><td>38           </td><td>339          </td></tr>\n",
       "\t<tr><th scope=row>3</th><td>79                 </td><td>0.4                </td><td>FEMALE             </td><td>II                 </td><td>NO                 </td><td>D3                 </td><td>Extremities        </td><td>Regional Lymph Node</td><td>NRAS               </td><td>0                  </td><td>⋯                  </td><td>0                  </td><td>0                  </td><td>0                  </td><td>0                  </td><td>0,0                </td><td>22                 </td><td>21                 </td><td>2                  </td><td>31                 </td><td>54                 </td></tr>\n",
       "\t<tr><th scope=row>5</th><td>53                 </td><td>1.45               </td><td>FEMALE             </td><td>IV                 </td><td>YES                </td><td>D3                 </td><td>Extremities        </td><td>Regional Lymph Node</td><td>BRAF               </td><td>0                  </td><td>⋯                  </td><td>0                  </td><td>0                  </td><td>1                  </td><td>0                  </td><td>R,0                </td><td>17                 </td><td>13                 </td><td>295                </td><td>41                 </td><td>325                </td></tr>\n",
       "\t<tr><th scope=row>6</th><td>60                 </td><td>NA                 </td><td>MALE               </td><td>NA                 </td><td>NA                 </td><td>D3                 </td><td>Trunk              </td><td>Regional Lymph Node</td><td>BRAF               </td><td>1                  </td><td>⋯                  </td><td>0                  </td><td>0                  </td><td>0                  </td><td>0                  </td><td>R,r                </td><td>28                 </td><td>22                 </td><td>393                </td><td>62                 </td><td>452                </td></tr>\n",
       "\t<tr><th scope=row>7</th><td>55                            </td><td>50                            </td><td>MALE                          </td><td>V                             </td><td>NA                            </td><td>D3                            </td><td>Extremities                   </td><td>regional (sub)cutaneous tissue</td><td>BRAF                          </td><td>0                             </td><td>⋯                             </td><td>1                             </td><td>0                             </td><td>0                             </td><td>0                             </td><td>R,0                           </td><td>73                            </td><td>110                           </td><td>822                           </td><td>100                           </td><td>992                           </td></tr>\n",
       "</tbody>\n",
       "</table>\n"
      ],
      "text/latex": [
       "\\begin{tabular}{r|lllllllllllllllllllllllll}\n",
       "  & age\\_at\\_diagnosis & breslow & gender & clark\\_level & ulceration & tissue\\_source\\_site & body\\_area & tissue\\_type & Cohort & V60L & ⋯ & R160W & R163Q & D294H & other.rscore & rgeno & sig1 & sig5 & sig7 & totalNonUV & totalSNV\\\\\n",
       "\\hline\n",
       "\t1 & 74            & 9             & FEMALE        & IV            & YES           & BF            & Trunk         & Primary Tumor & NRAS          & 0             & ⋯             & 0             & 2             & 0             & 0             & r,r           & 18            & 0             & 322           & 38            & 339          \\\\\n",
       "\t3 & 79                  & 0.4                 & FEMALE              & II                  & NO                  & D3                  & Extremities         & Regional Lymph Node & NRAS                & 0                   & ⋯                   & 0                   & 0                   & 0                   & 0                   & 0,0                 & 22                  & 21                  & 2                   & 31                  & 54                 \\\\\n",
       "\t5 & 53                  & 1.45                & FEMALE              & IV                  & YES                 & D3                  & Extremities         & Regional Lymph Node & BRAF                & 0                   & ⋯                   & 0                   & 0                   & 1                   & 0                   & R,0                 & 17                  & 13                  & 295                 & 41                  & 325                \\\\\n",
       "\t6 & 60                  & NA                  & MALE                & NA                  & NA                  & D3                  & Trunk               & Regional Lymph Node & BRAF                & 1                   & ⋯                   & 0                   & 0                   & 0                   & 0                   & R,r                 & 28                  & 22                  & 393                 & 62                  & 452                \\\\\n",
       "\t7 & 55                             & 50                             & MALE                           & V                              & NA                             & D3                             & Extremities                    & regional (sub)cutaneous tissue & BRAF                           & 0                              & ⋯                              & 1                              & 0                              & 0                              & 0                              & R,0                            & 73                             & 110                            & 822                            & 100                            & 992                           \\\\\n",
       "\\end{tabular}\n"
      ],
      "text/plain": [
       "  age_at_diagnosis breslow gender clark_level ulceration tissue_source_site\n",
       "1               74    9.00 FEMALE          IV        YES                 BF\n",
       "3               79    0.40 FEMALE          II         NO                 D3\n",
       "5               53    1.45 FEMALE          IV        YES                 D3\n",
       "6               60      NA   MALE        <NA>       <NA>                 D3\n",
       "7               55   50.00   MALE           V       <NA>                 D3\n",
       "    body_area                    tissue_type Cohort V60L ⋯ R160W R163Q D294H\n",
       "1       Trunk                  Primary Tumor   NRAS    0 ⋯     0     2     0\n",
       "3 Extremities            Regional Lymph Node   NRAS    0 ⋯     0     0     0\n",
       "5 Extremities            Regional Lymph Node   BRAF    0 ⋯     0     0     1\n",
       "6       Trunk            Regional Lymph Node   BRAF    1 ⋯     0     0     0\n",
       "7 Extremities regional (sub)cutaneous tissue   BRAF    0 ⋯     1     0     0\n",
       "  other.rscore rgeno sig1 sig5 sig7 totalNonUV totalSNV\n",
       "1            0   r,r   18    0  322         38      339\n",
       "3            0   0,0   22   21    2         31       54\n",
       "5            0   R,0   17   13  295         41      325\n",
       "6            0   R,r   28   22  393         62      452\n",
       "7            0   R,0   73  110  822        100      992"
      ]
     },
     "metadata": {},
     "output_type": "display_data"
    }
   ],
   "source": [
    "source(\"prepare.R\")\n",
    "head(data, 5)"
   ]
  },
  {
   "cell_type": "markdown",
   "metadata": {},
   "source": [
    "### <font color=\"grey\">  2.2. Melanocyte proliferation and other background information</font>"
   ]
  },
  {
   "cell_type": "markdown",
   "metadata": {},
   "source": [
    "Based on [Tomasetti and Vogelstein](http://science.sciencemag.org/content/347/6217/78), melanocytes divide every $\\sim 147$ days, or $2.48$ times per year. Moreover, Tomasetti and Vogelstein assume that melanocytes are stem cells. I found other interesting information in [Cichorek et al](https://www.ncbi.nlm.nih.gov/pmc/articles/PMC3834696/), [Whiteman et al](https://www.ncbi.nlm.nih.gov/pmc/articles/PMC3395885/), [Zabierowski et al](https://www.ncbi.nlm.nih.gov/pubmed/21410654), [Hoek and Goding](https://www.ncbi.nlm.nih.gov/pubmed/20726948), and [Schatton and Frank](https://www.ncbi.nlm.nih.gov/pmc/articles/PMC2885609/). "
   ]
  },
  {
   "cell_type": "code",
   "execution_count": 153,
   "metadata": {
    "collapsed": false
   },
   "outputs": [],
   "source": [
    "library(MASS)\n",
    "library(robustbase)\n",
    "library(ggplot2)\n",
    "library(repr)\n",
    "library(AER)\n",
    "library(vcd)\n",
    "options(repr.plot.width=8, repr.plot.height=3)"
   ]
  },
  {
   "cell_type": "code",
   "execution_count": 154,
   "metadata": {
    "collapsed": false
   },
   "outputs": [
    {
     "data": {
      "text/html": [
       "<ol class=list-inline>\n",
       "\t<li>196</li>\n",
       "\t<li>25</li>\n",
       "</ol>\n"
      ],
      "text/latex": [
       "\\begin{enumerate*}\n",
       "\\item 196\n",
       "\\item 25\n",
       "\\end{enumerate*}\n"
      ],
      "text/markdown": [
       "1. 196\n",
       "2. 25\n",
       "\n",
       "\n"
      ],
      "text/plain": [
       "[1] 196  25"
      ]
     },
     "metadata": {},
     "output_type": "display_data"
    }
   ],
   "source": [
    "# Load data using external script\n",
    "source('prepare.R')\n",
    "dim(data)"
   ]
  },
  {
   "cell_type": "code",
   "execution_count": 155,
   "metadata": {
    "collapsed": false
   },
   "outputs": [],
   "source": [
    "# Deal with a sensible age range\n",
    "#data <- subset(data, age_at_diagnosis < 70)\n",
    "# Manually remove some outliers\n",
    "#data <- subset(data, totalNonUV/age_at_diagnosis < 6)\n",
    "#data <- subset(data, sig1 > 0)\n",
    "#dim(data)"
   ]
  },
  {
   "cell_type": "markdown",
   "metadata": {},
   "source": [
    "### <font color=\"grey\">  2.3 Robust linear regression </font>"
   ]
  },
  {
   "cell_type": "markdown",
   "metadata": {},
   "source": [
    "We first plot the robust regression lines for the Signature 1 exposure against time. While this does not represent a realistic model, this is merely for comparison with [Alexandrov et al](http://www.nature.com/ng/journal/v47/n12/full/ng.3441.html), where such regression lines were drawn for different cancer types. We also show that the slopes change if one caps the age. Some statistical exploration show that looking at the logarithm of the exposure would make a better fit, but we don't pursue this further as this does not model the accumulation of mutations in any case."
   ]
  },
  {
   "cell_type": "code",
   "execution_count": 156,
   "metadata": {
    "collapsed": false
   },
   "outputs": [
    {
     "name": "stderr",
     "output_type": "stream",
     "text": [
      "Warning message:\n",
      "“Removed 14 rows containing non-finite values (stat_smooth).”Warning message:\n",
      "“Removed 14 rows containing missing values (geom_point).”Warning message in grid.Call.graphics(L_polygon, x$x, x$y, index):\n",
      "“semi-transparency is not supported on this device: reported only once per page”"
     ]
    },
    {
     "data": {},
     "metadata": {},
     "output_type": "display_data"
    },
    {
     "data": {
      "image/png": "[encoded data removed]",
      "text/plain": [
       "plot without title"
      ]
     },
     "metadata": {},
     "output_type": "display_data"
    }
   ],
   "source": [
    "ggplot(data, aes(age_at_diagnosis, sig1+sig5, color=Cohort)) +  geom_smooth(method = \"lmrob\") + geom_point() +\n",
    "    xlab(\"Age\") + ylab(\"Signature 1+5\") + scale_y_continuous(limits = c(0,200)) +\n",
    "    theme_minimal()"
   ]
  },
  {
   "cell_type": "markdown",
   "metadata": {},
   "source": [
    "We now look at the picture when we consider only those of age <70."
   ]
  },
  {
   "cell_type": "code",
   "execution_count": 157,
   "metadata": {
    "collapsed": false
   },
   "outputs": [
    {
     "name": "stderr",
     "output_type": "stream",
     "text": [
      "Warning message:\n",
      "“Removed 8 rows containing non-finite values (stat_smooth).”Warning message:\n",
      "“Removed 8 rows containing missing values (geom_point).”Warning message in grid.Call.graphics(L_polygon, x$x, x$y, index):\n",
      "“semi-transparency is not supported on this device: reported only once per page”"
     ]
    },
    {
     "data": {},
     "metadata": {},
     "output_type": "display_data"
    },
    {
     "data": {
      "image/png": "[encoded data removed]",
      "text/plain": [
       "plot without title"
      ]
     },
     "metadata": {},
     "output_type": "display_data"
    }
   ],
   "source": [
    "ggplot(subset(data, age_at_diagnosis<70 & age_at_diagnosis>30), aes(age_at_diagnosis, sig1+sig5, color=Cohort)) +  geom_smooth(method = \"lmrob\") + geom_point() +\n",
    "    xlab(\"Age\") + ylab(\"Signature 1+5\") + scale_y_continuous(limits = c(0,200)) +\n",
    "    theme_minimal()"
   ]
  },
  {
   "cell_type": "markdown",
   "metadata": {},
   "source": [
    "### <font color=\"grey\">  2.4 Simple Poisson model </font>"
   ]
  },
  {
   "cell_type": "markdown",
   "metadata": {},
   "source": [
    "Here, by *mutation* we mean one unit of Signature 1 and 5 exposure. Alternative we can also count subsitutions which are not TCC>TTC (which is the dominant form in Signature 7). We make the following assumptions:\n",
    "\n",
    "1. Cells divide at a fixed expected rate $r$ divisions per year;\n",
    "2. Mutations occur at a rate of $u$ mutations per gigabase pair per cell division.\n",
    "\n",
    "Let $N=N(t)$ be the total number of mutations accumulated at time $t$."
   ]
  },
  {
   "cell_type": "markdown",
   "metadata": {},
   "source": [
    "Under these assumptions, the *ratio* $N/t$, follows a Poisson distribution with fixed parameter $\\lambda$, though it is assumed that $\\lambda$ depends on the cohort (NRAS / BRAF) and possibly other parameters. \n",
    "\n",
    "\\begin{equation*}\n",
    "  \\mtx{P}\\{N/t = n\\} = \\frac{\\lambda^n e^{-\\lambda}}{n!},\n",
    "\\end{equation*}\n",
    "\n",
    "The estimate of $\\lambda$ is gained from a Poisson regression with age as offset,\n",
    "\n",
    "\\begin{equation*}\n",
    "  \\log \\mtx{E}[N] = \\log(t) + \\beta_0,\n",
    "\\end{equation*}\n",
    "\n",
    "where the computed intensity of the process is then $\\lambda = e^{\\beta_0}$. The interpretation is that the expected number of mutations at time (age) $t$ is $\\lambda t = e^{\\beta_0}t$. To check whether this all makes sense, we attempt a plot."
   ]
  },
  {
   "cell_type": "code",
   "execution_count": 158,
   "metadata": {
    "collapsed": false
   },
   "outputs": [
    {
     "data": {},
     "metadata": {},
     "output_type": "display_data"
    },
    {
     "data": {
      "image/png": "[encoded data removed]",
      "text/plain": [
       "plot without title"
      ]
     },
     "metadata": {},
     "output_type": "display_data"
    }
   ],
   "source": [
    "# Check the assumption of a Poisson distribution visually first\n",
    "ggplot(data, aes((sig1+sig5)/age_at_diagnosis)) +\n",
    "    geom_histogram(binwidth = 0.5, position=\"dodge\") + guides(fill=FALSE) +\n",
    "    xlab(\"Mutations / year\") + ylab(\"Frequency\")"
   ]
  },
  {
   "cell_type": "code",
   "execution_count": 159,
   "metadata": {
    "collapsed": false
   },
   "outputs": [
    {
     "data": {},
     "metadata": {},
     "output_type": "display_data"
    },
    {
     "data": {
      "image/png": "[encoded data removed]",
      "text/plain": [
       "plot without title"
      ]
     },
     "metadata": {},
     "output_type": "display_data"
    }
   ],
   "source": [
    "# Check the assumption of a Poisson distribution by dividing the different cohorts\n",
    "ggplot(data, aes((sig1+sig5)/age_at_diagnosis, fill=Cohort)) +\n",
    "    geom_histogram(binwidth = 0.5, position=\"dodge\") + guides(fill=FALSE) +\n",
    "    facet_wrap(~ Cohort, ncol=2) + xlab(\"Mutations / year\") + ylab(\"Frequency\")"
   ]
  },
  {
   "cell_type": "code",
   "execution_count": 160,
   "metadata": {
    "collapsed": false
   },
   "outputs": [
    {
     "data": {
      "text/plain": [
       "\n",
       "Call:\n",
       "glm(formula = sig1 + sig5 ~ offset(log(age_at_diagnosis)), family = \"poisson\", \n",
       "    data = data)\n",
       "\n",
       "Deviance Residuals: \n",
       "    Min       1Q   Median       3Q      Max  \n",
       "-13.056   -6.330   -2.317    2.948   35.662  \n",
       "\n",
       "Coefficients:\n",
       "            Estimate Std. Error z value Pr(>|z|)    \n",
       "(Intercept) 0.444421   0.007825    56.8   <2e-16 ***\n",
       "---\n",
       "Signif. codes:  0 ‘***’ 0.001 ‘**’ 0.01 ‘*’ 0.05 ‘.’ 0.1 ‘ ’ 1\n",
       "\n",
       "(Dispersion parameter for poisson family taken to be 1)\n",
       "\n",
       "    Null deviance: 12043  on 195  degrees of freedom\n",
       "Residual deviance: 12043  on 195  degrees of freedom\n",
       "AIC: 13206\n",
       "\n",
       "Number of Fisher Scoring iterations: 5\n"
      ]
     },
     "metadata": {},
     "output_type": "display_data"
    }
   ],
   "source": [
    "# Fit the model\n",
    "res.simple <- glm(sig1+sig5 ~ offset(log(age_at_diagnosis)), data = data, family=\"poisson\")\n",
    "summary(res.simple)"
   ]
  },
  {
   "cell_type": "code",
   "execution_count": 161,
   "metadata": {
    "collapsed": false
   },
   "outputs": [
    {
     "name": "stdout",
     "output_type": "stream",
     "text": [
      "\n",
      "\t Goodness-of-fit test for poisson distribution\n",
      "\n",
      "                     X^2 df   P(> X^2)\n",
      "Likelihood Ratio 17.3898 10 0.06617162\n"
     ]
    },
    {
     "data": {
      "image/png": "[encoded data removed]",
      "text/plain": [
       "plot without title"
      ]
     },
     "metadata": {},
     "output_type": "display_data"
    }
   ],
   "source": [
    "fit <- goodfit((data$sig1+data$sig5)/data$age_at_diagnosis)\n",
    "summary(fit) \n",
    "rootogram(fit)"
   ]
  },
  {
   "cell_type": "code",
   "execution_count": 162,
   "metadata": {
    "collapsed": false
   },
   "outputs": [
    {
     "data": {
      "text/html": [
       "61.7607616936436"
      ],
      "text/latex": [
       "61.7607616936436"
      ],
      "text/markdown": [
       "61.7607616936436"
      ],
      "text/plain": [
       "[1] 61.76076"
      ]
     },
     "metadata": {},
     "output_type": "display_data"
    },
    {
     "data": {
      "text/plain": [
       "\n",
       "\tOverdispersion test\n",
       "\n",
       "data:  res.simple\n",
       "z = 3.7458, p-value = 8.992e-05\n",
       "alternative hypothesis: true dispersion is greater than 1\n",
       "sample estimates:\n",
       "dispersion \n",
       "    91.203 \n"
      ]
     },
     "metadata": {},
     "output_type": "display_data"
    }
   ],
   "source": [
    "deviance(res.simple)/res.simple$df.residual\n",
    "dispersiontest(res.simple)"
   ]
  },
  {
   "cell_type": "code",
   "execution_count": 163,
   "metadata": {
    "collapsed": false
   },
   "outputs": [
    {
     "data": {
      "text/html": [
       "1"
      ],
      "text/latex": [
       "1"
      ],
      "text/markdown": [
       "1"
      ],
      "text/plain": [
       "[1] 1"
      ]
     },
     "metadata": {},
     "output_type": "display_data"
    }
   ],
   "source": [
    "ssr <- sum(residuals(res.simple, type=\"pearson\")^2)\n",
    "n <- dim(data)[1]\n",
    "pchisq(ssr, df=n-1)"
   ]
  },
  {
   "cell_type": "markdown",
   "metadata": {},
   "source": [
    "**Estimating the cell division rate**"
   ]
  },
  {
   "cell_type": "markdown",
   "metadata": {},
   "source": [
    "We first estimate the expected mutation load using this model for the whole data, without differentiating between NRAS and BRAF. Using the estimate of cell division rate for melanocytes from Tomasetti and Vogelstein, given as $2.48$ cell division per year, we compute the mutation rate per gigabase pair per cell division. This rate is then used later to estimate the difference in cell division rates between NRAS and BRAF samples."
   ]
  },
  {
   "cell_type": "code",
   "execution_count": 164,
   "metadata": {
    "collapsed": false
   },
   "outputs": [
    {
     "data": {
      "text/html": [
       "<ol class=list-inline>\n",
       "\t<li>136</li>\n",
       "\t<li>96</li>\n",
       "\t<li>98</li>\n",
       "\t<li>72</li>\n",
       "\t<li>64</li>\n",
       "\t<li>123</li>\n",
       "\t<li>71</li>\n",
       "\t<li>92</li>\n",
       "\t<li>44</li>\n",
       "</ol>\n"
      ],
      "text/latex": [
       "\\begin{enumerate*}\n",
       "\\item 136\n",
       "\\item 96\n",
       "\\item 98\n",
       "\\item 72\n",
       "\\item 64\n",
       "\\item 123\n",
       "\\item 71\n",
       "\\item 92\n",
       "\\item 44\n",
       "\\end{enumerate*}\n"
      ],
      "text/markdown": [
       "1. 136\n",
       "2. 96\n",
       "3. 98\n",
       "4. 72\n",
       "5. 64\n",
       "6. 123\n",
       "7. 71\n",
       "8. 92\n",
       "9. 44\n",
       "\n",
       "\n"
      ],
      "text/plain": [
       "[1] 136  96  98  72  64 123  71  92  44"
      ]
     },
     "metadata": {},
     "output_type": "display_data"
    }
   ],
   "source": [
    "source('prepare.R')\n",
    "# Get rid of some outliers\n",
    "data <- subset(data, (sig1+sig5)/age_at_diagnosis < 10)\n",
    "# Create various restricted data sets\n",
    "data.age <-  subset(data, age_at_diagnosis < 70 & age_at_diagnosis > 30)\n",
    "data.R <- subset(data, grepl(\"R\",rgeno))\n",
    "data.r <- subset(data, !grepl(\"R\",rgeno))\n",
    "data.age.R <- subset(data, age_at_diagnosis < 70 & age_at_diagnosis > 30 & grepl(\"R\",rgeno))\n",
    "data.age.r <- subset(data, age_at_diagnosis < 70 & age_at_diagnosis > 30 & !grepl(\"R\",rgeno))\n",
    "data.male <- subset(data, gender == \"MALE\")\n",
    "data.female <- subset(data, gender == \"FEMALE\")\n",
    "data.age.male <- subset(data, gender == \"MALE\" & age_at_diagnosis < 70 & age_at_diagnosis > 30)\n",
    "data.age.female <- subset(data, gender == \"FEMALE\" & age_at_diagnosis < 70 & age_at_diagnosis > 30)\n",
    "# Check the dimensions\n",
    "sizes <- c(dim(data.age)[1], dim(data.R)[1], dim(data.r)[1], \n",
    "    dim(data.age.R)[1], dim(data.age.r)[1], dim(data.male)[1], dim(data.female)[1],\n",
    "    dim(data.age.male)[1], dim(data.age.female)[1])\n",
    "sizes"
   ]
  },
  {
   "cell_type": "code",
   "execution_count": 165,
   "metadata": {
    "collapsed": true
   },
   "outputs": [],
   "source": [
    "# Define a function to deal with all the different types of data sets\n",
    "analyse <- function(df) {\n",
    "    # Use parameter from Tomasetti-Vogelstein\n",
    "    div_per_year <- 2.48\n",
    "    res.simple <- glm(sig1+sig5 ~ offset(log(age_at_diagnosis)), data = df, family=\"poisson\")\n",
    "    lambda <- exp(coef(res.simple)[\"(Intercept)\"])\n",
    "    # Estimate mutation rate \n",
    "    u <- unname(lambda/div_per_year)\n",
    "    res_braf.simple <- glm(sig1+sig5 ~ offset(log(age_at_diagnosis)), data = subset(df, Cohort==\"BRAF\"), family=\"poisson\")\n",
    "    res_nras.simple <- glm(sig1+sig5 ~ offset(log(age_at_diagnosis)), data = subset(df, Cohort==\"NRAS\"), family=\"poisson\")\n",
    "    lambda_nras <- exp(coef(res_nras.simple)[\"(Intercept)\"])\n",
    "    lambda_braf <- exp(coef(res_braf.simple)[\"(Intercept)\"])\n",
    "    ratio <- unname(lambda_nras/lambda_braf)\n",
    "    div_nras <- unname(lambda_nras/u)\n",
    "    div_braf <- unname(lambda_braf/u)\n",
    "    # TODO: return some statistical test results\n",
    "    return(c(ratio, u, div_nras, div_braf))\n",
    "}"
   ]
  },
  {
   "cell_type": "code",
   "execution_count": 166,
   "metadata": {
    "collapsed": false
   },
   "outputs": [
    {
     "data": {
      "text/html": [
       "<table>\n",
       "<thead><tr><th></th><th scope=col>Ratio</th><th scope=col>Mutation rate</th><th scope=col>Division rate NRAS</th><th scope=col>Division rate BRAF</th></tr></thead>\n",
       "<tbody>\n",
       "\t<tr><th scope=row>All</th><td>1.22</td><td>0.60</td><td>2.77</td><td>2.27</td></tr>\n",
       "\t<tr><th scope=row>1-2 R</th><td>1.28</td><td>0.74</td><td>2.88</td><td>2.26</td></tr>\n",
       "\t<tr><th scope=row>0 R</th><td>1.32</td><td>0.48</td><td>2.84</td><td>2.16</td></tr>\n",
       "\t<tr><th scope=row>Male</th><td>1.32</td><td>0.67</td><td>2.88</td><td>2.19</td></tr>\n",
       "\t<tr><th scope=row>Female</th><td>1.04</td><td>0.50</td><td>2.53</td><td>2.44</td></tr>\n",
       "</tbody>\n",
       "</table>\n"
      ],
      "text/latex": [
       "\\begin{tabular}{r|llll}\n",
       "  & Ratio & Mutation rate & Division rate NRAS & Division rate BRAF\\\\\n",
       "\\hline\n",
       "\tAll & 1.22 & 0.60 & 2.77 & 2.27\\\\\n",
       "\t1-2 R & 1.28 & 0.74 & 2.88 & 2.26\\\\\n",
       "\t0 R & 1.32 & 0.48 & 2.84 & 2.16\\\\\n",
       "\tMale & 1.32 & 0.67 & 2.88 & 2.19\\\\\n",
       "\tFemale & 1.04 & 0.50 & 2.53 & 2.44\\\\\n",
       "\\end{tabular}\n"
      ],
      "text/plain": [
       "       Ratio Mutation rate Division rate NRAS Division rate BRAF\n",
       "All     1.22          0.60               2.77               2.27\n",
       "1-2 R   1.28          0.74               2.88               2.26\n",
       "0 R     1.32          0.48               2.84               2.16\n",
       "Male    1.32          0.67               2.88               2.19\n",
       "Female  1.04          0.50               2.53               2.44"
      ]
     },
     "metadata": {},
     "output_type": "display_data"
    },
    {
     "data": {
      "text/html": [
       "<table>\n",
       "<thead><tr><th></th><th scope=col>Ratio</th><th scope=col>Mutation rate</th><th scope=col>Division rate NRAS</th><th scope=col>Division rate BRAF</th></tr></thead>\n",
       "<tbody>\n",
       "\t<tr><th scope=row>All</th><td>1.18</td><td>0.64</td><td>2.74</td><td>2.33</td></tr>\n",
       "\t<tr><th scope=row>1-2 R</th><td>1.23</td><td>0.81</td><td>2.84</td><td>2.30</td></tr>\n",
       "\t<tr><th scope=row>0 R</th><td>1.19</td><td>0.46</td><td>2.75</td><td>2.30</td></tr>\n",
       "\t<tr><th scope=row>Male</th><td>1.24</td><td>0.67</td><td>2.82</td><td>2.28</td></tr>\n",
       "\t<tr><th scope=row>Female</th><td>1.01</td><td>0.58</td><td>2.50</td><td>2.47</td></tr>\n",
       "</tbody>\n",
       "</table>\n"
      ],
      "text/latex": [
       "\\begin{tabular}{r|llll}\n",
       "  & Ratio & Mutation rate & Division rate NRAS & Division rate BRAF\\\\\n",
       "\\hline\n",
       "\tAll & 1.18 & 0.64 & 2.74 & 2.33\\\\\n",
       "\t1-2 R & 1.23 & 0.81 & 2.84 & 2.30\\\\\n",
       "\t0 R & 1.19 & 0.46 & 2.75 & 2.30\\\\\n",
       "\tMale & 1.24 & 0.67 & 2.82 & 2.28\\\\\n",
       "\tFemale & 1.01 & 0.58 & 2.50 & 2.47\\\\\n",
       "\\end{tabular}\n"
      ],
      "text/plain": [
       "       Ratio Mutation rate Division rate NRAS Division rate BRAF\n",
       "All     1.18          0.64               2.74               2.33\n",
       "1-2 R   1.23          0.81               2.84               2.30\n",
       "0 R     1.19          0.46               2.75               2.30\n",
       "Male    1.24          0.67               2.82               2.28\n",
       "Female  1.01          0.58               2.50               2.47"
      ]
     },
     "metadata": {},
     "output_type": "display_data"
    }
   ],
   "source": [
    "res <- analyse(data)\n",
    "res.age <- analyse(data.age)\n",
    "res.R <- analyse(data.R)\n",
    "res.r <- analyse(data.r)\n",
    "res.age.R <- analyse(data.age.R)\n",
    "res.age.r <- analyse(data.age.r)\n",
    "res.male <- analyse(data.male)\n",
    "res.female <- analyse(data.female)\n",
    "res.age.male <- analyse(data.age.male)\n",
    "res.age.female <- analyse(data.age.female)\n",
    "\n",
    "all.data <- as.data.frame(t(matrix(c(res, res.R, res.r, res.male, res.female), ncol=5, nrow=4)))\n",
    "colnames(all.data) <- c('Ratio', 'Mutation rate', 'Division rate NRAS', 'Division rate BRAF')\n",
    "rownames(all.data) <- c(\"All\", \"1-2 R\", \"0 R\", \"Male\", \"Female\")\n",
    "\n",
    "age.data <- as.data.frame(t(matrix(c(res.age, res.age.R, res.age.r, res.age.male, res.age.female), ncol=5, nrow=4)))\n",
    "colnames(age.data) <- c('Ratio', 'Mutation rate', 'Division rate NRAS', 'Division rate BRAF')\n",
    "rownames(age.data) <- c(\"All\", \"1-2 R\", \"0 R\", \"Male\", \"Female\")\n",
    "\n",
    "round(all.data, 2)\n",
    "round(age.data, 2)\n",
    "\n",
    "#write.csv(all.data, file=\"divrates_all.csv\")\n",
    "#write.csv(age.data, file=\"divrates_age.csv\")"
   ]
  },
  {
   "cell_type": "markdown",
   "metadata": {},
   "source": [
    "The mutation rate per cell division per site has been varyingly estimated to be between $10^{-10}$ and $10^{-9}$, which per gigabase ($10^9$) pair gives the right order of magnitude. We now plot the Poisson means in the age restricted data."
   ]
  },
  {
   "cell_type": "code",
   "execution_count": 167,
   "metadata": {
    "collapsed": false
   },
   "outputs": [
    {
     "name": "stderr",
     "output_type": "stream",
     "text": [
      "Warning message:\n",
      "“Removed 8 rows containing missing values (geom_point).”"
     ]
    },
    {
     "data": {},
     "metadata": {},
     "output_type": "display_data"
    },
    {
     "data": {
      "image/png": "[encoded data removed]",
      "text/plain": [
       "plot without title"
      ]
     },
     "metadata": {},
     "output_type": "display_data"
    }
   ],
   "source": [
    "ggplot(data.age, aes(age_at_diagnosis, sig1+sig5, color=Cohort)) + geom_point() +\n",
    "    stat_function(fun=function(x)lambda_nras*x, geom=\"line\") +\n",
    "    xlab(\"Age\") + ylab(\"Signature 1 + 5\") + scale_y_continuous(limits = c(0,200)) +\n",
    "    stat_function(fun=function(x)lambda_braf*x, geom=\"line\", color=\"red\") +\n",
    "    theme_minimal()"
   ]
  },
  {
   "cell_type": "markdown",
   "metadata": {},
   "source": [
    "### <font color=\"grey\">  2.5 Poisson model with exponential dependence on age</font>"
   ]
  },
  {
   "cell_type": "markdown",
   "metadata": {},
   "source": [
    "For the accumulation of mutations at time $t$, [Podolskiy et al](http://www.nature.com/articles/ncomms12157) postulate the following model, assumed to be valid for a certain age range (say, $[30,70]$). At each age $t$, the number of muations $N(t)$ is approximately distributed according to a Poisson distribution with rate $\\lambda(t)$,\n",
    "\n",
    "\\begin{equation*}\n",
    "  \\mtx{P}\\{N(t) = n\\} = \\frac{\\lambda(t)^n e^{-\\lambda(t)}}{n!},\n",
    "\\end{equation*}\n",
    "\n",
    "where the expected value $\\lambda(t)$ depends on age as\n",
    "\n",
    "\\begin{equation*}\n",
    "  \\lambda(t) = N_0 e^{\\alpha t}.\n",
    "\\end{equation*}\n",
    "\n",
    "Actually, the model with Poisson distribution is not completely accurate, as it measures the accumulation of mutations before clonal expansion, after which the number of mutations follows a different pattern. One might consider a more sophisticated model in a future exploration.\n",
    "\n",
    "The value of $N_0$ and of $\\alpha$ may depend on other factors, such as gender, the presence of BRAF or NRAS mutations or the presence of R alleles in the MC1R gene. We check the validity of this model in certain age ranges later on. "
   ]
  },
  {
   "cell_type": "markdown",
   "metadata": {},
   "source": [
    "Suppose that at age $t$ we have $N_1(t),\\dots,N_s(t)$ samples. We estimate the parameter $\\lambda(t) = \\lambda(t,X_1,\\dots,X_p) = \\mtx{E}[N(t) \\ | \\ X_1,\\dots,X_p]$ using Poisson regression,\n",
    "\n",
    "\\begin{equation*}\n",
    "  \\log \\mtx{E}[N(t) \\ | \\ X_1,\\dots,X_p ] = \\beta_0 + \\sum_{i=1}^p \\beta_i X_i,\n",
    "\\end{equation*}\n",
    "\n",
    "where the $\\beta_i$ are allowed to depend on $t$. In [Podolskiy et al](http://www.nature.com/articles/ncomms12157), the authors look at small time intervals and determine the Poisson peaks for each of these intervals. \n",
    "The practical problem with the approach described above is that we do not have enough data for reliably estimating Poisson average at each time. We can still try to use, for eath $t$ in a suitable range and $\\Delta t$ (for example, 5 years), to use the interval $(t-\\Delta t, t+\\Delta t]$. A different approach would be to estimate the parameters for all times simultaneously.\n",
    "\n",
    "However, having estimated the parameters of the model above, we can compute $N_0$ and $\\alpha$ by a linear regression,\n",
    "\n",
    "\\begin{equation*}\n",
    "  \\log(N_0) + \\alpha t = \\hat{\\beta}_0 + \\sum_{i=1}^p \\hat{\\beta}_i X_i. \\quad \\quad [1]\n",
    "\\end{equation*}\n",
    "\n",
    "There probably needs to be some statistical hacking to make this rigorous. Under the simplification assumption that $\\alpha$ does not depend on the other covariates, we can just include age (time) $t$ among the dependent variables and solve a standard Poisson model,\n",
    "\n",
    "\\begin{equation*}\n",
    "  \\log \\mtx{E}[N \\ | \\ t, X_1,\\dots,X_p ] = \\beta_0 + \\alpha t + \\sum_{i=1}^p \\beta_i X_i,\n",
    "\\end{equation*}"
   ]
  },
  {
   "cell_type": "markdown",
   "metadata": {},
   "source": [
    "As a first approximation, we can disregard the other covariates, and include age as covariate (rather than as time parameter). This corresponds to a \"time independent\" poisson \"process\", where time is used as covariate. The model is thus\n",
    "\n",
    "\\begin{equation*}\n",
    "  \\log \\mtx{E}[N \\ | \\ X_1] = \\beta_0+\\beta_1X_1,\n",
    "\\end{equation*}\n",
    "\n",
    "where $X_1$ corresponds to age."
   ]
  },
  {
   "cell_type": "code",
   "execution_count": 168,
   "metadata": {
    "collapsed": false
   },
   "outputs": [
    {
     "data": {
      "text/plain": [
       "\n",
       "Call:\n",
       "glm(formula = totalNonUV ~ 1 + age_at_diagnosis, family = \"poisson\", \n",
       "    data = data)\n",
       "\n",
       "Deviance Residuals: \n",
       "    Min       1Q   Median       3Q      Max  \n",
       "-10.649   -5.277   -2.299    1.489   26.732  \n",
       "\n",
       "Coefficients:\n",
       "                  Estimate Std. Error z value Pr(>|z|)    \n",
       "(Intercept)      3.8698063  0.0302899  127.76   <2e-16 ***\n",
       "age_at_diagnosis 0.0080540  0.0005224   15.42   <2e-16 ***\n",
       "---\n",
       "Signif. codes:  0 ‘***’ 0.001 ‘**’ 0.01 ‘*’ 0.05 ‘.’ 0.1 ‘ ’ 1\n",
       "\n",
       "(Dispersion parameter for poisson family taken to be 1)\n",
       "\n",
       "    Null deviance: 8897.6  on 193  degrees of freedom\n",
       "Residual deviance: 8658.4  on 192  degrees of freedom\n",
       "AIC: 9795.2\n",
       "\n",
       "Number of Fisher Scoring iterations: 5\n"
      ]
     },
     "metadata": {},
     "output_type": "display_data"
    }
   ],
   "source": [
    "res.poisson <- glm(totalNonUV ~ 1 + age_at_diagnosis, data = data, family=\"poisson\")\n",
    "summary(res.poisson)"
   ]
  },
  {
   "cell_type": "markdown",
   "metadata": {},
   "source": [
    "Do a Pearson residual goodness of fit test. A value of $1$ means that we're doing well."
   ]
  },
  {
   "cell_type": "code",
   "execution_count": 169,
   "metadata": {
    "collapsed": false
   },
   "outputs": [
    {
     "data": {
      "text/html": [
       "1"
      ],
      "text/latex": [
       "1"
      ],
      "text/markdown": [
       "1"
      ],
      "text/plain": [
       "[1] 1"
      ]
     },
     "metadata": {},
     "output_type": "display_data"
    }
   ],
   "source": [
    "n <- dim(data)[1]\n",
    "ssr <- sum(residuals(res.poisson, type=\"pearson\")^2)\n",
    "pchisq(ssr, df=n-1)"
   ]
  },
  {
   "cell_type": "markdown",
   "metadata": {},
   "source": [
    "Next, it might be worth looking at other covariates. We stick to the ones for which we have enough data."
   ]
  },
  {
   "cell_type": "code",
   "execution_count": 116,
   "metadata": {
    "collapsed": false
   },
   "outputs": [],
   "source": [
    "# Define a function to deal with all the different types of data sets\n",
    "analyse.new <- function(df) {\n",
    "    res_braf <- glm(sig1+sig5 ~ age_at_diagnosis, data = subset(df, Cohort==\"BRAF\"), family=poisson(link=log))\n",
    "    res_nras <- glm(sig1+sig5 ~ age_at_diagnosis, data = subset(df, Cohort==\"NRAS\"), family=poisson(link=log))\n",
    "    N_nras <- unname(exp(coef(res_nras)[\"(Intercept)\"]))\n",
    "    N_braf <- unname(exp(coef(res_braf)[\"(Intercept)\"]))\n",
    "    alpha_nras <- unname(coef(res_nras)[\"age_at_diagnosis\"])\n",
    "    alpha_braf <- unname(coef(res_braf)[\"age_at_diagnosis\"])\n",
    "    # TODO: return some statistical test results\n",
    "    return(c(N_nras, N_braf, alpha_nras, alpha_braf))\n",
    "}"
   ]
  },
  {
   "cell_type": "code",
   "execution_count": 117,
   "metadata": {
    "collapsed": false
   },
   "outputs": [
    {
     "data": {
      "text/html": [
       "<table>\n",
       "<thead><tr><th></th><th scope=col>N NRAS</th><th scope=col>N BRAF</th><th scope=col>alpha NRAS</th><th scope=col>alpha BRAF</th></tr></thead>\n",
       "<tbody>\n",
       "\t<tr><th scope=row>All</th><td>55.59018668</td><td>79.27952118</td><td> 0.00949990</td><td>-0.00260491</td></tr>\n",
       "\t<tr><th scope=row>1-2 R</th><td>90.35897539</td><td>91.31488160</td><td> 0.00479594</td><td>-0.00284494</td></tr>\n",
       "\t<tr><th scope=row>0 R</th><td>24.00897518</td><td>44.87629428</td><td> 0.01985282</td><td> 0.00436785</td></tr>\n",
       "\t<tr><th scope=row>Male</th><td>44.77507217</td><td>73.85805864</td><td> 0.01531415</td><td> 0.00010863</td></tr>\n",
       "\t<tr><th scope=row>Female</th><td>67.02223042</td><td>87.09894734</td><td> 0.00210961</td><td>-0.00702714</td></tr>\n",
       "</tbody>\n",
       "</table>\n"
      ],
      "text/latex": [
       "\\begin{tabular}{r|llll}\n",
       "  & N NRAS & N BRAF & alpha NRAS & alpha BRAF\\\\\n",
       "\\hline\n",
       "\tAll & 55.59018668 & 79.27952118 &  0.00949990 & -0.00260491\\\\\n",
       "\t1-2 R & 90.35897539 & 91.31488160 &  0.00479594 & -0.00284494\\\\\n",
       "\t0 R & 24.00897518 & 44.87629428 &  0.01985282 &  0.00436785\\\\\n",
       "\tMale & 44.77507217 & 73.85805864 &  0.01531415 &  0.00010863\\\\\n",
       "\tFemale & 67.02223042 & 87.09894734 &  0.00210961 & -0.00702714\\\\\n",
       "\\end{tabular}\n"
      ],
      "text/plain": [
       "         N NRAS   N BRAF alpha NRAS  alpha BRAF\n",
       "All    55.59019 79.27952 0.00949990 -0.00260491\n",
       "1-2 R  90.35898 91.31488 0.00479594 -0.00284494\n",
       "0 R    24.00898 44.87629 0.01985282  0.00436785\n",
       "Male   44.77507 73.85806 0.01531415  0.00010863\n",
       "Female 67.02223 87.09895 0.00210961 -0.00702714"
      ]
     },
     "metadata": {},
     "output_type": "display_data"
    },
    {
     "data": {
      "text/html": [
       "<table>\n",
       "<thead><tr><th></th><th scope=col>N NRAS</th><th scope=col>N BRAF</th><th scope=col>alpha NRAS</th><th scope=col>alpha BRAF</th></tr></thead>\n",
       "<tbody>\n",
       "\t<tr><th scope=row>All</th><td>67.03663787</td><td>93.13698239</td><td> 0.00524428</td><td>-0.00436667</td></tr>\n",
       "\t<tr><th scope=row>1-2 R</th><td> 94.75652773</td><td>138.57836407</td><td>  0.00344495</td><td> -0.00892237</td></tr>\n",
       "\t<tr><th scope=row>0 R</th><td>32.01189094</td><td>14.91362676</td><td> 0.01361468</td><td> 0.02479236</td></tr>\n",
       "\t<tr><th scope=row>Male</th><td>67.19466432</td><td>98.96510557</td><td> 0.00677578</td><td>-0.00467147</td></tr>\n",
       "\t<tr><th scope=row>Female</th><td>79.70039086</td><td>95.48632220</td><td>-0.00280454</td><td>-0.00685398</td></tr>\n",
       "</tbody>\n",
       "</table>\n"
      ],
      "text/latex": [
       "\\begin{tabular}{r|llll}\n",
       "  & N NRAS & N BRAF & alpha NRAS & alpha BRAF\\\\\n",
       "\\hline\n",
       "\tAll & 67.03663787 & 93.13698239 &  0.00524428 & -0.00436667\\\\\n",
       "\t1-2 R &  94.75652773 & 138.57836407 &   0.00344495 &  -0.00892237\\\\\n",
       "\t0 R & 32.01189094 & 14.91362676 &  0.01361468 &  0.02479236\\\\\n",
       "\tMale & 67.19466432 & 98.96510557 &  0.00677578 & -0.00467147\\\\\n",
       "\tFemale & 79.70039086 & 95.48632220 & -0.00280454 & -0.00685398\\\\\n",
       "\\end{tabular}\n"
      ],
      "text/plain": [
       "         N NRAS    N BRAF  alpha NRAS  alpha BRAF\n",
       "All    67.03664  93.13698  0.00524428 -0.00436667\n",
       "1-2 R  94.75653 138.57836  0.00344495 -0.00892237\n",
       "0 R    32.01189  14.91363  0.01361468  0.02479236\n",
       "Male   67.19466  98.96511  0.00677578 -0.00467147\n",
       "Female 79.70039  95.48632 -0.00280454 -0.00685398"
      ]
     },
     "metadata": {},
     "output_type": "display_data"
    }
   ],
   "source": [
    "res <- analyse.new(data)\n",
    "res.age <- analyse.new(data.age)\n",
    "res.R <- analyse.new(data.R)\n",
    "res.r <- analyse.new(data.r)\n",
    "res.age.R <- analyse.new(data.age.R)\n",
    "res.age.r <- analyse.new(data.age.r)\n",
    "res.male <- analyse.new(data.male)\n",
    "res.female <- analyse.new(data.female)\n",
    "res.age.male <- analyse.new(data.age.male)\n",
    "res.age.female <- analyse.new(data.age.female)\n",
    "\n",
    "all.data <- as.data.frame(t(matrix(c(res, res.R, res.r, res.male, res.female), ncol=5, nrow=4)))\n",
    "colnames(all.data) <- c('N NRAS', 'N BRAF', 'alpha NRAS', 'alpha BRAF')\n",
    "rownames(all.data) <- c(\"All\", \"1-2 R\", \"0 R\", \"Male\", \"Female\")\n",
    "\n",
    "age.data <- as.data.frame(t(matrix(c(res.age, res.age.R, res.age.r, res.age.male, res.age.female), ncol=5, nrow=4)))\n",
    "colnames(age.data) <- c('N NRAS', 'N BRAF', 'alpha NRAS', 'alpha BRAF')\n",
    "rownames(age.data) <- c(\"All\", \"1-2 R\", \"0 R\", \"Male\", \"Female\")\n",
    "\n",
    "round(all.data, 8)\n",
    "round(age.data, 8)"
   ]
  },
  {
   "cell_type": "code",
   "execution_count": 118,
   "metadata": {
    "collapsed": false
   },
   "outputs": [
    {
     "name": "stderr",
     "output_type": "stream",
     "text": [
      "Warning message:\n",
      "“Removed 8 rows containing missing values (geom_point).”"
     ]
    },
    {
     "data": {},
     "metadata": {},
     "output_type": "display_data"
    },
    {
     "data": {
      "image/png": "[encoded data removed]",
      "text/plain": [
       "plot without title"
      ]
     },
     "metadata": {},
     "output_type": "display_data"
    }
   ],
   "source": [
    "N.nras <- 67\n",
    "N.braf <- 93\n",
    "alpha.nras <- 0.005\n",
    "alpha.braf <- -0.004\n",
    "ggplot(data.age, aes(age_at_diagnosis, sig1+sig5, color=Cohort)) + geom_point() +\n",
    "    stat_function(fun=function(x)(N.nras*exp(alpha.nras*x)), geom=\"line\") +\n",
    "    xlab(\"Age\") + ylab(\"Signature 1 + 5\") + scale_y_continuous(limits = c(0,200)) +\n",
    "    stat_function(fun=function(x)(N.braf*exp(alpha.braf*x)), geom=\"line\", color=\"red\") +\n",
    "    theme_minimal()"
   ]
  },
  {
   "cell_type": "markdown",
   "metadata": {},
   "source": [
    "### <font color=\"grey\">  2.6. The Tomasetti-Vogelstein graph</font>"
   ]
  },
  {
   "cell_type": "markdown",
   "metadata": {},
   "source": [
    "We load the data from the Tomasetti-Vogelstein paper and include the estimated lscd parameters from above."
   ]
  },
  {
   "cell_type": "code",
   "execution_count": 145,
   "metadata": {
    "collapsed": false
   },
   "outputs": [
    {
     "name": "stderr",
     "output_type": "stream",
     "text": [
      "Warning message in grid.Call.graphics(L_polygon, x$x, x$y, index):\n",
      "“semi-transparency is not supported on this device: reported only once per page”"
     ]
    },
    {
     "data": {},
     "metadata": {},
     "output_type": "display_data"
    },
    {
     "data": {
      "image/png": "[encoded data removed]",
      "text/plain": [
       "plot without title"
      ]
     },
     "metadata": {},
     "output_type": "display_data"
    }
   ],
   "source": [
    "df <- read.csv('data/s1-vogelstein.csv', header=TRUE)\n",
    "tv <- data.frame(df$X,df$Lifetime.cancer.risk)\n",
    "tv$lscd <- df[,ncol(df)]\n",
    "\n",
    "s <- 3.8e9\n",
    "r <- 0.0203\n",
    "r.nras <- 0.2*r\n",
    "r.braf <- 0.5*r\n",
    "d.nras <- 2.77\n",
    "d.braf <- 2.27\n",
    "\n",
    "lscd.fun.nras <- function(delta) {\n",
    "    return(delta*s*(80*d.nras+2)-2)\n",
    "}\n",
    "\n",
    "lscd.fun.braf <- function(delta) {\n",
    "    return(delta*s*(80*d.braf+2)-2)\n",
    "}\n",
    "\n",
    "ggplot(tv, aes(log10(lscd), log10(df.Lifetime.cancer.risk))) +  geom_smooth(method = \"lmrob\") + geom_point() +\n",
    "    xlab(\"log10(lscd)\") + ylab(\"log10(Lifetime risk)\") + \n",
    "    geom_text(aes(label=ifelse(row.names(tv)==19,as.character(df.X),'')),hjust=0, vjust=0) + \n",
    "    geom_segment(aes(x = log10(lscd.fun.nras(0.001)), y=log10(r.nras), xend = log10(lscd.fun.nras(1)), yend = log10(r.nras)), color = \"red\") +\n",
    "geom_segment(aes(x = log10(lscd.fun.braf(0.001)), y=log10(r.braf), xend = log10(lscd.fun.braf(1)), yend = log10(r.braf)), color = \"green\") +  \n",
    "theme_minimal()"
   ]
  },
  {
   "cell_type": "markdown",
   "metadata": {},
   "source": [
    "The green line gives the range of positions for BRAF melanoma, when the tissue size ranges from $0.001s$ to $s$, where $s$ is the total number of stem cells estimated by Tomasetti and Vogelstein. The redi line is the same for NRAS."
   ]
  }
 ],
 "metadata": {
  "anaconda-cloud": {},
  "kernelspec": {
   "display_name": "R",
   "language": "R",
   "name": "ir"
  },
  "language_info": {
   "codemirror_mode": "r",
   "file_extension": ".r",
   "mimetype": "text/x-r-source",
   "name": "R",
   "pygments_lexer": "r",
   "version": "3.3.1"
  }
 },
 "nbformat": 4,
 "nbformat_minor": 1
}
