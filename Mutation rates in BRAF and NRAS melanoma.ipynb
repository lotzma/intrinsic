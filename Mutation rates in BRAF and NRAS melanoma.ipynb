{
 "cells": [
  {
   "cell_type": "markdown",
   "metadata": {},
   "source": [
    "<img style=\"float: left; width: 260px;\" src=\"images/shutterstock_318255209.jpg\">\n",
    "***\n",
    "## <font color=\"grey\"> $\\quad$ Mutation rates in BRAF and NRAS melanoma</font>\n",
    "***\n",
    "$\\newcommand{\\vct}[1]{\\mathbf{#1}}$\n",
    "$\\newcommand{\\mtx}[1]{\\mathbf{#1}}$\n",
    "$\\newcommand{\\e}{\\varepsilon}$\n",
    "$\\newcommand{\\norm}[1]{\\|#1\\|}$\n",
    "$\\newcommand{\\minimize}{\\mathrm{minimize}\\quad}$\n",
    "$\\newcommand{\\maximize}{\\mathrm{maximize}\\quad}$\n",
    "$\\newcommand{\\subjto}{\\quad\\text{subject to}\\quad}$\n",
    "$\\newcommand{\\R}{\\mathbb{R}}$\n",
    "$\\newcommand{\\trans}{T}$\n",
    "$\\newcommand{\\ip}[2]{\\langle {#1}, {#2} \\rangle}$\n",
    "$\\newcommand{\\zerovct}{\\vct{0}}$\n",
    "$\\newcommand{\\diff}[1]{\\mathrm{d}{#1}}$\n",
    "$\\newcommand{\\conv}{\\operatorname{conv}}$\n",
    "$\\newcommand{\\inter}{{\\operatorname{int}}}$"
   ]
  },
  {
   "cell_type": "markdown",
   "metadata": {},
   "source": [
    "---\n",
    "## <font color=\"grey\">  1. Preliminaries</font>\n",
    "---"
   ]
  },
  {
   "cell_type": "markdown",
   "metadata": {},
   "source": [
    "We make the assumption that mutations accounted for by Signature 1 (or Signature 1 + Signature 5) accumulate at a constant rate over time ([Alexandrov et al](http://www.nature.com/ng/journal/v47/n12/full/ng.3441.html))."
   ]
  },
  {
   "cell_type": "markdown",
   "metadata": {},
   "source": [
    "### <font color=\"grey\">  1.1. Mutation signatures</font>"
   ]
  },
  {
   "cell_type": "markdown",
   "metadata": {},
   "source": [
    "The mutation alphabet $\\Theta$ we consider consists of single nucleotide substitutions in trinucleotide context (or example, ATC $\\rightarrow$ AGC). The subsitution considered are from Cytosine and Thymine to one of the three other bases, making 6 possible subsitutions in $4\\times 4=16$ contexts. The alphabet thus consists of $K=96$ elements. A **mutation catalog** $\\vct{m}\\in \\R^K$ consists of the number of times (per gigabase pair) each of the substitutions occurs within a sample. According to [Alexandrov et al](http://www.nature.com/nature/journal/v500/n7463/full/nature12477.html), a mutation catalog can be written as non-negative linear combination\n",
    "\n",
    "\\begin{equation*}\n",
    "  \\vct{m} = \\sum_{i=1}^N e_i \\vct{p}_i,\n",
    "\\end{equation*}\n",
    "\n",
    "where the $\\vct{p}_i\\in \\R^K$ are probability distributions on the alphabet $\\Theta$, called **mutation signatures**. It was shown by [Alexandrov et al](http://www.nature.com/nature/journal/v500/n7463/full/nature12477.html) that the mutation catalogs of many cancer types can be expressed using a small number $N$ of signatures. A catalog of mutation signatures can be found in the [COSMIC Database](http://cancer.sanger.ac.uk/cosmic). Of interest in Melanoma are signatures $1$, $5$ and $7$ from this database, pictured below."
   ]
  },
  {
   "cell_type": "code",
   "execution_count": 42,
   "metadata": {
    "collapsed": false,
    "scrolled": true
   },
   "outputs": [
    {
     "data": {},
     "metadata": {},
     "output_type": "display_data"
    },
    {
     "data": {},
     "metadata": {},
     "output_type": "display_data"
    },
    {
     "data": {
      "image/png": "[encoded data removed]",
      "text/plain": [
       "plot without title"
      ]
     },
     "metadata": {},
     "output_type": "display_data"
    },
    {
     "data": {},
     "metadata": {},
     "output_type": "display_data"
    },
    {
     "data": {
      "image/png": "[encoded data removed]",
      "text/plain": [
       "plot without title"
      ]
     },
     "metadata": {},
     "output_type": "display_data"
    },
    {
     "data": {
      "image/png": "[encoded data removed]",
      "text/plain": [
       "plot without title"
      ]
     },
     "metadata": {},
     "output_type": "display_data"
    }
   ],
   "source": [
    "library(ggplot2)\n",
    "all_sigs <- read.csv('data/signatures_probabilities.txt', sep=\"\\t\")\n",
    "# Do some preformating for plot\n",
    "all_sigs$Context <- paste(substr(all_sigs$Trinucleotide, 1, 1), substr(all_sigs$Trinucleotide, 3, 3), sep='')\n",
    "# This is only because we're using Jupyter notebook\n",
    "library(repr)\n",
    "options(repr.plot.width=8, repr.plot.height=3)\n",
    "# Sig 1\n",
    "ggplot(data=all_sigs, aes(x=Context, y=Signature.1)) +\n",
    "    geom_bar(stat=\"identity\", aes(fill=Substitution.Type), width=0.7) + facet_wrap(~ Substitution.Type, ncol=6) +\n",
    "    xlab(\"Substitution\") + ylab(\"Exposure\") +  guides(fill=FALSE) + ggtitle(\"Signature 1\") +\n",
    "    theme(axis.text.x=element_blank(), axis.ticks.x=element_blank()) + scale_y_continuous(expand = c(0,0))\n",
    "# Sig 5\n",
    "ggplot(data=all_sigs, aes(x=Context, y=Signature.5)) +\n",
    "    geom_bar(stat=\"identity\", aes(fill=Substitution.Type), width=0.7) + facet_wrap(~ Substitution.Type, ncol=6) +\n",
    "    xlab(\"Substitution\") + ylab(\"Exposure\") +  guides(fill=FALSE) + ggtitle(\"Signature 5\") +\n",
    "    theme(axis.text.x=element_blank(), axis.ticks.x=element_blank()) + scale_y_continuous(expand = c(0,0))\n",
    "# Sig 7\n",
    "ggplot(data=all_sigs, aes(x=Context, y=Signature.7)) +\n",
    "    geom_bar(stat=\"identity\", aes(fill=Substitution.Type), width=0.7) + facet_wrap(~ Substitution.Type, ncol=6) +\n",
    "    xlab(\"Substitution\") + ylab(\"Exposure\") +  guides(fill=FALSE) + ggtitle(\"Signature 7\") +\n",
    "    theme(axis.text.x=element_blank(), axis.ticks.x=element_blank()) + scale_y_continuous(expand = c(0,0))"
   ]
  },
  {
   "cell_type": "markdown",
   "metadata": {},
   "source": [
    "The number of mutations (SNVs) attributed to a signature $\\vct{p}_i$ is $[e_i\\vct{p}_i]$. Mutations attributable to Signatures 1 and Signature 5 appear to accumulate at a constant rate over time in some cancers ([Alexandrov et al](http://www.nature.com/ng/journal/v47/n12/full/ng.3441.html)), while Signature 7 has been linked to UV exposure. In our Melanoma samples, only Signatures 1, 5 and 7 have a significant presence. To derive the exposure, we compute a non-negative least squares\n",
    "\n",
    "\\begin{equation*}\n",
    "  \\underset{\\vct{e}\\geq \\zerovct}{\\minimize}\\norm{\\vct{m}-\\mtx{P}\\vct{e}}^2,\n",
    "\\end{equation*}\n",
    "\n",
    "where $\\mtx{P}=[\\vct{p}_1,\\dots,\\vct{p}_N]$ and $\\vct{e}=(e_1,\\dots,e_N)^{\\trans}$. I'm not sure whether it's a good idea to do some bootstrap resampling here: normalize $\\tilde{\\vct{m}} = \\vct{m}/(\\sum_i m_i)$, then resample a number of vectors $\\vct{m}$ from this discrete probability distribution and compute the exposures, finally average these. **TODO** Look at a refined way of extracting signatures."
   ]
  },
  {
   "cell_type": "markdown",
   "metadata": {},
   "source": [
    "Out of cursioty, we look at the C>T transpositions in signatures 1 and 7 in more detail."
   ]
  },
  {
   "cell_type": "code",
   "execution_count": 43,
   "metadata": {
    "collapsed": false
   },
   "outputs": [
    {
     "data": {},
     "metadata": {},
     "output_type": "display_data"
    },
    {
     "data": {},
     "metadata": {},
     "output_type": "display_data"
    },
    {
     "data": {
      "image/png": "[encoded data removed]",
      "text/plain": [
       "plot without title"
      ]
     },
     "metadata": {},
     "output_type": "display_data"
    },
    {
     "data": {
      "image/png": "[encoded data removed]",
      "text/plain": [
       "plot without title"
      ]
     },
     "metadata": {},
     "output_type": "display_data"
    }
   ],
   "source": [
    "ct <- subset(all_sigs, Substitution.Type == \"C>T\")\n",
    "ggplot(data=ct, aes(x=Trinucleotide, y=Signature.1)) +\n",
    "    geom_bar(stat=\"identity\", width=0.7) +\n",
    "    xlab(\"Trinucloutide context\") + ylab(\"Exposure\") +  guides(fill=FALSE) + ggtitle(\"Signature 1, C>T\") +\n",
    "    theme(axis.ticks.x=element_blank()) + scale_y_continuous(expand = c(0,0))\n",
    "ggplot(data=ct, aes(x=Trinucleotide, y=Signature.7)) +\n",
    "    geom_bar(stat=\"identity\", width=0.7) +\n",
    "    xlab(\"Trinucloutide context\") + ylab(\"Exposure\") +  guides(fill=FALSE) + ggtitle(\"Signature 7, C>T\") +\n",
    "    theme(axis.ticks.x=element_blank()) + scale_y_continuous(expand = c(0,0))"
   ]
  },
  {
   "cell_type": "markdown",
   "metadata": {},
   "source": [
    "### <font color=\"grey\">  1.2. Datasets</font>"
   ]
  },
  {
   "cell_type": "markdown",
   "metadata": {},
   "source": [
    "We use data from the [TCGA SKCM](https://gdc-portal.nci.nih.gov/projects/TCGA-SKCM) database. The specific prepared files are from the supplementary material to [Robles-Espinoza et al](http://www.nature.com/articles/ncomms12064) and from a file provided by Amaya and Simon. The data is loaded an prepared using an external script, which prepares a data frame including most of the information from the [Robles-Espinoza et al](http://www.nature.com/articles/ncomms12064), enhanced with the SNV calls and BRAF/NRAF classification provided by Amaya and Simon. Eventually one might want to try out more datasets. **TODO** Get larger datasets."
   ]
  },
  {
   "cell_type": "code",
   "execution_count": 44,
   "metadata": {
    "collapsed": false
   },
   "outputs": [
    {
     "data": {
      "text/html": [
       "<ol class=list-inline>\n",
       "\t<li>196</li>\n",
       "\t<li>25</li>\n",
       "</ol>\n"
      ],
      "text/latex": [
       "\\begin{enumerate*}\n",
       "\\item 196\n",
       "\\item 25\n",
       "\\end{enumerate*}\n"
      ],
      "text/markdown": [
       "1. 196\n",
       "2. 25\n",
       "\n",
       "\n"
      ],
      "text/plain": [
       "[1] 196  25"
      ]
     },
     "metadata": {},
     "output_type": "display_data"
    }
   ],
   "source": [
    "# Load data using external script\n",
    "source('prepare.R')\n",
    "dim(data)"
   ]
  },
  {
   "cell_type": "markdown",
   "metadata": {},
   "source": [
    "The variables **age_at_diagnosis**, **breslow**, **sig1**, **sig5**, **sig7**, **totalNonUV**, **totalSNV** are quantitative, the variables **gender** (2), **clark_level** (5), **ulceration** (2), **tissue_source_site** (12), **body_area** (4), **rgeno** (6), **Cohort** (2) are categorial, and **V60L**, **D84E**, **V92M**, **R142H**, **R151C**, **I155T**, **R160W**, **R163Q**, **D294H**, **other.rscore** are ordinal with three levels (0,1,2)."
   ]
  },
  {
   "cell_type": "markdown",
   "metadata": {},
   "source": [
    "### <font color=\"grey\">  1.3. Melanocyte proliferation and other information</font>"
   ]
  },
  {
   "cell_type": "markdown",
   "metadata": {},
   "source": [
    "Based on [Tomasetti and Vogelstein](http://science.sciencemag.org/content/347/6217/78), melanocytes divide every $\\sim 147$ days, or $2.48$ times per year. Moreover, Tomasetti and Vogelstein assume that melanocytes are stem cells. I found other interesting information in [Cichorek et al](https://www.ncbi.nlm.nih.gov/pmc/articles/PMC3834696/), [Whiteman et al](https://www.ncbi.nlm.nih.gov/pmc/articles/PMC3395885/), [Zabierowski et al](https://www.ncbi.nlm.nih.gov/pubmed/21410654), [Hoek and Goding](https://www.ncbi.nlm.nih.gov/pubmed/20726948), and [Schatton and Frank](https://www.ncbi.nlm.nih.gov/pmc/articles/PMC2885609/). **TODO** Make sense of all of this."
   ]
  },
  {
   "cell_type": "markdown",
   "metadata": {},
   "source": [
    "### <font color=\"grey\">  1.4. Goals</font>"
   ]
  },
  {
   "cell_type": "markdown",
   "metadata": {},
   "source": [
    "The way I understand it, we want to find evidence that melanoma with NRAS mutations and with BRAF mutation have different cells of origin. I assume that we would want to find reasonably good estimates for the proliferation rates from the data. This needs a good model for the process through which mutations accumulate. To interpret the result, we need some kind of information about the possible types of cell where melanoma may originate (see previous paragraph)."
   ]
  },
  {
   "cell_type": "markdown",
   "metadata": {},
   "source": [
    "---\n",
    "## <font color=\"grey\">  2. Initial exploration </font>\n",
    "---"
   ]
  },
  {
   "cell_type": "markdown",
   "metadata": {},
   "source": [
    "In this section we merely verify that there **is** a difference between the BRAF and the NRAS samples. The exact nature of this difference will be explored in the next section.\n",
    "We begin with a naive regression of the exposure to signature 1 against age. Looking at some plots gives some indication that robust regression (which is more insensitive to outliers) may provide some information. Here we look at Signature 1+5, Signature 7, totalNonUV, and totalSNV from the datasets, againts age."
   ]
  },
  {
   "cell_type": "code",
   "execution_count": 45,
   "metadata": {
    "collapsed": false
   },
   "outputs": [],
   "source": [
    "library(MASS)\n",
    "library(robustbase)"
   ]
  },
  {
   "cell_type": "code",
   "execution_count": 46,
   "metadata": {
    "collapsed": false
   },
   "outputs": [
    {
     "name": "stderr",
     "output_type": "stream",
     "text": [
      "Warning message:\n",
      "\"Removed 14 rows containing non-finite values (stat_smooth).\"Warning message:\n",
      "\"Removed 14 rows containing missing values (geom_point).\""
     ]
    },
    {
     "data": {},
     "metadata": {},
     "output_type": "display_data"
    },
    {
     "name": "stderr",
     "output_type": "stream",
     "text": [
      "Warning message:\n",
      "\"Removed 21 rows containing non-finite values (stat_smooth).\"Warning message:\n",
      "\"Removed 21 rows containing missing values (geom_point).\""
     ]
    },
    {
     "data": {},
     "metadata": {},
     "output_type": "display_data"
    },
    {
     "data": {
      "image/png": "[encoded data removed]",
      "text/plain": [
       "plot without title"
      ]
     },
     "metadata": {},
     "output_type": "display_data"
    },
    {
     "data": {
      "image/png": "[encoded data removed]",
      "text/plain": [
       "plot without title"
      ]
     },
     "metadata": {},
     "output_type": "display_data"
    }
   ],
   "source": [
    "ggplot(data, aes(age_at_diagnosis, sig1+sig5, color=Cohort)) +  geom_smooth(method = \"lmrob\") + geom_point() +\n",
    "    xlab(\"Age\") + ylab(\"Signature 1+5 mutations\") + scale_y_continuous(limits = c(0,200)) + theme_minimal()\n",
    "ggplot(data, aes(age_at_diagnosis, sig7, color=Cohort)) +  geom_smooth(method = \"lmrob\") + geom_point() +\n",
    "    xlab(\"Age\") + ylab(\"Signature 7 mutations\") + scale_y_continuous(limits = c(0,1000)) + theme_minimal()"
   ]
  },
  {
   "cell_type": "markdown",
   "metadata": {},
   "source": [
    "We now plot the robust regression lines for the totalNonUV column in the dataset (not sure what this represents exactly). The result looks much cleaner."
   ]
  },
  {
   "cell_type": "code",
   "execution_count": 47,
   "metadata": {
    "collapsed": false
   },
   "outputs": [
    {
     "name": "stderr",
     "output_type": "stream",
     "text": [
      "Warning message:\n",
      "\"Removed 12 rows containing non-finite values (stat_smooth).\"Warning message:\n",
      "\"Removed 12 rows containing missing values (geom_point).\""
     ]
    },
    {
     "data": {},
     "metadata": {},
     "output_type": "display_data"
    },
    {
     "name": "stderr",
     "output_type": "stream",
     "text": [
      "Warning message:\n",
      "\"Removed 22 rows containing non-finite values (stat_smooth).\"Warning message:\n",
      "\"Removed 22 rows containing missing values (geom_point).\""
     ]
    },
    {
     "data": {},
     "metadata": {},
     "output_type": "display_data"
    },
    {
     "data": {
      "image/png": "[encoded data removed]",
      "text/plain": [
       "plot without title"
      ]
     },
     "metadata": {},
     "output_type": "display_data"
    },
    {
     "name": "stderr",
     "output_type": "stream",
     "text": [
      "Warning message:\n",
      "\"Removed 26 rows containing non-finite values (stat_smooth).\"Warning message:\n",
      "\"Removed 26 rows containing missing values (geom_point).\""
     ]
    },
    {
     "data": {},
     "metadata": {},
     "output_type": "display_data"
    },
    {
     "data": {
      "image/png": "[encoded data removed]",
      "text/plain": [
       "plot without title"
      ]
     },
     "metadata": {},
     "output_type": "display_data"
    },
    {
     "data": {
      "image/png": "[encoded data removed]",
      "text/plain": [
       "plot without title"
      ]
     },
     "metadata": {},
     "output_type": "display_data"
    }
   ],
   "source": [
    "ggplot(data, aes(age_at_diagnosis, totalNonUV, color=Cohort)) +  geom_smooth(method = \"lmrob\") + geom_point() +\n",
    "    xlab(\"Age\") + ylab(\"non UV mutations\") + scale_y_continuous(limits = c(0,200)) +\n",
    "    theme_minimal()\n",
    "ggplot(data, aes(age_at_diagnosis, totalSNV-totalNonUV, color=Cohort)) +  geom_smooth(method = \"lmrob\") + geom_point() +\n",
    "    xlab(\"Age\") + ylab(\"UV mutations\") + scale_y_continuous(limits = c(0,1000)) +\n",
    "    theme_minimal()\n",
    "ggplot(data, aes(age_at_diagnosis, totalSNV, color=Cohort)) +  geom_smooth(method = \"lmrob\") + geom_point() +\n",
    "    xlab(\"Age\") + ylab(\"Total SNVs\") + scale_y_continuous(limits = c(0,1000)) +\n",
    "    theme_minimal()"
   ]
  },
  {
   "cell_type": "markdown",
   "metadata": {},
   "source": [
    "In the NRAS samples, the model does not seem to fit very well (maybe not enough data). In the BRAF example, the intercept is statistically significant, while the slope is not. Before going into more detail, we first check whether a linear model is a good way to model this data in the first place. For this, we compare the quantiles of the residuals with those of the normal distribution using a Q-Q plot."
   ]
  },
  {
   "cell_type": "markdown",
   "metadata": {},
   "source": [
    "Do a Q-Q plot to compare the quantiles of the residuals with those of the normal distribution. This is a type of visual goodness-of-fit test, if the model was adequate, we would see a straight line. If the "
   ]
  },
  {
   "cell_type": "code",
   "execution_count": 48,
   "metadata": {
    "collapsed": false
   },
   "outputs": [
    {
     "data": {},
     "metadata": {},
     "output_type": "display_data"
    },
    {
     "data": {
      "image/png": "[encoded data removed]",
      "text/plain": [
       "plot without title"
      ]
     },
     "metadata": {},
     "output_type": "display_data"
    }
   ],
   "source": [
    "rres <- lmrob(totalNonUV ~ age_at_diagnosis, data = data)\n",
    "ggplot(data = data, aes(sample = rres$residuals)) + stat_qq(aes(color=Cohort)) + ylab(\"Residual\")"
   ]
  },
  {
   "cell_type": "markdown",
   "metadata": {},
   "source": [
    "The shape indicates that the residuals are right-skewed. While the results of this simple robust linear regression are not very useful, they show, at least, a difference between the exposure to signature 1 in NRAS and BRAF samples. A different regression model, using the logarithms of the number of mutations, may be more appropriate."
   ]
  },
  {
   "cell_type": "code",
   "execution_count": 49,
   "metadata": {
    "collapsed": false
   },
   "outputs": [
    {
     "data": {},
     "metadata": {},
     "output_type": "display_data"
    },
    {
     "data": {
      "image/png": "[encoded data removed]",
      "text/plain": [
       "plot without title"
      ]
     },
     "metadata": {},
     "output_type": "display_data"
    }
   ],
   "source": [
    "rres.log <- lmrob(log(totalNonUV) ~ age_at_diagnosis, data = data)\n",
    "ggplot(data, aes(sample = rres.log$resid, color = Cohort)) + stat_qq() + ylab(\"Residual\")"
   ]
  },
  {
   "cell_type": "markdown",
   "metadata": {},
   "source": [
    "Now this looks better, and it suggests that mutations accumulate according to an exponential rule within a reasonable age range."
   ]
  },
  {
   "cell_type": "code",
   "execution_count": 50,
   "metadata": {
    "collapsed": false
   },
   "outputs": [
    {
     "name": "stderr",
     "output_type": "stream",
     "text": [
      "Warning message:\n",
      "\"Removed 1 rows containing non-finite values (stat_smooth).\"Warning message:\n",
      "\"Removed 1 rows containing missing values (geom_point).\""
     ]
    },
    {
     "data": {},
     "metadata": {},
     "output_type": "display_data"
    },
    {
     "data": {
      "image/png": "[encoded data removed]",
      "text/plain": [
       "plot without title"
      ]
     },
     "metadata": {},
     "output_type": "display_data"
    }
   ],
   "source": [
    "ggplot(data, aes(age_at_diagnosis, log(totalNonUV), color=Cohort)) +  geom_smooth(method = \"lmrob\") + geom_point() +\n",
    "    xlab(\"Age\") + ylab(\"non UV mutations\") + scale_y_continuous(limits = c(1,6)) + theme_minimal()"
   ]
  },
  {
   "cell_type": "markdown",
   "metadata": {},
   "source": [
    "Note that the plot was clipped, it doesn't show some of the outliers. Based on this picture, we make a robust regression of the logarithms of the total non UV mutations against age and see if the difference between the two cohorts is significant."
   ]
  },
  {
   "cell_type": "code",
   "execution_count": 51,
   "metadata": {
    "collapsed": false
   },
   "outputs": [
    {
     "data": {
      "text/plain": [
       "\n",
       "Call:\n",
       "lmrob(formula = log(totalNonUV) ~ age_at_diagnosis + Cohort, data = data)\n",
       " \\--> method = \"MM\"\n",
       "Residuals:\n",
       "     Min       1Q   Median       3Q      Max \n",
       "-2.44847 -0.45761 -0.01069  0.45792  2.17749 \n",
       "\n",
       "Coefficients:\n",
       "                 Estimate Std. Error t value Pr(>|t|)    \n",
       "(Intercept)      3.653310   0.177746  20.554  < 2e-16 ***\n",
       "age_at_diagnosis 0.003558   0.002982   1.193 0.234349    \n",
       "CohortNRAS       0.417979   0.109117   3.831 0.000173 ***\n",
       "---\n",
       "Signif. codes:  0 '***' 0.001 '**' 0.01 '*' 0.05 '.' 0.1 ' ' 1\n",
       "\n",
       "Robust residual standard error: 0.7374 \n",
       "Multiple R-squared:  0.08066,\tAdjusted R-squared:  0.07113 \n",
       "Convergence in 10 IRWLS iterations\n",
       "\n",
       "Robustness weights: \n",
       " 18 weights are ~= 1. The remaining 178 ones are summarized as\n",
       "   Min. 1st Qu.  Median    Mean 3rd Qu.    Max. \n",
       " 0.2477  0.8640  0.9461  0.8972  0.9877  0.9990 \n",
       "Algorithmic parameters: \n",
       "       tuning.chi                bb        tuning.psi        refine.tol \n",
       "        1.548e+00         5.000e-01         4.685e+00         1.000e-07 \n",
       "          rel.tol         solve.tol       eps.outlier             eps.x \n",
       "        1.000e-07         1.000e-07         5.102e-04         1.564e-10 \n",
       "warn.limit.reject warn.limit.meanrw \n",
       "        5.000e-01         5.000e-01 \n",
       "     nResample         max.it       best.r.s       k.fast.s          k.max \n",
       "           500             50              2              1            200 \n",
       "   maxit.scale      trace.lev            mts     compute.rd fast.s.large.n \n",
       "           200              0           1000              0           2000 \n",
       "                  psi           subsampling                   cov \n",
       "           \"bisquare\"         \"nonsingular\"         \".vcov.avar1\" \n",
       "compute.outlier.stats \n",
       "                 \"SM\" \n",
       "seed : int(0) "
      ]
     },
     "metadata": {},
     "output_type": "display_data"
    }
   ],
   "source": [
    "rres.cohort <- lmrob(log(totalNonUV) ~ age_at_diagnosis + Cohort, data = data)\n",
    "summary(rres.cohort)"
   ]
  },
  {
   "cell_type": "markdown",
   "metadata": {},
   "source": [
    "It appears that in this model, the cohort is highly significant. This merits looking at the effect of removing this variable, and at the two models separately."
   ]
  },
  {
   "cell_type": "code",
   "execution_count": 52,
   "metadata": {
    "collapsed": false
   },
   "outputs": [
    {
     "data": {
      "text/html": [
       "<table>\n",
       "<thead><tr><th></th><th scope=col>pseudoDf</th><th scope=col>Test.Stat</th><th scope=col>Df</th><th scope=col>Pr(&gt;chisq)</th></tr></thead>\n",
       "<tbody>\n",
       "\t<tr><th scope=row>1</th><td>193</td><td> NA</td><td> NA</td><td> NA</td></tr>\n",
       "\t<tr><th scope=row>2</th><td>1.940000e+02</td><td>1.467313e+01</td><td>1.000000e+00</td><td>1.278558e-04</td></tr>\n",
       "</tbody>\n",
       "</table>\n"
      ],
      "text/latex": [
       "\\begin{tabular}{r|llll}\n",
       "  & pseudoDf & Test.Stat & Df & Pr(>chisq)\\\\\n",
       "\\hline\n",
       "\t1 & 193 &  NA &  NA &  NA\\\\\n",
       "\t2 & 1.940000e+02 & 1.467313e+01 & 1.000000e+00 & 1.278558e-04\\\\\n",
       "\\end{tabular}\n"
      ],
      "text/plain": [
       "Robust Wald Test Table\n",
       "\n",
       "Model 1: log(totalNonUV) ~ age_at_diagnosis + Cohort\n",
       "Model 2: log(totalNonUV) ~ age_at_diagnosis\n",
       "Largest model fitted by lmrob(), i.e. SM\n",
       "\n",
       "  pseudoDf Test.Stat Df Pr(>chisq)    \n",
       "1      193                            \n",
       "2      194    14.673  1  0.0001279 ***\n",
       "---\n",
       "Signif. codes:  0 '***' 0.001 '**' 0.01 '*' 0.05 '.' 0.1 ' ' 1"
      ]
     },
     "metadata": {},
     "output_type": "display_data"
    }
   ],
   "source": [
    "# Test difference of the residuals of both models using a $\\chi^2$ test\n",
    "anova(rres.log, rres.cohort)"
   ]
  },
  {
   "cell_type": "markdown",
   "metadata": {},
   "source": [
    "**TODO** Add more goodness-of-fit techniques."
   ]
  },
  {
   "cell_type": "markdown",
   "metadata": {},
   "source": [
    "This looks good. Finally, we look at the subsets of NRAS and BRAF samples separately."
   ]
  },
  {
   "cell_type": "code",
   "execution_count": 53,
   "metadata": {
    "collapsed": false
   },
   "outputs": [
    {
     "data": {
      "text/plain": [
       "\n",
       "Call:\n",
       "lmrob(formula = log(totalNonUV) ~ age_at_diagnosis, data = subset(data, Cohort == \n",
       "    \"BRAF\"))\n",
       " \\--> method = \"MM\"\n",
       "Residuals:\n",
       "     Min       1Q   Median       3Q      Max \n",
       "-2.45011 -0.46596  0.05363  0.39980  2.07914 \n",
       "\n",
       "Coefficients:\n",
       "                  Estimate Std. Error t value Pr(>|t|)    \n",
       "(Intercept)       3.889811   0.214646  18.122   <2e-16 ***\n",
       "age_at_diagnosis -0.001047   0.003713  -0.282    0.778    \n",
       "---\n",
       "Signif. codes:  0 '***' 0.001 '**' 0.01 '*' 0.05 '.' 0.1 ' ' 1\n",
       "\n",
       "Robust residual standard error: 0.7776 \n",
       "Multiple R-squared:  0.0004444,\tAdjusted R-squared:  -0.007955 \n",
       "Convergence in 9 IRWLS iterations\n",
       "\n",
       "Robustness weights: \n",
       " 12 weights are ~= 1. The remaining 109 ones are summarized as\n",
       "   Min. 1st Qu.  Median    Mean 3rd Qu.    Max. \n",
       " 0.3000  0.8538  0.9473  0.8921  0.9869  0.9985 \n",
       "Algorithmic parameters: \n",
       "       tuning.chi                bb        tuning.psi        refine.tol \n",
       "        1.548e+00         5.000e-01         4.685e+00         1.000e-07 \n",
       "          rel.tol         solve.tol       eps.outlier             eps.x \n",
       "        1.000e-07         1.000e-07         8.264e-04         1.492e-10 \n",
       "warn.limit.reject warn.limit.meanrw \n",
       "        5.000e-01         5.000e-01 \n",
       "     nResample         max.it       best.r.s       k.fast.s          k.max \n",
       "           500             50              2              1            200 \n",
       "   maxit.scale      trace.lev            mts     compute.rd fast.s.large.n \n",
       "           200              0           1000              0           2000 \n",
       "                  psi           subsampling                   cov \n",
       "           \"bisquare\"         \"nonsingular\"         \".vcov.avar1\" \n",
       "compute.outlier.stats \n",
       "                 \"SM\" \n",
       "seed : int(0) "
      ]
     },
     "metadata": {},
     "output_type": "display_data"
    },
    {
     "data": {
      "text/plain": [
       "\n",
       "Call:\n",
       "lmrob(formula = log(totalNonUV) ~ age_at_diagnosis, data = subset(data, Cohort == \n",
       "    \"NRAS\"))\n",
       " \\--> method = \"MM\"\n",
       "Residuals:\n",
       "     Min       1Q   Median       3Q      Max \n",
       "-1.79177 -0.39931  0.01097  0.42423  1.73313 \n",
       "\n",
       "Coefficients:\n",
       "                 Estimate Std. Error t value Pr(>|t|)    \n",
       "(Intercept)      3.599473   0.273280  13.171   <2e-16 ***\n",
       "age_at_diagnosis 0.011709   0.004786   2.446   0.0168 *  \n",
       "---\n",
       "Signif. codes:  0 '***' 0.001 '**' 0.01 '*' 0.05 '.' 0.1 ' ' 1\n",
       "\n",
       "Robust residual standard error: 0.6622 \n",
       "Multiple R-squared:  0.06822,\tAdjusted R-squared:  0.05545 \n",
       "Convergence in 8 IRWLS iterations\n",
       "\n",
       "Robustness weights: \n",
       " 8 weights are ~= 1. The remaining 67 ones are summarized as\n",
       "   Min. 1st Qu.  Median    Mean 3rd Qu.    Max. \n",
       " 0.4442  0.8718  0.9554  0.9066  0.9863  0.9987 \n",
       "Algorithmic parameters: \n",
       "       tuning.chi                bb        tuning.psi        refine.tol \n",
       "        1.548e+00         5.000e-01         4.685e+00         1.000e-07 \n",
       "          rel.tol         solve.tol       eps.outlier             eps.x \n",
       "        1.000e-07         1.000e-07         1.333e-03         1.564e-10 \n",
       "warn.limit.reject warn.limit.meanrw \n",
       "        5.000e-01         5.000e-01 \n",
       "     nResample         max.it       best.r.s       k.fast.s          k.max \n",
       "           500             50              2              1            200 \n",
       "   maxit.scale      trace.lev            mts     compute.rd fast.s.large.n \n",
       "           200              0           1000              0           2000 \n",
       "                  psi           subsampling                   cov \n",
       "           \"bisquare\"         \"nonsingular\"         \".vcov.avar1\" \n",
       "compute.outlier.stats \n",
       "                 \"SM\" \n",
       "seed : int(0) "
      ]
     },
     "metadata": {},
     "output_type": "display_data"
    }
   ],
   "source": [
    "rres.braf <- lmrob(log(totalNonUV) ~ age_at_diagnosis, data = subset(data, Cohort==\"BRAF\"))\n",
    "rres.nras <- lmrob(log(totalNonUV) ~ age_at_diagnosis, data = subset(data, Cohort==\"NRAS\"))\n",
    "summary(rres.braf)\n",
    "summary(rres.nras)"
   ]
  },
  {
   "cell_type": "markdown",
   "metadata": {},
   "source": [
    "The conclusion here is that regressing the logarithm of the number of non UV samples against the age gives approximately the same intercept for NRAS and BRAF samples (around $3.6$ to $3.9$), but a significant slope of $0.01$ for NRAS and no slope for BRAF."
   ]
  },
  {
   "cell_type": "markdown",
   "metadata": {},
   "source": [
    "---\n",
    "## <font color=\"grey\">  3. Models </font>\n",
    "---"
   ]
  },
  {
   "cell_type": "markdown",
   "metadata": {},
   "source": [
    "In this section we consider a selection of models for the accumulation of somatic mutations in a cancer genome. The models should eventually be validated both statistically and through a plausible explanation. Ultimately, we do not only want to estimate the parameters of the model that describes the accumulation of mutations over time, but also relate these parameters to cell division rate."
   ]
  },
  {
   "cell_type": "markdown",
   "metadata": {},
   "source": [
    "## <font color=\"grey\">  3.1 Homogeneous Poisson counting process </font>"
   ]
  },
  {
   "cell_type": "markdown",
   "metadata": {},
   "source": [
    "The idea is that at each time (age) interval $\\Delta t$, the number of mutations $N(t+\\Delta t)-N(t)$ follows a Poisson distribution with parameter $\\Delta t \\lambda$. In particular, at time $t$,\n",
    "\n",
    "\\begin{equation*}\n",
    "  \\mtx{P}\\{ N(t) = n\\} = e^{-\\lambda t}\\frac{(\\lambda t)^n}{n!}, \\quad \\mtx{E}[N(t)] = \\lambda t.\n",
    "\\end{equation*}\n",
    "\n",
    "In particular, the **ratio** $N(t)/t$ follows a Poisson distribution with rate $\\lambda$. In fact, if we plot the histogram of this ratio, it does appear to follow Poisson distribution (with fat tails due to outliers)."
   ]
  },
  {
   "cell_type": "code",
   "execution_count": 54,
   "metadata": {
    "collapsed": false
   },
   "outputs": [
    {
     "data": {},
     "metadata": {},
     "output_type": "display_data"
    },
    {
     "data": {
      "image/png": "[encoded data removed]",
      "text/plain": [
       "plot without title"
      ]
     },
     "metadata": {},
     "output_type": "display_data"
    }
   ],
   "source": [
    "ggplot(data, aes(totalNonUV/age_at_diagnosis, fill=Cohort)) +\n",
    "    geom_histogram(binwidth = 0.5, position=\"dodge\") + guides(fill=FALSE) +\n",
    "    facet_wrap(~ Cohort, ncol=2) + xlab(\"Mutations / year\") + ylab(\"Frequency\")"
   ]
  },
  {
   "cell_type": "markdown",
   "metadata": {},
   "source": [
    "For the mean values we have the following box plots."
   ]
  },
  {
   "cell_type": "code",
   "execution_count": 55,
   "metadata": {
    "collapsed": false
   },
   "outputs": [
    {
     "data": {},
     "metadata": {},
     "output_type": "display_data"
    },
    {
     "data": {
      "image/png": "[encoded data removed]",
      "text/plain": [
       "plot without title"
      ]
     },
     "metadata": {},
     "output_type": "display_data"
    }
   ],
   "source": [
    "ggplot(data, aes(Cohort, totalNonUV/age_at_diagnosis, fill=Cohort)) +\n",
    "    geom_boxplot() + ylab(\"non UV mutations / year\") + guides(fill=FALSE)"
   ]
  },
  {
   "cell_type": "markdown",
   "metadata": {},
   "source": [
    "Alternatively, we can try modeling this ratio with a negative binomial distribution, which is suitable in cases where one would normally use the Poisson distribution, but where the variance exceeds the mean. In our case, the mean and variance are given as follows."
   ]
  },
  {
   "cell_type": "code",
   "execution_count": 56,
   "metadata": {
    "collapsed": false
   },
   "outputs": [
    {
     "data": {
      "text/html": [
       "<dl class=dl-horizontal>\n",
       "\t<dt>BRAF</dt>\n",
       "\t\t<dd>\"Mean (Var) = 1.53 (3.19)\"</dd>\n",
       "\t<dt>NRAS</dt>\n",
       "\t\t<dd>\"Mean (Var) = 1.61 (1.40)\"</dd>\n",
       "</dl>\n"
      ],
      "text/markdown": [
       "BRAF\n",
       ":   \"Mean (Var) = 1.53 (3.19)\"NRAS\n",
       ":   \"Mean (Var) = 1.61 (1.40)\"\n",
       "\n"
      ],
      "text/plain": [
       "                      BRAF                       NRAS \n",
       "\"Mean (Var) = 1.53 (3.19)\" \"Mean (Var) = 1.61 (1.40)\" "
      ]
     },
     "metadata": {},
     "output_type": "display_data"
    }
   ],
   "source": [
    "with(data, tapply(totalNonUV/age_at_diagnosis, Cohort, function(x) {\n",
    "  sprintf(\"Mean (Var) = %1.2f (%1.2f)\", mean(x), sd(x)**2)\n",
    "}))"
   ]
  },
  {
   "cell_type": "markdown",
   "metadata": {},
   "source": [
    "We first try a Poisson regression. This is a generalized linear model (GLM) where the dependent variable $N$ is a count variable, and depends on the covariates $X_i$ via\n",
    "\n",
    "\\begin{equation*}\n",
    "  \\log(E[N\\ | \\ \\mtx{X}]) = \\log(t) + \\beta_0+\\sum_{i=1}^p \\beta_i X_i.\n",
    "\\end{equation*}\n",
    "\n",
    "The $\\log(t)$ term is the *exposure*: if we bring it to the left-hand side of the equation we get a model for the ratio $Y/t$. As candidates for the covariates we can take any of the available variables, but we should choose ones for which we have enough data. Here is the list."
   ]
  },
  {
   "cell_type": "code",
   "execution_count": 57,
   "metadata": {
    "collapsed": false
   },
   "outputs": [
    {
     "data": {
      "text/html": [
       "<dl class=dl-horizontal>\n",
       "\t<dt>age_at_diagnosis</dt>\n",
       "\t\t<dd>0</dd>\n",
       "\t<dt>breslow</dt>\n",
       "\t\t<dd>24</dd>\n",
       "\t<dt>gender</dt>\n",
       "\t\t<dd>0</dd>\n",
       "\t<dt>clark_level</dt>\n",
       "\t\t<dd>28</dd>\n",
       "\t<dt>ulceration</dt>\n",
       "\t\t<dd>35</dd>\n",
       "\t<dt>tissue_source_site</dt>\n",
       "\t\t<dd>0</dd>\n",
       "\t<dt>body_area</dt>\n",
       "\t\t<dd>12</dd>\n",
       "\t<dt>tissue_type</dt>\n",
       "\t\t<dd>0</dd>\n",
       "\t<dt>Cohort</dt>\n",
       "\t\t<dd>0</dd>\n",
       "\t<dt>V60L</dt>\n",
       "\t\t<dd>0</dd>\n",
       "\t<dt>D84E</dt>\n",
       "\t\t<dd>0</dd>\n",
       "\t<dt>V92M</dt>\n",
       "\t\t<dd>0</dd>\n",
       "\t<dt>R142H</dt>\n",
       "\t\t<dd>0</dd>\n",
       "\t<dt>R151C</dt>\n",
       "\t\t<dd>0</dd>\n",
       "\t<dt>I155T</dt>\n",
       "\t\t<dd>0</dd>\n",
       "\t<dt>R160W</dt>\n",
       "\t\t<dd>0</dd>\n",
       "\t<dt>R163Q</dt>\n",
       "\t\t<dd>0</dd>\n",
       "\t<dt>D294H</dt>\n",
       "\t\t<dd>0</dd>\n",
       "\t<dt>other.rscore</dt>\n",
       "\t\t<dd>0</dd>\n",
       "\t<dt>rgeno</dt>\n",
       "\t\t<dd>0</dd>\n",
       "\t<dt>sig1</dt>\n",
       "\t\t<dd>0</dd>\n",
       "\t<dt>sig5</dt>\n",
       "\t\t<dd>0</dd>\n",
       "\t<dt>sig7</dt>\n",
       "\t\t<dd>0</dd>\n",
       "\t<dt>totalNonUV</dt>\n",
       "\t\t<dd>0</dd>\n",
       "\t<dt>totalSNV</dt>\n",
       "\t\t<dd>0</dd>\n",
       "</dl>\n"
      ],
      "text/latex": [
       "\\begin{description*}\n",
       "\\item[age\\textbackslash{}\\_at\\textbackslash{}\\_diagnosis] 0\n",
       "\\item[breslow] 24\n",
       "\\item[gender] 0\n",
       "\\item[clark\\textbackslash{}\\_level] 28\n",
       "\\item[ulceration] 35\n",
       "\\item[tissue\\textbackslash{}\\_source\\textbackslash{}\\_site] 0\n",
       "\\item[body\\textbackslash{}\\_area] 12\n",
       "\\item[tissue\\textbackslash{}\\_type] 0\n",
       "\\item[Cohort] 0\n",
       "\\item[V60L] 0\n",
       "\\item[D84E] 0\n",
       "\\item[V92M] 0\n",
       "\\item[R142H] 0\n",
       "\\item[R151C] 0\n",
       "\\item[I155T] 0\n",
       "\\item[R160W] 0\n",
       "\\item[R163Q] 0\n",
       "\\item[D294H] 0\n",
       "\\item[other.rscore] 0\n",
       "\\item[rgeno] 0\n",
       "\\item[sig1] 0\n",
       "\\item[sig5] 0\n",
       "\\item[sig7] 0\n",
       "\\item[totalNonUV] 0\n",
       "\\item[totalSNV] 0\n",
       "\\end{description*}\n"
      ],
      "text/markdown": [
       "age_at_diagnosis\n",
       ":   0breslow\n",
       ":   24gender\n",
       ":   0clark_level\n",
       ":   28ulceration\n",
       ":   35tissue_source_site\n",
       ":   0body_area\n",
       ":   12tissue_type\n",
       ":   0Cohort\n",
       ":   0V60L\n",
       ":   0D84E\n",
       ":   0V92M\n",
       ":   0R142H\n",
       ":   0R151C\n",
       ":   0I155T\n",
       ":   0R160W\n",
       ":   0R163Q\n",
       ":   0D294H\n",
       ":   0other.rscore\n",
       ":   0rgeno\n",
       ":   0sig1\n",
       ":   0sig5\n",
       ":   0sig7\n",
       ":   0totalNonUV\n",
       ":   0totalSNV\n",
       ":   0\n",
       "\n"
      ],
      "text/plain": [
       "  age_at_diagnosis            breslow             gender        clark_level \n",
       "                 0                 24                  0                 28 \n",
       "        ulceration tissue_source_site          body_area        tissue_type \n",
       "                35                  0                 12                  0 \n",
       "            Cohort               V60L               D84E               V92M \n",
       "                 0                  0                  0                  0 \n",
       "             R142H              R151C              I155T              R160W \n",
       "                 0                  0                  0                  0 \n",
       "             R163Q              D294H       other.rscore              rgeno \n",
       "                 0                  0                  0                  0 \n",
       "              sig1               sig5               sig7         totalNonUV \n",
       "                 0                  0                  0                  0 \n",
       "          totalSNV \n",
       "                 0 "
      ]
     },
     "metadata": {},
     "output_type": "display_data"
    }
   ],
   "source": [
    "# Count number of NA in each column\n",
    "sapply(data, function(x) round(100*sum(is.na(x))/dim(data)[1]))"
   ]
  },
  {
   "cell_type": "markdown",
   "metadata": {},
   "source": [
    "As there is too much missing in **ulceration**, **breslow**, and **clark_level**, we omit them from the analysis. For the remaining variables, we get rid of the samples with missing data. **TODO** do some clever imputing using MICE or similar package."
   ]
  },
  {
   "cell_type": "markdown",
   "metadata": {},
   "source": [
    "Before dealing with more covariates, we first try a very simple model that only considers age and cohort."
   ]
  },
  {
   "cell_type": "code",
   "execution_count": 58,
   "metadata": {
    "collapsed": false
   },
   "outputs": [
    {
     "data": {
      "text/plain": [
       "\n",
       "Call:\n",
       "glm(formula = totalNonUV ~ offset(log(age_at_diagnosis)) + Cohort + \n",
       "    rgeno, family = \"poisson\", data = data)\n",
       "\n",
       "Deviance Residuals: \n",
       "    Min       1Q   Median       3Q      Max  \n",
       "-12.454   -5.361   -2.325    2.566   30.649  \n",
       "\n",
       "Coefficients:\n",
       "            Estimate Std. Error z value Pr(>|z|)    \n",
       "(Intercept)  0.02878    0.02237   1.287 0.198233    \n",
       "CohortNRAS   0.20938    0.01678  12.480  < 2e-16 ***\n",
       "rgenor,0    -0.10287    0.02867  -3.589 0.000332 ***\n",
       "rgenoR,0     0.38846    0.02621  14.819  < 2e-16 ***\n",
       "rgenor,r     0.13091    0.03333   3.928 8.56e-05 ***\n",
       "rgenoR,r     0.53196    0.02776  19.163  < 2e-16 ***\n",
       "rgenoR,R     0.56943    0.03041  18.723  < 2e-16 ***\n",
       "---\n",
       "Signif. codes:  0 '***' 0.001 '**' 0.01 '*' 0.05 '.' 0.1 ' ' 1\n",
       "\n",
       "(Dispersion parameter for poisson family taken to be 1)\n",
       "\n",
       "    Null deviance: 10381  on 195  degrees of freedom\n",
       "Residual deviance:  9284  on 189  degrees of freedom\n",
       "AIC: 10446\n",
       "\n",
       "Number of Fisher Scoring iterations: 5\n"
      ]
     },
     "metadata": {},
     "output_type": "display_data"
    }
   ],
   "source": [
    "res.poisson <- glm(totalNonUV ~ offset(log(age_at_diagnosis)) + Cohort + rgeno, data = data, family=\"poisson\")\n",
    "summary(res.poisson)"
   ]
  },
  {
   "cell_type": "markdown",
   "metadata": {},
   "source": [
    "Now divide the data set according to 'rgeno' and 'Cohort' status and estimate the Poisson parameter."
   ]
  },
  {
   "cell_type": "code",
   "execution_count": 80,
   "metadata": {
    "collapsed": false
   },
   "outputs": [
    {
     "data": {
      "text/html": [
       "<strong>(Intercept):</strong> 1.19815624319057"
      ],
      "text/latex": [
       "\\textbf{(Intercept):} 1.19815624319057"
      ],
      "text/markdown": [
       "**(Intercept):** 1.19815624319057"
      ],
      "text/plain": [
       "(Intercept) \n",
       "   1.198156 "
      ]
     },
     "metadata": {},
     "output_type": "display_data"
    }
   ],
   "source": [
    "res_nras.poisson <- glm.nb(totalNonUV ~ offset(log(age_at_diagnosis)) + rgeno + gender, data = subset(data, Cohort==\"NRAS\"), link=log)\n",
    "lambda_nras <- coef(res_nras.poisson)[\"(Intercept)\"]\n",
    "res_braf.poisson <- glm(totalNonUV ~ offset(log(age_at_diagnosis)) + rgeno + gender, data = subset(data, Cohort==\"BRAF\" & age_at_diagnosis < 60), family=\"poisson\")\n",
    "lambda_braf <- coef(res_braf.poisson)[\"(Intercept)\"]\n",
    "exp(lambda_nras)/exp(lambda_braf)"
   ]
  },
  {
   "cell_type": "code",
   "execution_count": 81,
   "metadata": {
    "collapsed": false
   },
   "outputs": [
    {
     "data": {
      "text/html": [
       "<table>\n",
       "<thead><tr><th></th><th scope=col>age_at_diagnosis</th><th scope=col>breslow</th><th scope=col>gender</th><th scope=col>clark_level</th><th scope=col>ulceration</th><th scope=col>tissue_source_site</th><th scope=col>body_area</th><th scope=col>tissue_type</th><th scope=col>Cohort</th><th scope=col>V60L</th><th scope=col>...</th><th scope=col>R163Q</th><th scope=col>D294H</th><th scope=col>other.rscore</th><th scope=col>rgeno</th><th scope=col>sig1</th><th scope=col>sig5</th><th scope=col>sig7</th><th scope=col>totalNonUV</th><th scope=col>totalSNV</th><th scope=col>pred</th></tr></thead>\n",
       "<tbody>\n",
       "\t<tr><th scope=row>5</th><td>53                 </td><td>1.45               </td><td>FEMALE             </td><td>IV                 </td><td>YES                </td><td>D3                 </td><td>Extremities        </td><td>Regional Lymph Node</td><td>BRAF               </td><td>0                  </td><td>...                </td><td>0                  </td><td>1                  </td><td>0                  </td><td>R,0                </td><td>17.1398119764402   </td><td>12.6008391567263   </td><td>294.557531880051   </td><td>41                 </td><td>325                </td><td>90.6261149811452   </td></tr>\n",
       "\t<tr><th scope=row>7</th><td>55                            </td><td>50                            </td><td>MALE                          </td><td>V                             </td><td>NA                            </td><td>D3                            </td><td>Extremities                   </td><td>regional (sub)cutaneous tissue</td><td>BRAF                          </td><td>0                             </td><td>...                           </td><td>0                             </td><td>0                             </td><td>0                             </td><td>R,0                           </td><td>73.3174956798183              </td><td>109.59299424803               </td><td>822.201254851861              </td><td>100                           </td><td>992                           </td><td>107.816797973007              </td></tr>\n",
       "\t<tr><th scope=row>8</th><td>42                 </td><td>0.68               </td><td>FEMALE             </td><td>III                </td><td>NO                 </td><td>D3                 </td><td>Trunk              </td><td>Regional Lymph Node</td><td>BRAF               </td><td>0                  </td><td>...                </td><td>0                  </td><td>0                  </td><td>0                  </td><td>0,0                </td><td>14.5682279700173   </td><td>0                  </td><td>104.809188052072   </td><td>8                  </td><td>117                </td><td>37.4650950448297   </td></tr>\n",
       "\t<tr><th scope=row>11</th><td>55                 </td><td>1.12               </td><td>MALE               </td><td>III                </td><td>NO                 </td><td>D3                 </td><td>Extremities        </td><td>Regional Lymph Node</td><td>BRAF               </td><td>0                  </td><td>...                </td><td>0                  </td><td>0                  </td><td>0                  </td><td>0,0                </td><td>71.50176999122     </td><td>0                  </td><td>442.026711942066   </td><td>55                 </td><td>529                </td><td>56.2453320198363   </td></tr>\n",
       "\t<tr><th scope=row>19</th><td>58                 </td><td>18                 </td><td>MALE               </td><td>V                  </td><td>YES                </td><td>D3                 </td><td>Extremities        </td><td>Regional Lymph Node</td><td>BRAF               </td><td>0                  </td><td>...                </td><td>0                  </td><td>0                  </td><td>0                  </td><td>R,0                </td><td>0.0444979053023078 </td><td>36.5744862136801   </td><td>362.417414282293   </td><td>44                 </td><td>391                </td><td>113.69771422608    </td></tr>\n",
       "\t<tr><th scope=row>21</th><td>30                 </td><td>2.5                </td><td>FEMALE             </td><td>IV                 </td><td>NO                 </td><td>D3                 </td><td>Extremities        </td><td>Regional Lymph Node</td><td>BRAF               </td><td>0                  </td><td>...                </td><td>0                  </td><td>0                  </td><td>0                  </td><td>0,0                </td><td>11.8296266319953   </td><td>16.6954506540675   </td><td>102.710546624005   </td><td>18                 </td><td>133                </td><td>26.7607821748784   </td></tr>\n",
       "\t<tr><th scope=row>23</th><td>24                 </td><td>4.3                </td><td>MALE               </td><td>IV                 </td><td>YES                </td><td>D3                 </td><td>Trunk              </td><td>Regional Lymph Node</td><td>BRAF               </td><td>0                  </td><td>...                </td><td>0                  </td><td>0                  </td><td>0                  </td><td>r,0                </td><td>27.6229359067382   </td><td>28.0737232314018   </td><td>296.494329142354   </td><td>40                 </td><td>355                </td><td>24.330091057114    </td></tr>\n",
       "\t<tr><th scope=row>25</th><td>46                 </td><td>NA                 </td><td>FEMALE             </td><td>NA                 </td><td>NA                 </td><td>D3                 </td><td>NA                 </td><td>Regional Lymph Node</td><td>BRAF               </td><td>0                  </td><td>...                </td><td>0                  </td><td>0                  </td><td>0                  </td><td>r,0                </td><td>31.2667175266899   </td><td>51.0253284931876   </td><td>305.700408723447   </td><td>53                 </td><td>393                </td><td>40.6765468484973   </td></tr>\n",
       "\t<tr><th scope=row>27</th><td>37                 </td><td>NA                 </td><td>MALE               </td><td>NA                 </td><td>NA                 </td><td>D3                 </td><td>NA                 </td><td>Regional Lymph Node</td><td>BRAF               </td><td>0                  </td><td>...                </td><td>0                  </td><td>0                  </td><td>0                  </td><td>R,r                </td><td>36.8988437557085   </td><td>3.91317374591287   </td><td>240.950118505135   </td><td>32                 </td><td>290                </td><td>95.5683643784593   </td></tr>\n",
       "\t<tr><th scope=row>29</th><td>28                 </td><td>NA                 </td><td>MALE               </td><td>NA                 </td><td>NA                 </td><td>D3                 </td><td>Trunk              </td><td>Regional Lymph Node</td><td>BRAF               </td><td>0                  </td><td>...                </td><td>0                  </td><td>0                  </td><td>0                  </td><td>r,0                </td><td>43.0622087807394   </td><td>33.7778696157936   </td><td>95.762025802081    </td><td>33                 </td><td>180                </td><td>28.3851062332997   </td></tr>\n",
       "\t<tr><th scope=row>30</th><td>31                 </td><td>NA                 </td><td>FEMALE             </td><td>NA                 </td><td>NA                 </td><td>D3                 </td><td>Trunk              </td><td>Regional Lymph Node</td><td>BRAF               </td><td>1                  </td><td>...                </td><td>0                  </td><td>0                  </td><td>0                  </td><td>R,r                </td><td>43.6672765287847   </td><td>41.9624670653563   </td><td>210.141011860968   </td><td>68                 </td><td>314                </td><td>69.8438025695824   </td></tr>\n",
       "\t<tr><th scope=row>31</th><td>54                 </td><td>1.3                </td><td>FEMALE             </td><td>IV                 </td><td>NO                 </td><td>D3                 </td><td>Extremities        </td><td>Regional Lymph Node</td><td>BRAF               </td><td>0                  </td><td>...                </td><td>0                  </td><td>1                  </td><td>0                  </td><td>R,0                </td><td>7.89643214591886   </td><td>4.47531891482082   </td><td>123.257568616904   </td><td>29                 </td><td>139                </td><td>92.3360416789027   </td></tr>\n",
       "\t<tr><th scope=row>32</th><td>57                 </td><td>NA                 </td><td>FEMALE             </td><td>NA                 </td><td>NA                 </td><td>D3                 </td><td>NA                 </td><td>Regional Lymph Node</td><td>BRAF               </td><td>0                  </td><td>...                </td><td>0                  </td><td>0                  </td><td>0                  </td><td>r,r                </td><td>39.8162333305549   </td><td>78.6184473614549   </td><td>996.216266833424   </td><td>182                </td><td>1145               </td><td>98.686822842956    </td></tr>\n",
       "\t<tr><th scope=row>34</th><td>39                 </td><td>1.75               </td><td>MALE               </td><td>III                </td><td>NA                 </td><td>D3                 </td><td>Trunk              </td><td>Regional Lymph Node</td><td>BRAF               </td><td>0                  </td><td>...                </td><td>0                  </td><td>1                  </td><td>0                  </td><td>R,R                </td><td>3.0269518502805    </td><td>0                  </td><td>200.667832014      </td><td>23                 </td><td>207                </td><td>62.7114924663022   </td></tr>\n",
       "\t<tr><th scope=row>39</th><td>47                            </td><td>NA                            </td><td>MALE                          </td><td>NA                            </td><td>NA                            </td><td>D3                            </td><td>Trunk                         </td><td>regional (sub)cutaneous tissue</td><td>BRAF                          </td><td>0                             </td><td>...                           </td><td>0                             </td><td>0                             </td><td>0                             </td><td>R,0                           </td><td>16.1328851499948              </td><td>12.698088627506               </td><td>42.8128760744796              </td><td>22                            </td><td>75                            </td><td>92.1343546314789              </td></tr>\n",
       "\t<tr><th scope=row>40</th><td>42                            </td><td>NA                            </td><td>MALE                          </td><td>NA                            </td><td>NA                            </td><td>D3                            </td><td>NA                            </td><td>regional (sub)cutaneous tissue</td><td>BRAF                          </td><td>0                             </td><td>...                           </td><td>0                             </td><td>1                             </td><td>0                             </td><td>R,R                           </td><td>73.4117533134455              </td><td>55.5023585182849              </td><td>954.04307361641               </td><td>132                           </td><td>1095                          </td><td>67.5354534252485              </td></tr>\n",
       "\t<tr><th scope=row>41</th><td>53                 </td><td>2.9                </td><td>MALE               </td><td>IV                 </td><td>NO                 </td><td>D3                 </td><td>Trunk              </td><td>Regional Lymph Node</td><td>BRAF               </td><td>0                  </td><td>...                </td><td>0                  </td><td>0                  </td><td>0                  </td><td>R,r                </td><td>18.5362037955066   </td><td>29.3247700388095   </td><td>561.056023812619   </td><td>96                 </td><td>627                </td><td>136.895224650225   </td></tr>\n",
       "\t<tr><th scope=row>44</th><td>51                 </td><td>7                  </td><td>MALE               </td><td>IV                 </td><td>YES                </td><td>D3                 </td><td>Extremities        </td><td>Regional Lymph Node</td><td>BRAF               </td><td>0                  </td><td>...                </td><td>0                  </td><td>0                  </td><td>0                  </td><td>0,0                </td><td>0                  </td><td>37.8591942354489   </td><td>65.451628020514    </td><td>18                 </td><td>98                 </td><td>52.1547624183937   </td></tr>\n",
       "\t<tr><th scope=row>47</th><td>19                            </td><td>NA                            </td><td>MALE                          </td><td>NA                            </td><td>NA                            </td><td>D3                            </td><td>NA                            </td><td>regional (sub)cutaneous tissue</td><td>BRAF                          </td><td>0                             </td><td>...                           </td><td>0                             </td><td>0                             </td><td>0                             </td><td>R,0                           </td><td>28.2776181713299              </td><td>50.5816427085221              </td><td>502.633033319196              </td><td>64                            </td><td>576                           </td><td>37.2458029361298              </td></tr>\n",
       "\t<tr><th scope=row>49</th><td>56                 </td><td>NA                 </td><td>FEMALE             </td><td>NA                 </td><td>NA                 </td><td>D3                 </td><td>NA                 </td><td>Regional Lymph Node</td><td>BRAF               </td><td>0                  </td><td>...                </td><td>0                  </td><td>0                  </td><td>0                  </td><td>r,0                </td><td>8.44246447728799   </td><td>29.5531444103613   </td><td>68.6208476540098   </td><td>24                 </td><td>112                </td><td>49.5192744242576   </td></tr>\n",
       "\t<tr><th scope=row>52</th><td>15                 </td><td>0.6                </td><td>FEMALE             </td><td>III                </td><td>NA                 </td><td>D3                 </td><td>Trunk              </td><td>Regional Lymph Node</td><td>BRAF               </td><td>0                  </td><td>...                </td><td>0                  </td><td>0                  </td><td>0                  </td><td>R,R                </td><td>37.2522902219987   </td><td>0                  </td><td>611.701812544465   </td><td>57                 </td><td>641                </td><td>21.0391185939732   </td></tr>\n",
       "\t<tr><th scope=row>54</th><td>23                 </td><td>0.98               </td><td>FEMALE             </td><td>III                </td><td>NA                 </td><td>D3                 </td><td>Extremities        </td><td>Regional Lymph Node</td><td>BRAF               </td><td>0                  </td><td>...                </td><td>0                  </td><td>0                  </td><td>0                  </td><td>R,R                </td><td>26.7930130161234   </td><td>47.5629956936237   </td><td>262.563390303746   </td><td>62                 </td><td>343                </td><td>32.2599818440922   </td></tr>\n",
       "\t<tr><th scope=row>55</th><td>58                 </td><td>0.62               </td><td>MALE               </td><td>II                 </td><td>NO                 </td><td>D3                 </td><td>Trunk              </td><td>Regional Lymph Node</td><td>BRAF               </td><td>1                  </td><td>...                </td><td>0                  </td><td>0                  </td><td>0                  </td><td>r,0                </td><td>20.9388740866834   </td><td>34.0597750695168   </td><td>477.712276968541   </td><td>36                 </td><td>528                </td><td>58.7977200546922   </td></tr>\n",
       "\t<tr><th scope=row>56</th><td>43              </td><td>1.92            </td><td>MALE            </td><td>IV              </td><td>YES             </td><td>D3              </td><td>Trunk           </td><td>Primary Tumor   </td><td>BRAF            </td><td>0               </td><td>...             </td><td>1               </td><td>0               </td><td>0               </td><td>r,0             </td><td>16.7187341145558</td><td>9.3631019498332 </td><td>0               </td><td>14              </td><td>28              </td><td>43.591413143996 </td></tr>\n",
       "\t<tr><th scope=row>57</th><td>36                 </td><td>0.48               </td><td>MALE               </td><td>III                </td><td>NO                 </td><td>D3                 </td><td>Extremities        </td><td>Regional Lymph Node</td><td>BRAF               </td><td>0                  </td><td>...                </td><td>0                  </td><td>1                  </td><td>0                  </td><td>R,0                </td><td>74.1067855281185   </td><td>162.694442929233   </td><td>734.811954420254   </td><td>128                </td><td>977                </td><td>70.5709950368775   </td></tr>\n",
       "\t<tr><th scope=row>58</th><td>40                 </td><td>NA                 </td><td>MALE               </td><td>NA                 </td><td>NO                 </td><td>D9                 </td><td>Trunk              </td><td>Regional Lymph Node</td><td>BRAF               </td><td>0                  </td><td>...                </td><td>0                  </td><td>0                  </td><td>0                  </td><td>R,0                </td><td>26.733588638594    </td><td>55.6210506393781   </td><td>241.895529551905   </td><td>63                 </td><td>334                </td><td>78.4122167076417   </td></tr>\n",
       "\t<tr><th scope=row>64</th><td>39                 </td><td>3.9                </td><td>FEMALE             </td><td>IV                 </td><td>NO                 </td><td>D9                 </td><td>NA                 </td><td>Regional Lymph Node</td><td>BRAF               </td><td>0                  </td><td>...                </td><td>0                  </td><td>0                  </td><td>0                  </td><td>0,0                </td><td>15.998135278134    </td><td>27.6496770032917   </td><td>139.589997326068   </td><td>32                 </td><td>184                </td><td>34.7890168273419   </td></tr>\n",
       "\t<tr><th scope=row>66</th><td>50               </td><td>25               </td><td>MALE             </td><td>IV               </td><td>YES              </td><td>D9               </td><td>Trunk            </td><td>Primary Tumor    </td><td>BRAF             </td><td>0                </td><td>...              </td><td>0                </td><td>0                </td><td>2                </td><td>R,R              </td><td>4.90654447009027 </td><td>11.5272586625712 </td><td>0.992565170789917</td><td>17               </td><td>25               </td><td>80.3993493157721 </td></tr>\n",
       "\t<tr><th scope=row>70</th><td>56              </td><td>10              </td><td>MALE            </td><td>NA              </td><td>YES             </td><td>EB              </td><td>Trunk           </td><td>Primary Tumor   </td><td>BRAF            </td><td>0               </td><td>...             </td><td>0               </td><td>0               </td><td>0               </td><td>0,0             </td><td>18.723907928131 </td><td>4.56040887328473</td><td>2.77932569722983</td><td>14              </td><td>31              </td><td>57.267974420197 </td></tr>\n",
       "\t<tr><th scope=row>73</th><td>37              </td><td>13              </td><td>MALE            </td><td>IV              </td><td>YES             </td><td>EB              </td><td>Trunk           </td><td>Primary Tumor   </td><td>BRAF            </td><td>0               </td><td>...             </td><td>0               </td><td>0               </td><td>0               </td><td>R,0             </td><td>6.11044508063405</td><td>11.3173276672399</td><td>40.9464320937774</td><td>16              </td><td>64              </td><td>72.5313004545685</td></tr>\n",
       "\t<tr><th scope=row>...</th><td>...</td><td>...</td><td>...</td><td>...</td><td>...</td><td>...</td><td>...</td><td>...</td><td>...</td><td>...</td><td>   </td><td>...</td><td>...</td><td>...</td><td>...</td><td>...</td><td>...</td><td>...</td><td>...</td><td>...</td><td>...</td></tr>\n",
       "\t<tr><th scope=row>175</th><td>25                            </td><td>NA                            </td><td>MALE                          </td><td>NA                            </td><td>NA                            </td><td>EE                            </td><td>NA                            </td><td>regional (sub)cutaneous tissue</td><td>BRAF                          </td><td>1                             </td><td>...                           </td><td>0                             </td><td>0                             </td><td>0                             </td><td>R,r                           </td><td>112.297286939569              </td><td>155.184380236325              </td><td>1857.46574379547              </td><td>179                           </td><td>2124                          </td><td>64.5732191746346              </td></tr>\n",
       "\t<tr><th scope=row>176</th><td>30                 </td><td>3.7                </td><td>MALE               </td><td>III                </td><td>NO                 </td><td>EE                 </td><td>Extremities        </td><td>Regional Lymph Node</td><td>BRAF               </td><td>0                  </td><td>...                </td><td>0                  </td><td>0                  </td><td>0                  </td><td>R,0                </td><td>12.0074153477506   </td><td>37.3062842438543   </td><td>408.77562385907    </td><td>50                 </td><td>454                </td><td>58.8091625307312   </td></tr>\n",
       "\t<tr><th scope=row>185</th><td>45                            </td><td>10                            </td><td>MALE                          </td><td>NA                            </td><td>YES                           </td><td>ER                            </td><td>Other                         </td><td>regional (sub)cutaneous tissue</td><td>BRAF                          </td><td>0                             </td><td>...                           </td><td>1                             </td><td>0                             </td><td>0                             </td><td>r,0                           </td><td>58.2491954489361              </td><td>65.5875156048659              </td><td>473.006597653606              </td><td>68                            </td><td>592                           </td><td>45.6189207320888              </td></tr>\n",
       "\t<tr><th scope=row>188</th><td>42                            </td><td>NA                            </td><td>MALE                          </td><td>NA                            </td><td>NA                            </td><td>ER                            </td><td>Trunk                         </td><td>regional (sub)cutaneous tissue</td><td>BRAF                          </td><td>0                             </td><td>...                           </td><td>0                             </td><td>0                             </td><td>0                             </td><td>R,R                           </td><td>3.65878118135372              </td><td>82.2900718684049              </td><td>25.0617042977178              </td><td>68                            </td><td>109                           </td><td>67.5354534252485              </td></tr>\n",
       "\t<tr><th scope=row>191</th><td>36                 </td><td>1.1                </td><td>FEMALE             </td><td>III                </td><td>NO                 </td><td>ER                 </td><td>Extremities        </td><td>Regional Lymph Node</td><td>BRAF               </td><td>0                  </td><td>...                </td><td>0                  </td><td>0                  </td><td>0                  </td><td>R,0                </td><td>56.4435595095319   </td><td>69.9178658520143   </td><td>407.714865507846   </td><td>119                </td><td>569                </td><td>61.5573611192684   </td></tr>\n",
       "\t<tr><th scope=row>193</th><td>48                 </td><td>1.6                </td><td>FEMALE             </td><td>II                 </td><td>NO                 </td><td>ER                 </td><td>Extremities        </td><td>Regional Lymph Node</td><td>BRAF               </td><td>0                  </td><td>...                </td><td>0                  </td><td>0                  </td><td>0                  </td><td>R,0                </td><td>51.3138369350955   </td><td>54.8928461569804   </td><td>489.39427794489    </td><td>91                 </td><td>608                </td><td>82.076481492358    </td></tr>\n",
       "\t<tr><th scope=row>194</th><td>40                            </td><td>0.4                           </td><td>MALE                          </td><td>II                            </td><td>NA                            </td><td>ER                            </td><td>Trunk                         </td><td>regional (sub)cutaneous tissue</td><td>BRAF                          </td><td>1                             </td><td>...                           </td><td>0                             </td><td>0                             </td><td>0                             </td><td>r,0                           </td><td>22.2233290997017              </td><td>41.4574455329739              </td><td>234.963437818724              </td><td>49                            </td><td>299                           </td><td>40.5501517618567              </td></tr>\n",
       "\t<tr><th scope=row>195</th><td>54                 </td><td>NA                 </td><td>MALE               </td><td>NA                 </td><td>NA                 </td><td>ER                 </td><td>NA                 </td><td>Regional Lymph Node</td><td>BRAF               </td><td>0                  </td><td>...                </td><td>0                  </td><td>0                  </td><td>0                  </td><td>0,0                </td><td>29.2166078496802   </td><td>0                  </td><td>228.07854489046    </td><td>39                 </td><td>265                </td><td>55.2226896194757   </td></tr>\n",
       "\t<tr><th scope=row>198</th><td>36                 </td><td>1.9                </td><td>MALE               </td><td>IV                 </td><td>NO                 </td><td>ER                 </td><td>Extremities        </td><td>Regional Lymph Node</td><td>BRAF               </td><td>0                  </td><td>...                </td><td>0                  </td><td>0                  </td><td>0                  </td><td>R,r                </td><td>55.5104785725742   </td><td>34.5899275822952   </td><td>542.340959218449   </td><td>68                 </td><td>646                </td><td>92.9854356114739   </td></tr>\n",
       "\t<tr><th scope=row>200</th><td>56                 </td><td>NA                 </td><td>MALE               </td><td>NA                 </td><td>NA                 </td><td>ER                 </td><td>Trunk              </td><td>Regional Lymph Node</td><td>BRAF               </td><td>0                  </td><td>...                </td><td>0                  </td><td>0                  </td><td>0                  </td><td>0,0                </td><td>21.536163232911    </td><td>0                  </td><td>155.688197986685   </td><td>29                 </td><td>186                </td><td>57.267974420197    </td></tr>\n",
       "\t<tr><th scope=row>202</th><td>37                 </td><td>1.2                </td><td>FEMALE             </td><td>III                </td><td>NO                 </td><td>ER                 </td><td>Extremities        </td><td>Regional Lymph Node</td><td>BRAF               </td><td>0                  </td><td>...                </td><td>0                  </td><td>0                  </td><td>0                  </td><td>r,0                </td><td>30.7246665002141   </td><td>0                  </td><td>107.460591281651   </td><td>13                 </td><td>139                </td><td>32.718092030313    </td></tr>\n",
       "\t<tr><th scope=row>206</th><td>57                </td><td>1                 </td><td>FEMALE            </td><td>IV                </td><td>NO                </td><td>ER                </td><td>Extremities       </td><td>Distant Metastasis</td><td>BRAF              </td><td>0                 </td><td>...               </td><td>0                 </td><td>1                 </td><td>0                 </td><td>R,0               </td><td>29.768651389358   </td><td>35.3009708213043  </td><td>60.2134131248548  </td><td>51                </td><td>136               </td><td>97.465821772175   </td></tr>\n",
       "\t<tr><th scope=row>208</th><td>43                 </td><td>3                  </td><td>FEMALE             </td><td>III                </td><td>YES                </td><td>ER                 </td><td>Trunk              </td><td>Regional Lymph Node</td><td>BRAF               </td><td>0                  </td><td>...                </td><td>0                  </td><td>0                  </td><td>0                  </td><td>R,R                </td><td>0                  </td><td>43.9558036471117   </td><td>232.746559685368   </td><td>80                 </td><td>307                </td><td>60.3121399693897   </td></tr>\n",
       "\t<tr><th scope=row>211</th><td>30                            </td><td>2.2                           </td><td>MALE                          </td><td>V                             </td><td>YES                           </td><td>ER                            </td><td>Extremities                   </td><td>regional (sub)cutaneous tissue</td><td>BRAF                          </td><td>0                             </td><td>...                           </td><td>0                             </td><td>0                             </td><td>0                             </td><td>r,0                           </td><td>44.2493921775243              </td><td>33.965220194711               </td><td>438.520752370609              </td><td>35                            </td><td>503                           </td><td>30.4126138213925              </td></tr>\n",
       "\t<tr><th scope=row>215</th><td>57                </td><td>NA                </td><td>FEMALE            </td><td>NA                </td><td>NA                </td><td>FR                </td><td>Extremities       </td><td>Distant Metastasis</td><td>BRAF              </td><td>0                 </td><td>...               </td><td>0                 </td><td>0                 </td><td>0                 </td><td>R,0               </td><td>83.9912452662688  </td><td>6.33417511168178  </td><td>1011.30265295051  </td><td>117               </td><td>1121              </td><td>97.465821772175   </td></tr>\n",
       "\t<tr><th scope=row>216</th><td>29                 </td><td>2.51               </td><td>FEMALE             </td><td>IV                 </td><td>NO                 </td><td>FR                 </td><td>Extremities        </td><td>Regional Lymph Node</td><td>BRAF               </td><td>0                  </td><td>...                </td><td>0                  </td><td>0                  </td><td>0                  </td><td>R,r                </td><td>54.4942982512335   </td><td>43.9380703493126   </td><td>307.897347222842   </td><td>56                 </td><td>411                </td><td>65.3377507908997   </td></tr>\n",
       "\t<tr><th scope=row>219</th><td>39                            </td><td>1.1                           </td><td>FEMALE                        </td><td>IV                            </td><td>NO                            </td><td>FS                            </td><td>Trunk                         </td><td>regional (sub)cutaneous tissue</td><td>BRAF                          </td><td>0                             </td><td>...                           </td><td>0                             </td><td>0                             </td><td>0                             </td><td>0,0                           </td><td>6.42158924296293              </td><td>8.17549401160295              </td><td>7.66301264413039              </td><td>11                            </td><td>26                            </td><td>34.7890168273419              </td></tr>\n",
       "\t<tr><th scope=row>220</th><td>55                </td><td>2.7               </td><td>FEMALE            </td><td>IV                </td><td>NO                </td><td>FS                </td><td>Trunk             </td><td>Distant Metastasis</td><td>BRAF              </td><td>1                 </td><td>...               </td><td>0                 </td><td>0                 </td><td>0                 </td><td>r,0               </td><td>28.075440198612   </td><td>5.78874977370034  </td><td>235.016495970772  </td><td>30                </td><td>263               </td><td>48.6350016666815  </td></tr>\n",
       "\t<tr><th scope=row>224</th><td>19                 </td><td>17                 </td><td>MALE               </td><td>V                  </td><td>YES                </td><td>FS                 </td><td>Head and Neck      </td><td>Regional Lymph Node</td><td>BRAF               </td><td>0                  </td><td>...                </td><td>0                  </td><td>0                  </td><td>0                  </td><td>R,R                </td><td>26.4460635551749   </td><td>8.33766196270625   </td><td>203.113309101302   </td><td>20                 </td><td>239                </td><td>30.5517527399934   </td></tr>\n",
       "\t<tr><th scope=row>227</th><td>51                </td><td>NA                </td><td>MALE              </td><td>III               </td><td>NA                </td><td>FS                </td><td>Trunk             </td><td>Distant Metastasis</td><td>BRAF              </td><td>0                 </td><td>...               </td><td>0                 </td><td>0                 </td><td>0                 </td><td>R,0               </td><td>63.7158413480036  </td><td>29.0997765489684  </td><td>739.561215203179  </td><td>105               </td><td>854               </td><td>99.9755763022431  </td></tr>\n",
       "\t<tr><th scope=row>236</th><td>43              </td><td>8               </td><td>MALE            </td><td>IV              </td><td>YES             </td><td>FS              </td><td>Trunk           </td><td>Primary Tumor   </td><td>BRAF            </td><td>1               </td><td>...             </td><td>0               </td><td>0               </td><td>0               </td><td>r,0             </td><td>4.19649639792591</td><td>12.5065468086868</td><td>106.052708914738</td><td>12              </td><td>119             </td><td>43.591413143996 </td></tr>\n",
       "\t<tr><th scope=row>239</th><td>36                            </td><td>2                             </td><td>MALE                          </td><td>IV                            </td><td>NA                            </td><td>FS                            </td><td>Trunk                         </td><td>regional (sub)cutaneous tissue</td><td>BRAF                          </td><td>1                             </td><td>...                           </td><td>0                             </td><td>0                             </td><td>0                             </td><td>r,0                           </td><td>13.9935429547581              </td><td>1.09962896161595              </td><td>154.422668280969              </td><td>14                            </td><td>167                           </td><td>36.495136585671               </td></tr>\n",
       "\t<tr><th scope=row>240</th><td>54                 </td><td>1.15               </td><td>MALE               </td><td>NA                 </td><td>NA                 </td><td>FS                 </td><td>Trunk              </td><td>Regional Lymph Node</td><td>BRAF               </td><td>1                  </td><td>...                </td><td>0                  </td><td>0                  </td><td>0                  </td><td>r,0                </td><td>40.6490908997987   </td><td>43.1655878338908   </td><td>250.888414233328   </td><td>60                 </td><td>341                </td><td>54.7427048785066   </td></tr>\n",
       "\t<tr><th scope=row>249</th><td>52                 </td><td>0.9                </td><td>MALE               </td><td>NA                 </td><td>NA                 </td><td>FS                 </td><td>Extremities        </td><td>Regional Lymph Node</td><td>BRAF               </td><td>1                  </td><td>...                </td><td>0                  </td><td>0                  </td><td>0                  </td><td>R,r                </td><td>17.1066666171297   </td><td>23.2648260361972   </td><td>155.448656519579   </td><td>32                 </td><td>199                </td><td>134.31229588324    </td></tr>\n",
       "\t<tr><th scope=row>251</th><td>46                 </td><td>2                  </td><td>FEMALE             </td><td>IV                 </td><td>NA                 </td><td>FS                 </td><td>Extremities        </td><td>Regional Lymph Node</td><td>BRAF               </td><td>0                  </td><td>...                </td><td>0                  </td><td>0                  </td><td>0                  </td><td>R,0                </td><td>26.226510825228    </td><td>19.7610942192522   </td><td>185.10518087144    </td><td>32                 </td><td>237                </td><td>78.656628096843    </td></tr>\n",
       "\t<tr><th scope=row>257</th><td>57                 </td><td>0.5                </td><td>FEMALE             </td><td>III                </td><td>NA                 </td><td>FW                 </td><td>Trunk              </td><td>Regional Lymph Node</td><td>BRAF               </td><td>1                  </td><td>...                </td><td>0                  </td><td>0                  </td><td>0                  </td><td>r,0                </td><td>41.7298798079527   </td><td>26.4693898836692   </td><td>338.718037950259   </td><td>53                 </td><td>427                </td><td>50.4035471818336   </td></tr>\n",
       "\t<tr><th scope=row>259</th><td>48              </td><td>NA              </td><td>MALE            </td><td>IV              </td><td>YES             </td><td>GF              </td><td>Head and Neck   </td><td>Primary Tumor   </td><td>BRAF            </td><td>0               </td><td>...             </td><td>0               </td><td>0               </td><td>0               </td><td>0,0             </td><td>0               </td><td>16.8824908047769</td><td>70.967449272734 </td><td>14              </td><td>85              </td><td>49.0868352173117</td></tr>\n",
       "\t<tr><th scope=row>262</th><td>47                            </td><td>3                             </td><td>FEMALE                        </td><td>NA                            </td><td>NA                            </td><td>GN                            </td><td>Trunk                         </td><td>regional (sub)cutaneous tissue</td><td>BRAF                          </td><td>1                             </td><td>...                           </td><td>0                             </td><td>0                             </td><td>0                             </td><td>r,0                           </td><td>30.4196716794279              </td><td>57.7352241457177              </td><td>355.557283588509              </td><td>67                            </td><td>451                           </td><td>41.5608196060733              </td></tr>\n",
       "\t<tr><th scope=row>263</th><td>24              </td><td>NA              </td><td>MALE            </td><td>V               </td><td>YES             </td><td>GN              </td><td>Trunk           </td><td>Primary Tumor   </td><td>BRAF            </td><td>0               </td><td>...             </td><td>0               </td><td>1               </td><td>0               </td><td>R,0             </td><td>29.7018128204798</td><td>19.0303721014855</td><td>469.721481275195</td><td>48              </td><td>525             </td><td>47.047330024585 </td></tr>\n",
       "\t<tr><th scope=row>265</th><td>53                 </td><td>NA                 </td><td>MALE               </td><td>NA                 </td><td>NA                 </td><td>GN                 </td><td>NA                 </td><td>Regional Lymph Node</td><td>BRAF               </td><td>2                  </td><td>...                </td><td>0                  </td><td>0                  </td><td>0                  </td><td>r,r                </td><td>0.74831190848597   </td><td>56.5517743728181   </td><td>149.370654346463   </td><td>44                 </td><td>197                </td><td>105.197744477814   </td></tr>\n",
       "</tbody>\n",
       "</table>\n"
      ],
      "text/latex": [
       "\\begin{tabular}{r|llllllllllllllllllllllllll}\n",
       "  & age\\_at\\_diagnosis & breslow & gender & clark\\_level & ulceration & tissue\\_source\\_site & body\\_area & tissue\\_type & Cohort & V60L & ... & R163Q & D294H & other.rscore & rgeno & sig1 & sig5 & sig7 & totalNonUV & totalSNV & pred\\\\\n",
       "\\hline\n",
       "\t5 & 53                  & 1.45                & FEMALE              & IV                  & YES                 & D3                  & Extremities         & Regional Lymph Node & BRAF                & 0                   & ...                 & 0                   & 1                   & 0                   & R,0                 & 17.1398119764402    & 12.6008391567263    & 294.557531880051    & 41                  & 325                 & 90.6261149811452   \\\\\n",
       "\t7 & 55                             & 50                             & MALE                           & V                              & NA                             & D3                             & Extremities                    & regional (sub)cutaneous tissue & BRAF                           & 0                              & ...                            & 0                              & 0                              & 0                              & R,0                            & 73.3174956798183               & 109.59299424803                & 822.201254851861               & 100                            & 992                            & 107.816797973007              \\\\\n",
       "\t8 & 42                  & 0.68                & FEMALE              & III                 & NO                  & D3                  & Trunk               & Regional Lymph Node & BRAF                & 0                   & ...                 & 0                   & 0                   & 0                   & 0,0                 & 14.5682279700173    & 0                   & 104.809188052072    & 8                   & 117                 & 37.4650950448297   \\\\\n",
       "\t11 & 55                  & 1.12                & MALE                & III                 & NO                  & D3                  & Extremities         & Regional Lymph Node & BRAF                & 0                   & ...                 & 0                   & 0                   & 0                   & 0,0                 & 71.50176999122      & 0                   & 442.026711942066    & 55                  & 529                 & 56.2453320198363   \\\\\n",
       "\t19 & 58                  & 18                  & MALE                & V                   & YES                 & D3                  & Extremities         & Regional Lymph Node & BRAF                & 0                   & ...                 & 0                   & 0                   & 0                   & R,0                 & 0.0444979053023078  & 36.5744862136801    & 362.417414282293    & 44                  & 391                 & 113.69771422608    \\\\\n",
       "\t21 & 30                  & 2.5                 & FEMALE              & IV                  & NO                  & D3                  & Extremities         & Regional Lymph Node & BRAF                & 0                   & ...                 & 0                   & 0                   & 0                   & 0,0                 & 11.8296266319953    & 16.6954506540675    & 102.710546624005    & 18                  & 133                 & 26.7607821748784   \\\\\n",
       "\t23 & 24                  & 4.3                 & MALE                & IV                  & YES                 & D3                  & Trunk               & Regional Lymph Node & BRAF                & 0                   & ...                 & 0                   & 0                   & 0                   & r,0                 & 27.6229359067382    & 28.0737232314018    & 296.494329142354    & 40                  & 355                 & 24.330091057114    \\\\\n",
       "\t25 & 46                  & NA                  & FEMALE              & NA                  & NA                  & D3                  & NA                  & Regional Lymph Node & BRAF                & 0                   & ...                 & 0                   & 0                   & 0                   & r,0                 & 31.2667175266899    & 51.0253284931876    & 305.700408723447    & 53                  & 393                 & 40.6765468484973   \\\\\n",
       "\t27 & 37                  & NA                  & MALE                & NA                  & NA                  & D3                  & NA                  & Regional Lymph Node & BRAF                & 0                   & ...                 & 0                   & 0                   & 0                   & R,r                 & 36.8988437557085    & 3.91317374591287    & 240.950118505135    & 32                  & 290                 & 95.5683643784593   \\\\\n",
       "\t29 & 28                  & NA                  & MALE                & NA                  & NA                  & D3                  & Trunk               & Regional Lymph Node & BRAF                & 0                   & ...                 & 0                   & 0                   & 0                   & r,0                 & 43.0622087807394    & 33.7778696157936    & 95.762025802081     & 33                  & 180                 & 28.3851062332997   \\\\\n",
       "\t30 & 31                  & NA                  & FEMALE              & NA                  & NA                  & D3                  & Trunk               & Regional Lymph Node & BRAF                & 1                   & ...                 & 0                   & 0                   & 0                   & R,r                 & 43.6672765287847    & 41.9624670653563    & 210.141011860968    & 68                  & 314                 & 69.8438025695824   \\\\\n",
       "\t31 & 54                  & 1.3                 & FEMALE              & IV                  & NO                  & D3                  & Extremities         & Regional Lymph Node & BRAF                & 0                   & ...                 & 0                   & 1                   & 0                   & R,0                 & 7.89643214591886    & 4.47531891482082    & 123.257568616904    & 29                  & 139                 & 92.3360416789027   \\\\\n",
       "\t32 & 57                  & NA                  & FEMALE              & NA                  & NA                  & D3                  & NA                  & Regional Lymph Node & BRAF                & 0                   & ...                 & 0                   & 0                   & 0                   & r,r                 & 39.8162333305549    & 78.6184473614549    & 996.216266833424    & 182                 & 1145                & 98.686822842956    \\\\\n",
       "\t34 & 39                  & 1.75                & MALE                & III                 & NA                  & D3                  & Trunk               & Regional Lymph Node & BRAF                & 0                   & ...                 & 0                   & 1                   & 0                   & R,R                 & 3.0269518502805     & 0                   & 200.667832014       & 23                  & 207                 & 62.7114924663022   \\\\\n",
       "\t39 & 47                             & NA                             & MALE                           & NA                             & NA                             & D3                             & Trunk                          & regional (sub)cutaneous tissue & BRAF                           & 0                              & ...                            & 0                              & 0                              & 0                              & R,0                            & 16.1328851499948               & 12.698088627506                & 42.8128760744796               & 22                             & 75                             & 92.1343546314789              \\\\\n",
       "\t40 & 42                             & NA                             & MALE                           & NA                             & NA                             & D3                             & NA                             & regional (sub)cutaneous tissue & BRAF                           & 0                              & ...                            & 0                              & 1                              & 0                              & R,R                            & 73.4117533134455               & 55.5023585182849               & 954.04307361641                & 132                            & 1095                           & 67.5354534252485              \\\\\n",
       "\t41 & 53                  & 2.9                 & MALE                & IV                  & NO                  & D3                  & Trunk               & Regional Lymph Node & BRAF                & 0                   & ...                 & 0                   & 0                   & 0                   & R,r                 & 18.5362037955066    & 29.3247700388095    & 561.056023812619    & 96                  & 627                 & 136.895224650225   \\\\\n",
       "\t44 & 51                  & 7                   & MALE                & IV                  & YES                 & D3                  & Extremities         & Regional Lymph Node & BRAF                & 0                   & ...                 & 0                   & 0                   & 0                   & 0,0                 & 0                   & 37.8591942354489    & 65.451628020514     & 18                  & 98                  & 52.1547624183937   \\\\\n",
       "\t47 & 19                             & NA                             & MALE                           & NA                             & NA                             & D3                             & NA                             & regional (sub)cutaneous tissue & BRAF                           & 0                              & ...                            & 0                              & 0                              & 0                              & R,0                            & 28.2776181713299               & 50.5816427085221               & 502.633033319196               & 64                             & 576                            & 37.2458029361298              \\\\\n",
       "\t49 & 56                  & NA                  & FEMALE              & NA                  & NA                  & D3                  & NA                  & Regional Lymph Node & BRAF                & 0                   & ...                 & 0                   & 0                   & 0                   & r,0                 & 8.44246447728799    & 29.5531444103613    & 68.6208476540098    & 24                  & 112                 & 49.5192744242576   \\\\\n",
       "\t52 & 15                  & 0.6                 & FEMALE              & III                 & NA                  & D3                  & Trunk               & Regional Lymph Node & BRAF                & 0                   & ...                 & 0                   & 0                   & 0                   & R,R                 & 37.2522902219987    & 0                   & 611.701812544465    & 57                  & 641                 & 21.0391185939732   \\\\\n",
       "\t54 & 23                  & 0.98                & FEMALE              & III                 & NA                  & D3                  & Extremities         & Regional Lymph Node & BRAF                & 0                   & ...                 & 0                   & 0                   & 0                   & R,R                 & 26.7930130161234    & 47.5629956936237    & 262.563390303746    & 62                  & 343                 & 32.2599818440922   \\\\\n",
       "\t55 & 58                  & 0.62                & MALE                & II                  & NO                  & D3                  & Trunk               & Regional Lymph Node & BRAF                & 1                   & ...                 & 0                   & 0                   & 0                   & r,0                 & 20.9388740866834    & 34.0597750695168    & 477.712276968541    & 36                  & 528                 & 58.7977200546922   \\\\\n",
       "\t56 & 43               & 1.92             & MALE             & IV               & YES              & D3               & Trunk            & Primary Tumor    & BRAF             & 0                & ...              & 1                & 0                & 0                & r,0              & 16.7187341145558 & 9.3631019498332  & 0                & 14               & 28               & 43.591413143996 \\\\\n",
       "\t57 & 36                  & 0.48                & MALE                & III                 & NO                  & D3                  & Extremities         & Regional Lymph Node & BRAF                & 0                   & ...                 & 0                   & 1                   & 0                   & R,0                 & 74.1067855281185    & 162.694442929233    & 734.811954420254    & 128                 & 977                 & 70.5709950368775   \\\\\n",
       "\t58 & 40                  & NA                  & MALE                & NA                  & NO                  & D9                  & Trunk               & Regional Lymph Node & BRAF                & 0                   & ...                 & 0                   & 0                   & 0                   & R,0                 & 26.733588638594     & 55.6210506393781    & 241.895529551905    & 63                  & 334                 & 78.4122167076417   \\\\\n",
       "\t64 & 39                  & 3.9                 & FEMALE              & IV                  & NO                  & D9                  & NA                  & Regional Lymph Node & BRAF                & 0                   & ...                 & 0                   & 0                   & 0                   & 0,0                 & 15.998135278134     & 27.6496770032917    & 139.589997326068    & 32                  & 184                 & 34.7890168273419   \\\\\n",
       "\t66 & 50                & 25                & MALE              & IV                & YES               & D9                & Trunk             & Primary Tumor     & BRAF              & 0                 & ...               & 0                 & 0                 & 2                 & R,R               & 4.90654447009027  & 11.5272586625712  & 0.992565170789917 & 17                & 25                & 80.3993493157721 \\\\\n",
       "\t70 & 56               & 10               & MALE             & NA               & YES              & EB               & Trunk            & Primary Tumor    & BRAF             & 0                & ...              & 0                & 0                & 0                & 0,0              & 18.723907928131  & 4.56040887328473 & 2.77932569722983 & 14               & 31               & 57.267974420197 \\\\\n",
       "\t73 & 37               & 13               & MALE             & IV               & YES              & EB               & Trunk            & Primary Tumor    & BRAF             & 0                & ...              & 0                & 0                & 0                & R,0              & 6.11044508063405 & 11.3173276672399 & 40.9464320937774 & 16               & 64               & 72.5313004545685\\\\\n",
       "\t... & ... & ... & ... & ... & ... & ... & ... & ... & ... & ... &     & ... & ... & ... & ... & ... & ... & ... & ... & ... & ...\\\\\n",
       "\t175 & 25                             & NA                             & MALE                           & NA                             & NA                             & EE                             & NA                             & regional (sub)cutaneous tissue & BRAF                           & 1                              & ...                            & 0                              & 0                              & 0                              & R,r                            & 112.297286939569               & 155.184380236325               & 1857.46574379547               & 179                            & 2124                           & 64.5732191746346              \\\\\n",
       "\t176 & 30                  & 3.7                 & MALE                & III                 & NO                  & EE                  & Extremities         & Regional Lymph Node & BRAF                & 0                   & ...                 & 0                   & 0                   & 0                   & R,0                 & 12.0074153477506    & 37.3062842438543    & 408.77562385907     & 50                  & 454                 & 58.8091625307312   \\\\\n",
       "\t185 & 45                             & 10                             & MALE                           & NA                             & YES                            & ER                             & Other                          & regional (sub)cutaneous tissue & BRAF                           & 0                              & ...                            & 1                              & 0                              & 0                              & r,0                            & 58.2491954489361               & 65.5875156048659               & 473.006597653606               & 68                             & 592                            & 45.6189207320888              \\\\\n",
       "\t188 & 42                             & NA                             & MALE                           & NA                             & NA                             & ER                             & Trunk                          & regional (sub)cutaneous tissue & BRAF                           & 0                              & ...                            & 0                              & 0                              & 0                              & R,R                            & 3.65878118135372               & 82.2900718684049               & 25.0617042977178               & 68                             & 109                            & 67.5354534252485              \\\\\n",
       "\t191 & 36                  & 1.1                 & FEMALE              & III                 & NO                  & ER                  & Extremities         & Regional Lymph Node & BRAF                & 0                   & ...                 & 0                   & 0                   & 0                   & R,0                 & 56.4435595095319    & 69.9178658520143    & 407.714865507846    & 119                 & 569                 & 61.5573611192684   \\\\\n",
       "\t193 & 48                  & 1.6                 & FEMALE              & II                  & NO                  & ER                  & Extremities         & Regional Lymph Node & BRAF                & 0                   & ...                 & 0                   & 0                   & 0                   & R,0                 & 51.3138369350955    & 54.8928461569804    & 489.39427794489     & 91                  & 608                 & 82.076481492358    \\\\\n",
       "\t194 & 40                             & 0.4                            & MALE                           & II                             & NA                             & ER                             & Trunk                          & regional (sub)cutaneous tissue & BRAF                           & 1                              & ...                            & 0                              & 0                              & 0                              & r,0                            & 22.2233290997017               & 41.4574455329739               & 234.963437818724               & 49                             & 299                            & 40.5501517618567              \\\\\n",
       "\t195 & 54                  & NA                  & MALE                & NA                  & NA                  & ER                  & NA                  & Regional Lymph Node & BRAF                & 0                   & ...                 & 0                   & 0                   & 0                   & 0,0                 & 29.2166078496802    & 0                   & 228.07854489046     & 39                  & 265                 & 55.2226896194757   \\\\\n",
       "\t198 & 36                  & 1.9                 & MALE                & IV                  & NO                  & ER                  & Extremities         & Regional Lymph Node & BRAF                & 0                   & ...                 & 0                   & 0                   & 0                   & R,r                 & 55.5104785725742    & 34.5899275822952    & 542.340959218449    & 68                  & 646                 & 92.9854356114739   \\\\\n",
       "\t200 & 56                  & NA                  & MALE                & NA                  & NA                  & ER                  & Trunk               & Regional Lymph Node & BRAF                & 0                   & ...                 & 0                   & 0                   & 0                   & 0,0                 & 21.536163232911     & 0                   & 155.688197986685    & 29                  & 186                 & 57.267974420197    \\\\\n",
       "\t202 & 37                  & 1.2                 & FEMALE              & III                 & NO                  & ER                  & Extremities         & Regional Lymph Node & BRAF                & 0                   & ...                 & 0                   & 0                   & 0                   & r,0                 & 30.7246665002141    & 0                   & 107.460591281651    & 13                  & 139                 & 32.718092030313    \\\\\n",
       "\t206 & 57                 & 1                  & FEMALE             & IV                 & NO                 & ER                 & Extremities        & Distant Metastasis & BRAF               & 0                  & ...                & 0                  & 1                  & 0                  & R,0                & 29.768651389358    & 35.3009708213043   & 60.2134131248548   & 51                 & 136                & 97.465821772175   \\\\\n",
       "\t208 & 43                  & 3                   & FEMALE              & III                 & YES                 & ER                  & Trunk               & Regional Lymph Node & BRAF                & 0                   & ...                 & 0                   & 0                   & 0                   & R,R                 & 0                   & 43.9558036471117    & 232.746559685368    & 80                  & 307                 & 60.3121399693897   \\\\\n",
       "\t211 & 30                             & 2.2                            & MALE                           & V                              & YES                            & ER                             & Extremities                    & regional (sub)cutaneous tissue & BRAF                           & 0                              & ...                            & 0                              & 0                              & 0                              & r,0                            & 44.2493921775243               & 33.965220194711                & 438.520752370609               & 35                             & 503                            & 30.4126138213925              \\\\\n",
       "\t215 & 57                 & NA                 & FEMALE             & NA                 & NA                 & FR                 & Extremities        & Distant Metastasis & BRAF               & 0                  & ...                & 0                  & 0                  & 0                  & R,0                & 83.9912452662688   & 6.33417511168178   & 1011.30265295051   & 117                & 1121               & 97.465821772175   \\\\\n",
       "\t216 & 29                  & 2.51                & FEMALE              & IV                  & NO                  & FR                  & Extremities         & Regional Lymph Node & BRAF                & 0                   & ...                 & 0                   & 0                   & 0                   & R,r                 & 54.4942982512335    & 43.9380703493126    & 307.897347222842    & 56                  & 411                 & 65.3377507908997   \\\\\n",
       "\t219 & 39                             & 1.1                            & FEMALE                         & IV                             & NO                             & FS                             & Trunk                          & regional (sub)cutaneous tissue & BRAF                           & 0                              & ...                            & 0                              & 0                              & 0                              & 0,0                            & 6.42158924296293               & 8.17549401160295               & 7.66301264413039               & 11                             & 26                             & 34.7890168273419              \\\\\n",
       "\t220 & 55                 & 2.7                & FEMALE             & IV                 & NO                 & FS                 & Trunk              & Distant Metastasis & BRAF               & 1                  & ...                & 0                  & 0                  & 0                  & r,0                & 28.075440198612    & 5.78874977370034   & 235.016495970772   & 30                 & 263                & 48.6350016666815  \\\\\n",
       "\t224 & 19                  & 17                  & MALE                & V                   & YES                 & FS                  & Head and Neck       & Regional Lymph Node & BRAF                & 0                   & ...                 & 0                   & 0                   & 0                   & R,R                 & 26.4460635551749    & 8.33766196270625    & 203.113309101302    & 20                  & 239                 & 30.5517527399934   \\\\\n",
       "\t227 & 51                 & NA                 & MALE               & III                & NA                 & FS                 & Trunk              & Distant Metastasis & BRAF               & 0                  & ...                & 0                  & 0                  & 0                  & R,0                & 63.7158413480036   & 29.0997765489684   & 739.561215203179   & 105                & 854                & 99.9755763022431  \\\\\n",
       "\t236 & 43               & 8                & MALE             & IV               & YES              & FS               & Trunk            & Primary Tumor    & BRAF             & 1                & ...              & 0                & 0                & 0                & r,0              & 4.19649639792591 & 12.5065468086868 & 106.052708914738 & 12               & 119              & 43.591413143996 \\\\\n",
       "\t239 & 36                             & 2                              & MALE                           & IV                             & NA                             & FS                             & Trunk                          & regional (sub)cutaneous tissue & BRAF                           & 1                              & ...                            & 0                              & 0                              & 0                              & r,0                            & 13.9935429547581               & 1.09962896161595               & 154.422668280969               & 14                             & 167                            & 36.495136585671               \\\\\n",
       "\t240 & 54                  & 1.15                & MALE                & NA                  & NA                  & FS                  & Trunk               & Regional Lymph Node & BRAF                & 1                   & ...                 & 0                   & 0                   & 0                   & r,0                 & 40.6490908997987    & 43.1655878338908    & 250.888414233328    & 60                  & 341                 & 54.7427048785066   \\\\\n",
       "\t249 & 52                  & 0.9                 & MALE                & NA                  & NA                  & FS                  & Extremities         & Regional Lymph Node & BRAF                & 1                   & ...                 & 0                   & 0                   & 0                   & R,r                 & 17.1066666171297    & 23.2648260361972    & 155.448656519579    & 32                  & 199                 & 134.31229588324    \\\\\n",
       "\t251 & 46                  & 2                   & FEMALE              & IV                  & NA                  & FS                  & Extremities         & Regional Lymph Node & BRAF                & 0                   & ...                 & 0                   & 0                   & 0                   & R,0                 & 26.226510825228     & 19.7610942192522    & 185.10518087144     & 32                  & 237                 & 78.656628096843    \\\\\n",
       "\t257 & 57                  & 0.5                 & FEMALE              & III                 & NA                  & FW                  & Trunk               & Regional Lymph Node & BRAF                & 1                   & ...                 & 0                   & 0                   & 0                   & r,0                 & 41.7298798079527    & 26.4693898836692    & 338.718037950259    & 53                  & 427                 & 50.4035471818336   \\\\\n",
       "\t259 & 48               & NA               & MALE             & IV               & YES              & GF               & Head and Neck    & Primary Tumor    & BRAF             & 0                & ...              & 0                & 0                & 0                & 0,0              & 0                & 16.8824908047769 & 70.967449272734  & 14               & 85               & 49.0868352173117\\\\\n",
       "\t262 & 47                             & 3                              & FEMALE                         & NA                             & NA                             & GN                             & Trunk                          & regional (sub)cutaneous tissue & BRAF                           & 1                              & ...                            & 0                              & 0                              & 0                              & r,0                            & 30.4196716794279               & 57.7352241457177               & 355.557283588509               & 67                             & 451                            & 41.5608196060733              \\\\\n",
       "\t263 & 24               & NA               & MALE             & V                & YES              & GN               & Trunk            & Primary Tumor    & BRAF             & 0                & ...              & 0                & 1                & 0                & R,0              & 29.7018128204798 & 19.0303721014855 & 469.721481275195 & 48               & 525              & 47.047330024585 \\\\\n",
       "\t265 & 53                  & NA                  & MALE                & NA                  & NA                  & GN                  & NA                  & Regional Lymph Node & BRAF                & 2                   & ...                 & 0                   & 0                   & 0                   & r,r                 & 0.74831190848597    & 56.5517743728181    & 149.370654346463    & 44                  & 197                 & 105.197744477814   \\\\\n",
       "\\end{tabular}\n"
      ],
      "text/plain": [
       "    age_at_diagnosis breslow gender clark_level ulceration tissue_source_site\n",
       "5                 53    1.45 FEMALE          IV        YES                 D3\n",
       "7                 55      50   MALE           V       <NA>                 D3\n",
       "8                 42    0.68 FEMALE         III         NO                 D3\n",
       "11                55    1.12   MALE         III         NO                 D3\n",
       "19                58      18   MALE           V        YES                 D3\n",
       "21                30     2.5 FEMALE          IV         NO                 D3\n",
       "23                24     4.3   MALE          IV        YES                 D3\n",
       "25                46    <NA> FEMALE        <NA>       <NA>                 D3\n",
       "27                37    <NA>   MALE        <NA>       <NA>                 D3\n",
       "29                28    <NA>   MALE        <NA>       <NA>                 D3\n",
       "30                31    <NA> FEMALE        <NA>       <NA>                 D3\n",
       "31                54     1.3 FEMALE          IV         NO                 D3\n",
       "32                57    <NA> FEMALE        <NA>       <NA>                 D3\n",
       "34                39    1.75   MALE         III       <NA>                 D3\n",
       "39                47    <NA>   MALE        <NA>       <NA>                 D3\n",
       "40                42    <NA>   MALE        <NA>       <NA>                 D3\n",
       "41                53     2.9   MALE          IV         NO                 D3\n",
       "44                51       7   MALE          IV        YES                 D3\n",
       "47                19    <NA>   MALE        <NA>       <NA>                 D3\n",
       "49                56    <NA> FEMALE        <NA>       <NA>                 D3\n",
       "52                15     0.6 FEMALE         III       <NA>                 D3\n",
       "54                23    0.98 FEMALE         III       <NA>                 D3\n",
       "55                58    0.62   MALE          II         NO                 D3\n",
       "56                43    1.92   MALE          IV        YES                 D3\n",
       "57                36    0.48   MALE         III         NO                 D3\n",
       "58                40    <NA>   MALE        <NA>         NO                 D9\n",
       "64                39     3.9 FEMALE          IV         NO                 D9\n",
       "66                50      25   MALE          IV        YES                 D9\n",
       "70                56      10   MALE        <NA>        YES                 EB\n",
       "73                37      13   MALE          IV        YES                 EB\n",
       "...              ...     ...    ...         ...        ...                ...\n",
       "175               25    <NA>   MALE        <NA>       <NA>                 EE\n",
       "176               30     3.7   MALE         III         NO                 EE\n",
       "185               45      10   MALE        <NA>        YES                 ER\n",
       "188               42    <NA>   MALE        <NA>       <NA>                 ER\n",
       "191               36     1.1 FEMALE         III         NO                 ER\n",
       "193               48     1.6 FEMALE          II         NO                 ER\n",
       "194               40     0.4   MALE          II       <NA>                 ER\n",
       "195               54    <NA>   MALE        <NA>       <NA>                 ER\n",
       "198               36     1.9   MALE          IV         NO                 ER\n",
       "200               56    <NA>   MALE        <NA>       <NA>                 ER\n",
       "202               37     1.2 FEMALE         III         NO                 ER\n",
       "206               57       1 FEMALE          IV         NO                 ER\n",
       "208               43       3 FEMALE         III        YES                 ER\n",
       "211               30     2.2   MALE           V        YES                 ER\n",
       "215               57    <NA> FEMALE        <NA>       <NA>                 FR\n",
       "216               29    2.51 FEMALE          IV         NO                 FR\n",
       "219               39     1.1 FEMALE          IV         NO                 FS\n",
       "220               55     2.7 FEMALE          IV         NO                 FS\n",
       "224               19      17   MALE           V        YES                 FS\n",
       "227               51    <NA>   MALE         III       <NA>                 FS\n",
       "236               43       8   MALE          IV        YES                 FS\n",
       "239               36       2   MALE          IV       <NA>                 FS\n",
       "240               54    1.15   MALE        <NA>       <NA>                 FS\n",
       "249               52     0.9   MALE        <NA>       <NA>                 FS\n",
       "251               46       2 FEMALE          IV       <NA>                 FS\n",
       "257               57     0.5 FEMALE         III       <NA>                 FW\n",
       "259               48    <NA>   MALE          IV        YES                 GF\n",
       "262               47       3 FEMALE        <NA>       <NA>                 GN\n",
       "263               24    <NA>   MALE           V        YES                 GN\n",
       "265               53    <NA>   MALE        <NA>       <NA>                 GN\n",
       "        body_area                    tissue_type Cohort V60L ... R163Q D294H\n",
       "5     Extremities            Regional Lymph Node   BRAF    0 ...     0     1\n",
       "7     Extremities regional (sub)cutaneous tissue   BRAF    0 ...     0     0\n",
       "8           Trunk            Regional Lymph Node   BRAF    0 ...     0     0\n",
       "11    Extremities            Regional Lymph Node   BRAF    0 ...     0     0\n",
       "19    Extremities            Regional Lymph Node   BRAF    0 ...     0     0\n",
       "21    Extremities            Regional Lymph Node   BRAF    0 ...     0     0\n",
       "23          Trunk            Regional Lymph Node   BRAF    0 ...     0     0\n",
       "25           <NA>            Regional Lymph Node   BRAF    0 ...     0     0\n",
       "27           <NA>            Regional Lymph Node   BRAF    0 ...     0     0\n",
       "29          Trunk            Regional Lymph Node   BRAF    0 ...     0     0\n",
       "30          Trunk            Regional Lymph Node   BRAF    1 ...     0     0\n",
       "31    Extremities            Regional Lymph Node   BRAF    0 ...     0     1\n",
       "32           <NA>            Regional Lymph Node   BRAF    0 ...     0     0\n",
       "34          Trunk            Regional Lymph Node   BRAF    0 ...     0     1\n",
       "39          Trunk regional (sub)cutaneous tissue   BRAF    0 ...     0     0\n",
       "40           <NA> regional (sub)cutaneous tissue   BRAF    0 ...     0     1\n",
       "41          Trunk            Regional Lymph Node   BRAF    0 ...     0     0\n",
       "44    Extremities            Regional Lymph Node   BRAF    0 ...     0     0\n",
       "47           <NA> regional (sub)cutaneous tissue   BRAF    0 ...     0     0\n",
       "49           <NA>            Regional Lymph Node   BRAF    0 ...     0     0\n",
       "52          Trunk            Regional Lymph Node   BRAF    0 ...     0     0\n",
       "54    Extremities            Regional Lymph Node   BRAF    0 ...     0     0\n",
       "55          Trunk            Regional Lymph Node   BRAF    1 ...     0     0\n",
       "56          Trunk                  Primary Tumor   BRAF    0 ...     1     0\n",
       "57    Extremities            Regional Lymph Node   BRAF    0 ...     0     1\n",
       "58          Trunk            Regional Lymph Node   BRAF    0 ...     0     0\n",
       "64           <NA>            Regional Lymph Node   BRAF    0 ...     0     0\n",
       "66          Trunk                  Primary Tumor   BRAF    0 ...     0     0\n",
       "70          Trunk                  Primary Tumor   BRAF    0 ...     0     0\n",
       "73          Trunk                  Primary Tumor   BRAF    0 ...     0     0\n",
       "...           ...                            ...    ...  ...       ...   ...\n",
       "175          <NA> regional (sub)cutaneous tissue   BRAF    1 ...     0     0\n",
       "176   Extremities            Regional Lymph Node   BRAF    0 ...     0     0\n",
       "185         Other regional (sub)cutaneous tissue   BRAF    0 ...     1     0\n",
       "188         Trunk regional (sub)cutaneous tissue   BRAF    0 ...     0     0\n",
       "191   Extremities            Regional Lymph Node   BRAF    0 ...     0     0\n",
       "193   Extremities            Regional Lymph Node   BRAF    0 ...     0     0\n",
       "194         Trunk regional (sub)cutaneous tissue   BRAF    1 ...     0     0\n",
       "195          <NA>            Regional Lymph Node   BRAF    0 ...     0     0\n",
       "198   Extremities            Regional Lymph Node   BRAF    0 ...     0     0\n",
       "200         Trunk            Regional Lymph Node   BRAF    0 ...     0     0\n",
       "202   Extremities            Regional Lymph Node   BRAF    0 ...     0     0\n",
       "206   Extremities             Distant Metastasis   BRAF    0 ...     0     1\n",
       "208         Trunk            Regional Lymph Node   BRAF    0 ...     0     0\n",
       "211   Extremities regional (sub)cutaneous tissue   BRAF    0 ...     0     0\n",
       "215   Extremities             Distant Metastasis   BRAF    0 ...     0     0\n",
       "216   Extremities            Regional Lymph Node   BRAF    0 ...     0     0\n",
       "219         Trunk regional (sub)cutaneous tissue   BRAF    0 ...     0     0\n",
       "220         Trunk             Distant Metastasis   BRAF    1 ...     0     0\n",
       "224 Head and Neck            Regional Lymph Node   BRAF    0 ...     0     0\n",
       "227         Trunk             Distant Metastasis   BRAF    0 ...     0     0\n",
       "236         Trunk                  Primary Tumor   BRAF    1 ...     0     0\n",
       "239         Trunk regional (sub)cutaneous tissue   BRAF    1 ...     0     0\n",
       "240         Trunk            Regional Lymph Node   BRAF    1 ...     0     0\n",
       "249   Extremities            Regional Lymph Node   BRAF    1 ...     0     0\n",
       "251   Extremities            Regional Lymph Node   BRAF    0 ...     0     0\n",
       "257         Trunk            Regional Lymph Node   BRAF    1 ...     0     0\n",
       "259 Head and Neck                  Primary Tumor   BRAF    0 ...     0     0\n",
       "262         Trunk regional (sub)cutaneous tissue   BRAF    1 ...     0     0\n",
       "263         Trunk                  Primary Tumor   BRAF    0 ...     0     1\n",
       "265          <NA>            Regional Lymph Node   BRAF    2 ...     0     0\n",
       "    other.rscore rgeno               sig1             sig5              sig7\n",
       "5              0   R,0   17.1398119764402 12.6008391567263  294.557531880051\n",
       "7              0   R,0   73.3174956798183  109.59299424803  822.201254851861\n",
       "8              0   0,0   14.5682279700173                0  104.809188052072\n",
       "11             0   0,0     71.50176999122                0  442.026711942066\n",
       "19             0   R,0 0.0444979053023078 36.5744862136801  362.417414282293\n",
       "21             0   0,0   11.8296266319953 16.6954506540675  102.710546624005\n",
       "23             0   r,0   27.6229359067382 28.0737232314018  296.494329142354\n",
       "25             0   r,0   31.2667175266899 51.0253284931876  305.700408723447\n",
       "27             0   R,r   36.8988437557085 3.91317374591287  240.950118505135\n",
       "29             0   r,0   43.0622087807394 33.7778696157936   95.762025802081\n",
       "30             0   R,r   43.6672765287847 41.9624670653563  210.141011860968\n",
       "31             0   R,0   7.89643214591886 4.47531891482082  123.257568616904\n",
       "32             0   r,r   39.8162333305549 78.6184473614549  996.216266833424\n",
       "34             0   R,R    3.0269518502805                0     200.667832014\n",
       "39             0   R,0   16.1328851499948  12.698088627506  42.8128760744796\n",
       "40             0   R,R   73.4117533134455 55.5023585182849   954.04307361641\n",
       "41             0   R,r   18.5362037955066 29.3247700388095  561.056023812619\n",
       "44             0   0,0                  0 37.8591942354489   65.451628020514\n",
       "47             0   R,0   28.2776181713299 50.5816427085221  502.633033319196\n",
       "49             0   r,0   8.44246447728799 29.5531444103613  68.6208476540098\n",
       "52             0   R,R   37.2522902219987                0  611.701812544465\n",
       "54             0   R,R   26.7930130161234 47.5629956936237  262.563390303746\n",
       "55             0   r,0   20.9388740866834 34.0597750695168  477.712276968541\n",
       "56             0   r,0   16.7187341145558  9.3631019498332                 0\n",
       "57             0   R,0   74.1067855281185 162.694442929233  734.811954420254\n",
       "58             0   R,0    26.733588638594 55.6210506393781  241.895529551905\n",
       "64             0   0,0    15.998135278134 27.6496770032917  139.589997326068\n",
       "66             2   R,R   4.90654447009027 11.5272586625712 0.992565170789917\n",
       "70             0   0,0    18.723907928131 4.56040887328473  2.77932569722983\n",
       "73             0   R,0   6.11044508063405 11.3173276672399  40.9464320937774\n",
       "...          ...   ...                ...              ...               ...\n",
       "175            0   R,r   112.297286939569 155.184380236325  1857.46574379547\n",
       "176            0   R,0   12.0074153477506 37.3062842438543   408.77562385907\n",
       "185            0   r,0   58.2491954489361 65.5875156048659  473.006597653606\n",
       "188            0   R,R   3.65878118135372 82.2900718684049  25.0617042977178\n",
       "191            0   R,0   56.4435595095319 69.9178658520143  407.714865507846\n",
       "193            0   R,0   51.3138369350955 54.8928461569804   489.39427794489\n",
       "194            0   r,0   22.2233290997017 41.4574455329739  234.963437818724\n",
       "195            0   0,0   29.2166078496802                0   228.07854489046\n",
       "198            0   R,r   55.5104785725742 34.5899275822952  542.340959218449\n",
       "200            0   0,0    21.536163232911                0  155.688197986685\n",
       "202            0   r,0   30.7246665002141                0  107.460591281651\n",
       "206            0   R,0    29.768651389358 35.3009708213043  60.2134131248548\n",
       "208            0   R,R                  0 43.9558036471117  232.746559685368\n",
       "211            0   r,0   44.2493921775243  33.965220194711  438.520752370609\n",
       "215            0   R,0   83.9912452662688 6.33417511168178  1011.30265295051\n",
       "216            0   R,r   54.4942982512335 43.9380703493126  307.897347222842\n",
       "219            0   0,0   6.42158924296293 8.17549401160295  7.66301264413039\n",
       "220            0   r,0    28.075440198612 5.78874977370034  235.016495970772\n",
       "224            0   R,R   26.4460635551749 8.33766196270625  203.113309101302\n",
       "227            0   R,0   63.7158413480036 29.0997765489684  739.561215203179\n",
       "236            0   r,0   4.19649639792591 12.5065468086868  106.052708914738\n",
       "239            0   r,0   13.9935429547581 1.09962896161595  154.422668280969\n",
       "240            0   r,0   40.6490908997987 43.1655878338908  250.888414233328\n",
       "249            0   R,r   17.1066666171297 23.2648260361972  155.448656519579\n",
       "251            0   R,0    26.226510825228 19.7610942192522   185.10518087144\n",
       "257            0   r,0   41.7298798079527 26.4693898836692  338.718037950259\n",
       "259            0   0,0                  0 16.8824908047769   70.967449272734\n",
       "262            0   r,0   30.4196716794279 57.7352241457177  355.557283588509\n",
       "263            0   R,0   29.7018128204798 19.0303721014855  469.721481275195\n",
       "265            0   r,r   0.74831190848597 56.5517743728181  149.370654346463\n",
       "    totalNonUV totalSNV             pred\n",
       "5           41      325 90.6261149811452\n",
       "7          100      992 107.816797973007\n",
       "8            8      117 37.4650950448297\n",
       "11          55      529 56.2453320198363\n",
       "19          44      391  113.69771422608\n",
       "21          18      133 26.7607821748784\n",
       "23          40      355  24.330091057114\n",
       "25          53      393 40.6765468484973\n",
       "27          32      290 95.5683643784593\n",
       "29          33      180 28.3851062332997\n",
       "30          68      314 69.8438025695824\n",
       "31          29      139 92.3360416789027\n",
       "32         182     1145  98.686822842956\n",
       "34          23      207 62.7114924663022\n",
       "39          22       75 92.1343546314789\n",
       "40         132     1095 67.5354534252485\n",
       "41          96      627 136.895224650225\n",
       "44          18       98 52.1547624183937\n",
       "47          64      576 37.2458029361298\n",
       "49          24      112 49.5192744242576\n",
       "52          57      641 21.0391185939732\n",
       "54          62      343 32.2599818440922\n",
       "55          36      528 58.7977200546922\n",
       "56          14       28  43.591413143996\n",
       "57         128      977 70.5709950368775\n",
       "58          63      334 78.4122167076417\n",
       "64          32      184 34.7890168273419\n",
       "66          17       25 80.3993493157721\n",
       "70          14       31  57.267974420197\n",
       "73          16       64 72.5313004545685\n",
       "...        ...      ...              ...\n",
       "175        179     2124 64.5732191746346\n",
       "176         50      454 58.8091625307312\n",
       "185         68      592 45.6189207320888\n",
       "188         68      109 67.5354534252485\n",
       "191        119      569 61.5573611192684\n",
       "193         91      608  82.076481492358\n",
       "194         49      299 40.5501517618567\n",
       "195         39      265 55.2226896194757\n",
       "198         68      646 92.9854356114739\n",
       "200         29      186  57.267974420197\n",
       "202         13      139  32.718092030313\n",
       "206         51      136  97.465821772175\n",
       "208         80      307 60.3121399693897\n",
       "211         35      503 30.4126138213925\n",
       "215        117     1121  97.465821772175\n",
       "216         56      411 65.3377507908997\n",
       "219         11       26 34.7890168273419\n",
       "220         30      263 48.6350016666815\n",
       "224         20      239 30.5517527399934\n",
       "227        105      854 99.9755763022431\n",
       "236         12      119  43.591413143996\n",
       "239         14      167  36.495136585671\n",
       "240         60      341 54.7427048785066\n",
       "249         32      199  134.31229588324\n",
       "251         32      237  78.656628096843\n",
       "257         53      427 50.4035471818336\n",
       "259         14       85 49.0868352173117\n",
       "262         67      451 41.5608196060733\n",
       "263         48      525  47.047330024585\n",
       "265         44      197 105.197744477814"
      ]
     },
     "metadata": {},
     "output_type": "display_data"
    }
   ],
   "source": [
    "print=data.frame(subset(data, Cohort==\"BRAF\" & age_at_diagnosis < 60),pred=res_braf.poisson$fitted)\n",
    "print"
   ]
  },
  {
   "cell_type": "markdown",
   "metadata": {},
   "source": [
    "If $u$ denotes the mutation rate per gigabase pair per cell division (let's say, $u=0.1$, according to [this](http://book.bionumbers.org/what-is-the-mutation-rate-during-genome-replication/) source), and $d$ the number of cell divisions per year. Then the number of mutations per year is\n",
    "\\begin{equation*}\n",
    "  \\lambda = u\\cdot d.\n",
    "\\end{equation*}\n",
    "In the Poisson regression model, we estimate\n",
    "\\begin{equation*}\n",
    "  \\log(\\lambda) = \\log(u)+\\log(d).\n",
    "\\end{equation*}\n",
    "Now let's assume the following:\n",
    "\n",
    "1. The mutation rate differs depending on the type of MC1R alleles (RR, Rr, or no R), as proposed in [Robles-Espinoza et al](http://www.nature.com/articles/ncomms12064) but the cell proliferation rate does not;\n",
    "2. The cell proliferation rate differes between NRAS and BRAF types, but the mutation rate does not.\n",
    "\n",
    "If we stratify the data set according to rgeno and Cohort, we get $6=2\\cdot 3$ estimates for $\\lambda$ and we have $5$ variables. Let $\\lambda_{ij}$ be the estimated variables, where $i$ denotes NRAS ($0$) or BRAF ($1$), and $j$ denotes the MC1R status ($0$, or $1$ and $2$ R alleles). We thus get a system of linear equations with $4$ equations and $4$ unknowns:\n",
    "\n",
    "\\begin{align*}\n",
    "\\log(\\lambda_{00}) &= \\log(u_0)+\\log(d_0)\\\\\n",
    "\\log(\\lambda_{01}) &= \\log(u_1)+\\log(d_0)\\\\\n",
    "\\log(\\lambda_{10}) &= \\log(u_0)+\\log(d_1)\\\\\n",
    "\\log(\\lambda_{11}) &= \\log(u_1)+\\log(d_1)\\\\\n",
    "\\end{align*}\n",
    "\n",
    "\n",
    "In this very simplistic setting, we can estimate $d$ as about $10$ times the parameter $\\lambda$. This means that for NRAS we are talking about $16$ cell divisions per year, and for $BRAF$ about $13$. This does not look realistic, probably because we didn't count something correctly. Let's put aside estimates for $u$, and look at the estimates $\\lambda_1$ and $\\lambda_2$ for NRAS and BRAF, respectively. Assuming the same mutation rate for non-UV mutations per cell division in all melanocytes, the ratio should give\n",
    "\\begin{equation*}\n",
    "  \\frac{\\lambda_1}{\\lambda_2} = \\frac{d_1}{d_2},\n",
    "\\end{equation*}\n",
    "which gives the factor of increase in proliferation. In our example, this would mean that cells with NRAS mutations proliferate at $1.2$ times the speed of cells with BRAF mutations. "
   ]
  },
  {
   "cell_type": "code",
   "execution_count": null,
   "metadata": {
    "collapsed": true
   },
   "outputs": [],
   "source": []
  },
  {
   "cell_type": "markdown",
   "metadata": {},
   "source": [
    "Now take more covariates into account"
   ]
  },
  {
   "cell_type": "code",
   "execution_count": 93,
   "metadata": {
    "collapsed": false
   },
   "outputs": [
    {
     "data": {
      "text/html": [
       "<ol class=list-inline>\n",
       "\t<li>172</li>\n",
       "\t<li>11</li>\n",
       "</ol>\n"
      ],
      "text/latex": [
       "\\begin{enumerate*}\n",
       "\\item 172\n",
       "\\item 11\n",
       "\\end{enumerate*}\n"
      ],
      "text/markdown": [
       "1. 172\n",
       "2. 11\n",
       "\n",
       "\n"
      ],
      "text/plain": [
       "[1] 172  11"
      ]
     },
     "metadata": {},
     "output_type": "display_data"
    }
   ],
   "source": [
    "relevant = c('age_at_diagnosis', 'gender', 'body_area', 'tissue_type', 'Cohort', 'rgeno', 'sig1', 'sig5', 'sig7', 'totalNonUV', 'totalSNV')\n",
    "data <- na.omit(data[, relevant])\n",
    "dim(data)"
   ]
  },
  {
   "cell_type": "markdown",
   "metadata": {},
   "source": [
    "We next solve the non-negative regression problem using only a few of these covariates (to keep things simple). "
   ]
  },
  {
   "cell_type": "code",
   "execution_count": 94,
   "metadata": {
    "collapsed": false
   },
   "outputs": [
    {
     "data": {
      "text/plain": [
       "\n",
       "Call:\n",
       "glm(formula = totalNonUV ~ offset(log(age_at_diagnosis)) + gender + \n",
       "    rgeno + Cohort, family = \"poisson\", data = data)\n",
       "\n",
       "Deviance Residuals: \n",
       "    Min       1Q   Median       3Q      Max  \n",
       "-11.657   -5.256   -1.430    2.607   26.578  \n",
       "\n",
       "Coefficients:\n",
       "             Estimate Std. Error z value Pr(>|z|)    \n",
       "(Intercept) -0.271615   0.028484  -9.536   <2e-16 ***\n",
       "genderMALE   0.325525   0.019882  16.373   <2e-16 ***\n",
       "rgenor,0    -0.003014   0.030296  -0.099   0.9207    \n",
       "rgenoR,0     0.359152   0.028606  12.555   <2e-16 ***\n",
       "rgenor,r     0.086665   0.036256   2.390   0.0168 *  \n",
       "rgenoR,r     0.536398   0.029860  17.964   <2e-16 ***\n",
       "rgenoR,R     0.508947   0.032078  15.866   <2e-16 ***\n",
       "CohortNRAS   0.305566   0.018247  16.746   <2e-16 ***\n",
       "---\n",
       "Signif. codes:  0 '***' 0.001 '**' 0.01 '*' 0.05 '.' 0.1 ' ' 1\n",
       "\n",
       "(Dispersion parameter for poisson family taken to be 1)\n",
       "\n",
       "    Null deviance: 8316.8  on 171  degrees of freedom\n",
       "Residual deviance: 7136.3  on 164  degrees of freedom\n",
       "AIC: 8156.4\n",
       "\n",
       "Number of Fisher Scoring iterations: 5\n"
      ]
     },
     "metadata": {},
     "output_type": "display_data"
    },
    {
     "data": {
      "text/plain": [
       "\n",
       "Call:\n",
       "glm.nb(formula = totalNonUV ~ offset(log(age_at_diagnosis)) + \n",
       "    gender + rgeno + Cohort, data = data, link = log, init.theta = 1.946818688)\n",
       "\n",
       "Deviance Residuals: \n",
       "    Min       1Q   Median       3Q      Max  \n",
       "-2.4173  -0.9974  -0.3125   0.3248   3.5943  \n",
       "\n",
       "Coefficients:\n",
       "            Estimate Std. Error z value Pr(>|z|)    \n",
       "(Intercept) -0.18585    0.16276  -1.142  0.25350    \n",
       "genderMALE   0.24435    0.11736   2.082  0.03734 *  \n",
       "rgenor,0    -0.01545    0.17570  -0.088  0.92993    \n",
       "rgenoR,0     0.42070    0.17695   2.378  0.01743 *  \n",
       "rgenor,r     0.20118    0.22592   0.891  0.37319    \n",
       "rgenoR,r     0.70053    0.19424   3.606  0.00031 ***\n",
       "rgenoR,R     0.56167    0.20587   2.728  0.00637 ** \n",
       "CohortNRAS   0.22770    0.11781   1.933  0.05327 .  \n",
       "---\n",
       "Signif. codes:  0 '***' 0.001 '**' 0.01 '*' 0.05 '.' 0.1 ' ' 1\n",
       "\n",
       "(Dispersion parameter for Negative Binomial(1.9468) family taken to be 1)\n",
       "\n",
       "    Null deviance: 214.40  on 171  degrees of freedom\n",
       "Residual deviance: 185.18  on 164  degrees of freedom\n",
       "AIC: 1802.1\n",
       "\n",
       "Number of Fisher Scoring iterations: 1\n",
       "\n",
       "\n",
       "              Theta:  1.947 \n",
       "          Std. Err.:  0.202 \n",
       "\n",
       " 2 x log-likelihood:  -1784.077 "
      ]
     },
     "metadata": {},
     "output_type": "display_data"
    }
   ],
   "source": [
    "res.poisson <- glm(totalNonUV ~ offset(log(age_at_diagnosis)) + gender + rgeno + Cohort, data = data, family=\"poisson\")\n",
    "summary(res.poisson)\n",
    "res.nb <- glm.nb(totalNonUV ~ offset(log(age_at_diagnosis)) + gender + rgeno + Cohort, data = data, link=log)\n",
    "summary(res.nb)"
   ]
  },
  {
   "cell_type": "markdown",
   "metadata": {},
   "source": [
    "As expected, the age, the number of R alleles of MC1R and the cohort (NRAS/BRAF) are all significant. We next test the effect of exclusion of the cohort variable, followed by a goodness of fit test and some plots."
   ]
  },
  {
   "cell_type": "code",
   "execution_count": 95,
   "metadata": {
    "collapsed": false
   },
   "outputs": [
    {
     "data": {
      "text/html": [
       "<table>\n",
       "<thead><tr><th></th><th scope=col>age_at_diagnosis</th><th scope=col>gender</th><th scope=col>body_area</th><th scope=col>tissue_type</th><th scope=col>Cohort</th><th scope=col>rgeno</th><th scope=col>sig1</th><th scope=col>sig5</th><th scope=col>sig7</th><th scope=col>totalNonUV</th><th scope=col>totalSNV</th><th scope=col>pred</th></tr></thead>\n",
       "<tbody>\n",
       "\t<tr><th scope=row>1</th><td>74              </td><td>FEMALE          </td><td>Trunk           </td><td>Primary Tumor   </td><td>NRAS            </td><td>r,r             </td><td>18.3776494782792</td><td>0               </td><td>322.196392595928</td><td>38              </td><td>339             </td><td>94.3580839376285</td></tr>\n",
       "\t<tr><th scope=row>3</th><td>79                 </td><td>FEMALE             </td><td>Extremities        </td><td>Regional Lymph Node</td><td>NRAS               </td><td>0,0                </td><td>22.2584700577615   </td><td>21.2544285055765   </td><td>1.97921350632214   </td><td>31                 </td><td>54                 </td><td>82.3762393278007   </td></tr>\n",
       "\t<tr><th scope=row>5</th><td>53                 </td><td>FEMALE             </td><td>Extremities        </td><td>Regional Lymph Node</td><td>BRAF               </td><td>R,0                </td><td>17.1398119764402   </td><td>12.6008391567263   </td><td>294.557531880051   </td><td>41                 </td><td>325                </td><td>67.0298122772302   </td></tr>\n",
       "\t<tr><th scope=row>6</th><td>60                 </td><td>MALE               </td><td>Trunk              </td><td>Regional Lymph Node</td><td>BRAF               </td><td>R,r                </td><td>28.4435483877111   </td><td>22.2570948225775   </td><td>393.4877181373     </td><td>62                 </td><td>452                </td><td>128.171334654694   </td></tr>\n",
       "\t<tr><th scope=row>7</th><td>55                            </td><td>MALE                          </td><td>Extremities                   </td><td>regional (sub)cutaneous tissue</td><td>BRAF                          </td><td>R,0                           </td><td>73.3174956798183              </td><td>109.59299424803               </td><td>822.201254851861              </td><td>100                           </td><td>992                           </td><td>88.8122920594856              </td></tr>\n",
       "\t<tr><th scope=row>8</th><td>42                 </td><td>FEMALE             </td><td>Trunk              </td><td>Regional Lymph Node</td><td>BRAF               </td><td>0,0                </td><td>14.5682279700173   </td><td>0                  </td><td>104.809188052072   </td><td>8                  </td><td>117                </td><td>34.8766780222526   </td></tr>\n",
       "\t<tr><th scope=row>10</th><td>72                 </td><td>MALE               </td><td>Extremities        </td><td>Regional Lymph Node</td><td>BRAF               </td><td>R,R                </td><td>11.2729222598709   </td><td>19.3543152997275   </td><td>3.0728541803615    </td><td>25                 </td><td>38                 </td><td>133.864300338582   </td></tr>\n",
       "\t<tr><th scope=row>11</th><td>55                 </td><td>MALE               </td><td>Extremities        </td><td>Regional Lymph Node</td><td>BRAF               </td><td>0,0                </td><td>71.50176999122     </td><td>0                  </td><td>442.026711942066   </td><td>55                 </td><td>529                </td><td>58.3131855084472   </td></tr>\n",
       "\t<tr><th scope=row>14</th><td>67                 </td><td>MALE               </td><td>Trunk              </td><td>Regional Lymph Node</td><td>BRAF               </td><td>R,r                </td><td>33.5730585202342   </td><td>13.4881563422384   </td><td>359.436909435098   </td><td>35                 </td><td>409                </td><td>143.124657031075   </td></tr>\n",
       "\t<tr><th scope=row>15</th><td>48                 </td><td>MALE               </td><td>Extremities        </td><td>Regional Lymph Node</td><td>NRAS               </td><td>R,R                </td><td>9.5313801245867    </td><td>0                  </td><td>521.429563567985   </td><td>54                 </td><td>523                </td><td>112.06308188436    </td></tr>\n",
       "\t<tr><th scope=row>17</th><td>68                            </td><td>MALE                          </td><td>Trunk                         </td><td>regional (sub)cutaneous tissue</td><td>BRAF                          </td><td>0,0                           </td><td>23.2134821043048              </td><td>69.5435122918841              </td><td>354.616132424797              </td><td>75                            </td><td>447                           </td><td>72.0963020831711              </td></tr>\n",
       "\t<tr><th scope=row>19</th><td>58                 </td><td>MALE               </td><td>Extremities        </td><td>Regional Lymph Node</td><td>BRAF               </td><td>R,0                </td><td>0.0444979053023078 </td><td>36.5744862136801   </td><td>362.417414282293   </td><td>44                 </td><td>391                </td><td>93.6565988990939   </td></tr>\n",
       "\t<tr><th scope=row>21</th><td>30                 </td><td>FEMALE             </td><td>Extremities        </td><td>Regional Lymph Node</td><td>BRAF               </td><td>0,0                </td><td>11.8296266319953   </td><td>16.6954506540675   </td><td>102.710546624005   </td><td>18                 </td><td>133                </td><td>24.9119128730376   </td></tr>\n",
       "\t<tr><th scope=row>23</th><td>24                 </td><td>MALE               </td><td>Trunk              </td><td>Regional Lymph Node</td><td>BRAF               </td><td>r,0                </td><td>27.6229359067382   </td><td>28.0737232314018   </td><td>296.494329142354   </td><td>40                 </td><td>355                </td><td>25.0556438052054   </td></tr>\n",
       "\t<tr><th scope=row>24</th><td>43                 </td><td>FEMALE             </td><td>Extremities        </td><td>Regional Lymph Node</td><td>NRAS               </td><td>r,0                </td><td>30.648116662825    </td><td>30.0842088580738   </td><td>306.483641097877   </td><td>48                 </td><td>374                </td><td>44.1502913101703   </td></tr>\n",
       "\t<tr><th scope=row>26</th><td>50                            </td><td>FEMALE                        </td><td>Extremities                   </td><td>regional (sub)cutaneous tissue</td><td>NRAS                          </td><td>r,r                           </td><td>24.9204900198722              </td><td>69.2310270542715              </td><td>571.473951961343              </td><td>146                           </td><td>686                           </td><td>63.7554621200193              </td></tr>\n",
       "\t<tr><th scope=row>29</th><td>28                 </td><td>MALE               </td><td>Trunk              </td><td>Regional Lymph Node</td><td>BRAF               </td><td>r,0                </td><td>43.0622087807394   </td><td>33.7778696157936   </td><td>95.762025802081    </td><td>33                 </td><td>180                </td><td>29.2315844394063   </td></tr>\n",
       "\t<tr><th scope=row>30</th><td>31                 </td><td>FEMALE             </td><td>Trunk              </td><td>Regional Lymph Node</td><td>BRAF               </td><td>R,r                </td><td>43.6672765287847   </td><td>41.9624670653563   </td><td>210.141011860968   </td><td>68                 </td><td>314                </td><td>51.8660404836822   </td></tr>\n",
       "\t<tr><th scope=row>31</th><td>54                 </td><td>FEMALE             </td><td>Extremities        </td><td>Regional Lymph Node</td><td>BRAF               </td><td>R,0                </td><td>7.89643214591886   </td><td>4.47531891482082   </td><td>123.257568616904   </td><td>29                 </td><td>139                </td><td>68.2945257164233   </td></tr>\n",
       "\t<tr><th scope=row>34</th><td>39                 </td><td>MALE               </td><td>Trunk              </td><td>Regional Lymph Node</td><td>BRAF               </td><td>R,R                </td><td>3.0269518502805    </td><td>0                  </td><td>200.667832014      </td><td>23                 </td><td>207                </td><td>72.5098293500653   </td></tr>\n",
       "\t<tr><th scope=row>38</th><td>70                 </td><td>MALE               </td><td>Head and Neck      </td><td>Regional Lymph Node</td><td>NRAS               </td><td>R,R                </td><td>97.1635233431844   </td><td>0                  </td><td>1117.15964285384   </td><td>144                </td><td>1245               </td><td>163.425327748025   </td></tr>\n",
       "\t<tr><th scope=row>39</th><td>47                            </td><td>MALE                          </td><td>Trunk                         </td><td>regional (sub)cutaneous tissue</td><td>BRAF                          </td><td>R,0                           </td><td>16.1328851499948              </td><td>12.698088627506               </td><td>42.8128760744796              </td><td>22                            </td><td>75                            </td><td>75.8941404871968              </td></tr>\n",
       "\t<tr><th scope=row>41</th><td>53                 </td><td>MALE               </td><td>Trunk              </td><td>Regional Lymph Node</td><td>BRAF               </td><td>R,r                </td><td>18.5362037955066   </td><td>29.3247700388095   </td><td>561.056023812619   </td><td>96                 </td><td>627                </td><td>113.218012278314   </td></tr>\n",
       "\t<tr><th scope=row>42</th><td>38                            </td><td>FEMALE                        </td><td>Extremities                   </td><td>regional (sub)cutaneous tissue</td><td>NRAS                          </td><td>R,r                           </td><td>53.709545113272               </td><td>9.30335120036167              </td><td>621.874465897659              </td><td>68                            </td><td>704                           </td><td>79.8351317019211              </td></tr>\n",
       "\t<tr><th scope=row>43</th><td>39                            </td><td>FEMALE                        </td><td>Extremities                   </td><td>regional (sub)cutaneous tissue</td><td>NRAS                          </td><td>0,0                           </td><td>48.3659401598919              </td><td>46.2703819302045              </td><td>253.822798419216              </td><td>60                            </td><td>356                           </td><td>40.6667510605598              </td></tr>\n",
       "\t<tr><th scope=row>44</th><td>51                 </td><td>MALE               </td><td>Extremities        </td><td>Regional Lymph Node</td><td>BRAF               </td><td>0,0                </td><td>0                  </td><td>37.8591942354489   </td><td>65.451628020514    </td><td>18                 </td><td>98                 </td><td>54.0722265623783   </td></tr>\n",
       "\t<tr><th scope=row>45</th><td>35                            </td><td>MALE                          </td><td>Trunk                         </td><td>regional (sub)cutaneous tissue</td><td>NRAS                          </td><td>R,R                           </td><td>173.565039267071              </td><td>127.994356245909              </td><td>1293.75941864667              </td><td>177                           </td><td>1616                          </td><td>81.7126638740126              </td></tr>\n",
       "\t<tr><th scope=row>50</th><td>60                 </td><td>MALE               </td><td>Extremities        </td><td>Regional Lymph Node</td><td>NRAS               </td><td>r,r                </td><td>65.8177668152305   </td><td>0.30344395170204   </td><td>847.737206763233   </td><td>99                 </td><td>927                </td><td>97.6825300148518   </td></tr>\n",
       "\t<tr><th scope=row>52</th><td>15                 </td><td>FEMALE             </td><td>Trunk              </td><td>Regional Lymph Node</td><td>BRAF               </td><td>R,R                </td><td>37.2522902219987   </td><td>0                  </td><td>611.701812544465   </td><td>57                 </td><td>641                </td><td>21.8426476263508   </td></tr>\n",
       "\t<tr><th scope=row>53</th><td>61                </td><td>MALE              </td><td>Head and Neck     </td><td>Distant Metastasis</td><td>NRAS              </td><td>r,0               </td><td>110.867704015589  </td><td>13.5308118419344  </td><td>1916.38343283662  </td><td>174               </td><td>2058              </td><td>79.9674427921993  </td></tr>\n",
       "\t<tr><th scope=row>...</th><td>...</td><td>...</td><td>...</td><td>...</td><td>...</td><td>...</td><td>...</td><td>...</td><td>...</td><td>...</td><td>...</td><td>...</td></tr>\n",
       "\t<tr><th scope=row>226</th><td>57                </td><td>MALE              </td><td>Trunk             </td><td>Distant Metastasis</td><td>NRAS              </td><td>r,0               </td><td>5.42601275903045  </td><td>19.8232143113236  </td><td>186.195488411935  </td><td>27                </td><td>208               </td><td>74.7236760517272  </td></tr>\n",
       "\t<tr><th scope=row>227</th><td>51                </td><td>MALE              </td><td>Trunk             </td><td>Distant Metastasis</td><td>BRAF              </td><td>R,0               </td><td>63.7158413480036  </td><td>29.0997765489684  </td><td>739.561215203179  </td><td>105               </td><td>854               </td><td>82.3532162733412  </td></tr>\n",
       "\t<tr><th scope=row>228</th><td>63                 </td><td>MALE               </td><td>Extremities        </td><td>Regional Lymph Node</td><td>BRAF               </td><td>R,0                </td><td>19.8092593550481   </td><td>47.5217957416682   </td><td>223.507684599317   </td><td>57                 </td><td>299                </td><td>101.730443631774   </td></tr>\n",
       "\t<tr><th scope=row>229</th><td>40                </td><td>MALE              </td><td>Trunk             </td><td>Distant Metastasis</td><td>NRAS              </td><td>r,0               </td><td>24.1591751780812  </td><td>32.2960169104689  </td><td>126.535863710717  </td><td>36                </td><td>186               </td><td>52.4376674047208  </td></tr>\n",
       "\t<tr><th scope=row>230</th><td>78                </td><td>FEMALE            </td><td>Extremities       </td><td>Distant Metastasis</td><td>BRAF              </td><td>r,0               </td><td>30.2144504386608  </td><td>53.1272710374781  </td><td>164.45124330973   </td><td>51                </td><td>253               </td><td>63.7779670752089  </td></tr>\n",
       "\t<tr><th scope=row>232</th><td>71                 </td><td>FEMALE             </td><td>Extremities        </td><td>Regional Lymph Node</td><td>BRAF               </td><td>r,0                </td><td>13.9861030418142   </td><td>8.67068572096206   </td><td>7.48286245106313   </td><td>13                 </td><td>36                 </td><td>58.0543033633312   </td></tr>\n",
       "\t<tr><th scope=row>235</th><td>74                            </td><td>MALE                          </td><td>Extremities                   </td><td>regional (sub)cutaneous tissue</td><td>BRAF                          </td><td>R,r                           </td><td>20.3208936289283              </td><td>44.1060386531963              </td><td>189.074588408989              </td><td>56                            </td><td>259                           </td><td>158.077979407457              </td></tr>\n",
       "\t<tr><th scope=row>236</th><td>43              </td><td>MALE            </td><td>Trunk           </td><td>Primary Tumor   </td><td>BRAF            </td><td>r,0             </td><td>4.19649639792591</td><td>12.5065468086868</td><td>106.052708914738</td><td>12              </td><td>119             </td><td>44.8913618176597</td></tr>\n",
       "\t<tr><th scope=row>237</th><td>52                 </td><td>MALE               </td><td>Extremities        </td><td>Regional Lymph Node</td><td>NRAS               </td><td>R,R                </td><td>53.3559224377663   </td><td>0                  </td><td>413.99087948215    </td><td>57                 </td><td>474                </td><td>121.40167204139    </td></tr>\n",
       "\t<tr><th scope=row>238</th><td>31                </td><td>MALE              </td><td>Extremities       </td><td>Distant Metastasis</td><td>NRAS              </td><td>r,0               </td><td>23.2452225660616  </td><td>1.48754037183681  </td><td>535.186746263883  </td><td>57                </td><td>571               </td><td>40.6391922386586  </td></tr>\n",
       "\t<tr><th scope=row>239</th><td>36                            </td><td>MALE                          </td><td>Trunk                         </td><td>regional (sub)cutaneous tissue</td><td>BRAF                          </td><td>r,0                           </td><td>13.9935429547581              </td><td>1.09962896161595              </td><td>154.422668280969              </td><td>14                            </td><td>167                           </td><td>37.5834657078081              </td></tr>\n",
       "\t<tr><th scope=row>240</th><td>54                 </td><td>MALE               </td><td>Trunk              </td><td>Regional Lymph Node</td><td>BRAF               </td><td>r,0                </td><td>40.6490908997987   </td><td>43.1655878338908   </td><td>250.888414233328   </td><td>60                 </td><td>341                </td><td>56.3751985617122   </td></tr>\n",
       "\t<tr><th scope=row>241</th><td>55                </td><td>MALE              </td><td>Extremities       </td><td>Distant Metastasis</td><td>NRAS              </td><td>r,0               </td><td>19.9799227536548  </td><td>12.1092480656557  </td><td>182.996594692306  </td><td>42                </td><td>219               </td><td>72.1017926814911  </td></tr>\n",
       "\t<tr><th scope=row>243</th><td>65                 </td><td>MALE               </td><td>Extremities        </td><td>Regional Lymph Node</td><td>NRAS               </td><td>r,r                </td><td>94.3403042245108   </td><td>30.2899568859838   </td><td>630.118642711705   </td><td>94                 </td><td>799                </td><td>105.822740849423   </td></tr>\n",
       "\t<tr><th scope=row>244</th><td>71                </td><td>MALE              </td><td>Trunk             </td><td>Distant Metastasis</td><td>NRAS              </td><td>r,r               </td><td>11.9657800921196  </td><td>12.7902108188109  </td><td>7.99287305845767  </td><td>14                </td><td>37                </td><td>115.590993850908  </td></tr>\n",
       "\t<tr><th scope=row>248</th><td>77                            </td><td>FEMALE                        </td><td>Extremities                   </td><td>regional (sub)cutaneous tissue</td><td>NRAS                          </td><td>R,r                           </td><td>71.7578338230982              </td><td>0                             </td><td>927.459025818227              </td><td>96                            </td><td>995                           </td><td>161.771187922314              </td></tr>\n",
       "\t<tr><th scope=row>249</th><td>52                 </td><td>MALE               </td><td>Extremities        </td><td>Regional Lymph Node</td><td>BRAF               </td><td>R,r                </td><td>17.1066666171297   </td><td>23.2648260361972   </td><td>155.448656519579   </td><td>32                 </td><td>199                </td><td>111.081823367402   </td></tr>\n",
       "\t<tr><th scope=row>250</th><td>80                 </td><td>MALE               </td><td>Trunk              </td><td>Regional Lymph Node</td><td>NRAS               </td><td>0,0                </td><td>26.7787064371343   </td><td>32.1897536791767   </td><td>503.393546070766   </td><td>61                 </td><td>565                </td><td>106.50821655351    </td></tr>\n",
       "\t<tr><th scope=row>251</th><td>46                 </td><td>FEMALE             </td><td>Extremities        </td><td>Regional Lymph Node</td><td>BRAF               </td><td>R,0                </td><td>26.226510825228    </td><td>19.7610942192522   </td><td>185.10518087144    </td><td>32                 </td><td>237                </td><td>58.1768182028791   </td></tr>\n",
       "\t<tr><th scope=row>252</th><td>75                            </td><td>FEMALE                        </td><td>Extremities                   </td><td>regional (sub)cutaneous tissue</td><td>NRAS                          </td><td>0,0                           </td><td>94.3602601957852              </td><td>4.47930361661671              </td><td>842.519954031112              </td><td>89                            </td><td>966                           </td><td>78.2052905010766              </td></tr>\n",
       "\t<tr><th scope=row>253</th><td>39                 </td><td>MALE               </td><td>Trunk              </td><td>Regional Lymph Node</td><td>NRAS               </td><td>R,R                </td><td>34.9404159650967   </td><td>0                  </td><td>524.76128979135    </td><td>75                 </td><td>584                </td><td>91.0512540310425   </td></tr>\n",
       "\t<tr><th scope=row>257</th><td>57                 </td><td>FEMALE             </td><td>Trunk              </td><td>Regional Lymph Node</td><td>BRAF               </td><td>r,0                </td><td>41.7298798079527   </td><td>26.4693898836692   </td><td>338.718037950259   </td><td>53                 </td><td>427                </td><td>46.6069759395758   </td></tr>\n",
       "\t<tr><th scope=row>258</th><td>71              </td><td>MALE            </td><td>Trunk           </td><td>Primary Tumor   </td><td>BRAF            </td><td>R,0             </td><td>24.9749355490907</td><td>34.4057522559179</td><td>196.646586490956</td><td>46              </td><td>257             </td><td>114.648595204063</td></tr>\n",
       "\t<tr><th scope=row>259</th><td>48              </td><td>MALE            </td><td>Head and Neck   </td><td>Primary Tumor   </td><td>BRAF            </td><td>0,0             </td><td>0               </td><td>16.8824908047769</td><td>70.967449272734 </td><td>14              </td><td>85              </td><td>50.8915073528266</td></tr>\n",
       "\t<tr><th scope=row>260</th><td>58                 </td><td>FEMALE             </td><td>Extremities        </td><td>Regional Lymph Node</td><td>NRAS               </td><td>R,0                </td><td>72.4768569405401   </td><td>75.4593721802487   </td><td>563.309179255465   </td><td>90                 </td><td>724                </td><td>92.1105076141426   </td></tr>\n",
       "\t<tr><th scope=row>262</th><td>47                            </td><td>FEMALE                        </td><td>Trunk                         </td><td>regional (sub)cutaneous tissue</td><td>BRAF                          </td><td>r,0                           </td><td>30.4196716794279              </td><td>57.7352241457177              </td><td>355.557283588509              </td><td>67                            </td><td>451                           </td><td>38.4303134940361              </td></tr>\n",
       "\t<tr><th scope=row>263</th><td>24              </td><td>MALE            </td><td>Trunk           </td><td>Primary Tumor   </td><td>BRAF            </td><td>R,0             </td><td>29.7018128204798</td><td>19.0303721014855</td><td>469.721481275195</td><td>48              </td><td>525             </td><td>38.7544547168664</td></tr>\n",
       "\t<tr><th scope=row>267</th><td>38                 </td><td>MALE               </td><td>Trunk              </td><td>Regional Lymph Node</td><td>NRAS               </td><td>R,R                </td><td>55.7283452656376   </td><td>49.3512016452649   </td><td>426.011453481029   </td><td>68                 </td><td>542                </td><td>88.716606491785    </td></tr>\n",
       "\t<tr><th scope=row>268</th><td>83                 </td><td>FEMALE             </td><td>Extremities        </td><td>Regional Lymph Node</td><td>NRAS               </td><td>0,0                </td><td>24.314281509184    </td><td>22.2114640253687   </td><td>367.113741278127   </td><td>66                 </td><td>429                </td><td>86.5471881545248   </td></tr>\n",
       "\t<tr><th scope=row>273</th><td>61              </td><td>MALE            </td><td>Head and Neck   </td><td>Primary Tumor   </td><td>BRAF            </td><td>0,0             </td><td>62.9014391574732</td><td>0               </td><td>1880.07370853744</td><td>196             </td><td>1951            </td><td>64.6746239275505</td></tr>\n",
       "</tbody>\n",
       "</table>\n"
      ],
      "text/latex": [
       "\\begin{tabular}{r|llllllllllll}\n",
       "  & age\\_at\\_diagnosis & gender & body\\_area & tissue\\_type & Cohort & rgeno & sig1 & sig5 & sig7 & totalNonUV & totalSNV & pred\\\\\n",
       "\\hline\n",
       "\t1 & 74               & FEMALE           & Trunk            & Primary Tumor    & NRAS             & r,r              & 18.3776494782792 & 0                & 322.196392595928 & 38               & 339              & 94.3580839376285\\\\\n",
       "\t3 & 79                  & FEMALE              & Extremities         & Regional Lymph Node & NRAS                & 0,0                 & 22.2584700577615    & 21.2544285055765    & 1.97921350632214    & 31                  & 54                  & 82.3762393278007   \\\\\n",
       "\t5 & 53                  & FEMALE              & Extremities         & Regional Lymph Node & BRAF                & R,0                 & 17.1398119764402    & 12.6008391567263    & 294.557531880051    & 41                  & 325                 & 67.0298122772302   \\\\\n",
       "\t6 & 60                  & MALE                & Trunk               & Regional Lymph Node & BRAF                & R,r                 & 28.4435483877111    & 22.2570948225775    & 393.4877181373      & 62                  & 452                 & 128.171334654694   \\\\\n",
       "\t7 & 55                             & MALE                           & Extremities                    & regional (sub)cutaneous tissue & BRAF                           & R,0                            & 73.3174956798183               & 109.59299424803                & 822.201254851861               & 100                            & 992                            & 88.8122920594856              \\\\\n",
       "\t8 & 42                  & FEMALE              & Trunk               & Regional Lymph Node & BRAF                & 0,0                 & 14.5682279700173    & 0                   & 104.809188052072    & 8                   & 117                 & 34.8766780222526   \\\\\n",
       "\t10 & 72                  & MALE                & Extremities         & Regional Lymph Node & BRAF                & R,R                 & 11.2729222598709    & 19.3543152997275    & 3.0728541803615     & 25                  & 38                  & 133.864300338582   \\\\\n",
       "\t11 & 55                  & MALE                & Extremities         & Regional Lymph Node & BRAF                & 0,0                 & 71.50176999122      & 0                   & 442.026711942066    & 55                  & 529                 & 58.3131855084472   \\\\\n",
       "\t14 & 67                  & MALE                & Trunk               & Regional Lymph Node & BRAF                & R,r                 & 33.5730585202342    & 13.4881563422384    & 359.436909435098    & 35                  & 409                 & 143.124657031075   \\\\\n",
       "\t15 & 48                  & MALE                & Extremities         & Regional Lymph Node & NRAS                & R,R                 & 9.5313801245867     & 0                   & 521.429563567985    & 54                  & 523                 & 112.06308188436    \\\\\n",
       "\t17 & 68                             & MALE                           & Trunk                          & regional (sub)cutaneous tissue & BRAF                           & 0,0                            & 23.2134821043048               & 69.5435122918841               & 354.616132424797               & 75                             & 447                            & 72.0963020831711              \\\\\n",
       "\t19 & 58                  & MALE                & Extremities         & Regional Lymph Node & BRAF                & R,0                 & 0.0444979053023078  & 36.5744862136801    & 362.417414282293    & 44                  & 391                 & 93.6565988990939   \\\\\n",
       "\t21 & 30                  & FEMALE              & Extremities         & Regional Lymph Node & BRAF                & 0,0                 & 11.8296266319953    & 16.6954506540675    & 102.710546624005    & 18                  & 133                 & 24.9119128730376   \\\\\n",
       "\t23 & 24                  & MALE                & Trunk               & Regional Lymph Node & BRAF                & r,0                 & 27.6229359067382    & 28.0737232314018    & 296.494329142354    & 40                  & 355                 & 25.0556438052054   \\\\\n",
       "\t24 & 43                  & FEMALE              & Extremities         & Regional Lymph Node & NRAS                & r,0                 & 30.648116662825     & 30.0842088580738    & 306.483641097877    & 48                  & 374                 & 44.1502913101703   \\\\\n",
       "\t26 & 50                             & FEMALE                         & Extremities                    & regional (sub)cutaneous tissue & NRAS                           & r,r                            & 24.9204900198722               & 69.2310270542715               & 571.473951961343               & 146                            & 686                            & 63.7554621200193              \\\\\n",
       "\t29 & 28                  & MALE                & Trunk               & Regional Lymph Node & BRAF                & r,0                 & 43.0622087807394    & 33.7778696157936    & 95.762025802081     & 33                  & 180                 & 29.2315844394063   \\\\\n",
       "\t30 & 31                  & FEMALE              & Trunk               & Regional Lymph Node & BRAF                & R,r                 & 43.6672765287847    & 41.9624670653563    & 210.141011860968    & 68                  & 314                 & 51.8660404836822   \\\\\n",
       "\t31 & 54                  & FEMALE              & Extremities         & Regional Lymph Node & BRAF                & R,0                 & 7.89643214591886    & 4.47531891482082    & 123.257568616904    & 29                  & 139                 & 68.2945257164233   \\\\\n",
       "\t34 & 39                  & MALE                & Trunk               & Regional Lymph Node & BRAF                & R,R                 & 3.0269518502805     & 0                   & 200.667832014       & 23                  & 207                 & 72.5098293500653   \\\\\n",
       "\t38 & 70                  & MALE                & Head and Neck       & Regional Lymph Node & NRAS                & R,R                 & 97.1635233431844    & 0                   & 1117.15964285384    & 144                 & 1245                & 163.425327748025   \\\\\n",
       "\t39 & 47                             & MALE                           & Trunk                          & regional (sub)cutaneous tissue & BRAF                           & R,0                            & 16.1328851499948               & 12.698088627506                & 42.8128760744796               & 22                             & 75                             & 75.8941404871968              \\\\\n",
       "\t41 & 53                  & MALE                & Trunk               & Regional Lymph Node & BRAF                & R,r                 & 18.5362037955066    & 29.3247700388095    & 561.056023812619    & 96                  & 627                 & 113.218012278314   \\\\\n",
       "\t42 & 38                             & FEMALE                         & Extremities                    & regional (sub)cutaneous tissue & NRAS                           & R,r                            & 53.709545113272                & 9.30335120036167               & 621.874465897659               & 68                             & 704                            & 79.8351317019211              \\\\\n",
       "\t43 & 39                             & FEMALE                         & Extremities                    & regional (sub)cutaneous tissue & NRAS                           & 0,0                            & 48.3659401598919               & 46.2703819302045               & 253.822798419216               & 60                             & 356                            & 40.6667510605598              \\\\\n",
       "\t44 & 51                  & MALE                & Extremities         & Regional Lymph Node & BRAF                & 0,0                 & 0                   & 37.8591942354489    & 65.451628020514     & 18                  & 98                  & 54.0722265623783   \\\\\n",
       "\t45 & 35                             & MALE                           & Trunk                          & regional (sub)cutaneous tissue & NRAS                           & R,R                            & 173.565039267071               & 127.994356245909               & 1293.75941864667               & 177                            & 1616                           & 81.7126638740126              \\\\\n",
       "\t50 & 60                  & MALE                & Extremities         & Regional Lymph Node & NRAS                & r,r                 & 65.8177668152305    & 0.30344395170204    & 847.737206763233    & 99                  & 927                 & 97.6825300148518   \\\\\n",
       "\t52 & 15                  & FEMALE              & Trunk               & Regional Lymph Node & BRAF                & R,R                 & 37.2522902219987    & 0                   & 611.701812544465    & 57                  & 641                 & 21.8426476263508   \\\\\n",
       "\t53 & 61                 & MALE               & Head and Neck      & Distant Metastasis & NRAS               & r,0                & 110.867704015589   & 13.5308118419344   & 1916.38343283662   & 174                & 2058               & 79.9674427921993  \\\\\n",
       "\t... & ... & ... & ... & ... & ... & ... & ... & ... & ... & ... & ... & ...\\\\\n",
       "\t226 & 57                 & MALE               & Trunk              & Distant Metastasis & NRAS               & r,0                & 5.42601275903045   & 19.8232143113236   & 186.195488411935   & 27                 & 208                & 74.7236760517272  \\\\\n",
       "\t227 & 51                 & MALE               & Trunk              & Distant Metastasis & BRAF               & R,0                & 63.7158413480036   & 29.0997765489684   & 739.561215203179   & 105                & 854                & 82.3532162733412  \\\\\n",
       "\t228 & 63                  & MALE                & Extremities         & Regional Lymph Node & BRAF                & R,0                 & 19.8092593550481    & 47.5217957416682    & 223.507684599317    & 57                  & 299                 & 101.730443631774   \\\\\n",
       "\t229 & 40                 & MALE               & Trunk              & Distant Metastasis & NRAS               & r,0                & 24.1591751780812   & 32.2960169104689   & 126.535863710717   & 36                 & 186                & 52.4376674047208  \\\\\n",
       "\t230 & 78                 & FEMALE             & Extremities        & Distant Metastasis & BRAF               & r,0                & 30.2144504386608   & 53.1272710374781   & 164.45124330973    & 51                 & 253                & 63.7779670752089  \\\\\n",
       "\t232 & 71                  & FEMALE              & Extremities         & Regional Lymph Node & BRAF                & r,0                 & 13.9861030418142    & 8.67068572096206    & 7.48286245106313    & 13                  & 36                  & 58.0543033633312   \\\\\n",
       "\t235 & 74                             & MALE                           & Extremities                    & regional (sub)cutaneous tissue & BRAF                           & R,r                            & 20.3208936289283               & 44.1060386531963               & 189.074588408989               & 56                             & 259                            & 158.077979407457              \\\\\n",
       "\t236 & 43               & MALE             & Trunk            & Primary Tumor    & BRAF             & r,0              & 4.19649639792591 & 12.5065468086868 & 106.052708914738 & 12               & 119              & 44.8913618176597\\\\\n",
       "\t237 & 52                  & MALE                & Extremities         & Regional Lymph Node & NRAS                & R,R                 & 53.3559224377663    & 0                   & 413.99087948215     & 57                  & 474                 & 121.40167204139    \\\\\n",
       "\t238 & 31                 & MALE               & Extremities        & Distant Metastasis & NRAS               & r,0                & 23.2452225660616   & 1.48754037183681   & 535.186746263883   & 57                 & 571                & 40.6391922386586  \\\\\n",
       "\t239 & 36                             & MALE                           & Trunk                          & regional (sub)cutaneous tissue & BRAF                           & r,0                            & 13.9935429547581               & 1.09962896161595               & 154.422668280969               & 14                             & 167                            & 37.5834657078081              \\\\\n",
       "\t240 & 54                  & MALE                & Trunk               & Regional Lymph Node & BRAF                & r,0                 & 40.6490908997987    & 43.1655878338908    & 250.888414233328    & 60                  & 341                 & 56.3751985617122   \\\\\n",
       "\t241 & 55                 & MALE               & Extremities        & Distant Metastasis & NRAS               & r,0                & 19.9799227536548   & 12.1092480656557   & 182.996594692306   & 42                 & 219                & 72.1017926814911  \\\\\n",
       "\t243 & 65                  & MALE                & Extremities         & Regional Lymph Node & NRAS                & r,r                 & 94.3403042245108    & 30.2899568859838    & 630.118642711705    & 94                  & 799                 & 105.822740849423   \\\\\n",
       "\t244 & 71                 & MALE               & Trunk              & Distant Metastasis & NRAS               & r,r                & 11.9657800921196   & 12.7902108188109   & 7.99287305845767   & 14                 & 37                 & 115.590993850908  \\\\\n",
       "\t248 & 77                             & FEMALE                         & Extremities                    & regional (sub)cutaneous tissue & NRAS                           & R,r                            & 71.7578338230982               & 0                              & 927.459025818227               & 96                             & 995                            & 161.771187922314              \\\\\n",
       "\t249 & 52                  & MALE                & Extremities         & Regional Lymph Node & BRAF                & R,r                 & 17.1066666171297    & 23.2648260361972    & 155.448656519579    & 32                  & 199                 & 111.081823367402   \\\\\n",
       "\t250 & 80                  & MALE                & Trunk               & Regional Lymph Node & NRAS                & 0,0                 & 26.7787064371343    & 32.1897536791767    & 503.393546070766    & 61                  & 565                 & 106.50821655351    \\\\\n",
       "\t251 & 46                  & FEMALE              & Extremities         & Regional Lymph Node & BRAF                & R,0                 & 26.226510825228     & 19.7610942192522    & 185.10518087144     & 32                  & 237                 & 58.1768182028791   \\\\\n",
       "\t252 & 75                             & FEMALE                         & Extremities                    & regional (sub)cutaneous tissue & NRAS                           & 0,0                            & 94.3602601957852               & 4.47930361661671               & 842.519954031112               & 89                             & 966                            & 78.2052905010766              \\\\\n",
       "\t253 & 39                  & MALE                & Trunk               & Regional Lymph Node & NRAS                & R,R                 & 34.9404159650967    & 0                   & 524.76128979135     & 75                  & 584                 & 91.0512540310425   \\\\\n",
       "\t257 & 57                  & FEMALE              & Trunk               & Regional Lymph Node & BRAF                & r,0                 & 41.7298798079527    & 26.4693898836692    & 338.718037950259    & 53                  & 427                 & 46.6069759395758   \\\\\n",
       "\t258 & 71               & MALE             & Trunk            & Primary Tumor    & BRAF             & R,0              & 24.9749355490907 & 34.4057522559179 & 196.646586490956 & 46               & 257              & 114.648595204063\\\\\n",
       "\t259 & 48               & MALE             & Head and Neck    & Primary Tumor    & BRAF             & 0,0              & 0                & 16.8824908047769 & 70.967449272734  & 14               & 85               & 50.8915073528266\\\\\n",
       "\t260 & 58                  & FEMALE              & Extremities         & Regional Lymph Node & NRAS                & R,0                 & 72.4768569405401    & 75.4593721802487    & 563.309179255465    & 90                  & 724                 & 92.1105076141426   \\\\\n",
       "\t262 & 47                             & FEMALE                         & Trunk                          & regional (sub)cutaneous tissue & BRAF                           & r,0                            & 30.4196716794279               & 57.7352241457177               & 355.557283588509               & 67                             & 451                            & 38.4303134940361              \\\\\n",
       "\t263 & 24               & MALE             & Trunk            & Primary Tumor    & BRAF             & R,0              & 29.7018128204798 & 19.0303721014855 & 469.721481275195 & 48               & 525              & 38.7544547168664\\\\\n",
       "\t267 & 38                  & MALE                & Trunk               & Regional Lymph Node & NRAS                & R,R                 & 55.7283452656376    & 49.3512016452649    & 426.011453481029    & 68                  & 542                 & 88.716606491785    \\\\\n",
       "\t268 & 83                  & FEMALE              & Extremities         & Regional Lymph Node & NRAS                & 0,0                 & 24.314281509184     & 22.2114640253687    & 367.113741278127    & 66                  & 429                 & 86.5471881545248   \\\\\n",
       "\t273 & 61               & MALE             & Head and Neck    & Primary Tumor    & BRAF             & 0,0              & 62.9014391574732 & 0                & 1880.07370853744 & 196              & 1951             & 64.6746239275505\\\\\n",
       "\\end{tabular}\n"
      ],
      "text/plain": [
       "    age_at_diagnosis gender     body_area                    tissue_type Cohort\n",
       "1                 74 FEMALE         Trunk                  Primary Tumor   NRAS\n",
       "3                 79 FEMALE   Extremities            Regional Lymph Node   NRAS\n",
       "5                 53 FEMALE   Extremities            Regional Lymph Node   BRAF\n",
       "6                 60   MALE         Trunk            Regional Lymph Node   BRAF\n",
       "7                 55   MALE   Extremities regional (sub)cutaneous tissue   BRAF\n",
       "8                 42 FEMALE         Trunk            Regional Lymph Node   BRAF\n",
       "10                72   MALE   Extremities            Regional Lymph Node   BRAF\n",
       "11                55   MALE   Extremities            Regional Lymph Node   BRAF\n",
       "14                67   MALE         Trunk            Regional Lymph Node   BRAF\n",
       "15                48   MALE   Extremities            Regional Lymph Node   NRAS\n",
       "17                68   MALE         Trunk regional (sub)cutaneous tissue   BRAF\n",
       "19                58   MALE   Extremities            Regional Lymph Node   BRAF\n",
       "21                30 FEMALE   Extremities            Regional Lymph Node   BRAF\n",
       "23                24   MALE         Trunk            Regional Lymph Node   BRAF\n",
       "24                43 FEMALE   Extremities            Regional Lymph Node   NRAS\n",
       "26                50 FEMALE   Extremities regional (sub)cutaneous tissue   NRAS\n",
       "29                28   MALE         Trunk            Regional Lymph Node   BRAF\n",
       "30                31 FEMALE         Trunk            Regional Lymph Node   BRAF\n",
       "31                54 FEMALE   Extremities            Regional Lymph Node   BRAF\n",
       "34                39   MALE         Trunk            Regional Lymph Node   BRAF\n",
       "38                70   MALE Head and Neck            Regional Lymph Node   NRAS\n",
       "39                47   MALE         Trunk regional (sub)cutaneous tissue   BRAF\n",
       "41                53   MALE         Trunk            Regional Lymph Node   BRAF\n",
       "42                38 FEMALE   Extremities regional (sub)cutaneous tissue   NRAS\n",
       "43                39 FEMALE   Extremities regional (sub)cutaneous tissue   NRAS\n",
       "44                51   MALE   Extremities            Regional Lymph Node   BRAF\n",
       "45                35   MALE         Trunk regional (sub)cutaneous tissue   NRAS\n",
       "50                60   MALE   Extremities            Regional Lymph Node   NRAS\n",
       "52                15 FEMALE         Trunk            Regional Lymph Node   BRAF\n",
       "53                61   MALE Head and Neck             Distant Metastasis   NRAS\n",
       "...              ...    ...           ...                            ...    ...\n",
       "226               57   MALE         Trunk             Distant Metastasis   NRAS\n",
       "227               51   MALE         Trunk             Distant Metastasis   BRAF\n",
       "228               63   MALE   Extremities            Regional Lymph Node   BRAF\n",
       "229               40   MALE         Trunk             Distant Metastasis   NRAS\n",
       "230               78 FEMALE   Extremities             Distant Metastasis   BRAF\n",
       "232               71 FEMALE   Extremities            Regional Lymph Node   BRAF\n",
       "235               74   MALE   Extremities regional (sub)cutaneous tissue   BRAF\n",
       "236               43   MALE         Trunk                  Primary Tumor   BRAF\n",
       "237               52   MALE   Extremities            Regional Lymph Node   NRAS\n",
       "238               31   MALE   Extremities             Distant Metastasis   NRAS\n",
       "239               36   MALE         Trunk regional (sub)cutaneous tissue   BRAF\n",
       "240               54   MALE         Trunk            Regional Lymph Node   BRAF\n",
       "241               55   MALE   Extremities             Distant Metastasis   NRAS\n",
       "243               65   MALE   Extremities            Regional Lymph Node   NRAS\n",
       "244               71   MALE         Trunk             Distant Metastasis   NRAS\n",
       "248               77 FEMALE   Extremities regional (sub)cutaneous tissue   NRAS\n",
       "249               52   MALE   Extremities            Regional Lymph Node   BRAF\n",
       "250               80   MALE         Trunk            Regional Lymph Node   NRAS\n",
       "251               46 FEMALE   Extremities            Regional Lymph Node   BRAF\n",
       "252               75 FEMALE   Extremities regional (sub)cutaneous tissue   NRAS\n",
       "253               39   MALE         Trunk            Regional Lymph Node   NRAS\n",
       "257               57 FEMALE         Trunk            Regional Lymph Node   BRAF\n",
       "258               71   MALE         Trunk                  Primary Tumor   BRAF\n",
       "259               48   MALE Head and Neck                  Primary Tumor   BRAF\n",
       "260               58 FEMALE   Extremities            Regional Lymph Node   NRAS\n",
       "262               47 FEMALE         Trunk regional (sub)cutaneous tissue   BRAF\n",
       "263               24   MALE         Trunk                  Primary Tumor   BRAF\n",
       "267               38   MALE         Trunk            Regional Lymph Node   NRAS\n",
       "268               83 FEMALE   Extremities            Regional Lymph Node   NRAS\n",
       "273               61   MALE Head and Neck                  Primary Tumor   BRAF\n",
       "    rgeno               sig1             sig5             sig7 totalNonUV\n",
       "1     r,r   18.3776494782792                0 322.196392595928         38\n",
       "3     0,0   22.2584700577615 21.2544285055765 1.97921350632214         31\n",
       "5     R,0   17.1398119764402 12.6008391567263 294.557531880051         41\n",
       "6     R,r   28.4435483877111 22.2570948225775   393.4877181373         62\n",
       "7     R,0   73.3174956798183  109.59299424803 822.201254851861        100\n",
       "8     0,0   14.5682279700173                0 104.809188052072          8\n",
       "10    R,R   11.2729222598709 19.3543152997275  3.0728541803615         25\n",
       "11    0,0     71.50176999122                0 442.026711942066         55\n",
       "14    R,r   33.5730585202342 13.4881563422384 359.436909435098         35\n",
       "15    R,R    9.5313801245867                0 521.429563567985         54\n",
       "17    0,0   23.2134821043048 69.5435122918841 354.616132424797         75\n",
       "19    R,0 0.0444979053023078 36.5744862136801 362.417414282293         44\n",
       "21    0,0   11.8296266319953 16.6954506540675 102.710546624005         18\n",
       "23    r,0   27.6229359067382 28.0737232314018 296.494329142354         40\n",
       "24    r,0    30.648116662825 30.0842088580738 306.483641097877         48\n",
       "26    r,r   24.9204900198722 69.2310270542715 571.473951961343        146\n",
       "29    r,0   43.0622087807394 33.7778696157936  95.762025802081         33\n",
       "30    R,r   43.6672765287847 41.9624670653563 210.141011860968         68\n",
       "31    R,0   7.89643214591886 4.47531891482082 123.257568616904         29\n",
       "34    R,R    3.0269518502805                0    200.667832014         23\n",
       "38    R,R   97.1635233431844                0 1117.15964285384        144\n",
       "39    R,0   16.1328851499948  12.698088627506 42.8128760744796         22\n",
       "41    R,r   18.5362037955066 29.3247700388095 561.056023812619         96\n",
       "42    R,r    53.709545113272 9.30335120036167 621.874465897659         68\n",
       "43    0,0   48.3659401598919 46.2703819302045 253.822798419216         60\n",
       "44    0,0                  0 37.8591942354489  65.451628020514         18\n",
       "45    R,R   173.565039267071 127.994356245909 1293.75941864667        177\n",
       "50    r,r   65.8177668152305 0.30344395170204 847.737206763233         99\n",
       "52    R,R   37.2522902219987                0 611.701812544465         57\n",
       "53    r,0   110.867704015589 13.5308118419344 1916.38343283662        174\n",
       "...   ...                ...              ...              ...        ...\n",
       "226   r,0   5.42601275903045 19.8232143113236 186.195488411935         27\n",
       "227   R,0   63.7158413480036 29.0997765489684 739.561215203179        105\n",
       "228   R,0   19.8092593550481 47.5217957416682 223.507684599317         57\n",
       "229   r,0   24.1591751780812 32.2960169104689 126.535863710717         36\n",
       "230   r,0   30.2144504386608 53.1272710374781  164.45124330973         51\n",
       "232   r,0   13.9861030418142 8.67068572096206 7.48286245106313         13\n",
       "235   R,r   20.3208936289283 44.1060386531963 189.074588408989         56\n",
       "236   r,0   4.19649639792591 12.5065468086868 106.052708914738         12\n",
       "237   R,R   53.3559224377663                0  413.99087948215         57\n",
       "238   r,0   23.2452225660616 1.48754037183681 535.186746263883         57\n",
       "239   r,0   13.9935429547581 1.09962896161595 154.422668280969         14\n",
       "240   r,0   40.6490908997987 43.1655878338908 250.888414233328         60\n",
       "241   r,0   19.9799227536548 12.1092480656557 182.996594692306         42\n",
       "243   r,r   94.3403042245108 30.2899568859838 630.118642711705         94\n",
       "244   r,r   11.9657800921196 12.7902108188109 7.99287305845767         14\n",
       "248   R,r   71.7578338230982                0 927.459025818227         96\n",
       "249   R,r   17.1066666171297 23.2648260361972 155.448656519579         32\n",
       "250   0,0   26.7787064371343 32.1897536791767 503.393546070766         61\n",
       "251   R,0    26.226510825228 19.7610942192522  185.10518087144         32\n",
       "252   0,0   94.3602601957852 4.47930361661671 842.519954031112         89\n",
       "253   R,R   34.9404159650967                0  524.76128979135         75\n",
       "257   r,0   41.7298798079527 26.4693898836692 338.718037950259         53\n",
       "258   R,0   24.9749355490907 34.4057522559179 196.646586490956         46\n",
       "259   0,0                  0 16.8824908047769  70.967449272734         14\n",
       "260   R,0   72.4768569405401 75.4593721802487 563.309179255465         90\n",
       "262   r,0   30.4196716794279 57.7352241457177 355.557283588509         67\n",
       "263   R,0   29.7018128204798 19.0303721014855 469.721481275195         48\n",
       "267   R,R   55.7283452656376 49.3512016452649 426.011453481029         68\n",
       "268   0,0    24.314281509184 22.2114640253687 367.113741278127         66\n",
       "273   0,0   62.9014391574732                0 1880.07370853744        196\n",
       "    totalSNV             pred\n",
       "1        339 94.3580839376285\n",
       "3         54 82.3762393278007\n",
       "5        325 67.0298122772302\n",
       "6        452 128.171334654694\n",
       "7        992 88.8122920594856\n",
       "8        117 34.8766780222526\n",
       "10        38 133.864300338582\n",
       "11       529 58.3131855084472\n",
       "14       409 143.124657031075\n",
       "15       523  112.06308188436\n",
       "17       447 72.0963020831711\n",
       "19       391 93.6565988990939\n",
       "21       133 24.9119128730376\n",
       "23       355 25.0556438052054\n",
       "24       374 44.1502913101703\n",
       "26       686 63.7554621200193\n",
       "29       180 29.2315844394063\n",
       "30       314 51.8660404836822\n",
       "31       139 68.2945257164233\n",
       "34       207 72.5098293500653\n",
       "38      1245 163.425327748025\n",
       "39        75 75.8941404871968\n",
       "41       627 113.218012278314\n",
       "42       704 79.8351317019211\n",
       "43       356 40.6667510605598\n",
       "44        98 54.0722265623783\n",
       "45      1616 81.7126638740126\n",
       "50       927 97.6825300148518\n",
       "52       641 21.8426476263508\n",
       "53      2058 79.9674427921993\n",
       "...      ...              ...\n",
       "226      208 74.7236760517272\n",
       "227      854 82.3532162733412\n",
       "228      299 101.730443631774\n",
       "229      186 52.4376674047208\n",
       "230      253 63.7779670752089\n",
       "232       36 58.0543033633312\n",
       "235      259 158.077979407457\n",
       "236      119 44.8913618176597\n",
       "237      474  121.40167204139\n",
       "238      571 40.6391922386586\n",
       "239      167 37.5834657078081\n",
       "240      341 56.3751985617122\n",
       "241      219 72.1017926814911\n",
       "243      799 105.822740849423\n",
       "244       37 115.590993850908\n",
       "248      995 161.771187922314\n",
       "249      199 111.081823367402\n",
       "250      565  106.50821655351\n",
       "251      237 58.1768182028791\n",
       "252      966 78.2052905010766\n",
       "253      584 91.0512540310425\n",
       "257      427 46.6069759395758\n",
       "258      257 114.648595204063\n",
       "259       85 50.8915073528266\n",
       "260      724 92.1105076141426\n",
       "262      451 38.4303134940361\n",
       "263      525 38.7544547168664\n",
       "267      542  88.716606491785\n",
       "268      429 86.5471881545248\n",
       "273     1951 64.6746239275505"
      ]
     },
     "metadata": {},
     "output_type": "display_data"
    }
   ],
   "source": [
    "print=data.frame(data, pred=res.nb$fitted)\n",
    "print"
   ]
  },
  {
   "cell_type": "code",
   "execution_count": 96,
   "metadata": {
    "collapsed": false
   },
   "outputs": [
    {
     "data": {
      "text/html": [
       "<table>\n",
       "<thead><tr><th></th><th scope=col>Resid. Df</th><th scope=col>Resid. Dev</th><th scope=col>Df</th><th scope=col>Deviance</th><th scope=col>Pr(&gt;Chi)</th></tr></thead>\n",
       "<tbody>\n",
       "\t<tr><th scope=row>1</th><td> 165.000</td><td>7415.153</td><td>      NA</td><td>      NA</td><td>      NA</td></tr>\n",
       "\t<tr><th scope=row>2</th><td>1.640000e+02</td><td>7.136303e+03</td><td>1.000000e+00</td><td>2.788504e+02</td><td>1.336921e-62</td></tr>\n",
       "</tbody>\n",
       "</table>\n"
      ],
      "text/latex": [
       "\\begin{tabular}{r|lllll}\n",
       "  & Resid. Df & Resid. Dev & Df & Deviance & Pr(>Chi)\\\\\n",
       "\\hline\n",
       "\t1 &  165.000 & 7415.153 &       NA &       NA &       NA\\\\\n",
       "\t2 & 1.640000e+02 & 7.136303e+03 & 1.000000e+00 & 2.788504e+02 & 1.336921e-62\\\\\n",
       "\\end{tabular}\n"
      ],
      "text/plain": [
       "Analysis of Deviance Table\n",
       "\n",
       "Model 1: totalNonUV ~ gender + rgeno + offset(log(age_at_diagnosis))\n",
       "Model 2: totalNonUV ~ offset(log(age_at_diagnosis)) + gender + rgeno + \n",
       "    Cohort\n",
       "  Resid. Df Resid. Dev Df Deviance  Pr(>Chi)    \n",
       "1       165     7415.2                          \n",
       "2       164     7136.3  1   278.85 < 2.2e-16 ***\n",
       "---\n",
       "Signif. codes:  0 '***' 0.001 '**' 0.01 '*' 0.05 '.' 0.1 ' ' 1"
      ]
     },
     "metadata": {},
     "output_type": "display_data"
    }
   ],
   "source": [
    "res.poisson.nocohort <- update(res.poisson, . ~ . - Cohort)\n",
    "anova(res.poisson.nocohort, res.poisson, test=\"Chisq\")"
   ]
  },
  {
   "cell_type": "markdown",
   "metadata": {},
   "source": [
    "This looks good, again the cohort is significant. We next whether the Poisson model is good as a whole>"
   ]
  },
  {
   "cell_type": "markdown",
   "metadata": {},
   "source": [
    "The residual deviance is a generalization of the residual sum of squares for generalized linear models. If the model is accurate, the residual deviance should be $\\chi^2$ distributed with $n-p-1$ degrees of freedom, where $n$ is the number of samples (here $n=172$) and $p$ the number of variables, not including the intercept (here, $p=13$)."
   ]
  },
  {
   "cell_type": "code",
   "execution_count": 98,
   "metadata": {
    "collapsed": false
   },
   "outputs": [
    {
     "data": {
      "text/html": [
       "0"
      ],
      "text/latex": [
       "0"
      ],
      "text/markdown": [
       "0"
      ],
      "text/plain": [
       "[1] 0"
      ]
     },
     "metadata": {},
     "output_type": "display_data"
    }
   ],
   "source": [
    "pchisq(res.poisson$deviance, res.poisson$df.residual, lower.tail=FALSE)"
   ]
  },
  {
   "cell_type": "markdown",
   "metadata": {},
   "source": [
    "This doesn't look great, the $\\chi^2$ value should be *big* here. This means that the model does not fit so well, since the residual deviance does not follow a $\\chi^2$ distribution (as it should if the model was right)."
   ]
  },
  {
   "cell_type": "markdown",
   "metadata": {},
   "source": [
    "We can repeat the whole procedure using the negative binomial regression instead of the Poisson model. I'm not reproducing the results here: the model seems to fit better as a whole, but the contribution of NRAS / BRAF gets blurred! As this whole Poisson regression is a preliminary model, I'm not including the details."
   ]
  },
  {
   "cell_type": "markdown",
   "metadata": {},
   "source": [
    "## <font color=\"grey\">  3.2 Inhomogeneous Poisson counting process </font>"
   ]
  },
  {
   "cell_type": "code",
   "execution_count": null,
   "metadata": {
    "collapsed": true
   },
   "outputs": [],
   "source": []
  },
  {
   "cell_type": "markdown",
   "metadata": {},
   "source": [
    "For the accumulation of mutations at time $t$, [Podolskiy et al](http://www.nature.com/articles/ncomms12157) postulate the following model, assumed to be valid for a certain age range (say, $[30,70]$). At each age $t$, the number of muations $N(t)$ is approximately distributed according to a Poisson distribution with rate $\\lambda(t)$,\n",
    "\n",
    "\\begin{equation*}\n",
    "  \\mtx{P}\\{N(t) = n\\} = \\frac{\\lambda(t)^n e^{-\\lambda(t)}}{n!},\n",
    "\\end{equation*}\n",
    "\n",
    "where the expected value $\\lambda(t)$ depends on age as\n",
    "\n",
    "\\begin{equation*}\n",
    "  \\lambda(t) = N_0 e^{\\alpha t}.\n",
    "\\end{equation*}\n",
    "\n",
    "Actually, the model with Poisson distribution is not completely accurate, as it measures the accumulation of mutations before clonal expansion, after which the number of mutations follows a different pattern. One might consider using a negative binomial model to account for the excess variance.\n",
    "The value of $N_0$ and of $\\alpha$ may depend on other factors, such as gender, the presence of BRAF or NRAS mutations or the presence of R alleles in the MC1R gene. We check the validity of this model in certain age ranges later on. "
   ]
  },
  {
   "cell_type": "markdown",
   "metadata": {},
   "source": [
    "How can one incorporate the cell division rate in this model? Again, one can get an estimate for the number of mutations per gigabase per year as product of the mutation rate per cell division $u(t)$ and the cell division rate $d$. Here we assume the cell division rate to be constant, while mutation rate per cell division depends on age. In this case, we can write the value $\\lambda(t)$ as\n",
    "\\begin{equation*}\n",
    "  \\lambda(t) = d\\cdot N_0e^{\\alpha t}.\n",
    "\\end{equation*}"
   ]
  },
  {
   "cell_type": "markdown",
   "metadata": {},
   "source": [
    "Suppose that at age $t$ we have $N_1(t),\\dots,N_s(t)$ samples. We estimate the parameter $\\lambda(t) = \\lambda(t,X_1,\\dots,X_p) = \\mtx{E}[N(t) \\ | \\ X_1,\\dots,X_p]$ using Poisson regression,\n",
    "\n",
    "\\begin{equation*}\n",
    "  \\log \\mtx{E}[N(t) \\ | \\ X_1,\\dots,X_p ] = \\beta_0 + \\sum_{i=1}^p \\beta_i X_i,\n",
    "\\end{equation*}\n",
    "\n",
    "where the $\\beta_i$ are allowed to depend on $t$.\n",
    "We then express the estimated values as\n",
    "\n",
    "\\begin{equation*}\n",
    "  \\log \\lambda(t) = \\log(d) + \\log(N_0) + \\alpha t = \\beta_0(t) + \\sum_{i=1}^p \\beta_i(t) X_i. \\quad \\quad [1]\n",
    "\\end{equation*}\n",
    "\n",
    "For specific values of the factors $x_1,\\dots,x_p$, we can then compute the accumulation rate $\\alpha = \\alpha(x_1,\\dots,x_p)$ and $\\log N_0$ by a linear regression. We are particularly interested in the case where one of the factors $x_i$ is an indicator for BRAF/NRAS.\n",
    "\n",
    "The practical problem with the approach described above is that we do not have enough data for reliably estimating Poisson average at each time. We can still try to use, for eath $t$ in a suitable range and $\\Delta t$ (for example, 5 years), to use the interval $(t-\\Delta t, t+\\Delta t]$. A different approach would be to estimate the parameters for all times simultaneously. **TODO** Find a clever way of doing this.\n",
    "\n",
    "Under some simplification we can use the model:\n",
    "\n",
    "\\begin{equation*}\n",
    "  \\log \\mtx{E}[N(t) \\ | \\ X_1,\\dots,X_p ] = \\alpha t + \\beta_0  + \\sum_{i=1}^p \\beta_i X_i.\n",
    "\\end{equation*}\n",
    "\n",
    "It would be helpful to see which of the covariates contribution to mutation load in a time-dependant manner. For example, below we show the dependence on age."
   ]
  },
  {
   "cell_type": "code",
   "execution_count": 99,
   "metadata": {
    "collapsed": false
   },
   "outputs": [
    {
     "name": "stderr",
     "output_type": "stream",
     "text": [
      "Warning message:\n",
      "\"Removed 1 rows containing non-finite values (stat_smooth).\"Warning message:\n",
      "\"Removed 1 rows containing missing values (geom_point).\""
     ]
    },
    {
     "data": {},
     "metadata": {},
     "output_type": "display_data"
    },
    {
     "data": {
      "image/png": "[encoded data removed]",
      "text/plain": [
       "plot without title"
      ]
     },
     "metadata": {},
     "output_type": "display_data"
    }
   ],
   "source": [
    "ggplot(data, aes(age_at_diagnosis, log(totalNonUV), color=gender)) +  geom_smooth(method = \"lmrob\") + geom_point() +\n",
    "    xlab(\"Age\") + ylab(\"total non UV mutation\") + scale_y_continuous(limits = c(1,6)) + theme_minimal()"
   ]
  },
  {
   "cell_type": "markdown",
   "metadata": {},
   "source": [
    "Below is some statistical summary of this model."
   ]
  },
  {
   "cell_type": "code",
   "execution_count": 100,
   "metadata": {
    "collapsed": false
   },
   "outputs": [
    {
     "data": {
      "text/plain": [
       "\n",
       "Call:\n",
       "glm(formula = totalNonUV ~ age_at_diagnosis + gender + body_area + \n",
       "    rgeno + Cohort, family = \"poisson\", data = data)\n",
       "\n",
       "Deviance Residuals: \n",
       "   Min      1Q  Median      3Q     Max  \n",
       "-9.883  -4.566  -1.881   2.375  24.296  \n",
       "\n",
       "Coefficients:\n",
       "                         Estimate Std. Error z value Pr(>|z|)    \n",
       "(Intercept)             3.4339866  0.0452479  75.893  < 2e-16 ***\n",
       "age_at_diagnosis        0.0068841  0.0005967  11.537  < 2e-16 ***\n",
       "genderMALE              0.4353014  0.0205959  21.135  < 2e-16 ***\n",
       "body_areaHead and Neck  0.2843520  0.0327236   8.690  < 2e-16 ***\n",
       "body_areaOther          0.0495295  0.1248553   0.397    0.692    \n",
       "body_areaTrunk         -0.3745458  0.0208343 -17.977  < 2e-16 ***\n",
       "rgenor,0               -0.0090947  0.0307773  -0.296    0.768    \n",
       "rgenoR,0                0.2846325  0.0296858   9.588  < 2e-16 ***\n",
       "rgenor,r                0.2009430  0.0370416   5.425  5.8e-08 ***\n",
       "rgenoR,r                0.5013699  0.0309282  16.211  < 2e-16 ***\n",
       "rgenoR,R                0.3334199  0.0331207  10.067  < 2e-16 ***\n",
       "CohortNRAS              0.2913822  0.0197779  14.733  < 2e-16 ***\n",
       "---\n",
       "Signif. codes:  0 '***' 0.001 '**' 0.01 '*' 0.05 '.' 0.1 ' ' 1\n",
       "\n",
       "(Dispersion parameter for poisson family taken to be 1)\n",
       "\n",
       "    Null deviance: 8189.7  on 171  degrees of freedom\n",
       "Residual deviance: 6216.6  on 160  degrees of freedom\n",
       "AIC: 7244.6\n",
       "\n",
       "Number of Fisher Scoring iterations: 5\n"
      ]
     },
     "metadata": {},
     "output_type": "display_data"
    }
   ],
   "source": [
    "res.new <- glm(totalNonUV ~ age_at_diagnosis + gender + body_area + rgeno + Cohort, data, family=\"poisson\")\n",
    "summary(res.new)"
   ]
  },
  {
   "cell_type": "markdown",
   "metadata": {},
   "source": [
    "To a $\\chi^2$ test on the deviance (a large value of this is good)."
   ]
  },
  {
   "cell_type": "code",
   "execution_count": 101,
   "metadata": {
    "collapsed": false
   },
   "outputs": [
    {
     "data": {
      "text/html": [
       "<table>\n",
       "<thead><tr><th></th><th scope=col>age_at_diagnosis</th><th scope=col>gender</th><th scope=col>body_area</th><th scope=col>tissue_type</th><th scope=col>Cohort</th><th scope=col>rgeno</th><th scope=col>sig1</th><th scope=col>sig5</th><th scope=col>sig7</th><th scope=col>totalNonUV</th><th scope=col>totalSNV</th><th scope=col>pred</th></tr></thead>\n",
       "<tbody>\n",
       "\t<tr><th scope=row>1</th><td>74              </td><td>FEMALE          </td><td>Trunk           </td><td>Primary Tumor   </td><td>NRAS            </td><td>r,r             </td><td>18.3776494782792</td><td>0               </td><td>322.196392595928</td><td>38              </td><td>339             </td><td>58.043342340086 </td></tr>\n",
       "\t<tr><th scope=row>3</th><td>79                 </td><td>FEMALE             </td><td>Extremities        </td><td>Regional Lymph Node</td><td>NRAS               </td><td>0,0                </td><td>22.2584700577615   </td><td>21.2544285055765   </td><td>1.97921350632214   </td><td>31                 </td><td>54                 </td><td>71.4654013133931   </td></tr>\n",
       "\t<tr><th scope=row>5</th><td>53                 </td><td>FEMALE             </td><td>Extremities        </td><td>Regional Lymph Node</td><td>BRAF               </td><td>R,0                </td><td>17.1398119764402   </td><td>12.6008391567263   </td><td>294.557531880051   </td><td>41                 </td><td>325                </td><td>59.3514696250036   </td></tr>\n",
       "\t<tr><th scope=row>6</th><td>60                 </td><td>MALE               </td><td>Trunk              </td><td>Regional Lymph Node</td><td>BRAF               </td><td>R,r                </td><td>28.4435483877111   </td><td>22.2570948225775   </td><td>393.4877181373     </td><td>62                 </td><td>452                </td><td>82.200269001454    </td></tr>\n",
       "\t<tr><th scope=row>7</th><td>55                            </td><td>MALE                          </td><td>Extremities                   </td><td>regional (sub)cutaneous tissue</td><td>BRAF                          </td><td>R,0                           </td><td>73.3174956798183              </td><td>109.59299424803               </td><td>822.201254851861              </td><td>100                           </td><td>992                           </td><td>92.9950722730031              </td></tr>\n",
       "\t<tr><th scope=row>8</th><td>42                 </td><td>FEMALE             </td><td>Trunk              </td><td>Regional Lymph Node</td><td>BRAF               </td><td>0,0                </td><td>14.5682279700173   </td><td>0                  </td><td>104.809188052072   </td><td>8                  </td><td>117                </td><td>28.4620993992286   </td></tr>\n",
       "\t<tr><th scope=row>10</th><td>72                 </td><td>MALE               </td><td>Extremities        </td><td>Regional Lymph Node</td><td>BRAF               </td><td>R,R                </td><td>11.2729222598709   </td><td>19.3543152997275   </td><td>3.0728541803615    </td><td>25                 </td><td>38                 </td><td>109.767421919651   </td></tr>\n",
       "\t<tr><th scope=row>11</th><td>55                 </td><td>MALE               </td><td>Extremities        </td><td>Regional Lymph Node</td><td>BRAF               </td><td>0,0                </td><td>71.50176999122     </td><td>0                  </td><td>442.026711942066   </td><td>55                 </td><td>529                </td><td>69.9593263000619   </td></tr>\n",
       "\t<tr><th scope=row>14</th><td>67                 </td><td>MALE               </td><td>Trunk              </td><td>Regional Lymph Node</td><td>BRAF               </td><td>R,r                </td><td>33.5730585202342   </td><td>13.4881563422384   </td><td>359.436909435098   </td><td>35                 </td><td>409                </td><td>86.2583907341923   </td></tr>\n",
       "\t<tr><th scope=row>15</th><td>48                 </td><td>MALE               </td><td>Extremities        </td><td>Regional Lymph Node</td><td>NRAS               </td><td>R,R                </td><td>9.5313801245867    </td><td>0                  </td><td>521.429563567985   </td><td>54                 </td><td>523                </td><td>124.527601048371   </td></tr>\n",
       "\t<tr><th scope=row>17</th><td>68                            </td><td>MALE                          </td><td>Trunk                         </td><td>regional (sub)cutaneous tissue</td><td>BRAF                          </td><td>0,0                           </td><td>23.2134821043048              </td><td>69.5435122918841              </td><td>354.616132424797              </td><td>75                            </td><td>447                           </td><td>52.6076521145816              </td></tr>\n",
       "\t<tr><th scope=row>19</th><td>58                 </td><td>MALE               </td><td>Extremities        </td><td>Regional Lymph Node</td><td>BRAF               </td><td>R,0                </td><td>0.0444979053023078 </td><td>36.5744862136801   </td><td>362.417414282293   </td><td>44                 </td><td>391                </td><td>94.9356061106089   </td></tr>\n",
       "\t<tr><th scope=row>21</th><td>30                 </td><td>FEMALE             </td><td>Extremities        </td><td>Regional Lymph Node</td><td>BRAF               </td><td>0,0                </td><td>11.8296266319953   </td><td>16.6954506540675   </td><td>102.710546624005   </td><td>18                 </td><td>133                </td><td>38.111264665034    </td></tr>\n",
       "\t<tr><th scope=row>23</th><td>24                 </td><td>MALE               </td><td>Trunk              </td><td>Regional Lymph Node</td><td>BRAF               </td><td>r,0                </td><td>27.6229359067382   </td><td>28.0737232314018   </td><td>296.494329142354   </td><td>40                 </td><td>355                </td><td>38.5080032079186   </td></tr>\n",
       "\t<tr><th scope=row>24</th><td>43                 </td><td>FEMALE             </td><td>Extremities        </td><td>Regional Lymph Node</td><td>NRAS               </td><td>r,0                </td><td>30.648116662825    </td><td>30.0842088580738   </td><td>306.483641097877   </td><td>48                 </td><td>374                </td><td>55.2733465191474   </td></tr>\n",
       "\t<tr><th scope=row>26</th><td>50                            </td><td>FEMALE                        </td><td>Extremities                   </td><td>regional (sub)cutaneous tissue</td><td>NRAS                          </td><td>r,r                           </td><td>24.9204900198722              </td><td>69.2310270542715              </td><td>571.473951961343              </td><td>146                           </td><td>686                           </td><td>71.5586398874146              </td></tr>\n",
       "\t<tr><th scope=row>29</th><td>28                 </td><td>MALE               </td><td>Trunk              </td><td>Regional Lymph Node</td><td>BRAF               </td><td>r,0                </td><td>43.0622087807394   </td><td>33.7778696157936   </td><td>95.762025802081    </td><td>33                 </td><td>180                </td><td>39.5831106987206   </td></tr>\n",
       "\t<tr><th scope=row>30</th><td>31                 </td><td>FEMALE             </td><td>Trunk              </td><td>Regional Lymph Node</td><td>BRAF               </td><td>R,r                </td><td>43.6672765287847   </td><td>41.9624670653563   </td><td>210.141011860968   </td><td>68                 </td><td>314                </td><td>43.5634292032686   </td></tr>\n",
       "\t<tr><th scope=row>31</th><td>54                 </td><td>FEMALE             </td><td>Extremities        </td><td>Regional Lymph Node</td><td>BRAF               </td><td>R,0                </td><td>7.89643214591886   </td><td>4.47531891482082   </td><td>123.257568616904   </td><td>29                 </td><td>139                </td><td>59.7614611838534   </td></tr>\n",
       "\t<tr><th scope=row>34</th><td>39                 </td><td>MALE               </td><td>Trunk              </td><td>Regional Lymph Node</td><td>BRAF               </td><td>R,R                </td><td>3.0269518502805    </td><td>0                  </td><td>200.667832014      </td><td>23                 </td><td>207                </td><td>60.1380257908729   </td></tr>\n",
       "\t<tr><th scope=row>38</th><td>70                 </td><td>MALE               </td><td>Head and Neck      </td><td>Regional Lymph Node</td><td>NRAS               </td><td>R,R                </td><td>97.1635233431844   </td><td>0                  </td><td>1117.15964285384   </td><td>144                </td><td>1245               </td><td>192.544970328757   </td></tr>\n",
       "\t<tr><th scope=row>39</th><td>47                            </td><td>MALE                          </td><td>Trunk                         </td><td>regional (sub)cutaneous tissue</td><td>BRAF                          </td><td>R,0                           </td><td>16.1328851499948              </td><td>12.698088627506               </td><td>42.8128760744796              </td><td>22                            </td><td>75                            </td><td>60.5172101773866              </td></tr>\n",
       "\t<tr><th scope=row>41</th><td>53                 </td><td>MALE               </td><td>Trunk              </td><td>Regional Lymph Node</td><td>BRAF               </td><td>R,r                </td><td>18.5362037955066   </td><td>29.3247700388095   </td><td>561.056023812619   </td><td>96                 </td><td>627                </td><td>78.3330661098575   </td></tr>\n",
       "\t<tr><th scope=row>42</th><td>38                            </td><td>FEMALE                        </td><td>Extremities                   </td><td>regional (sub)cutaneous tissue</td><td>NRAS                          </td><td>R,r                           </td><td>53.709545113272               </td><td>9.30335120036167              </td><td>621.874465897659              </td><td>68                            </td><td>704                           </td><td>88.9731676975993              </td></tr>\n",
       "\t<tr><th scope=row>43</th><td>39                            </td><td>FEMALE                        </td><td>Extremities                   </td><td>regional (sub)cutaneous tissue</td><td>NRAS                          </td><td>0,0                           </td><td>48.3659401598919              </td><td>46.2703819302045              </td><td>253.822798419216              </td><td>60                            </td><td>356                           </td><td>54.2633523988553              </td></tr>\n",
       "\t<tr><th scope=row>44</th><td>51                 </td><td>MALE               </td><td>Extremities        </td><td>Regional Lymph Node</td><td>BRAF               </td><td>0,0                </td><td>0                  </td><td>37.8591942354489   </td><td>65.451628020514    </td><td>18                 </td><td>98                 </td><td>68.0591776147013   </td></tr>\n",
       "\t<tr><th scope=row>45</th><td>35                            </td><td>MALE                          </td><td>Trunk                         </td><td>regional (sub)cutaneous tissue</td><td>NRAS                          </td><td>R,R                           </td><td>173.565039267071              </td><td>127.994356245909              </td><td>1293.75941864667              </td><td>177                           </td><td>1616                          </td><td>78.2953432614587              </td></tr>\n",
       "\t<tr><th scope=row>50</th><td>60                 </td><td>MALE               </td><td>Extremities        </td><td>Regional Lymph Node</td><td>NRAS               </td><td>r,r                </td><td>65.8177668152305   </td><td>0.30344395170204   </td><td>847.737206763233   </td><td>99                 </td><td>927                </td><td>118.469997593348   </td></tr>\n",
       "\t<tr><th scope=row>52</th><td>15                 </td><td>FEMALE             </td><td>Trunk              </td><td>Regional Lymph Node</td><td>BRAF               </td><td>R,R                </td><td>37.2522902219987   </td><td>0                  </td><td>611.701812544465   </td><td>57                 </td><td>641                </td><td>32.9872900536602   </td></tr>\n",
       "\t<tr><th scope=row>53</th><td>61                </td><td>MALE              </td><td>Head and Neck     </td><td>Distant Metastasis</td><td>NRAS              </td><td>r,0               </td><td>110.867704015589  </td><td>13.5308118419344  </td><td>1916.38343283662  </td><td>174               </td><td>2058              </td><td>128.490906522033  </td></tr>\n",
       "\t<tr><th scope=row>...</th><td>...</td><td>...</td><td>...</td><td>...</td><td>...</td><td>...</td><td>...</td><td>...</td><td>...</td><td>...</td><td>...</td><td>...</td></tr>\n",
       "\t<tr><th scope=row>226</th><td>57                </td><td>MALE              </td><td>Trunk             </td><td>Distant Metastasis</td><td>NRAS              </td><td>r,0               </td><td>5.42601275903045  </td><td>19.8232143113236  </td><td>186.195488411935  </td><td>27                </td><td>208               </td><td>64.6781798153946  </td></tr>\n",
       "\t<tr><th scope=row>227</th><td>51                </td><td>MALE              </td><td>Trunk             </td><td>Distant Metastasis</td><td>BRAF              </td><td>R,0               </td><td>63.7158413480036  </td><td>29.0997765489684  </td><td>739.561215203179  </td><td>105               </td><td>854               </td><td>62.2067941745845  </td></tr>\n",
       "\t<tr><th scope=row>228</th><td>63                 </td><td>MALE               </td><td>Extremities        </td><td>Regional Lymph Node</td><td>BRAF               </td><td>R,0                </td><td>19.8092593550481   </td><td>47.5217957416682   </td><td>223.507684599317   </td><td>57                 </td><td>299                </td><td>98.2602306960911   </td></tr>\n",
       "\t<tr><th scope=row>229</th><td>40                </td><td>MALE              </td><td>Trunk             </td><td>Distant Metastasis</td><td>NRAS              </td><td>r,0               </td><td>24.1591751780812  </td><td>32.2960169104689  </td><td>126.535863710717  </td><td>36                </td><td>186               </td><td>57.5350338185185  </td></tr>\n",
       "\t<tr><th scope=row>230</th><td>78                </td><td>FEMALE            </td><td>Extremities       </td><td>Distant Metastasis</td><td>BRAF              </td><td>r,0               </td><td>30.2144504386608  </td><td>53.1272710374781  </td><td>164.45124330973   </td><td>51                </td><td>253               </td><td>52.5545880782376  </td></tr>\n",
       "\t<tr><th scope=row>232</th><td>71                 </td><td>FEMALE             </td><td>Extremities        </td><td>Regional Lymph Node</td><td>BRAF               </td><td>r,0                </td><td>13.9861030418142   </td><td>8.67068572096206   </td><td>7.48286245106313   </td><td>13                 </td><td>36                 </td><td>50.0820991502606   </td></tr>\n",
       "\t<tr><th scope=row>235</th><td>74                            </td><td>MALE                          </td><td>Extremities                   </td><td>regional (sub)cutaneous tissue</td><td>BRAF                          </td><td>R,r                           </td><td>20.3208936289283              </td><td>44.1060386531963              </td><td>189.074588408989              </td><td>56                            </td><td>259                           </td><td>131.641450345339              </td></tr>\n",
       "\t<tr><th scope=row>236</th><td>43              </td><td>MALE            </td><td>Trunk           </td><td>Primary Tumor   </td><td>BRAF            </td><td>r,0             </td><td>4.19649639792591</td><td>12.5065468086868</td><td>106.052708914738</td><td>12              </td><td>119             </td><td>43.8890193180542</td></tr>\n",
       "\t<tr><th scope=row>237</th><td>52                 </td><td>MALE               </td><td>Extremities        </td><td>Regional Lymph Node</td><td>NRAS               </td><td>R,R                </td><td>53.3559224377663   </td><td>0                  </td><td>413.99087948215    </td><td>57                 </td><td>474                </td><td>128.004295385801   </td></tr>\n",
       "\t<tr><th scope=row>238</th><td>31                </td><td>MALE              </td><td>Extremities       </td><td>Distant Metastasis</td><td>NRAS              </td><td>r,0               </td><td>23.2452225660616  </td><td>1.48754037183681  </td><td>535.186746263883  </td><td>57                </td><td>571               </td><td>78.6480561741627  </td></tr>\n",
       "\t<tr><th scope=row>239</th><td>36                            </td><td>MALE                          </td><td>Trunk                         </td><td>regional (sub)cutaneous tissue</td><td>BRAF                          </td><td>r,0                           </td><td>13.9935429547581              </td><td>1.09962896161595              </td><td>154.422668280969              </td><td>14                            </td><td>167                           </td><td>41.8242116905619              </td></tr>\n",
       "\t<tr><th scope=row>240</th><td>54                 </td><td>MALE               </td><td>Trunk              </td><td>Regional Lymph Node</td><td>BRAF               </td><td>r,0                </td><td>40.6490908997987   </td><td>43.1655878338908   </td><td>250.888414233328   </td><td>60                 </td><td>341                </td><td>47.3415977665781   </td></tr>\n",
       "\t<tr><th scope=row>241</th><td>55                </td><td>MALE              </td><td>Extremities       </td><td>Distant Metastasis</td><td>NRAS              </td><td>r,0               </td><td>19.9799227536548  </td><td>12.1092480656557  </td><td>182.996594692306  </td><td>42                </td><td>219               </td><td>92.7772558241269  </td></tr>\n",
       "\t<tr><th scope=row>243</th><td>65                 </td><td>MALE               </td><td>Extremities        </td><td>Regional Lymph Node</td><td>NRAS               </td><td>r,r                </td><td>94.3403042245108   </td><td>30.2899568859838   </td><td>630.118642711705   </td><td>94                 </td><td>799                </td><td>122.618791526174   </td></tr>\n",
       "\t<tr><th scope=row>244</th><td>71                </td><td>MALE              </td><td>Trunk             </td><td>Distant Metastasis</td><td>NRAS              </td><td>r,r               </td><td>11.9657800921196  </td><td>12.7902108188109  </td><td>7.99287305845767  </td><td>14                </td><td>37                </td><td>87.8682991323491  </td></tr>\n",
       "\t<tr><th scope=row>248</th><td>77                            </td><td>FEMALE                        </td><td>Extremities                   </td><td>regional (sub)cutaneous tissue</td><td>NRAS                          </td><td>R,r                           </td><td>71.7578338230982              </td><td>0                             </td><td>927.459025818227              </td><td>96                            </td><td>995                           </td><td>116.374690333586              </td></tr>\n",
       "\t<tr><th scope=row>249</th><td>52                 </td><td>MALE               </td><td>Extremities        </td><td>Regional Lymph Node</td><td>BRAF               </td><td>R,r                </td><td>17.1066666171297   </td><td>23.2648260361972   </td><td>155.448656519579   </td><td>32                 </td><td>199                </td><td>113.140629235657   </td></tr>\n",
       "\t<tr><th scope=row>250</th><td>80                 </td><td>MALE               </td><td>Trunk              </td><td>Regional Lymph Node</td><td>NRAS               </td><td>0,0                </td><td>26.7787064371343   </td><td>32.1897536791767   </td><td>503.393546070766   </td><td>61                 </td><td>565                </td><td>76.4665280241138   </td></tr>\n",
       "\t<tr><th scope=row>251</th><td>46                 </td><td>FEMALE             </td><td>Extremities        </td><td>Regional Lymph Node</td><td>BRAF               </td><td>R,0                </td><td>26.226510825228    </td><td>19.7610942192522   </td><td>185.10518087144    </td><td>32                 </td><td>237                </td><td>56.5592138606063   </td></tr>\n",
       "\t<tr><th scope=row>252</th><td>75                            </td><td>FEMALE                        </td><td>Extremities                   </td><td>regional (sub)cutaneous tissue</td><td>NRAS                          </td><td>0,0                           </td><td>94.3602601957852              </td><td>4.47930361661671              </td><td>842.519954031112              </td><td>89                            </td><td>966                           </td><td>69.5243464814473              </td></tr>\n",
       "\t<tr><th scope=row>253</th><td>39                 </td><td>MALE               </td><td>Trunk              </td><td>Regional Lymph Node</td><td>NRAS               </td><td>R,R                </td><td>34.9404159650967   </td><td>0                  </td><td>524.76128979135    </td><td>75                 </td><td>584                </td><td>80.481276133148    </td></tr>\n",
       "\t<tr><th scope=row>257</th><td>57                 </td><td>FEMALE             </td><td>Trunk              </td><td>Regional Lymph Node</td><td>BRAF               </td><td>r,0                </td><td>41.7298798079527   </td><td>26.4693898836692   </td><td>338.718037950259   </td><td>53                 </td><td>427                </td><td>31.2725362073214   </td></tr>\n",
       "\t<tr><th scope=row>258</th><td>71              </td><td>MALE            </td><td>Trunk           </td><td>Primary Tumor   </td><td>BRAF            </td><td>R,0             </td><td>24.9749355490907</td><td>34.4057522559179</td><td>196.646586490956</td><td>46              </td><td>257             </td><td>71.3891857410502</td></tr>\n",
       "\t<tr><th scope=row>259</th><td>48              </td><td>MALE            </td><td>Head and Neck   </td><td>Primary Tumor   </td><td>BRAF            </td><td>0,0             </td><td>0               </td><td>16.8824908047769</td><td>70.967449272734 </td><td>14              </td><td>85              </td><td>88.5951594013757</td></tr>\n",
       "\t<tr><th scope=row>260</th><td>58                 </td><td>FEMALE             </td><td>Extremities        </td><td>Regional Lymph Node</td><td>NRAS               </td><td>R,0                </td><td>72.4768569405401   </td><td>75.4593721802487   </td><td>563.309179255465   </td><td>90                 </td><td>724                </td><td>82.2102210962412   </td></tr>\n",
       "\t<tr><th scope=row>262</th><td>47                            </td><td>FEMALE                        </td><td>Trunk                         </td><td>regional (sub)cutaneous tissue</td><td>BRAF                          </td><td>r,0                           </td><td>30.4196716794279              </td><td>57.7352241457177              </td><td>355.557283588509              </td><td>67                            </td><td>451                           </td><td>29.1921310543163              </td></tr>\n",
       "\t<tr><th scope=row>263</th><td>24              </td><td>MALE            </td><td>Trunk           </td><td>Primary Tumor   </td><td>BRAF            </td><td>R,0             </td><td>29.7018128204798</td><td>19.0303721014855</td><td>469.721481275195</td><td>48              </td><td>525             </td><td>51.6553251860282</td></tr>\n",
       "\t<tr><th scope=row>267</th><td>38                 </td><td>MALE               </td><td>Trunk              </td><td>Regional Lymph Node</td><td>NRAS               </td><td>R,R                </td><td>55.7283452656376   </td><td>49.3512016452649   </td><td>426.011453481029   </td><td>68                 </td><td>542                </td><td>79.9291369583955   </td></tr>\n",
       "\t<tr><th scope=row>268</th><td>83                 </td><td>FEMALE             </td><td>Extremities        </td><td>Regional Lymph Node</td><td>NRAS               </td><td>0,0                </td><td>24.314281509184    </td><td>22.2114640253687   </td><td>367.113741278127   </td><td>66                 </td><td>429                </td><td>73.4606485836904   </td></tr>\n",
       "\t<tr><th scope=row>273</th><td>61              </td><td>MALE            </td><td>Head and Neck   </td><td>Primary Tumor   </td><td>BRAF            </td><td>0,0             </td><td>62.9014391574732</td><td>0               </td><td>1880.07370853744</td><td>196             </td><td>1951            </td><td>96.8894496406091</td></tr>\n",
       "</tbody>\n",
       "</table>\n"
      ],
      "text/latex": [
       "\\begin{tabular}{r|llllllllllll}\n",
       "  & age\\_at\\_diagnosis & gender & body\\_area & tissue\\_type & Cohort & rgeno & sig1 & sig5 & sig7 & totalNonUV & totalSNV & pred\\\\\n",
       "\\hline\n",
       "\t1 & 74               & FEMALE           & Trunk            & Primary Tumor    & NRAS             & r,r              & 18.3776494782792 & 0                & 322.196392595928 & 38               & 339              & 58.043342340086 \\\\\n",
       "\t3 & 79                  & FEMALE              & Extremities         & Regional Lymph Node & NRAS                & 0,0                 & 22.2584700577615    & 21.2544285055765    & 1.97921350632214    & 31                  & 54                  & 71.4654013133931   \\\\\n",
       "\t5 & 53                  & FEMALE              & Extremities         & Regional Lymph Node & BRAF                & R,0                 & 17.1398119764402    & 12.6008391567263    & 294.557531880051    & 41                  & 325                 & 59.3514696250036   \\\\\n",
       "\t6 & 60                  & MALE                & Trunk               & Regional Lymph Node & BRAF                & R,r                 & 28.4435483877111    & 22.2570948225775    & 393.4877181373      & 62                  & 452                 & 82.200269001454    \\\\\n",
       "\t7 & 55                             & MALE                           & Extremities                    & regional (sub)cutaneous tissue & BRAF                           & R,0                            & 73.3174956798183               & 109.59299424803                & 822.201254851861               & 100                            & 992                            & 92.9950722730031              \\\\\n",
       "\t8 & 42                  & FEMALE              & Trunk               & Regional Lymph Node & BRAF                & 0,0                 & 14.5682279700173    & 0                   & 104.809188052072    & 8                   & 117                 & 28.4620993992286   \\\\\n",
       "\t10 & 72                  & MALE                & Extremities         & Regional Lymph Node & BRAF                & R,R                 & 11.2729222598709    & 19.3543152997275    & 3.0728541803615     & 25                  & 38                  & 109.767421919651   \\\\\n",
       "\t11 & 55                  & MALE                & Extremities         & Regional Lymph Node & BRAF                & 0,0                 & 71.50176999122      & 0                   & 442.026711942066    & 55                  & 529                 & 69.9593263000619   \\\\\n",
       "\t14 & 67                  & MALE                & Trunk               & Regional Lymph Node & BRAF                & R,r                 & 33.5730585202342    & 13.4881563422384    & 359.436909435098    & 35                  & 409                 & 86.2583907341923   \\\\\n",
       "\t15 & 48                  & MALE                & Extremities         & Regional Lymph Node & NRAS                & R,R                 & 9.5313801245867     & 0                   & 521.429563567985    & 54                  & 523                 & 124.527601048371   \\\\\n",
       "\t17 & 68                             & MALE                           & Trunk                          & regional (sub)cutaneous tissue & BRAF                           & 0,0                            & 23.2134821043048               & 69.5435122918841               & 354.616132424797               & 75                             & 447                            & 52.6076521145816              \\\\\n",
       "\t19 & 58                  & MALE                & Extremities         & Regional Lymph Node & BRAF                & R,0                 & 0.0444979053023078  & 36.5744862136801    & 362.417414282293    & 44                  & 391                 & 94.9356061106089   \\\\\n",
       "\t21 & 30                  & FEMALE              & Extremities         & Regional Lymph Node & BRAF                & 0,0                 & 11.8296266319953    & 16.6954506540675    & 102.710546624005    & 18                  & 133                 & 38.111264665034    \\\\\n",
       "\t23 & 24                  & MALE                & Trunk               & Regional Lymph Node & BRAF                & r,0                 & 27.6229359067382    & 28.0737232314018    & 296.494329142354    & 40                  & 355                 & 38.5080032079186   \\\\\n",
       "\t24 & 43                  & FEMALE              & Extremities         & Regional Lymph Node & NRAS                & r,0                 & 30.648116662825     & 30.0842088580738    & 306.483641097877    & 48                  & 374                 & 55.2733465191474   \\\\\n",
       "\t26 & 50                             & FEMALE                         & Extremities                    & regional (sub)cutaneous tissue & NRAS                           & r,r                            & 24.9204900198722               & 69.2310270542715               & 571.473951961343               & 146                            & 686                            & 71.5586398874146              \\\\\n",
       "\t29 & 28                  & MALE                & Trunk               & Regional Lymph Node & BRAF                & r,0                 & 43.0622087807394    & 33.7778696157936    & 95.762025802081     & 33                  & 180                 & 39.5831106987206   \\\\\n",
       "\t30 & 31                  & FEMALE              & Trunk               & Regional Lymph Node & BRAF                & R,r                 & 43.6672765287847    & 41.9624670653563    & 210.141011860968    & 68                  & 314                 & 43.5634292032686   \\\\\n",
       "\t31 & 54                  & FEMALE              & Extremities         & Regional Lymph Node & BRAF                & R,0                 & 7.89643214591886    & 4.47531891482082    & 123.257568616904    & 29                  & 139                 & 59.7614611838534   \\\\\n",
       "\t34 & 39                  & MALE                & Trunk               & Regional Lymph Node & BRAF                & R,R                 & 3.0269518502805     & 0                   & 200.667832014       & 23                  & 207                 & 60.1380257908729   \\\\\n",
       "\t38 & 70                  & MALE                & Head and Neck       & Regional Lymph Node & NRAS                & R,R                 & 97.1635233431844    & 0                   & 1117.15964285384    & 144                 & 1245                & 192.544970328757   \\\\\n",
       "\t39 & 47                             & MALE                           & Trunk                          & regional (sub)cutaneous tissue & BRAF                           & R,0                            & 16.1328851499948               & 12.698088627506                & 42.8128760744796               & 22                             & 75                             & 60.5172101773866              \\\\\n",
       "\t41 & 53                  & MALE                & Trunk               & Regional Lymph Node & BRAF                & R,r                 & 18.5362037955066    & 29.3247700388095    & 561.056023812619    & 96                  & 627                 & 78.3330661098575   \\\\\n",
       "\t42 & 38                             & FEMALE                         & Extremities                    & regional (sub)cutaneous tissue & NRAS                           & R,r                            & 53.709545113272                & 9.30335120036167               & 621.874465897659               & 68                             & 704                            & 88.9731676975993              \\\\\n",
       "\t43 & 39                             & FEMALE                         & Extremities                    & regional (sub)cutaneous tissue & NRAS                           & 0,0                            & 48.3659401598919               & 46.2703819302045               & 253.822798419216               & 60                             & 356                            & 54.2633523988553              \\\\\n",
       "\t44 & 51                  & MALE                & Extremities         & Regional Lymph Node & BRAF                & 0,0                 & 0                   & 37.8591942354489    & 65.451628020514     & 18                  & 98                  & 68.0591776147013   \\\\\n",
       "\t45 & 35                             & MALE                           & Trunk                          & regional (sub)cutaneous tissue & NRAS                           & R,R                            & 173.565039267071               & 127.994356245909               & 1293.75941864667               & 177                            & 1616                           & 78.2953432614587              \\\\\n",
       "\t50 & 60                  & MALE                & Extremities         & Regional Lymph Node & NRAS                & r,r                 & 65.8177668152305    & 0.30344395170204    & 847.737206763233    & 99                  & 927                 & 118.469997593348   \\\\\n",
       "\t52 & 15                  & FEMALE              & Trunk               & Regional Lymph Node & BRAF                & R,R                 & 37.2522902219987    & 0                   & 611.701812544465    & 57                  & 641                 & 32.9872900536602   \\\\\n",
       "\t53 & 61                 & MALE               & Head and Neck      & Distant Metastasis & NRAS               & r,0                & 110.867704015589   & 13.5308118419344   & 1916.38343283662   & 174                & 2058               & 128.490906522033  \\\\\n",
       "\t... & ... & ... & ... & ... & ... & ... & ... & ... & ... & ... & ... & ...\\\\\n",
       "\t226 & 57                 & MALE               & Trunk              & Distant Metastasis & NRAS               & r,0                & 5.42601275903045   & 19.8232143113236   & 186.195488411935   & 27                 & 208                & 64.6781798153946  \\\\\n",
       "\t227 & 51                 & MALE               & Trunk              & Distant Metastasis & BRAF               & R,0                & 63.7158413480036   & 29.0997765489684   & 739.561215203179   & 105                & 854                & 62.2067941745845  \\\\\n",
       "\t228 & 63                  & MALE                & Extremities         & Regional Lymph Node & BRAF                & R,0                 & 19.8092593550481    & 47.5217957416682    & 223.507684599317    & 57                  & 299                 & 98.2602306960911   \\\\\n",
       "\t229 & 40                 & MALE               & Trunk              & Distant Metastasis & NRAS               & r,0                & 24.1591751780812   & 32.2960169104689   & 126.535863710717   & 36                 & 186                & 57.5350338185185  \\\\\n",
       "\t230 & 78                 & FEMALE             & Extremities        & Distant Metastasis & BRAF               & r,0                & 30.2144504386608   & 53.1272710374781   & 164.45124330973    & 51                 & 253                & 52.5545880782376  \\\\\n",
       "\t232 & 71                  & FEMALE              & Extremities         & Regional Lymph Node & BRAF                & r,0                 & 13.9861030418142    & 8.67068572096206    & 7.48286245106313    & 13                  & 36                  & 50.0820991502606   \\\\\n",
       "\t235 & 74                             & MALE                           & Extremities                    & regional (sub)cutaneous tissue & BRAF                           & R,r                            & 20.3208936289283               & 44.1060386531963               & 189.074588408989               & 56                             & 259                            & 131.641450345339              \\\\\n",
       "\t236 & 43               & MALE             & Trunk            & Primary Tumor    & BRAF             & r,0              & 4.19649639792591 & 12.5065468086868 & 106.052708914738 & 12               & 119              & 43.8890193180542\\\\\n",
       "\t237 & 52                  & MALE                & Extremities         & Regional Lymph Node & NRAS                & R,R                 & 53.3559224377663    & 0                   & 413.99087948215     & 57                  & 474                 & 128.004295385801   \\\\\n",
       "\t238 & 31                 & MALE               & Extremities        & Distant Metastasis & NRAS               & r,0                & 23.2452225660616   & 1.48754037183681   & 535.186746263883   & 57                 & 571                & 78.6480561741627  \\\\\n",
       "\t239 & 36                             & MALE                           & Trunk                          & regional (sub)cutaneous tissue & BRAF                           & r,0                            & 13.9935429547581               & 1.09962896161595               & 154.422668280969               & 14                             & 167                            & 41.8242116905619              \\\\\n",
       "\t240 & 54                  & MALE                & Trunk               & Regional Lymph Node & BRAF                & r,0                 & 40.6490908997987    & 43.1655878338908    & 250.888414233328    & 60                  & 341                 & 47.3415977665781   \\\\\n",
       "\t241 & 55                 & MALE               & Extremities        & Distant Metastasis & NRAS               & r,0                & 19.9799227536548   & 12.1092480656557   & 182.996594692306   & 42                 & 219                & 92.7772558241269  \\\\\n",
       "\t243 & 65                  & MALE                & Extremities         & Regional Lymph Node & NRAS                & r,r                 & 94.3403042245108    & 30.2899568859838    & 630.118642711705    & 94                  & 799                 & 122.618791526174   \\\\\n",
       "\t244 & 71                 & MALE               & Trunk              & Distant Metastasis & NRAS               & r,r                & 11.9657800921196   & 12.7902108188109   & 7.99287305845767   & 14                 & 37                 & 87.8682991323491  \\\\\n",
       "\t248 & 77                             & FEMALE                         & Extremities                    & regional (sub)cutaneous tissue & NRAS                           & R,r                            & 71.7578338230982               & 0                              & 927.459025818227               & 96                             & 995                            & 116.374690333586              \\\\\n",
       "\t249 & 52                  & MALE                & Extremities         & Regional Lymph Node & BRAF                & R,r                 & 17.1066666171297    & 23.2648260361972    & 155.448656519579    & 32                  & 199                 & 113.140629235657   \\\\\n",
       "\t250 & 80                  & MALE                & Trunk               & Regional Lymph Node & NRAS                & 0,0                 & 26.7787064371343    & 32.1897536791767    & 503.393546070766    & 61                  & 565                 & 76.4665280241138   \\\\\n",
       "\t251 & 46                  & FEMALE              & Extremities         & Regional Lymph Node & BRAF                & R,0                 & 26.226510825228     & 19.7610942192522    & 185.10518087144     & 32                  & 237                 & 56.5592138606063   \\\\\n",
       "\t252 & 75                             & FEMALE                         & Extremities                    & regional (sub)cutaneous tissue & NRAS                           & 0,0                            & 94.3602601957852               & 4.47930361661671               & 842.519954031112               & 89                             & 966                            & 69.5243464814473              \\\\\n",
       "\t253 & 39                  & MALE                & Trunk               & Regional Lymph Node & NRAS                & R,R                 & 34.9404159650967    & 0                   & 524.76128979135     & 75                  & 584                 & 80.481276133148    \\\\\n",
       "\t257 & 57                  & FEMALE              & Trunk               & Regional Lymph Node & BRAF                & r,0                 & 41.7298798079527    & 26.4693898836692    & 338.718037950259    & 53                  & 427                 & 31.2725362073214   \\\\\n",
       "\t258 & 71               & MALE             & Trunk            & Primary Tumor    & BRAF             & R,0              & 24.9749355490907 & 34.4057522559179 & 196.646586490956 & 46               & 257              & 71.3891857410502\\\\\n",
       "\t259 & 48               & MALE             & Head and Neck    & Primary Tumor    & BRAF             & 0,0              & 0                & 16.8824908047769 & 70.967449272734  & 14               & 85               & 88.5951594013757\\\\\n",
       "\t260 & 58                  & FEMALE              & Extremities         & Regional Lymph Node & NRAS                & R,0                 & 72.4768569405401    & 75.4593721802487    & 563.309179255465    & 90                  & 724                 & 82.2102210962412   \\\\\n",
       "\t262 & 47                             & FEMALE                         & Trunk                          & regional (sub)cutaneous tissue & BRAF                           & r,0                            & 30.4196716794279               & 57.7352241457177               & 355.557283588509               & 67                             & 451                            & 29.1921310543163              \\\\\n",
       "\t263 & 24               & MALE             & Trunk            & Primary Tumor    & BRAF             & R,0              & 29.7018128204798 & 19.0303721014855 & 469.721481275195 & 48               & 525              & 51.6553251860282\\\\\n",
       "\t267 & 38                  & MALE                & Trunk               & Regional Lymph Node & NRAS                & R,R                 & 55.7283452656376    & 49.3512016452649    & 426.011453481029    & 68                  & 542                 & 79.9291369583955   \\\\\n",
       "\t268 & 83                  & FEMALE              & Extremities         & Regional Lymph Node & NRAS                & 0,0                 & 24.314281509184     & 22.2114640253687    & 367.113741278127    & 66                  & 429                 & 73.4606485836904   \\\\\n",
       "\t273 & 61               & MALE             & Head and Neck    & Primary Tumor    & BRAF             & 0,0              & 62.9014391574732 & 0                & 1880.07370853744 & 196              & 1951             & 96.8894496406091\\\\\n",
       "\\end{tabular}\n"
      ],
      "text/plain": [
       "    age_at_diagnosis gender     body_area                    tissue_type Cohort\n",
       "1                 74 FEMALE         Trunk                  Primary Tumor   NRAS\n",
       "3                 79 FEMALE   Extremities            Regional Lymph Node   NRAS\n",
       "5                 53 FEMALE   Extremities            Regional Lymph Node   BRAF\n",
       "6                 60   MALE         Trunk            Regional Lymph Node   BRAF\n",
       "7                 55   MALE   Extremities regional (sub)cutaneous tissue   BRAF\n",
       "8                 42 FEMALE         Trunk            Regional Lymph Node   BRAF\n",
       "10                72   MALE   Extremities            Regional Lymph Node   BRAF\n",
       "11                55   MALE   Extremities            Regional Lymph Node   BRAF\n",
       "14                67   MALE         Trunk            Regional Lymph Node   BRAF\n",
       "15                48   MALE   Extremities            Regional Lymph Node   NRAS\n",
       "17                68   MALE         Trunk regional (sub)cutaneous tissue   BRAF\n",
       "19                58   MALE   Extremities            Regional Lymph Node   BRAF\n",
       "21                30 FEMALE   Extremities            Regional Lymph Node   BRAF\n",
       "23                24   MALE         Trunk            Regional Lymph Node   BRAF\n",
       "24                43 FEMALE   Extremities            Regional Lymph Node   NRAS\n",
       "26                50 FEMALE   Extremities regional (sub)cutaneous tissue   NRAS\n",
       "29                28   MALE         Trunk            Regional Lymph Node   BRAF\n",
       "30                31 FEMALE         Trunk            Regional Lymph Node   BRAF\n",
       "31                54 FEMALE   Extremities            Regional Lymph Node   BRAF\n",
       "34                39   MALE         Trunk            Regional Lymph Node   BRAF\n",
       "38                70   MALE Head and Neck            Regional Lymph Node   NRAS\n",
       "39                47   MALE         Trunk regional (sub)cutaneous tissue   BRAF\n",
       "41                53   MALE         Trunk            Regional Lymph Node   BRAF\n",
       "42                38 FEMALE   Extremities regional (sub)cutaneous tissue   NRAS\n",
       "43                39 FEMALE   Extremities regional (sub)cutaneous tissue   NRAS\n",
       "44                51   MALE   Extremities            Regional Lymph Node   BRAF\n",
       "45                35   MALE         Trunk regional (sub)cutaneous tissue   NRAS\n",
       "50                60   MALE   Extremities            Regional Lymph Node   NRAS\n",
       "52                15 FEMALE         Trunk            Regional Lymph Node   BRAF\n",
       "53                61   MALE Head and Neck             Distant Metastasis   NRAS\n",
       "...              ...    ...           ...                            ...    ...\n",
       "226               57   MALE         Trunk             Distant Metastasis   NRAS\n",
       "227               51   MALE         Trunk             Distant Metastasis   BRAF\n",
       "228               63   MALE   Extremities            Regional Lymph Node   BRAF\n",
       "229               40   MALE         Trunk             Distant Metastasis   NRAS\n",
       "230               78 FEMALE   Extremities             Distant Metastasis   BRAF\n",
       "232               71 FEMALE   Extremities            Regional Lymph Node   BRAF\n",
       "235               74   MALE   Extremities regional (sub)cutaneous tissue   BRAF\n",
       "236               43   MALE         Trunk                  Primary Tumor   BRAF\n",
       "237               52   MALE   Extremities            Regional Lymph Node   NRAS\n",
       "238               31   MALE   Extremities             Distant Metastasis   NRAS\n",
       "239               36   MALE         Trunk regional (sub)cutaneous tissue   BRAF\n",
       "240               54   MALE         Trunk            Regional Lymph Node   BRAF\n",
       "241               55   MALE   Extremities             Distant Metastasis   NRAS\n",
       "243               65   MALE   Extremities            Regional Lymph Node   NRAS\n",
       "244               71   MALE         Trunk             Distant Metastasis   NRAS\n",
       "248               77 FEMALE   Extremities regional (sub)cutaneous tissue   NRAS\n",
       "249               52   MALE   Extremities            Regional Lymph Node   BRAF\n",
       "250               80   MALE         Trunk            Regional Lymph Node   NRAS\n",
       "251               46 FEMALE   Extremities            Regional Lymph Node   BRAF\n",
       "252               75 FEMALE   Extremities regional (sub)cutaneous tissue   NRAS\n",
       "253               39   MALE         Trunk            Regional Lymph Node   NRAS\n",
       "257               57 FEMALE         Trunk            Regional Lymph Node   BRAF\n",
       "258               71   MALE         Trunk                  Primary Tumor   BRAF\n",
       "259               48   MALE Head and Neck                  Primary Tumor   BRAF\n",
       "260               58 FEMALE   Extremities            Regional Lymph Node   NRAS\n",
       "262               47 FEMALE         Trunk regional (sub)cutaneous tissue   BRAF\n",
       "263               24   MALE         Trunk                  Primary Tumor   BRAF\n",
       "267               38   MALE         Trunk            Regional Lymph Node   NRAS\n",
       "268               83 FEMALE   Extremities            Regional Lymph Node   NRAS\n",
       "273               61   MALE Head and Neck                  Primary Tumor   BRAF\n",
       "    rgeno               sig1             sig5             sig7 totalNonUV\n",
       "1     r,r   18.3776494782792                0 322.196392595928         38\n",
       "3     0,0   22.2584700577615 21.2544285055765 1.97921350632214         31\n",
       "5     R,0   17.1398119764402 12.6008391567263 294.557531880051         41\n",
       "6     R,r   28.4435483877111 22.2570948225775   393.4877181373         62\n",
       "7     R,0   73.3174956798183  109.59299424803 822.201254851861        100\n",
       "8     0,0   14.5682279700173                0 104.809188052072          8\n",
       "10    R,R   11.2729222598709 19.3543152997275  3.0728541803615         25\n",
       "11    0,0     71.50176999122                0 442.026711942066         55\n",
       "14    R,r   33.5730585202342 13.4881563422384 359.436909435098         35\n",
       "15    R,R    9.5313801245867                0 521.429563567985         54\n",
       "17    0,0   23.2134821043048 69.5435122918841 354.616132424797         75\n",
       "19    R,0 0.0444979053023078 36.5744862136801 362.417414282293         44\n",
       "21    0,0   11.8296266319953 16.6954506540675 102.710546624005         18\n",
       "23    r,0   27.6229359067382 28.0737232314018 296.494329142354         40\n",
       "24    r,0    30.648116662825 30.0842088580738 306.483641097877         48\n",
       "26    r,r   24.9204900198722 69.2310270542715 571.473951961343        146\n",
       "29    r,0   43.0622087807394 33.7778696157936  95.762025802081         33\n",
       "30    R,r   43.6672765287847 41.9624670653563 210.141011860968         68\n",
       "31    R,0   7.89643214591886 4.47531891482082 123.257568616904         29\n",
       "34    R,R    3.0269518502805                0    200.667832014         23\n",
       "38    R,R   97.1635233431844                0 1117.15964285384        144\n",
       "39    R,0   16.1328851499948  12.698088627506 42.8128760744796         22\n",
       "41    R,r   18.5362037955066 29.3247700388095 561.056023812619         96\n",
       "42    R,r    53.709545113272 9.30335120036167 621.874465897659         68\n",
       "43    0,0   48.3659401598919 46.2703819302045 253.822798419216         60\n",
       "44    0,0                  0 37.8591942354489  65.451628020514         18\n",
       "45    R,R   173.565039267071 127.994356245909 1293.75941864667        177\n",
       "50    r,r   65.8177668152305 0.30344395170204 847.737206763233         99\n",
       "52    R,R   37.2522902219987                0 611.701812544465         57\n",
       "53    r,0   110.867704015589 13.5308118419344 1916.38343283662        174\n",
       "...   ...                ...              ...              ...        ...\n",
       "226   r,0   5.42601275903045 19.8232143113236 186.195488411935         27\n",
       "227   R,0   63.7158413480036 29.0997765489684 739.561215203179        105\n",
       "228   R,0   19.8092593550481 47.5217957416682 223.507684599317         57\n",
       "229   r,0   24.1591751780812 32.2960169104689 126.535863710717         36\n",
       "230   r,0   30.2144504386608 53.1272710374781  164.45124330973         51\n",
       "232   r,0   13.9861030418142 8.67068572096206 7.48286245106313         13\n",
       "235   R,r   20.3208936289283 44.1060386531963 189.074588408989         56\n",
       "236   r,0   4.19649639792591 12.5065468086868 106.052708914738         12\n",
       "237   R,R   53.3559224377663                0  413.99087948215         57\n",
       "238   r,0   23.2452225660616 1.48754037183681 535.186746263883         57\n",
       "239   r,0   13.9935429547581 1.09962896161595 154.422668280969         14\n",
       "240   r,0   40.6490908997987 43.1655878338908 250.888414233328         60\n",
       "241   r,0   19.9799227536548 12.1092480656557 182.996594692306         42\n",
       "243   r,r   94.3403042245108 30.2899568859838 630.118642711705         94\n",
       "244   r,r   11.9657800921196 12.7902108188109 7.99287305845767         14\n",
       "248   R,r   71.7578338230982                0 927.459025818227         96\n",
       "249   R,r   17.1066666171297 23.2648260361972 155.448656519579         32\n",
       "250   0,0   26.7787064371343 32.1897536791767 503.393546070766         61\n",
       "251   R,0    26.226510825228 19.7610942192522  185.10518087144         32\n",
       "252   0,0   94.3602601957852 4.47930361661671 842.519954031112         89\n",
       "253   R,R   34.9404159650967                0  524.76128979135         75\n",
       "257   r,0   41.7298798079527 26.4693898836692 338.718037950259         53\n",
       "258   R,0   24.9749355490907 34.4057522559179 196.646586490956         46\n",
       "259   0,0                  0 16.8824908047769  70.967449272734         14\n",
       "260   R,0   72.4768569405401 75.4593721802487 563.309179255465         90\n",
       "262   r,0   30.4196716794279 57.7352241457177 355.557283588509         67\n",
       "263   R,0   29.7018128204798 19.0303721014855 469.721481275195         48\n",
       "267   R,R   55.7283452656376 49.3512016452649 426.011453481029         68\n",
       "268   0,0    24.314281509184 22.2114640253687 367.113741278127         66\n",
       "273   0,0   62.9014391574732                0 1880.07370853744        196\n",
       "    totalSNV             pred\n",
       "1        339  58.043342340086\n",
       "3         54 71.4654013133931\n",
       "5        325 59.3514696250036\n",
       "6        452  82.200269001454\n",
       "7        992 92.9950722730031\n",
       "8        117 28.4620993992286\n",
       "10        38 109.767421919651\n",
       "11       529 69.9593263000619\n",
       "14       409 86.2583907341923\n",
       "15       523 124.527601048371\n",
       "17       447 52.6076521145816\n",
       "19       391 94.9356061106089\n",
       "21       133  38.111264665034\n",
       "23       355 38.5080032079186\n",
       "24       374 55.2733465191474\n",
       "26       686 71.5586398874146\n",
       "29       180 39.5831106987206\n",
       "30       314 43.5634292032686\n",
       "31       139 59.7614611838534\n",
       "34       207 60.1380257908729\n",
       "38      1245 192.544970328757\n",
       "39        75 60.5172101773866\n",
       "41       627 78.3330661098575\n",
       "42       704 88.9731676975993\n",
       "43       356 54.2633523988553\n",
       "44        98 68.0591776147013\n",
       "45      1616 78.2953432614587\n",
       "50       927 118.469997593348\n",
       "52       641 32.9872900536602\n",
       "53      2058 128.490906522033\n",
       "...      ...              ...\n",
       "226      208 64.6781798153946\n",
       "227      854 62.2067941745845\n",
       "228      299 98.2602306960911\n",
       "229      186 57.5350338185185\n",
       "230      253 52.5545880782376\n",
       "232       36 50.0820991502606\n",
       "235      259 131.641450345339\n",
       "236      119 43.8890193180542\n",
       "237      474 128.004295385801\n",
       "238      571 78.6480561741627\n",
       "239      167 41.8242116905619\n",
       "240      341 47.3415977665781\n",
       "241      219 92.7772558241269\n",
       "243      799 122.618791526174\n",
       "244       37 87.8682991323491\n",
       "248      995 116.374690333586\n",
       "249      199 113.140629235657\n",
       "250      565 76.4665280241138\n",
       "251      237 56.5592138606063\n",
       "252      966 69.5243464814473\n",
       "253      584  80.481276133148\n",
       "257      427 31.2725362073214\n",
       "258      257 71.3891857410502\n",
       "259       85 88.5951594013757\n",
       "260      724 82.2102210962412\n",
       "262      451 29.1921310543163\n",
       "263      525 51.6553251860282\n",
       "267      542 79.9291369583955\n",
       "268      429 73.4606485836904\n",
       "273     1951 96.8894496406091"
      ]
     },
     "metadata": {},
     "output_type": "display_data"
    }
   ],
   "source": [
    "print=data.frame(data,pred=res.new$fitted)\n",
    "print"
   ]
  },
  {
   "cell_type": "code",
   "execution_count": 92,
   "metadata": {
    "collapsed": false
   },
   "outputs": [
    {
     "data": {
      "text/html": [
       "0"
      ],
      "text/latex": [
       "0"
      ],
      "text/markdown": [
       "0"
      ],
      "text/plain": [
       "[1] 0"
      ]
     },
     "metadata": {},
     "output_type": "display_data"
    }
   ],
   "source": [
    "pchisq(res.new$deviance, res.new$df.residual, lower.tail=FALSE) "
   ]
  },
  {
   "cell_type": "markdown",
   "metadata": {},
   "source": [
    "To simplify things a bit, we repeat the same regression as above, restricted to NRAS samples and without any of the other covariates."
   ]
  },
  {
   "cell_type": "code",
   "execution_count": 24,
   "metadata": {
    "collapsed": false
   },
   "outputs": [
    {
     "data": {
      "text/plain": [
       "\n",
       "Call:\n",
       "glm(formula = totalNonUV ~ age_at_diagnosis, family = \"poisson\", \n",
       "    data = subset(data, Cohort = \"NRAS\"))\n",
       "\n",
       "Deviance Residuals: \n",
       "    Min       1Q   Median       3Q      Max  \n",
       "-10.685   -5.446   -2.036    1.425   26.614  \n",
       "\n",
       "Coefficients:\n",
       "                  Estimate Std. Error z value Pr(>|z|)    \n",
       "(Intercept)      3.8511866  0.0321189  119.90   <2e-16 ***\n",
       "age_at_diagnosis 0.0085283  0.0005514   15.47   <2e-16 ***\n",
       "---\n",
       "Signif. codes:  0 '***' 0.001 '**' 0.01 '*' 0.05 '.' 0.1 ' ' 1\n",
       "\n",
       "(Dispersion parameter for poisson family taken to be 1)\n",
       "\n",
       "    Null deviance: 8189.7  on 171  degrees of freedom\n",
       "Residual deviance: 7948.7  on 170  degrees of freedom\n",
       "AIC: 8956.8\n",
       "\n",
       "Number of Fisher Scoring iterations: 5\n"
      ]
     },
     "metadata": {},
     "output_type": "display_data"
    }
   ],
   "source": [
    "res.new.nras <- glm(totalNonUV ~ age_at_diagnosis, subset(data, Cohort=\"NRAS\"), family=\"poisson\")\n",
    "summary(res.new.nras)"
   ]
  },
  {
   "cell_type": "code",
   "execution_count": 25,
   "metadata": {
    "collapsed": false
   },
   "outputs": [
    {
     "name": "stderr",
     "output_type": "stream",
     "text": [
      "Warning message:\n",
      "\"Removed 11 rows containing non-finite values (stat_smooth).\"Warning message:\n",
      "\"Removed 11 rows containing missing values (geom_point).\""
     ]
    },
    {
     "data": {},
     "metadata": {},
     "output_type": "display_data"
    },
    {
     "data": {
      "image/png": "[encoded data removed]",
      "text/plain": [
       "plot without title"
      ]
     },
     "metadata": {},
     "output_type": "display_data"
    }
   ],
   "source": [
    "ggplot(data, aes(age_at_diagnosis, totalNonUV)) +  geom_smooth(method = \"glm.nb\") + geom_point() +\n",
    "    xlab(\"Age\") + ylab(\"total non UV mutation\") + scale_y_continuous(limits = c(0,200)) + theme_minimal()"
   ]
  },
  {
   "cell_type": "markdown",
   "metadata": {},
   "source": [
    "If we want to estimate the model as in [Podolskiy et al](http://www.nature.com/articles/ncomms12157), we would need to divide the data by age groups. We might not have enough samples for this to be meaningful (include other cancer types?) In any case, the plot looks as below."
   ]
  },
  {
   "cell_type": "code",
   "execution_count": 26,
   "metadata": {
    "collapsed": false
   },
   "outputs": [],
   "source": [
    "data$range <- cut(data$age_at_diagnosis, c(0, 30, 35, 40, 45, 50, 55, 60, 65, 70, 75, 80, 90), include.lowest=FALSE)"
   ]
  },
  {
   "cell_type": "code",
   "execution_count": 27,
   "metadata": {
    "collapsed": false
   },
   "outputs": [
    {
     "data": {},
     "metadata": {},
     "output_type": "display_data"
    },
    {
     "data": {
      "image/png": "[encoded data removed]",
      "text/plain": [
       "plot without title"
      ]
     },
     "metadata": {},
     "output_type": "display_data"
    }
   ],
   "source": [
    "ggplot(subset(data, range != \"(0,30]\"), aes(x=totalNonUV, fill=range)) +\n",
    "    geom_density(alpha=0.7) + xlab(\"Mutations\") + ylab(\"Frequency\")"
   ]
  },
  {
   "cell_type": "markdown",
   "metadata": {},
   "source": [
    "**TODO** Record and plot the peaks of these curves."
   ]
  },
  {
   "cell_type": "code",
   "execution_count": 29,
   "metadata": {
    "collapsed": false
   },
   "outputs": [
    {
     "data": {},
     "metadata": {},
     "output_type": "display_data"
    },
    {
     "data": {
      "image/png": "[encoded data removed]",
      "text/plain": [
       "plot without title"
      ]
     },
     "metadata": {},
     "output_type": "display_data"
    }
   ],
   "source": [
    "ggplot(subset(data, range=\"(50,60]\"), aes(totalNonUV, fill=Cohort)) +\n",
    "    geom_histogram(binwidth = 50, position=\"dodge\") + guides(fill=FALSE) +\n",
    "    facet_wrap(~ Cohort, ncol=2) + xlab(\"Mutations\") + ylab(\"Frequency\")"
   ]
  },
  {
   "cell_type": "markdown",
   "metadata": {},
   "source": [
    "Again, restricted to this age range, the distribution looks Poisson-like with a longer tail. Before onset of the first driver mutation, the mutations seem to accumulate following a Poisson distribution. After onset, this is no longer correct, possibly accounting for the longer tails. Unfortunately, we don't seem to have enough data for a meaningful analysis within small age ranges."
   ]
  },
  {
   "cell_type": "markdown",
   "metadata": {},
   "source": [
    "### <font color=\"grey\">  3.3 Branching processes</font>"
   ]
  },
  {
   "cell_type": "markdown",
   "metadata": {},
   "source": [
    "I didn't get around to formalising this yet, but here one should include a principled derivation of a suitable model together with a solid procedure for estimating the parameters."
   ]
  },
  {
   "cell_type": "markdown",
   "metadata": {},
   "source": [
    "---\n",
    "## <font color=\"grey\">  4. Todo</font>\n",
    "---"
   ]
  },
  {
   "cell_type": "markdown",
   "metadata": {},
   "source": [
    "There are various things that need to be done.\n",
    "\n",
    "These would require reading one or two piles of papers before proceeding.\n",
    "* Look at more refined models for the accumulation of mutations. Examples include [Bozic et al](http://journals.plos.org/ploscompbiol/article?id=10.1371/journal.pcbi.1004731), [Bozic et al](http://www.pnas.org/content/107/43/18545.abstract), [Keller and Antal](http://iopscience.iop.org/article/10.1088/1742-5468/2015/01/P01011/meta), [Paterson, Nowak and Waclaw](http://www.nature.com/articles/srep39511as), as well as related work from the group of [Martin Nowak](http://ped.fas.harvard.edu/).\n",
    "* Look at material on the proliferation of cells in order to deduce some conclusions from the estimated cell division rates. Possible sources to look at include in [Cichorek et al](https://www.ncbi.nlm.nih.gov/pmc/articles/PMC3834696/), [Whiteman et al](https://www.ncbi.nlm.nih.gov/pmc/articles/PMC3395885/), [Zabierowski et al](https://www.ncbi.nlm.nih.gov/pubmed/21410654), [Hoek and Goding](https://www.ncbi.nlm.nih.gov/pubmed/20726948), and [Schatton and Frank](https://www.ncbi.nlm.nih.gov/pmc/articles/PMC2885609/). \n",
    "* Double wild types\n",
    "* Wu / hits. NRAS requires more hits?"
   ]
  },
  {
   "cell_type": "code",
   "execution_count": null,
   "metadata": {
    "collapsed": true
   },
   "outputs": [],
   "source": []
  }
 ],
 "metadata": {
  "anaconda-cloud": {},
  "kernelspec": {
   "display_name": "R",
   "language": "R",
   "name": "ir"
  },
  "language_info": {
   "codemirror_mode": "r",
   "file_extension": ".r",
   "mimetype": "text/x-r-source",
   "name": "R",
   "pygments_lexer": "r",
   "version": "3.3.1"
  }
 },
 "nbformat": 4,
 "nbformat_minor": 1
}
